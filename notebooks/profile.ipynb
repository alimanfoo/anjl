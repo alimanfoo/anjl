{
 "cells": [
  {
   "cell_type": "code",
   "execution_count": 1,
   "id": "ae893ef8-3f7f-474e-a176-5012121e1f25",
   "metadata": {},
   "outputs": [
    {
     "data": {
      "text/markdown": [
       "> **Note:** loading the `profila` extension can impact Numba's performance. Make sure to disable it once you're done profiling!"
      ],
      "text/plain": [
       "<IPython.core.display.Markdown object>"
      ]
     },
     "metadata": {},
     "output_type": "display_data"
    }
   ],
   "source": [
    "%load_ext profila"
   ]
  },
  {
   "cell_type": "code",
   "execution_count": 2,
   "id": "e6600780-d0bd-42db-8db8-a13dfe078214",
   "metadata": {},
   "outputs": [],
   "source": [
    "# %load_ext snakeviz"
   ]
  },
  {
   "cell_type": "code",
   "execution_count": 3,
   "id": "dcaff1fc-e130-4661-b6d2-61320969b73d",
   "metadata": {},
   "outputs": [],
   "source": [
    "import zarr\n",
    "from scipy.spatial.distance import squareform\n",
    "import numpy as np\n",
    "import anjl"
   ]
  },
  {
   "cell_type": "markdown",
   "id": "e5245947-65cd-4817-b606-d36f6f21279e",
   "metadata": {},
   "source": [
    "## Large"
   ]
  },
  {
   "cell_type": "code",
   "execution_count": 12,
   "id": "8b6a001e-6e46-4c56-8c37-33ef5693d6e5",
   "metadata": {},
   "outputs": [
    {
     "data": {
      "text/plain": [
       "array([[ 0., 38., 28., ..., 29., 26., 24.],\n",
       "       [38.,  0., 28., ..., 35., 32., 24.],\n",
       "       [28., 28.,  0., ..., 23., 28., 12.],\n",
       "       ...,\n",
       "       [29., 35., 23., ...,  0., 29., 19.],\n",
       "       [26., 32., 28., ..., 29.,  0., 24.],\n",
       "       [24., 24., 12., ..., 19., 24.,  0.]], dtype=float32)"
      ]
     },
     "execution_count": 12,
     "metadata": {},
     "output_type": "execute_result"
    }
   ],
   "source": [
    "large = zarr.load(\"../data/large/dist.zarr.zip\")\n",
    "large_D = squareform(large)\n",
    "shuffle = np.random.choice(large_D.shape[0], size=1000, replace=False)\n",
    "large_D_shuffled = large_D.take(shuffle, axis=0).take(shuffle, axis=1)\n",
    "large_D_shuffled"
   ]
  },
  {
   "cell_type": "code",
   "execution_count": 13,
   "id": "a3c13257-4c9c-4310-a45b-79058918bea4",
   "metadata": {},
   "outputs": [
    {
     "name": "stdout",
     "output_type": "stream",
     "text": [
      "CPU times: user 233 ms, sys: 105 μs, total: 233 ms\n",
      "Wall time: 231 ms\n"
     ]
    }
   ],
   "source": [
    "%%time\n",
    "large_Z = anjl.canonical_nj(large_D_shuffled)"
   ]
  },
  {
   "cell_type": "code",
   "execution_count": 14,
   "id": "e5c44b72-6d4a-496c-8b98-3a0ac39ae722",
   "metadata": {},
   "outputs": [],
   "source": [
    "# %%snakeviz\n",
    "# anjl.canonical_nj(large_D_shuffled)"
   ]
  },
  {
   "cell_type": "code",
   "execution_count": 15,
   "id": "0df09dd4-e47b-45ab-b368-0dbc303ead9a",
   "metadata": {},
   "outputs": [
    {
     "data": {
      "text/plain": [
       "array([[6.0400000e+02, 8.3400000e+02, 9.9699396e-01, 3.0060119e-03,\n",
       "        2.0000000e+00],\n",
       "       [9.8000000e+01, 1.1700000e+02, 0.0000000e+00, 0.0000000e+00,\n",
       "        2.0000000e+00],\n",
       "       [7.3600000e+02, 1.0010000e+03, 0.0000000e+00, 0.0000000e+00,\n",
       "        3.0000000e+00],\n",
       "       ...,\n",
       "       [1.9780000e+03, 1.9830000e+03, 2.6133865e-01, 2.8120428e-01,\n",
       "        1.0300000e+02],\n",
       "       [1.9950000e+03, 1.9960000e+03, 7.0536315e-02, 2.6785880e-02,\n",
       "        5.1200000e+02],\n",
       "       [1.9920000e+03, 1.9970000e+03, 5.9355550e-02, 5.9355550e-02,\n",
       "        1.0000000e+03]], dtype=float32)"
      ]
     },
     "execution_count": 15,
     "metadata": {},
     "output_type": "execute_result"
    },
    {
     "data": {
      "text/markdown": [
       "**Elapsed:** 6.006 seconds\n",
       "\n",
       "**Total samples:** 429 (4.2% non-Numba samples, 0.0% bad samples)\n",
       "\n",
       "/home/aliman/github/alimanfoo/anjl/anjl/_canonical.py (lines 136 to 219):\n",
       "\n",
       "```\n",
       "  0.2% |     Z[iteration, 4] = leaves_i + leaves_j\n",
       "       | \n",
       "       |     if n_remaining > 2:\n",
       "       |         # Update data structures.\n",
       "       |         _canonical_update(\n",
       "       |             D=D,\n",
       "       |             U=U,\n",
       "       |             index_to_id=index_to_id,\n",
       "       |             obsolete=obsolete,\n",
       "       |             node=node,\n",
       "       |             i_min=i_min,\n",
       "       |             j_min=j_min,\n",
       "       |             d_ij=d_ij,\n",
       "       |         )\n",
       "       | \n",
       "       | \n",
       "       | @numba.njit\n",
       "       | def _canonical_search(\n",
       "       |     D: np.ndarray, U: np.ndarray, obsolete: np.ndarray, n: int\n",
       "       | ) -> tuple[int, int]:\n",
       "       |     # Search for the closest pair of neighbouring nodes to join.\n",
       "       |     q_min = numba.float32(np.inf)\n",
       "       |     i_min = -1\n",
       "       |     j_min = -1\n",
       "       |     coefficient = numba.float32(n - 2)\n",
       "       |     m = D.shape[0]\n",
       "  0.9% |     for i in range(m):\n",
       "  0.5% |         if obsolete[i]:\n",
       "       |             continue\n",
       "       |         u_i = U[i]\n",
       " 13.8% |         for j in range(i):\n",
       " 17.7% |             if obsolete[j]:\n",
       "       |                 continue\n",
       "       |             u_j = U[j]\n",
       "       |             d = D[i, j]\n",
       " 32.9% |             q = coefficient * d - u_i - u_j\n",
       " 25.9% |             if q < q_min:\n",
       "       |                 q_min = q\n",
       "       |                 i_min = i\n",
       "       |                 j_min = j\n",
       "       |     return i_min, j_min\n",
       "       | \n",
       "       | \n",
       "       | @numba.njit\n",
       "       | def _canonical_update(\n",
       "       |     D: np.ndarray,\n",
       "       |     U: np.ndarray,\n",
       "       |     index_to_id: np.ndarray,\n",
       "       |     obsolete: np.ndarray,\n",
       "       |     node: int,\n",
       "       |     i_min: int,\n",
       "       |     j_min: int,\n",
       "       |     d_ij: float,\n",
       "       | ) -> None:\n",
       "       |     # Here we obsolete the row and column corresponding to the node at j_min, and we\n",
       "       |     # reuse the row and column at i_min for the new node.\n",
       "       |     obsolete[j_min] = True\n",
       "       |     index_to_id[i_min] = node\n",
       "       | \n",
       "       |     # Subtract out the distances for the nodes that have just been joined.\n",
       "  0.2% |     U -= D[i_min]\n",
       "       |     U -= D[j_min]\n",
       "       | \n",
       "       |     # Initialize divergence for the new node.\n",
       "       |     u_new = np.float32(0)\n",
       "       | \n",
       "       |     # Update distances and divergence.\n",
       "  0.5% |     for k in range(D.shape[0]):\n",
       "  0.5% |         if obsolete[k] or k == i_min or k == j_min:\n",
       "       |             continue\n",
       "       | \n",
       "       |         # Distance from k to the new node.\n",
       "       |         d_ik = D[i_min, k]\n",
       "       |         d_jk = D[j_min, k]\n",
       "  0.2% |         d_k = 0.5 * (d_ik + d_jk - d_ij)\n",
       "  0.9% |         D[i_min, k] = d_k\n",
       "  1.2% |         D[k, i_min] = d_k\n",
       "  0.2% |         U[k] += d_k\n",
       "       | \n",
       "       |         # Accumulate divergence for the new node.\n",
       "       |         u_new += d_k\n",
       "       | \n",
       "       |     # Assign divergence for the new node.\n",
       "  0.2% |     U[i_min] = u_new\n",
       "```\n"
      ],
      "text/plain": [
       "<IPython.core.display.Markdown object>"
      ]
     },
     "metadata": {},
     "output_type": "display_data"
    }
   ],
   "source": [
    "%%profila\n",
    "anjl.canonical_nj(large_D_shuffled)"
   ]
  },
  {
   "cell_type": "code",
   "execution_count": null,
   "id": "d6bb80f7-ee56-466a-88b4-f781dcc48657",
   "metadata": {},
   "outputs": [],
   "source": []
  }
 ],
 "metadata": {
  "kernelspec": {
   "display_name": "Python 3 (ipykernel)",
   "language": "python",
   "name": "python3"
  },
  "language_info": {
   "codemirror_mode": {
    "name": "ipython",
    "version": 3
   },
   "file_extension": ".py",
   "mimetype": "text/x-python",
   "name": "python",
   "nbconvert_exporter": "python",
   "pygments_lexer": "ipython3",
   "version": "3.10.12"
  },
  "widgets": {
   "application/vnd.jupyter.widget-state+json": {
    "state": {},
    "version_major": 2,
    "version_minor": 0
   }
  }
 },
 "nbformat": 4,
 "nbformat_minor": 5
}
