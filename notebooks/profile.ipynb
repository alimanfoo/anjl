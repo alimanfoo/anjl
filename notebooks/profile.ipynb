{
 "cells": [
  {
   "cell_type": "code",
   "execution_count": 1,
   "id": "ae893ef8-3f7f-474e-a176-5012121e1f25",
   "metadata": {},
   "outputs": [],
   "source": [
    "# %load_ext profila"
   ]
  },
  {
   "cell_type": "code",
   "execution_count": 1,
   "id": "e6600780-d0bd-42db-8db8-a13dfe078214",
   "metadata": {},
   "outputs": [],
   "source": [
    "%load_ext snakeviz"
   ]
  },
  {
   "cell_type": "code",
   "execution_count": 2,
   "id": "dcaff1fc-e130-4661-b6d2-61320969b73d",
   "metadata": {},
   "outputs": [],
   "source": [
    "import zarr\n",
    "from scipy.spatial.distance import squareform\n",
    "import numpy as np\n",
    "import anjl"
   ]
  },
  {
   "cell_type": "markdown",
   "id": "e5245947-65cd-4817-b606-d36f6f21279e",
   "metadata": {},
   "source": [
    "## Large"
   ]
  },
  {
   "cell_type": "code",
   "execution_count": 15,
   "id": "8b6a001e-6e46-4c56-8c37-33ef5693d6e5",
   "metadata": {},
   "outputs": [
    {
     "data": {
      "text/plain": [
       "array([[ 0., 22., 26., ..., 21., 17., 25.],\n",
       "       [22.,  0., 26., ..., 21., 17., 23.],\n",
       "       [26., 26.,  0., ..., 17., 21., 29.],\n",
       "       ...,\n",
       "       [21., 21., 17., ...,  0., 16., 22.],\n",
       "       [17., 17., 21., ..., 16.,  0., 20.],\n",
       "       [25., 23., 29., ..., 22., 20.,  0.]], dtype=float32)"
      ]
     },
     "execution_count": 15,
     "metadata": {},
     "output_type": "execute_result"
    }
   ],
   "source": [
    "large = zarr.load(\"../data/large/dist.zarr.zip\")\n",
    "large_D = squareform(large)\n",
    "shuffle = np.random.choice(large_D.shape[0], size=3000, replace=False)\n",
    "large_D_shuffled = large_D.take(shuffle, axis=0).take(shuffle, axis=1)\n",
    "large_D_shuffled"
   ]
  },
  {
   "cell_type": "code",
   "execution_count": 16,
   "id": "a3c13257-4c9c-4310-a45b-79058918bea4",
   "metadata": {},
   "outputs": [
    {
     "name": "stdout",
     "output_type": "stream",
     "text": [
      "CPU times: user 7.06 s, sys: 5.03 ms, total: 7.07 s\n",
      "Wall time: 7.07 s\n"
     ]
    }
   ],
   "source": [
    "%%time\n",
    "large_Z = anjl.canonical_nj(large_D_shuffled)"
   ]
  },
  {
   "cell_type": "code",
   "execution_count": 17,
   "id": "0889365c-223e-439e-896b-b1e6fd3707bd",
   "metadata": {},
   "outputs": [
    {
     "name": "stdout",
     "output_type": "stream",
     "text": [
      "CPU times: user 8.64 s, sys: 15 ms, total: 8.65 s\n",
      "Wall time: 8.65 s\n"
     ]
    }
   ],
   "source": [
    "%%time\n",
    "large_Z = anjl.rapid_nj(large_D_shuffled, gc=100)"
   ]
  },
  {
   "cell_type": "code",
   "execution_count": 19,
   "id": "e5c44b72-6d4a-496c-8b98-3a0ac39ae722",
   "metadata": {},
   "outputs": [
    {
     "name": "stdout",
     "output_type": "stream",
     "text": [
      " \n",
      "*** Profile stats marshalled to file '/tmp/tmpv8xxena0'.\n",
      "Embedding SnakeViz in this document...\n",
      "<function display at 0x7af1688acdc0>\n"
     ]
    },
    {
     "data": {
      "text/html": [
       "\n",
       "<iframe id='snakeviz-534e8e8e-859d-11ef-a73a-a77b86032ab8' frameborder=0 seamless width='100%' height='1000'></iframe>\n",
       "<script>document.getElementById(\"snakeviz-534e8e8e-859d-11ef-a73a-a77b86032ab8\").setAttribute(\"src\", \"http://\" + document.location.hostname + \":8080/snakeviz/%2Ftmp%2Ftmpv8xxena0\")</script>\n"
      ],
      "text/plain": [
       "<IPython.core.display.HTML object>"
      ]
     },
     "metadata": {},
     "output_type": "display_data"
    }
   ],
   "source": [
    "%%snakeviz\n",
    "anjl.canonical_nj(large_D_shuffled)\n",
    "anjl.rapid_nj(large_D_shuffled, gc=100)"
   ]
  },
  {
   "cell_type": "code",
   "execution_count": 20,
   "id": "74987835-ee0a-403b-86a8-db2859f88cfe",
   "metadata": {},
   "outputs": [
    {
     "name": "stdout",
     "output_type": "stream",
     "text": [
      " \n",
      "*** Profile stats marshalled to file '/tmp/tmp_du0i_v7'.\n",
      "Embedding SnakeViz in this document...\n",
      "<function display at 0x7af1688acdc0>\n"
     ]
    },
    {
     "data": {
      "text/html": [
       "\n",
       "<iframe id='snakeviz-5b1ebaa8-859d-11ef-a73a-a77b86032ab8' frameborder=0 seamless width='100%' height='1000'></iframe>\n",
       "<script>document.getElementById(\"snakeviz-5b1ebaa8-859d-11ef-a73a-a77b86032ab8\").setAttribute(\"src\", \"http://\" + document.location.hostname + \":8080/snakeviz/%2Ftmp%2Ftmp_du0i_v7\")</script>\n"
      ],
      "text/plain": [
       "<IPython.core.display.HTML object>"
      ]
     },
     "metadata": {},
     "output_type": "display_data"
    }
   ],
   "source": [
    "%%snakeviz \n",
    "anjl.rapid_nj(large_D_shuffled, gc=100)"
   ]
  },
  {
   "cell_type": "code",
   "execution_count": null,
   "id": "0df09dd4-e47b-45ab-b368-0dbc303ead9a",
   "metadata": {},
   "outputs": [],
   "source": [
    "# %%profila\n",
    "# large_Z = anjl.canonical_nj(large_D_shuffled)"
   ]
  },
  {
   "cell_type": "code",
   "execution_count": null,
   "id": "619a9949-e825-48c3-9de6-7e62d2b026ec",
   "metadata": {},
   "outputs": [],
   "source": [
    "# %%profila\n",
    "# large_Z = anjl.rapid_nj(large_D_shuffled, gc=100)"
   ]
  },
  {
   "cell_type": "code",
   "execution_count": null,
   "id": "d6bb80f7-ee56-466a-88b4-f781dcc48657",
   "metadata": {},
   "outputs": [],
   "source": []
  }
 ],
 "metadata": {
  "kernelspec": {
   "display_name": "Python 3 (ipykernel)",
   "language": "python",
   "name": "python3"
  },
  "language_info": {
   "codemirror_mode": {
    "name": "ipython",
    "version": 3
   },
   "file_extension": ".py",
   "mimetype": "text/x-python",
   "name": "python",
   "nbconvert_exporter": "python",
   "pygments_lexer": "ipython3",
   "version": "3.10.12"
  },
  "widgets": {
   "application/vnd.jupyter.widget-state+json": {
    "state": {},
    "version_major": 2,
    "version_minor": 0
   }
  }
 },
 "nbformat": 4,
 "nbformat_minor": 5
}
