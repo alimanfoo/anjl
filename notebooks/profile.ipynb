{
 "cells": [
  {
   "cell_type": "code",
   "execution_count": 1,
   "id": "ae893ef8-3f7f-474e-a176-5012121e1f25",
   "metadata": {},
   "outputs": [
    {
     "data": {
      "text/markdown": [
       "> **Note:** loading the `profila` extension can impact Numba's performance. Make sure to disable it once you're done profiling!"
      ],
      "text/plain": [
       "<IPython.core.display.Markdown object>"
      ]
     },
     "metadata": {},
     "output_type": "display_data"
    }
   ],
   "source": [
    "%load_ext profila"
   ]
  },
  {
   "cell_type": "code",
   "execution_count": 2,
   "id": "e6600780-d0bd-42db-8db8-a13dfe078214",
   "metadata": {},
   "outputs": [],
   "source": [
    "# %load_ext snakeviz"
   ]
  },
  {
   "cell_type": "code",
   "execution_count": 3,
   "id": "dcaff1fc-e130-4661-b6d2-61320969b73d",
   "metadata": {},
   "outputs": [],
   "source": [
    "import zarr\n",
    "from scipy.spatial.distance import squareform\n",
    "import numpy as np\n",
    "import anjl"
   ]
  },
  {
   "cell_type": "markdown",
   "id": "e5245947-65cd-4817-b606-d36f6f21279e",
   "metadata": {},
   "source": [
    "## Large"
   ]
  },
  {
   "cell_type": "code",
   "execution_count": 17,
   "id": "8b6a001e-6e46-4c56-8c37-33ef5693d6e5",
   "metadata": {},
   "outputs": [
    {
     "data": {
      "text/plain": [
       "array([[ 0., 27., 16., ..., 25., 21., 19.],\n",
       "       [27.,  0., 23., ..., 22., 30., 22.],\n",
       "       [16., 23.,  0., ..., 25., 19., 17.],\n",
       "       ...,\n",
       "       [25., 22., 25., ...,  0., 30., 24.],\n",
       "       [21., 30., 19., ..., 30.,  0., 20.],\n",
       "       [19., 22., 17., ..., 24., 20.,  0.]], dtype=float32)"
      ]
     },
     "execution_count": 17,
     "metadata": {},
     "output_type": "execute_result"
    }
   ],
   "source": [
    "large = zarr.load(\"../data/large/dist.zarr.zip\")\n",
    "large_D = squareform(large)\n",
    "shuffle = np.random.choice(large_D.shape[0], size=500, replace=False)\n",
    "large_D_shuffled = large_D.take(shuffle, axis=0).take(shuffle, axis=1)\n",
    "large_D_shuffled"
   ]
  },
  {
   "cell_type": "code",
   "execution_count": 18,
   "id": "a3c13257-4c9c-4310-a45b-79058918bea4",
   "metadata": {},
   "outputs": [
    {
     "name": "stdout",
     "output_type": "stream",
     "text": [
      "CPU times: user 175 ms, sys: 0 ns, total: 175 ms\n",
      "Wall time: 174 ms\n"
     ]
    }
   ],
   "source": [
    "%%time\n",
    "large_Z = anjl.canonical_nj(large_D_shuffled)"
   ]
  },
  {
   "cell_type": "code",
   "execution_count": 19,
   "id": "0889365c-223e-439e-896b-b1e6fd3707bd",
   "metadata": {},
   "outputs": [
    {
     "name": "stdout",
     "output_type": "stream",
     "text": [
      "CPU times: user 534 ms, sys: 0 ns, total: 534 ms\n",
      "Wall time: 533 ms\n"
     ]
    }
   ],
   "source": [
    "%%time\n",
    "large_Z = anjl.rapid_nj(large_D_shuffled, gc=100)"
   ]
  },
  {
   "cell_type": "code",
   "execution_count": 20,
   "id": "e5c44b72-6d4a-496c-8b98-3a0ac39ae722",
   "metadata": {},
   "outputs": [],
   "source": [
    "# %%snakeviz\n",
    "# anjl.canonical_nj(large_D_shuffled)\n",
    "# anjl.rapid_nj(large_D_shuffled, gc=100)"
   ]
  },
  {
   "cell_type": "code",
   "execution_count": 21,
   "id": "74987835-ee0a-403b-86a8-db2859f88cfe",
   "metadata": {},
   "outputs": [],
   "source": [
    "# %%snakeviz\n",
    "# anjl.rapid_nj(large_D_shuffled, gc=100)"
   ]
  },
  {
   "cell_type": "code",
   "execution_count": 22,
   "id": "0df09dd4-e47b-45ab-b368-0dbc303ead9a",
   "metadata": {},
   "outputs": [
    {
     "data": {
      "text/plain": [
       "array([[1.8000000e+02, 4.5800000e+02, 3.3815260e+00, 6.6184740e+00,\n",
       "        2.0000000e+00],\n",
       "       [1.9900000e+02, 2.2400000e+02, 8.8531184e-01, 1.1146882e+00,\n",
       "        2.0000000e+00],\n",
       "       [3.4800000e+02, 4.4900000e+02, 9.1733873e-01, 1.0826613e+00,\n",
       "        2.0000000e+00],\n",
       "       ...,\n",
       "       [9.9300000e+02, 9.9500000e+02, 1.0816996e-01, 8.3526894e-02,\n",
       "        1.9900000e+02],\n",
       "       [9.9400000e+02, 9.9600000e+02, 8.7903276e-02, 3.3321455e-02,\n",
       "        4.0500000e+02],\n",
       "       [9.9100000e+02, 9.9700000e+02, 6.6971444e-02, 6.6971444e-02,\n",
       "        5.0000000e+02]], dtype=float32)"
      ]
     },
     "execution_count": 22,
     "metadata": {},
     "output_type": "execute_result"
    },
    {
     "data": {
      "text/markdown": [
       "**Elapsed:** 9.595 seconds\n",
       "\n",
       "**Total samples:** 675 (80.9% non-Numba samples, 0.0% bad samples)\n",
       "\n",
       "/home/aliman/github/alimanfoo/anjl/anjl/_canonical.py (lines 188 to 196):\n",
       "\n",
       "```\n",
       "  1.5% |         for j in range(i):\n",
       "       |             visited += 1\n",
       "  5.3% |             if obsolete[j]:\n",
       "       |                 continue\n",
       "       |             u_j = U[j]\n",
       "       |             d = D[i, j]\n",
       "  7.4% |             q = coefficient * d - u_i - u_j\n",
       "  0.9% |             searched += 1\n",
       "  4.0% |             if q < q_min:\n",
       "```\n"
      ],
      "text/plain": [
       "<IPython.core.display.Markdown object>"
      ]
     },
     "metadata": {},
     "output_type": "display_data"
    }
   ],
   "source": [
    "%%profila\n",
    "anjl.canonical_nj(large_D_shuffled)"
   ]
  },
  {
   "cell_type": "code",
   "execution_count": 24,
   "id": "619a9949-e825-48c3-9de6-7e62d2b026ec",
   "metadata": {},
   "outputs": [
    {
     "data": {
      "text/plain": [
       "array([[1.8000000e+02, 4.5800000e+02, 3.3815260e+00, 6.6184740e+00,\n",
       "        2.0000000e+00],\n",
       "       [1.9900000e+02, 2.2400000e+02, 8.8531184e-01, 1.1146882e+00,\n",
       "        2.0000000e+00],\n",
       "       [3.4800000e+02, 4.4900000e+02, 9.1733873e-01, 1.0826613e+00,\n",
       "        2.0000000e+00],\n",
       "       ...,\n",
       "       [9.9300000e+02, 9.9500000e+02, 1.0816996e-01, 8.3526894e-02,\n",
       "        1.9900000e+02],\n",
       "       [9.9400000e+02, 9.9600000e+02, 8.7903276e-02, 3.3321455e-02,\n",
       "        4.0500000e+02],\n",
       "       [9.9100000e+02, 9.9700000e+02, 6.6971444e-02, 6.6971444e-02,\n",
       "        5.0000000e+02]], dtype=float32)"
      ]
     },
     "execution_count": 24,
     "metadata": {},
     "output_type": "execute_result"
    },
    {
     "data": {
      "text/markdown": [
       "**Elapsed:** 32.263 seconds\n",
       "\n",
       "**Total samples:** 2538 (90.9% non-Numba samples, 0.0% bad samples)\n",
       "\n",
       "/home/aliman/github/alimanfoo/anjl/anjl/_rapid.py (lines 272 to 352):\n",
       "\n",
       "```\n",
       "       |     # Initialize working variables.\n",
       "       |     q_min = numba.float32(np.inf)\n",
       "       |     threshold = numba.float32(np.inf)\n",
       "       |     i_min = -1\n",
       "       |     j_min = -1\n",
       "       |     searched = 0\n",
       "       |     visited = 0\n",
       "       |     coefficient = numba.float32(n_remaining - 2)\n",
       "       |     m = nodes_sorted.shape[0]\n",
       "       |     # n = nodes_sorted.shape[1]\n",
       "       | \n",
       "       |     # # First pass, scan down first values.\n",
       "       |     # for i in range(m):\n",
       "       |     #     if obsolete[i]:\n",
       "       |     #         continue\n",
       "       |     #     u_i = U[i]\n",
       "       |     #     id_j = nodes_sorted[i, 0]\n",
       "       |     #     if clustered[id_j]:\n",
       "       |     #         continue\n",
       "       |     #     j = id_to_index[id_j]\n",
       "       |     #     u_j = U[j]\n",
       "       |     #     d = D[i, j]\n",
       "       |     #     q = coefficient * d - u_i - u_j\n",
       "       |     #     if q < q_min:\n",
       "       |     #         q_min = q\n",
       "       |     #         threshold = q_min + u_max\n",
       "       |     #         i_min = i\n",
       "       |     #         j_min = j\n",
       "       | \n",
       "       |     # indices_available = np.nonzero(~obsolete)[0]\n",
       "       |     # # np.random.shuffle(indices_available)\n",
       "       |     # for i in indices_available:\n",
       "       | \n",
       "       |     # Search all values up to threshold.\n",
       "       |     for i in range(m):\n",
       "       |         # Skip if row is no longer in use.\n",
       "  0.1% |         if obsolete[i]:\n",
       "       |             continue\n",
       "       | \n",
       "       |         # # Obtain identifier for this row.\n",
       "       |         # id_i = index_to_id[i]\n",
       "       | \n",
       "       |         # Obtain divergence for node corresponding to this row.\n",
       "       |         u_i = U[i]\n",
       "       | \n",
       "       |         # Search the row up to threshold.\n",
       "  1.1% |         for node in nodes_sorted[i]:\n",
       "       |             visited += 1\n",
       "       | \n",
       "       |             # # Obtain node identifier for the current item.\n",
       "       |             # id_j = nodes_sorted[i, s]\n",
       "       | \n",
       "       |             # Skip if this node is already clustered.\n",
       "  1.6% |             if clustered[node]:\n",
       "       |                 continue\n",
       "       | \n",
       "       |             # Break at end of nodes.\n",
       "       |             if node < 0:\n",
       "       |                 break\n",
       "       | \n",
       "       |             # Obtain column index in the distance matrix.\n",
       "       |             j = id_to_index[node]\n",
       "       | \n",
       "       |             # Partially calculate q.\n",
       "  0.6% |             d = D[i, j]\n",
       "  3.5% |             q_partial = coefficient * d - u_i\n",
       "       | \n",
       "       |             # Limit search. Because the row is sorted, if we are already above this\n",
       "       |             # threshold then we know there is no need to search remaining nodes in the\n",
       "       |             # row.\n",
       "  0.6% |             if q_partial > threshold:\n",
       "       |                 break\n",
       "       | \n",
       "       |             # Fully calculate q.\n",
       "  0.3% |             u_j = U[j]\n",
       "  0.1% |             q = q_partial - u_j\n",
       "  0.4% |             searched += 1\n",
       "       | \n",
       "  0.4% |             if q < q_min:\n",
       "       |                 q_min = q\n",
       "  0.3% |                 threshold = q_min + u_max\n",
       "```\n"
      ],
      "text/plain": [
       "<IPython.core.display.Markdown object>"
      ]
     },
     "metadata": {},
     "output_type": "display_data"
    }
   ],
   "source": [
    "%%profila\n",
    "anjl.rapid_nj(large_D_shuffled, gc=100)"
   ]
  },
  {
   "cell_type": "code",
   "execution_count": null,
   "id": "d6bb80f7-ee56-466a-88b4-f781dcc48657",
   "metadata": {},
   "outputs": [],
   "source": []
  }
 ],
 "metadata": {
  "kernelspec": {
   "display_name": "Python 3 (ipykernel)",
   "language": "python",
   "name": "python3"
  },
  "language_info": {
   "codemirror_mode": {
    "name": "ipython",
    "version": 3
   },
   "file_extension": ".py",
   "mimetype": "text/x-python",
   "name": "python",
   "nbconvert_exporter": "python",
   "pygments_lexer": "ipython3",
   "version": "3.10.12"
  },
  "widgets": {
   "application/vnd.jupyter.widget-state+json": {
    "state": {},
    "version_major": 2,
    "version_minor": 0
   }
  }
 },
 "nbformat": 4,
 "nbformat_minor": 5
}
