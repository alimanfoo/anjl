{
 "cells": [
  {
   "cell_type": "code",
   "execution_count": null,
   "id": "ae893ef8-3f7f-474e-a176-5012121e1f25",
   "metadata": {},
   "outputs": [],
   "source": [
    "# %load_ext profila"
   ]
  },
  {
   "cell_type": "code",
   "execution_count": null,
   "id": "ad274b64-9f83-496f-a201-fb45ea4a75a5",
   "metadata": {},
   "outputs": [],
   "source": [
    "import zarr\n",
    "from scipy.spatial.distance import squareform\n",
    "import numpy as np\n",
    "import anjl\n",
    "import pandas as pd\n",
    "import plotly.express as px"
   ]
  },
  {
   "cell_type": "markdown",
   "id": "2b2dde93-ab62-4b0a-81c2-385ef3ec1e39",
   "metadata": {},
   "source": [
    "## Small"
   ]
  },
  {
   "cell_type": "code",
   "execution_count": null,
   "id": "eb436654-d847-4e79-85ad-64f83006994c",
   "metadata": {},
   "outputs": [],
   "source": [
    "small = zarr.load(\"../data/small/dist.zarr.zip\")\n",
    "small_D = squareform(small)\n",
    "small_D.shape"
   ]
  },
  {
   "cell_type": "code",
   "execution_count": null,
   "id": "c1486842-02b9-46a6-b166-acd2d61ba373",
   "metadata": {},
   "outputs": [],
   "source": [
    "small_Z = anjl.canonical_nj(small_D)"
   ]
  },
  {
   "cell_type": "code",
   "execution_count": null,
   "id": "93591185-ce1f-4989-9d7a-ba1bb74ea03d",
   "metadata": {},
   "outputs": [],
   "source": [
    "small_Z_r = anjl.rapid_nj(small_D, gc=None)"
   ]
  },
  {
   "cell_type": "code",
   "execution_count": null,
   "id": "9070c6a2-f890-4352-8ae0-2faa97f100f0",
   "metadata": {},
   "outputs": [],
   "source": [
    "small_Z_r = anjl.rapid_nj(small_D, gc=1)"
   ]
  },
  {
   "cell_type": "code",
   "execution_count": null,
   "id": "76f10e01-4497-43d4-a47f-2a01ec5c011a",
   "metadata": {},
   "outputs": [],
   "source": [
    "%%timeit -r100 -n1\n",
    "anjl.canonical_nj(small_D)"
   ]
  },
  {
   "cell_type": "code",
   "execution_count": null,
   "id": "ee0a0c08-c69a-43be-81c8-3cb5cede3a93",
   "metadata": {},
   "outputs": [],
   "source": [
    "%%timeit -r100 -n1\n",
    "anjl.rapid_nj(small_D, gc=None)"
   ]
  },
  {
   "cell_type": "code",
   "execution_count": null,
   "id": "a58be702-caa5-4063-846d-96ed632d9745",
   "metadata": {},
   "outputs": [],
   "source": [
    "%%timeit -r100 -n1\n",
    "anjl.rapid_nj(small_D, gc=100)"
   ]
  },
  {
   "cell_type": "markdown",
   "id": "ee57e2bc-9773-4ea1-93c9-b0bfc13c9e63",
   "metadata": {},
   "source": [
    "## Medium"
   ]
  },
  {
   "cell_type": "code",
   "execution_count": null,
   "id": "befccb6f-dffa-49b7-97eb-1d5437568001",
   "metadata": {},
   "outputs": [],
   "source": [
    "medium = zarr.load(\"../data/medium/dist.zarr.zip\")\n",
    "medium_D = squareform(medium)\n",
    "medium_D.shape"
   ]
  },
  {
   "cell_type": "code",
   "execution_count": null,
   "id": "3ff47662-e8e6-41a3-afe8-ff2a080455a5",
   "metadata": {},
   "outputs": [],
   "source": [
    "medium_Z = anjl.canonical_nj(medium_D)"
   ]
  },
  {
   "cell_type": "code",
   "execution_count": null,
   "id": "d6cffbca-f3c3-41f5-8786-b56c0857934d",
   "metadata": {},
   "outputs": [],
   "source": [
    "medium_Z_r = anjl.rapid_nj(medium_D)"
   ]
  },
  {
   "cell_type": "code",
   "execution_count": null,
   "id": "316ec457-3799-4843-80df-491956229101",
   "metadata": {},
   "outputs": [],
   "source": [
    "%%timeit -r50 -n1\n",
    "anjl.canonical_nj(medium_D)"
   ]
  },
  {
   "cell_type": "code",
   "execution_count": null,
   "id": "f7707bf3-a669-4da8-b608-23d0f4279d3c",
   "metadata": {},
   "outputs": [],
   "source": [
    "%%timeit -r30 -n1\n",
    "anjl.rapid_nj(medium_D, gc=None)"
   ]
  },
  {
   "cell_type": "code",
   "execution_count": null,
   "id": "506482bb-0cd2-47cc-8d17-3d93eb3bd91b",
   "metadata": {},
   "outputs": [],
   "source": [
    "%%timeit -r30 -n1\n",
    "anjl.rapid_nj(medium_D, gc=10)"
   ]
  },
  {
   "cell_type": "code",
   "execution_count": null,
   "id": "04e35aa1-7f1b-4961-a142-c4b1d26f1ae6",
   "metadata": {},
   "outputs": [],
   "source": [
    "%%timeit -r30 -n1\n",
    "anjl.rapid_nj(medium_D, gc=100)"
   ]
  },
  {
   "cell_type": "code",
   "execution_count": null,
   "id": "50ed1f59-23eb-4aa3-9659-66bcaa9a929d",
   "metadata": {},
   "outputs": [],
   "source": [
    "%%timeit -r20 -n1\n",
    "anjl.rapid_nj(medium_D, gc=1)"
   ]
  },
  {
   "cell_type": "code",
   "execution_count": null,
   "id": "edcd3d71-bfa7-46f2-b501-c8f03a3f0e72",
   "metadata": {},
   "outputs": [],
   "source": [
    "# %%profila\n",
    "# anjl.canonical_nj(medium_D)"
   ]
  },
  {
   "cell_type": "code",
   "execution_count": null,
   "id": "22d7db2d-2938-471c-b2a6-ef3684011c38",
   "metadata": {},
   "outputs": [],
   "source": [
    "# %%profila\n",
    "# anjl.rapid_nj(medium_D, gc=100)"
   ]
  },
  {
   "cell_type": "markdown",
   "id": "e5245947-65cd-4817-b606-d36f6f21279e",
   "metadata": {},
   "source": [
    "## Large"
   ]
  },
  {
   "cell_type": "code",
   "execution_count": null,
   "id": "72f69caf-89be-4751-8512-e9afb52d0c46",
   "metadata": {},
   "outputs": [],
   "source": [
    "large = zarr.load(\"../data/large/dist.zarr.zip\")\n",
    "large_D = squareform(large)  # [:3000, :3000]\n",
    "large_D.shape"
   ]
  },
  {
   "cell_type": "code",
   "execution_count": null,
   "id": "b4e84ce5-379a-45dc-95ff-037ab8f9cc4b",
   "metadata": {},
   "outputs": [],
   "source": [
    "large_D"
   ]
  },
  {
   "cell_type": "code",
   "execution_count": null,
   "id": "00fdd2cd-84c2-42ea-baad-1efd50c437c4",
   "metadata": {},
   "outputs": [],
   "source": [
    "shuffle = np.random.choice(large_D.shape[0], size=large_D.shape[0], replace=False)\n",
    "shuffle"
   ]
  },
  {
   "cell_type": "code",
   "execution_count": null,
   "id": "9b48f2e8-4091-491b-8b55-17bd0847fea3",
   "metadata": {},
   "outputs": [],
   "source": [
    "large_D_shuffled = large_D.take(shuffle, axis=0).take(shuffle, axis=1)\n",
    "large_D_shuffled"
   ]
  },
  {
   "cell_type": "code",
   "execution_count": null,
   "id": "ca50b544-a9c1-426f-8395-a710f568662c",
   "metadata": {},
   "outputs": [],
   "source": [
    "# %%profila\n",
    "# large_Z = anjl.canonical_nj(large_D_shuffled)"
   ]
  },
  {
   "cell_type": "code",
   "execution_count": null,
   "id": "8b052c9d-428b-449c-b27b-5caf11bb6d59",
   "metadata": {},
   "outputs": [],
   "source": [
    "# %%profila\n",
    "# large_Z = anjl.rapid_nj(large_D_shuffled, gc=100)"
   ]
  },
  {
   "cell_type": "code",
   "execution_count": null,
   "id": "78a8df13-51c8-4196-b875-bedb5e83f11e",
   "metadata": {},
   "outputs": [],
   "source": [
    "large_Z, timings_canonical, searched_canonical, visited_canonical = anjl.canonical_nj(\n",
    "    large_D_shuffled,\n",
    "    # progress=tqdm,\n",
    "    # progress_options=dict(desc=\"Compute neighbour-joining tree\"),\n",
    "    diagnostics=True,\n",
    ")"
   ]
  },
  {
   "cell_type": "code",
   "execution_count": null,
   "id": "daa3c97f-0d09-4536-b2b7-1da5febd8d1e",
   "metadata": {},
   "outputs": [],
   "source": [
    "large_Z, timings_rapid_gc100, searched_rapid_gc100, visited_rapid_gc100 = anjl.rapid_nj(\n",
    "    large_D_shuffled,\n",
    "    # progress=tqdm,\n",
    "    # progress_options=dict(desc=\"Compute neighbour-joining tree\"),\n",
    "    diagnostics=True,\n",
    "    gc=100,\n",
    ")"
   ]
  },
  {
   "cell_type": "code",
   "execution_count": null,
   "id": "9bb2fd0c-85a4-46a2-a6d9-7f7300ef0ef1",
   "metadata": {},
   "outputs": [],
   "source": [
    "large_Z, timings_rapid_gc10, searched_rapid_gc10, visited_rapid_gc10 = anjl.rapid_nj(\n",
    "    large_D_shuffled,\n",
    "    # progress=tqdm,\n",
    "    # progress_options=dict(desc=\"Compute neighbour-joining tree\"),\n",
    "    diagnostics=True,\n",
    "    gc=10,\n",
    ")"
   ]
  },
  {
   "cell_type": "code",
   "execution_count": null,
   "id": "82020c1c-e20b-4e69-b960-1d6f8bd6914c",
   "metadata": {},
   "outputs": [],
   "source": [
    "large_Z, timings_rapid_nogc, searched_rapid_nogc, visited_rapid_nogc = anjl.rapid_nj(\n",
    "    large_D_shuffled,\n",
    "    # progress=tqdm,\n",
    "    # progress_options=dict(desc=\"Compute neighbour-joining tree\"),\n",
    "    diagnostics=True,\n",
    "    gc=None,\n",
    ")"
   ]
  },
  {
   "cell_type": "code",
   "execution_count": null,
   "id": "f5d969d2-1116-4533-a670-b2376a89b02e",
   "metadata": {
    "scrolled": true
   },
   "outputs": [],
   "source": [
    "df_canonical = pd.DataFrame(\n",
    "    {\n",
    "        \"time\": timings_canonical,\n",
    "        \"searched\": searched_canonical,\n",
    "        \"visited\": visited_canonical,\n",
    "        \"iteration\": np.arange(len(timings_canonical)),\n",
    "        \"algorithm\": \"canonical\",\n",
    "    }\n",
    ")\n",
    "df_rapid_gc100 = pd.DataFrame(\n",
    "    {\n",
    "        \"time\": timings_rapid_gc100,\n",
    "        \"searched\": searched_rapid_gc100,\n",
    "        \"visited\": visited_rapid_gc100,\n",
    "        \"iteration\": np.arange(len(timings_rapid_gc100)),\n",
    "        \"algorithm\": \"rapid_gc100\",\n",
    "    }\n",
    ")\n",
    "df_rapid_gc10 = pd.DataFrame(\n",
    "    {\n",
    "        \"time\": timings_rapid_gc10,\n",
    "        \"searched\": searched_rapid_gc10,\n",
    "        \"visited\": visited_rapid_gc10,\n",
    "        \"iteration\": np.arange(len(timings_rapid_gc10)),\n",
    "        \"algorithm\": \"rapid_gc10\",\n",
    "    }\n",
    ")\n",
    "df_rapid_nogc = pd.DataFrame(\n",
    "    {\n",
    "        \"time\": timings_rapid_nogc,\n",
    "        \"searched\": searched_rapid_nogc,\n",
    "        \"visited\": visited_rapid_nogc,\n",
    "        \"iteration\": np.arange(len(timings_rapid_nogc)),\n",
    "        \"algorithm\": \"rapid_nogc\",\n",
    "    }\n",
    ")"
   ]
  },
  {
   "cell_type": "code",
   "execution_count": null,
   "id": "694d1eaf-044c-4f40-a10e-16c93532d996",
   "metadata": {},
   "outputs": [],
   "source": [
    "df_diagnostics = pd.concat(\n",
    "    [\n",
    "        df_rapid_gc100,\n",
    "        df_rapid_gc10,\n",
    "        df_rapid_nogc,\n",
    "        df_canonical,\n",
    "    ],\n",
    "    axis=0,\n",
    ")"
   ]
  },
  {
   "cell_type": "code",
   "execution_count": null,
   "id": "2f9c5e0f-1fed-4bca-b467-bf2b1d7ad5e9",
   "metadata": {},
   "outputs": [],
   "source": [
    "px.line(\n",
    "    df_diagnostics,\n",
    "    x=\"iteration\",\n",
    "    y=\"time\",\n",
    "    color=\"algorithm\",\n",
    "    template=\"simple_white\",\n",
    ")"
   ]
  },
  {
   "cell_type": "code",
   "execution_count": null,
   "id": "8a8acc76-ceac-4723-a4eb-53b8eba88113",
   "metadata": {},
   "outputs": [],
   "source": [
    "px.line(\n",
    "    df_diagnostics,\n",
    "    x=\"iteration\",\n",
    "    y=\"searched\",\n",
    "    color=\"algorithm\",\n",
    "    template=\"simple_white\",\n",
    ")"
   ]
  },
  {
   "cell_type": "code",
   "execution_count": null,
   "id": "f5bec12a-53a7-4a26-8001-696f44f4f1e0",
   "metadata": {},
   "outputs": [],
   "source": [
    "px.line(\n",
    "    df_diagnostics,\n",
    "    x=\"iteration\",\n",
    "    y=\"visited\",\n",
    "    color=\"algorithm\",\n",
    "    template=\"simple_white\",\n",
    ")"
   ]
  },
  {
   "cell_type": "code",
   "execution_count": null,
   "id": "4790acc8-583f-4098-9c3f-86240691844f",
   "metadata": {},
   "outputs": [],
   "source": [
    "%%timeit -r2 -n1\n",
    "anjl.canonical_nj(large_D)"
   ]
  },
  {
   "cell_type": "code",
   "execution_count": null,
   "id": "b5546444-e193-4bf4-a63a-7c23579f64a4",
   "metadata": {},
   "outputs": [],
   "source": [
    "%%timeit -r2 -n1\n",
    "anjl.rapid_nj(large_D, gc=10)"
   ]
  },
  {
   "cell_type": "code",
   "execution_count": null,
   "id": "956a70ac-f1a1-4359-ad39-2aa4b1dbfbb1",
   "metadata": {},
   "outputs": [],
   "source": [
    "%%timeit -r2 -n1\n",
    "anjl.rapid_nj(large_D, gc=100)"
   ]
  },
  {
   "cell_type": "code",
   "execution_count": null,
   "id": "cfba1ea2-743a-4cd8-b073-873455fe90fb",
   "metadata": {},
   "outputs": [],
   "source": [
    "%%timeit -r2 -n1\n",
    "anjl.rapid_nj(large_D, gc=200)"
   ]
  },
  {
   "cell_type": "code",
   "execution_count": null,
   "id": "64ac04fc-f2ba-4a51-83f2-8ee0390d1419",
   "metadata": {},
   "outputs": [],
   "source": [
    "%%timeit -r2 -n1\n",
    "anjl.rapid_nj(large_D, gc=None)"
   ]
  },
  {
   "cell_type": "code",
   "execution_count": null,
   "id": "dd2ce27a-d651-4bd2-a63d-65abd4d8b2bb",
   "metadata": {},
   "outputs": [],
   "source": [
    "%%timeit -r3 -n1\n",
    "np.argsort(large_D_shuffled, axis=1)"
   ]
  },
  {
   "cell_type": "code",
   "execution_count": null,
   "id": "a0c6d245-e129-4a8d-9081-94abc0e7bc5f",
   "metadata": {},
   "outputs": [],
   "source": [
    "%%timeit -r1000 -n1\n",
    "np.argsort(large_D_shuffled[0])"
   ]
  },
  {
   "cell_type": "code",
   "execution_count": null,
   "id": "c874fbb0-d6bf-460c-bc71-dbcee3859627",
   "metadata": {},
   "outputs": [],
   "source": [
    "import anjl._canonical\n",
    "import anjl._rapid"
   ]
  },
  {
   "cell_type": "code",
   "execution_count": null,
   "id": "fdf86cff-a26d-4ae5-9909-bb5fb00f0690",
   "metadata": {},
   "outputs": [],
   "source": [
    "# anjl._canonical._canonical_nj_search.inspect_types()"
   ]
  },
  {
   "cell_type": "code",
   "execution_count": null,
   "id": "9f6e7839-638e-45e0-9a9a-b9216e6bc16b",
   "metadata": {},
   "outputs": [],
   "source": [
    "# anjl._rapid._rapid_search.inspect_types()"
   ]
  },
  {
   "cell_type": "code",
   "execution_count": null,
   "id": "d6bb80f7-ee56-466a-88b4-f781dcc48657",
   "metadata": {},
   "outputs": [],
   "source": []
  }
 ],
 "metadata": {
  "kernelspec": {
   "display_name": "Python 3 (ipykernel)",
   "language": "python",
   "name": "python3"
  },
  "language_info": {
   "codemirror_mode": {
    "name": "ipython",
    "version": 3
   },
   "file_extension": ".py",
   "mimetype": "text/x-python",
   "name": "python",
   "nbconvert_exporter": "python",
   "pygments_lexer": "ipython3",
   "version": "3.10.12"
  },
  "widgets": {
   "application/vnd.jupyter.widget-state+json": {
    "state": {},
    "version_major": 2,
    "version_minor": 0
   }
  }
 },
 "nbformat": 4,
 "nbformat_minor": 5
}
