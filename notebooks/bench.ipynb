{
 "cells": [
  {
   "cell_type": "code",
   "execution_count": 1,
   "id": "ad274b64-9f83-496f-a201-fb45ea4a75a5",
   "metadata": {},
   "outputs": [],
   "source": [
    "import zarr\n",
    "from scipy.spatial.distance import squareform\n",
    "import anjl"
   ]
  },
  {
   "cell_type": "markdown",
   "id": "2b2dde93-ab62-4b0a-81c2-385ef3ec1e39",
   "metadata": {},
   "source": [
    "## Small"
   ]
  },
  {
   "cell_type": "code",
   "execution_count": 2,
   "id": "eb436654-d847-4e79-85ad-64f83006994c",
   "metadata": {},
   "outputs": [
    {
     "data": {
      "text/plain": [
       "(181, 181)"
      ]
     },
     "execution_count": 2,
     "metadata": {},
     "output_type": "execute_result"
    }
   ],
   "source": [
    "small = zarr.load(\"../data/small/dist.zarr.zip\")\n",
    "small_D = squareform(small)\n",
    "small_D.shape"
   ]
  },
  {
   "cell_type": "code",
   "execution_count": 3,
   "id": "c1486842-02b9-46a6-b166-acd2d61ba373",
   "metadata": {},
   "outputs": [],
   "source": [
    "small_Z = anjl.canonical_nj(small_D)"
   ]
  },
  {
   "cell_type": "code",
   "execution_count": 4,
   "id": "93591185-ce1f-4989-9d7a-ba1bb74ea03d",
   "metadata": {},
   "outputs": [],
   "source": [
    "small_Z_r = anjl.rapid_nj(small_D)"
   ]
  },
  {
   "cell_type": "code",
   "execution_count": 5,
   "id": "76f10e01-4497-43d4-a47f-2a01ec5c011a",
   "metadata": {},
   "outputs": [
    {
     "name": "stdout",
     "output_type": "stream",
     "text": [
      "3.44 ms ± 468 μs per loop (mean ± std. dev. of 20 runs, 1 loop each)\n"
     ]
    }
   ],
   "source": [
    "%%timeit -r20 -n1\n",
    "anjl.canonical_nj(small_D)"
   ]
  },
  {
   "cell_type": "code",
   "execution_count": 6,
   "id": "ee0a0c08-c69a-43be-81c8-3cb5cede3a93",
   "metadata": {},
   "outputs": [
    {
     "name": "stdout",
     "output_type": "stream",
     "text": [
      "9.18 ms ± 1.08 ms per loop (mean ± std. dev. of 20 runs, 1 loop each)\n"
     ]
    }
   ],
   "source": [
    "%%timeit -r20 -n1\n",
    "anjl.rapid_nj(small_D)"
   ]
  },
  {
   "cell_type": "markdown",
   "id": "ee57e2bc-9773-4ea1-93c9-b0bfc13c9e63",
   "metadata": {},
   "source": [
    "## Medium"
   ]
  },
  {
   "cell_type": "code",
   "execution_count": 7,
   "id": "befccb6f-dffa-49b7-97eb-1d5437568001",
   "metadata": {},
   "outputs": [
    {
     "data": {
      "text/plain": [
       "(472, 472)"
      ]
     },
     "execution_count": 7,
     "metadata": {},
     "output_type": "execute_result"
    }
   ],
   "source": [
    "medium = zarr.load(\"../data/medium/dist.zarr.zip\")\n",
    "medium_D = squareform(medium)\n",
    "medium_D.shape"
   ]
  },
  {
   "cell_type": "code",
   "execution_count": 8,
   "id": "3ff47662-e8e6-41a3-afe8-ff2a080455a5",
   "metadata": {},
   "outputs": [],
   "source": [
    "medium_Z = anjl.canonical_nj(medium_D)"
   ]
  },
  {
   "cell_type": "code",
   "execution_count": 9,
   "id": "d6cffbca-f3c3-41f5-8786-b56c0857934d",
   "metadata": {},
   "outputs": [],
   "source": [
    "medium_Z_r = anjl.rapid_nj(medium_D)"
   ]
  },
  {
   "cell_type": "code",
   "execution_count": 10,
   "id": "316ec457-3799-4843-80df-491956229101",
   "metadata": {},
   "outputs": [
    {
     "name": "stdout",
     "output_type": "stream",
     "text": [
      "41.7 ms ± 3.53 ms per loop (mean ± std. dev. of 20 runs, 1 loop each)\n"
     ]
    }
   ],
   "source": [
    "%%timeit -r20 -n1\n",
    "anjl.canonical_nj(medium_D)"
   ]
  },
  {
   "cell_type": "code",
   "execution_count": null,
   "id": "f7707bf3-a669-4da8-b608-23d0f4279d3c",
   "metadata": {},
   "outputs": [],
   "source": [
    "%%timeit -r20 -n1\n",
    "anjl.rapid_nj(medium_D)"
   ]
  },
  {
   "cell_type": "markdown",
   "id": "e5245947-65cd-4817-b606-d36f6f21279e",
   "metadata": {},
   "source": [
    "## Large"
   ]
  },
  {
   "cell_type": "code",
   "execution_count": null,
   "id": "72f69caf-89be-4751-8512-e9afb52d0c46",
   "metadata": {},
   "outputs": [],
   "source": [
    "large = zarr.load(\"../data/large/dist.zarr.zip\")\n",
    "large_D = squareform(large)\n",
    "large_D.shape"
   ]
  },
  {
   "cell_type": "code",
   "execution_count": null,
   "id": "ca50b544-a9c1-426f-8395-a710f568662c",
   "metadata": {},
   "outputs": [],
   "source": [
    "large_Z, timings_canonical = anjl.canonical_nj(\n",
    "    large_D,\n",
    "    # progress=tqdm,\n",
    "    # progress_options=dict(desc=\"Compute neighbour-joining tree\"),\n",
    "    diagnostics=True,\n",
    ")"
   ]
  },
  {
   "cell_type": "code",
   "execution_count": null,
   "id": "daa3c97f-0d09-4536-b2b7-1da5febd8d1e",
   "metadata": {},
   "outputs": [],
   "source": [
    "large_Z, timings_rapid = anjl.rapid_nj(\n",
    "    large_D,\n",
    "    # progress=tqdm,\n",
    "    # progress_options=dict(desc=\"Compute neighbour-joining tree\"),\n",
    "    diagnostics=True,\n",
    ")"
   ]
  },
  {
   "cell_type": "code",
   "execution_count": null,
   "id": "1662d98a-1197-4271-9514-6af1086abce2",
   "metadata": {},
   "outputs": [],
   "source": [
    "import pandas as pd\n",
    "import numpy as np"
   ]
  },
  {
   "cell_type": "code",
   "execution_count": null,
   "id": "e1866d6b-3d88-430b-912b-db10e3391437",
   "metadata": {},
   "outputs": [],
   "source": [
    "df_canonical = pd.DataFrame(\n",
    "    {\n",
    "        \"time\": timings_canonical,\n",
    "        \"iteration\": np.arange(len(timings_canonical)),\n",
    "        \"algorithm\": \"canonical\",\n",
    "    }\n",
    ")\n",
    "df_canonical"
   ]
  },
  {
   "cell_type": "code",
   "execution_count": null,
   "id": "0cd68720-12d0-4995-b47f-85b831e9883a",
   "metadata": {},
   "outputs": [],
   "source": [
    "df_rapid = pd.DataFrame(\n",
    "    {\n",
    "        \"time\": timings_rapid,\n",
    "        \"iteration\": np.arange(len(timings_rapid)),\n",
    "        \"algorithm\": \"rapid\",\n",
    "    }\n",
    ")\n",
    "df_rapid"
   ]
  },
  {
   "cell_type": "code",
   "execution_count": null,
   "id": "23bed0c5-f5bd-4eb5-abcb-8524cdc9661c",
   "metadata": {},
   "outputs": [],
   "source": [
    "import plotly.express as px\n",
    "\n",
    "px.line(\n",
    "    pd.concat([df_rapid, df_canonical], axis=0),\n",
    "    x=\"iteration\",\n",
    "    y=\"time\",\n",
    "    color=\"algorithm\",\n",
    "    template=\"simple_white\",\n",
    ")"
   ]
  },
  {
   "cell_type": "code",
   "execution_count": null,
   "id": "4790acc8-583f-4098-9c3f-86240691844f",
   "metadata": {},
   "outputs": [],
   "source": [
    "%%timeit -r2 -n1\n",
    "anjl.canonical_nj(large_D)"
   ]
  },
  {
   "cell_type": "code",
   "execution_count": null,
   "id": "956a70ac-f1a1-4359-ad39-2aa4b1dbfbb1",
   "metadata": {},
   "outputs": [],
   "source": [
    "%%timeit -r2 -n1\n",
    "anjl.rapid_nj(large_D)"
   ]
  },
  {
   "cell_type": "code",
   "execution_count": null,
   "id": "dd2ce27a-d651-4bd2-a63d-65abd4d8b2bb",
   "metadata": {},
   "outputs": [],
   "source": []
  }
 ],
 "metadata": {
  "kernelspec": {
   "display_name": "Python 3 (ipykernel)",
   "language": "python",
   "name": "python3"
  },
  "language_info": {
   "codemirror_mode": {
    "name": "ipython",
    "version": 3
   },
   "file_extension": ".py",
   "mimetype": "text/x-python",
   "name": "python",
   "nbconvert_exporter": "python",
   "pygments_lexer": "ipython3",
   "version": "3.10.12"
  },
  "widgets": {
   "application/vnd.jupyter.widget-state+json": {
    "state": {},
    "version_major": 2,
    "version_minor": 0
   }
  }
 },
 "nbformat": 4,
 "nbformat_minor": 5
}
