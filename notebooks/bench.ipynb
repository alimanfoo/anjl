{
 "cells": [
  {
   "cell_type": "code",
   "execution_count": 1,
   "id": "ad274b64-9f83-496f-a201-fb45ea4a75a5",
   "metadata": {},
   "outputs": [],
   "source": [
    "import zarr\n",
    "from scipy.spatial.distance import squareform\n",
    "import anjl\n",
    "from tqdm.auto import tqdm"
   ]
  },
  {
   "cell_type": "markdown",
   "id": "2b2dde93-ab62-4b0a-81c2-385ef3ec1e39",
   "metadata": {},
   "source": [
    "## Small"
   ]
  },
  {
   "cell_type": "code",
   "execution_count": 2,
   "id": "eb436654-d847-4e79-85ad-64f83006994c",
   "metadata": {},
   "outputs": [
    {
     "data": {
      "text/plain": [
       "(181, 181)"
      ]
     },
     "execution_count": 2,
     "metadata": {},
     "output_type": "execute_result"
    }
   ],
   "source": [
    "small = zarr.load(\"../data/small/dist.zarr.zip\")\n",
    "small_D = squareform(small)\n",
    "small_D.shape"
   ]
  },
  {
   "cell_type": "code",
   "execution_count": 3,
   "id": "c1486842-02b9-46a6-b166-acd2d61ba373",
   "metadata": {},
   "outputs": [],
   "source": [
    "small_Z = anjl.canonical_nj(small_D)"
   ]
  },
  {
   "cell_type": "code",
   "execution_count": 4,
   "id": "93591185-ce1f-4989-9d7a-ba1bb74ea03d",
   "metadata": {},
   "outputs": [],
   "source": [
    "small_Z_r = anjl.rapid_nj(small_D)"
   ]
  },
  {
   "cell_type": "code",
   "execution_count": 5,
   "id": "76f10e01-4497-43d4-a47f-2a01ec5c011a",
   "metadata": {},
   "outputs": [
    {
     "name": "stdout",
     "output_type": "stream",
     "text": [
      "2.68 ms ± 950 μs per loop (mean ± std. dev. of 20 runs, 1 loop each)\n"
     ]
    }
   ],
   "source": [
    "%%timeit -r20 -n1\n",
    "anjl.canonical_nj(small_D)"
   ]
  },
  {
   "cell_type": "code",
   "execution_count": 6,
   "id": "ee0a0c08-c69a-43be-81c8-3cb5cede3a93",
   "metadata": {},
   "outputs": [
    {
     "name": "stdout",
     "output_type": "stream",
     "text": [
      "5.67 ms ± 856 μs per loop (mean ± std. dev. of 20 runs, 1 loop each)\n"
     ]
    }
   ],
   "source": [
    "%%timeit -r20 -n1\n",
    "anjl.rapid_nj(small_D)"
   ]
  },
  {
   "cell_type": "markdown",
   "id": "ee57e2bc-9773-4ea1-93c9-b0bfc13c9e63",
   "metadata": {},
   "source": [
    "## Medium"
   ]
  },
  {
   "cell_type": "code",
   "execution_count": 7,
   "id": "befccb6f-dffa-49b7-97eb-1d5437568001",
   "metadata": {},
   "outputs": [
    {
     "data": {
      "text/plain": [
       "(472, 472)"
      ]
     },
     "execution_count": 7,
     "metadata": {},
     "output_type": "execute_result"
    }
   ],
   "source": [
    "medium = zarr.load(\"../data/medium/dist.zarr.zip\")\n",
    "medium_D = squareform(medium)\n",
    "medium_D.shape"
   ]
  },
  {
   "cell_type": "code",
   "execution_count": 8,
   "id": "3ff47662-e8e6-41a3-afe8-ff2a080455a5",
   "metadata": {},
   "outputs": [],
   "source": [
    "medium_Z = anjl.canonical_nj(medium_D)"
   ]
  },
  {
   "cell_type": "code",
   "execution_count": 9,
   "id": "d6cffbca-f3c3-41f5-8786-b56c0857934d",
   "metadata": {},
   "outputs": [],
   "source": [
    "medium_Z_r = anjl.rapid_nj(medium_D)"
   ]
  },
  {
   "cell_type": "code",
   "execution_count": 10,
   "id": "316ec457-3799-4843-80df-491956229101",
   "metadata": {},
   "outputs": [
    {
     "name": "stdout",
     "output_type": "stream",
     "text": [
      "28.5 ms ± 3.12 ms per loop (mean ± std. dev. of 20 runs, 1 loop each)\n"
     ]
    }
   ],
   "source": [
    "%%timeit -r20 -n1\n",
    "anjl.canonical_nj(medium_D)"
   ]
  },
  {
   "cell_type": "code",
   "execution_count": 11,
   "id": "f7707bf3-a669-4da8-b608-23d0f4279d3c",
   "metadata": {},
   "outputs": [
    {
     "name": "stdout",
     "output_type": "stream",
     "text": [
      "57.7 ms ± 3.56 ms per loop (mean ± std. dev. of 20 runs, 1 loop each)\n"
     ]
    }
   ],
   "source": [
    "%%timeit -r20 -n1\n",
    "anjl.rapid_nj(medium_D)"
   ]
  },
  {
   "cell_type": "markdown",
   "id": "e5245947-65cd-4817-b606-d36f6f21279e",
   "metadata": {},
   "source": [
    "## Large"
   ]
  },
  {
   "cell_type": "code",
   "execution_count": 12,
   "id": "72f69caf-89be-4751-8512-e9afb52d0c46",
   "metadata": {},
   "outputs": [
    {
     "data": {
      "text/plain": [
       "(3081, 3081)"
      ]
     },
     "execution_count": 12,
     "metadata": {},
     "output_type": "execute_result"
    }
   ],
   "source": [
    "large = zarr.load(\"../data/large/dist.zarr.zip\")\n",
    "large_D = squareform(large)\n",
    "large_D.shape"
   ]
  },
  {
   "cell_type": "code",
   "execution_count": 13,
   "id": "ca50b544-a9c1-426f-8395-a710f568662c",
   "metadata": {},
   "outputs": [
    {
     "data": {
      "application/vnd.jupyter.widget-view+json": {
       "model_id": "fadf5cfa97fc4be0b4d2e9a6d90421e4",
       "version_major": 2,
       "version_minor": 0
      },
      "text/plain": [
       "Compute neighbour-joining tree:   0%|          | 0/3080 [00:00<?, ?it/s]"
      ]
     },
     "metadata": {},
     "output_type": "display_data"
    }
   ],
   "source": [
    "large_Z = anjl.canonical_nj(\n",
    "    large_D,\n",
    "    progress=tqdm,\n",
    "    progress_options=dict(desc=\"Compute neighbour-joining tree\"),\n",
    ")"
   ]
  },
  {
   "cell_type": "code",
   "execution_count": 14,
   "id": "daa3c97f-0d09-4536-b2b7-1da5febd8d1e",
   "metadata": {},
   "outputs": [
    {
     "data": {
      "application/vnd.jupyter.widget-view+json": {
       "model_id": "847c7e0dea9d4a06af4e2048bbee8509",
       "version_major": 2,
       "version_minor": 0
      },
      "text/plain": [
       "Compute neighbour-joining tree:   0%|          | 0/3080 [00:00<?, ?it/s]"
      ]
     },
     "metadata": {},
     "output_type": "display_data"
    }
   ],
   "source": [
    "large_Z = anjl.rapid_nj(\n",
    "    large_D,\n",
    "    progress=tqdm,\n",
    "    progress_options=dict(desc=\"Compute neighbour-joining tree\"),\n",
    ")"
   ]
  },
  {
   "cell_type": "code",
   "execution_count": 15,
   "id": "4790acc8-583f-4098-9c3f-86240691844f",
   "metadata": {},
   "outputs": [
    {
     "name": "stdout",
     "output_type": "stream",
     "text": [
      "7.14 s ± 32.1 ms per loop (mean ± std. dev. of 3 runs, 1 loop each)\n"
     ]
    }
   ],
   "source": [
    "%%timeit -r3 -n1\n",
    "anjl.canonical_nj(large_D)"
   ]
  },
  {
   "cell_type": "code",
   "execution_count": 16,
   "id": "956a70ac-f1a1-4359-ad39-2aa4b1dbfbb1",
   "metadata": {},
   "outputs": [
    {
     "name": "stdout",
     "output_type": "stream",
     "text": [
      "10 s ± 25.5 ms per loop (mean ± std. dev. of 3 runs, 1 loop each)\n"
     ]
    }
   ],
   "source": [
    "%%timeit -r3 -n1\n",
    "anjl.rapid_nj(large_D)"
   ]
  },
  {
   "cell_type": "code",
   "execution_count": null,
   "id": "dd2ce27a-d651-4bd2-a63d-65abd4d8b2bb",
   "metadata": {},
   "outputs": [],
   "source": []
  }
 ],
 "metadata": {
  "kernelspec": {
   "display_name": "Python 3 (ipykernel)",
   "language": "python",
   "name": "python3"
  },
  "language_info": {
   "codemirror_mode": {
    "name": "ipython",
    "version": 3
   },
   "file_extension": ".py",
   "mimetype": "text/x-python",
   "name": "python",
   "nbconvert_exporter": "python",
   "pygments_lexer": "ipython3",
   "version": "3.10.12"
  },
  "widgets": {
   "application/vnd.jupyter.widget-state+json": {
    "state": {
     "15d8f5917af34f20a38a2c24b34e75b2": {
      "model_module": "@jupyter-widgets/base",
      "model_module_version": "2.0.0",
      "model_name": "LayoutModel",
      "state": {}
     },
     "32a7ffcf817244c895e491fea0e7da6c": {
      "model_module": "@jupyter-widgets/controls",
      "model_module_version": "2.0.0",
      "model_name": "ProgressStyleModel",
      "state": {
       "description_width": ""
      }
     },
     "4796757202ec4ad7b4e0f269fa74b457": {
      "model_module": "@jupyter-widgets/base",
      "model_module_version": "2.0.0",
      "model_name": "LayoutModel",
      "state": {}
     },
     "4ef502b23658424b8a5d065fa23d50ac": {
      "model_module": "@jupyter-widgets/base",
      "model_module_version": "2.0.0",
      "model_name": "LayoutModel",
      "state": {}
     },
     "78eb0c20c725435a95a1d5dd7ba87a32": {
      "model_module": "@jupyter-widgets/controls",
      "model_module_version": "2.0.0",
      "model_name": "HTMLModel",
      "state": {
       "layout": "IPY_MODEL_15d8f5917af34f20a38a2c24b34e75b2",
       "style": "IPY_MODEL_f9596949a76b40fca612c7ee3bef0cfa",
       "value": "Compute neighbour-joining tree: 100%"
      }
     },
     "8eaf8a888ef540b9b7311701aebee9f5": {
      "model_module": "@jupyter-widgets/controls",
      "model_module_version": "2.0.0",
      "model_name": "HBoxModel",
      "state": {
       "children": [
        "IPY_MODEL_78eb0c20c725435a95a1d5dd7ba87a32",
        "IPY_MODEL_e8c56600901b42229243743d572d10dc",
        "IPY_MODEL_ae5c7386ef4f4106ae1adf240f9a18ca"
       ],
       "layout": "IPY_MODEL_c1ead1c4a68143b094f50621183fd0e1"
      }
     },
     "967b86a8fbb24ee1b95c52fe2496b93c": {
      "model_module": "@jupyter-widgets/controls",
      "model_module_version": "2.0.0",
      "model_name": "HTMLStyleModel",
      "state": {
       "description_width": "",
       "font_size": null,
       "text_color": null
      }
     },
     "ae5c7386ef4f4106ae1adf240f9a18ca": {
      "model_module": "@jupyter-widgets/controls",
      "model_module_version": "2.0.0",
      "model_name": "HTMLModel",
      "state": {
       "layout": "IPY_MODEL_4796757202ec4ad7b4e0f269fa74b457",
       "style": "IPY_MODEL_967b86a8fbb24ee1b95c52fe2496b93c",
       "value": " 3080/3080 [00:15&lt;00:00, 1044.31it/s]"
      }
     },
     "c1ead1c4a68143b094f50621183fd0e1": {
      "model_module": "@jupyter-widgets/base",
      "model_module_version": "2.0.0",
      "model_name": "LayoutModel",
      "state": {}
     },
     "e8c56600901b42229243743d572d10dc": {
      "model_module": "@jupyter-widgets/controls",
      "model_module_version": "2.0.0",
      "model_name": "FloatProgressModel",
      "state": {
       "bar_style": "success",
       "layout": "IPY_MODEL_4ef502b23658424b8a5d065fa23d50ac",
       "max": 3080,
       "style": "IPY_MODEL_32a7ffcf817244c895e491fea0e7da6c",
       "value": 3080
      }
     },
     "f9596949a76b40fca612c7ee3bef0cfa": {
      "model_module": "@jupyter-widgets/controls",
      "model_module_version": "2.0.0",
      "model_name": "HTMLStyleModel",
      "state": {
       "description_width": "",
       "font_size": null,
       "text_color": null
      }
     }
    },
    "version_major": 2,
    "version_minor": 0
   }
  }
 },
 "nbformat": 4,
 "nbformat_minor": 5
}
