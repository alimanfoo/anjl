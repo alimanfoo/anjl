{
 "cells": [
  {
   "cell_type": "code",
   "execution_count": 1,
   "id": "9b8a35c3-4339-4220-8298-d801695057bf",
   "metadata": {},
   "outputs": [],
   "source": [
    "import numpy as np\n",
    "import anjl"
   ]
  },
  {
   "cell_type": "markdown",
   "id": "96412eba-de30-4139-9ce8-8f0bf2887b94",
   "metadata": {},
   "source": [
    "## Example 1"
   ]
  },
  {
   "cell_type": "code",
   "execution_count": 2,
   "id": "495d1add-4a95-4a62-af2c-42bede13b479",
   "metadata": {},
   "outputs": [
    {
     "data": {
      "text/plain": [
       "array([[0. , 1. , 1. , 3. , 2. ],\n",
       "       [2. , 4. , 2. , 2. , 3. ],\n",
       "       [3. , 5. , 3.5, 3.5, 4. ]], dtype=float32)"
      ]
     },
     "execution_count": 2,
     "metadata": {},
     "output_type": "execute_result"
    }
   ],
   "source": [
    "D1 = np.array(\n",
    "    [  # A B C D\n",
    "        [0, 4, 5, 10],\n",
    "        [4, 0, 7, 12],\n",
    "        [5, 7, 0, 9],\n",
    "        [10, 12, 9, 0],\n",
    "    ],\n",
    "    dtype=np.float32,\n",
    ")\n",
    "Z1 = anjl.canonical_nj(D1)\n",
    "Z1"
   ]
  },
  {
   "cell_type": "code",
   "execution_count": 3,
   "id": "f6fd6826-90a7-4303-8b01-340b0147cd72",
   "metadata": {},
   "outputs": [
    {
     "data": {
      "text/plain": [
       "Node(id=6, dist=None, count=4)"
      ]
     },
     "execution_count": 3,
     "metadata": {},
     "output_type": "execute_result"
    }
   ],
   "source": [
    "root1 = anjl.to_tree(Z1)\n",
    "root1"
   ]
  },
  {
   "cell_type": "code",
   "execution_count": 4,
   "id": "c0b3340e-d760-46af-80fd-9c27fab9b351",
   "metadata": {},
   "outputs": [
    {
     "data": {
      "text/plain": [
       "(Node(id=6, dist=None, count=4),\n",
       " [Node(id=0, dist=1.0, count=1),\n",
       "  Node(id=1, dist=3.0, count=1),\n",
       "  Node(id=2, dist=2.0, count=1),\n",
       "  Node(id=3, dist=3.5, count=1),\n",
       "  Node(id=4, dist=2.0, count=2),\n",
       "  Node(id=5, dist=3.5, count=3),\n",
       "  Node(id=6, dist=None, count=4)])"
      ]
     },
     "execution_count": 4,
     "metadata": {},
     "output_type": "execute_result"
    }
   ],
   "source": [
    "root1, nodes1 = anjl.to_tree(Z1, rd=True)\n",
    "root1, nodes1"
   ]
  },
  {
   "cell_type": "code",
   "execution_count": 5,
   "id": "62636a5d-2c27-4921-b379-d28cc64eea47",
   "metadata": {},
   "outputs": [
    {
     "name": "stdout",
     "output_type": "stream",
     "text": [
      "Node(id=6, dist=None, count=4)\n",
      "    Node(id=3, dist=3.5, count=1)\n",
      "    Node(id=5, dist=3.5, count=3)\n",
      "        Node(id=2, dist=2.0, count=1)\n",
      "        Node(id=4, dist=2.0, count=2)\n",
      "            Node(id=0, dist=1.0, count=1)\n",
      "            Node(id=1, dist=3.0, count=1)\n"
     ]
    }
   ],
   "source": [
    "print(root1)"
   ]
  },
  {
   "cell_type": "code",
   "execution_count": 6,
   "id": "edd0497f-001b-42a2-8784-310a56dec9dc",
   "metadata": {},
   "outputs": [
    {
     "name": "stdout",
     "output_type": "stream",
     "text": [
      "Node(id=6, dist=None, count=4)\n",
      "    Node(id=3, dist=3.5, count=1)\n",
      "    Node(id=5, dist=3.5, count=3)\n",
      "        Node(id=2, dist=2.0, count=1)\n",
      "        Node(id=4, dist=2.0, count=2)\n",
      "            Node(id=0, dist=1.0, count=1)\n",
      "            Node(id=1, dist=3.0, count=1)\n"
     ]
    }
   ],
   "source": [
    "print(anjl.to_tree(Z1, count_sort=True))"
   ]
  },
  {
   "cell_type": "code",
   "execution_count": 7,
   "id": "26919307-3607-4479-b375-3a2684a1e7be",
   "metadata": {},
   "outputs": [
    {
     "name": "stdout",
     "output_type": "stream",
     "text": [
      "Node(id=6, dist=None, count=4)\n",
      "    Node(id=3, dist=3.5, count=1)\n",
      "    Node(id=5, dist=3.5, count=3)\n",
      "        Node(id=2, dist=2.0, count=1)\n",
      "        Node(id=4, dist=2.0, count=2)\n",
      "            Node(id=0, dist=1.0, count=1)\n",
      "            Node(id=1, dist=3.0, count=1)\n"
     ]
    }
   ],
   "source": [
    "print(anjl.to_tree(Z1, distance_sort=True))"
   ]
  },
  {
   "cell_type": "markdown",
   "id": "3116feb1-ea5b-4bf3-a4e7-d3efcb5a884d",
   "metadata": {},
   "source": [
    "## Example 2"
   ]
  },
  {
   "cell_type": "code",
   "execution_count": 8,
   "id": "a1a20809-af7b-4071-80e5-5be768e907c1",
   "metadata": {},
   "outputs": [
    {
     "data": {
      "text/plain": [
       "array([[0. , 1. , 2. , 3. , 2. ],\n",
       "       [2. , 5. , 4. , 3. , 3. ],\n",
       "       [3. , 6. , 2. , 2. , 4. ],\n",
       "       [4. , 7. , 0.5, 0.5, 5. ]], dtype=float32)"
      ]
     },
     "execution_count": 8,
     "metadata": {},
     "output_type": "execute_result"
    }
   ],
   "source": [
    "D2 = np.array(\n",
    "    [  # a b c d e\n",
    "        [0, 5, 9, 9, 8],\n",
    "        [5, 0, 10, 10, 9],\n",
    "        [9, 10, 0, 8, 7],\n",
    "        [9, 10, 8, 0, 3],\n",
    "        [8, 9, 7, 3, 0],\n",
    "    ],\n",
    "    dtype=np.float32,\n",
    ")\n",
    "Z2 = anjl.canonical_nj(D2)\n",
    "Z2"
   ]
  },
  {
   "cell_type": "code",
   "execution_count": 9,
   "id": "66ccc598-3bc6-4c01-bf1b-2656b9671756",
   "metadata": {},
   "outputs": [
    {
     "data": {
      "text/plain": [
       "Node(id=8, dist=None, count=5)"
      ]
     },
     "execution_count": 9,
     "metadata": {},
     "output_type": "execute_result"
    }
   ],
   "source": [
    "root2 = anjl.to_tree(Z2)\n",
    "root2"
   ]
  },
  {
   "cell_type": "code",
   "execution_count": 10,
   "id": "0c532022-fc73-4430-b374-93b97f6d49c4",
   "metadata": {},
   "outputs": [
    {
     "data": {
      "text/plain": [
       "(Node(id=8, dist=None, count=5),\n",
       " [Node(id=0, dist=2.0, count=1),\n",
       "  Node(id=1, dist=3.0, count=1),\n",
       "  Node(id=2, dist=4.0, count=1),\n",
       "  Node(id=3, dist=2.0, count=1),\n",
       "  Node(id=4, dist=0.5, count=1),\n",
       "  Node(id=5, dist=3.0, count=2),\n",
       "  Node(id=6, dist=2.0, count=3),\n",
       "  Node(id=7, dist=0.5, count=4),\n",
       "  Node(id=8, dist=None, count=5)])"
      ]
     },
     "execution_count": 10,
     "metadata": {},
     "output_type": "execute_result"
    }
   ],
   "source": [
    "root2, nodes2 = anjl.to_tree(Z2, rd=True)\n",
    "root2, nodes2"
   ]
  },
  {
   "cell_type": "code",
   "execution_count": 11,
   "id": "67bcc474-70a3-4e0f-972a-49d82988fb5a",
   "metadata": {},
   "outputs": [
    {
     "name": "stdout",
     "output_type": "stream",
     "text": [
      "Node(id=8, dist=None, count=5)\n",
      "    Node(id=4, dist=0.5, count=1)\n",
      "    Node(id=7, dist=0.5, count=4)\n",
      "        Node(id=3, dist=2.0, count=1)\n",
      "        Node(id=6, dist=2.0, count=3)\n",
      "            Node(id=2, dist=4.0, count=1)\n",
      "            Node(id=5, dist=3.0, count=2)\n",
      "                Node(id=0, dist=2.0, count=1)\n",
      "                Node(id=1, dist=3.0, count=1)\n"
     ]
    }
   ],
   "source": [
    "print(root2)"
   ]
  },
  {
   "cell_type": "code",
   "execution_count": 12,
   "id": "1bd0221c-888d-4182-998c-facf52444667",
   "metadata": {},
   "outputs": [
    {
     "name": "stdout",
     "output_type": "stream",
     "text": [
      "Node(id=8, dist=None, count=5)\n",
      "    Node(id=4, dist=0.5, count=1)\n",
      "    Node(id=7, dist=0.5, count=4)\n",
      "        Node(id=3, dist=2.0, count=1)\n",
      "        Node(id=6, dist=2.0, count=3)\n",
      "            Node(id=2, dist=4.0, count=1)\n",
      "            Node(id=5, dist=3.0, count=2)\n",
      "                Node(id=0, dist=2.0, count=1)\n",
      "                Node(id=1, dist=3.0, count=1)\n"
     ]
    }
   ],
   "source": [
    "print(anjl.to_tree(Z2, count_sort=True))"
   ]
  },
  {
   "cell_type": "code",
   "execution_count": 13,
   "id": "95331202-99b7-4415-8353-e1e89c53f9ac",
   "metadata": {},
   "outputs": [
    {
     "name": "stdout",
     "output_type": "stream",
     "text": [
      "Node(id=8, dist=None, count=5)\n",
      "    Node(id=4, dist=0.5, count=1)\n",
      "    Node(id=7, dist=0.5, count=4)\n",
      "        Node(id=3, dist=2.0, count=1)\n",
      "        Node(id=6, dist=2.0, count=3)\n",
      "            Node(id=5, dist=3.0, count=2)\n",
      "                Node(id=0, dist=2.0, count=1)\n",
      "                Node(id=1, dist=3.0, count=1)\n",
      "            Node(id=2, dist=4.0, count=1)\n"
     ]
    }
   ],
   "source": [
    "print(anjl.to_tree(Z2, distance_sort=True))"
   ]
  },
  {
   "cell_type": "code",
   "execution_count": null,
   "id": "950d0417-cd58-4801-9d4a-59ab11061466",
   "metadata": {},
   "outputs": [],
   "source": []
  }
 ],
 "metadata": {
  "kernelspec": {
   "display_name": "Python 3 (ipykernel)",
   "language": "python",
   "name": "python3"
  },
  "language_info": {
   "codemirror_mode": {
    "name": "ipython",
    "version": 3
   },
   "file_extension": ".py",
   "mimetype": "text/x-python",
   "name": "python",
   "nbconvert_exporter": "python",
   "pygments_lexer": "ipython3",
   "version": "3.10.12"
  }
 },
 "nbformat": 4,
 "nbformat_minor": 5
}
