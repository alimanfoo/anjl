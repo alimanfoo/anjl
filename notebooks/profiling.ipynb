{
 "cells": [
  {
   "cell_type": "code",
   "execution_count": 1,
   "id": "ad274b64-9f83-496f-a201-fb45ea4a75a5",
   "metadata": {},
   "outputs": [],
   "source": [
    "import zarr\n",
    "from scipy.spatial.distance import squareform\n",
    "import anjl\n",
    "from tqdm.auto import tqdm"
   ]
  },
  {
   "cell_type": "markdown",
   "id": "2b2dde93-ab62-4b0a-81c2-385ef3ec1e39",
   "metadata": {},
   "source": [
    "## Small"
   ]
  },
  {
   "cell_type": "code",
   "execution_count": 2,
   "id": "eb436654-d847-4e79-85ad-64f83006994c",
   "metadata": {},
   "outputs": [
    {
     "data": {
      "text/plain": [
       "(586, 586)"
      ]
     },
     "execution_count": 2,
     "metadata": {},
     "output_type": "execute_result"
    }
   ],
   "source": [
    "small = zarr.open(\"data/6d6ba5a54fade30470a83838d1de6358/results.zarr.zip\")\n",
    "small_D_condensed = small[\"dist\"][:]\n",
    "small_D = squareform(small_D_condensed)\n",
    "small_D.shape"
   ]
  },
  {
   "cell_type": "code",
   "execution_count": 3,
   "id": "c1486842-02b9-46a6-b166-acd2d61ba373",
   "metadata": {},
   "outputs": [
    {
     "data": {
      "text/plain": [
       "array([[2.6000000e+02, 2.4300000e+02, 5.1270550e+01, 3.7729450e+01,\n",
       "        2.0000000e+00],\n",
       "       [5.8600000e+02, 1.8800000e+02, 7.7032590e+00, 5.3296741e+01,\n",
       "        3.0000000e+00],\n",
       "       [3.3000000e+02, 1.0600000e+02, 4.0839348e+01, 7.9160652e+01,\n",
       "        2.0000000e+00],\n",
       "       ...,\n",
       "       [1.1660000e+03, 1.1600000e+03, 1.6534364e-01, 5.1909703e-01,\n",
       "        3.5200000e+02],\n",
       "       [1.1680000e+03, 1.1630000e+03, 9.5237836e-02, 3.8077080e-01,\n",
       "        4.5500000e+02],\n",
       "       [1.1670000e+03, 1.1690000e+03, 6.6283353e-02, 6.6283353e-02,\n",
       "        5.8600000e+02]], dtype=float32)"
      ]
     },
     "execution_count": 3,
     "metadata": {},
     "output_type": "execute_result"
    }
   ],
   "source": [
    "Z1 = anjl.canonical_nj(small_D)\n",
    "Z1"
   ]
  },
  {
   "cell_type": "code",
   "execution_count": 4,
   "id": "76f10e01-4497-43d4-a47f-2a01ec5c011a",
   "metadata": {},
   "outputs": [
    {
     "name": "stdout",
     "output_type": "stream",
     "text": [
      "54.3 ms ± 3.09 ms per loop (mean ± std. dev. of 20 runs, 1 loop each)\n"
     ]
    }
   ],
   "source": [
    "%%timeit -r20 -n1\n",
    "anjl.canonical_nj(small_D)"
   ]
  },
  {
   "cell_type": "markdown",
   "id": "ee57e2bc-9773-4ea1-93c9-b0bfc13c9e63",
   "metadata": {},
   "source": [
    "## Medium"
   ]
  },
  {
   "cell_type": "code",
   "execution_count": 5,
   "id": "befccb6f-dffa-49b7-97eb-1d5437568001",
   "metadata": {},
   "outputs": [
    {
     "data": {
      "text/plain": [
       "(3081, 3081)"
      ]
     },
     "execution_count": 5,
     "metadata": {},
     "output_type": "execute_result"
    }
   ],
   "source": [
    "medium = zarr.open(\"data/0b5748b994e124cca2bdb7bc34682af0/results.zarr.zip\")\n",
    "medium_D_condensed = medium[\"dist\"][:]\n",
    "medium_D = squareform(medium_D_condensed)\n",
    "medium_D.shape"
   ]
  },
  {
   "cell_type": "code",
   "execution_count": 6,
   "id": "3ff47662-e8e6-41a3-afe8-ff2a080455a5",
   "metadata": {},
   "outputs": [
    {
     "data": {
      "application/vnd.jupyter.widget-view+json": {
       "model_id": "c3e96251a5fb493a91027d4706b590ff",
       "version_major": 2,
       "version_minor": 0
      },
      "text/plain": [
       "Compute neighbour-joining tree:   0%|          | 0/3080 [00:00<?, ?it/s]"
      ]
     },
     "metadata": {},
     "output_type": "display_data"
    },
    {
     "data": {
      "text/plain": [
       "array([[1.8810000e+03, 1.8700000e+03, 0.0000000e+00, 0.0000000e+00,\n",
       "        2.0000000e+00],\n",
       "       [1.8830000e+03, 3.0810000e+03, 0.0000000e+00, 0.0000000e+00,\n",
       "        3.0000000e+00],\n",
       "       [1.9040000e+03, 3.0820000e+03, 0.0000000e+00, 0.0000000e+00,\n",
       "        4.0000000e+00],\n",
       "       ...,\n",
       "       [6.1570000e+03, 6.1540000e+03, 7.0959538e-02, 2.9235205e-01,\n",
       "        2.0170000e+03],\n",
       "       [6.1580000e+03, 6.1560000e+03, 5.2833185e-02, 7.6772496e-02,\n",
       "        2.5630000e+03],\n",
       "       [6.1490000e+03, 6.1590000e+03, 1.6368026e-01, 1.6368026e-01,\n",
       "        3.0810000e+03]], dtype=float32)"
      ]
     },
     "execution_count": 6,
     "metadata": {},
     "output_type": "execute_result"
    }
   ],
   "source": [
    "Z2 = anjl.canonical_nj(\n",
    "    medium_D,\n",
    "    progress=tqdm,\n",
    "    progress_options=dict(desc=\"Compute neighbour-joining tree\"),\n",
    ")\n",
    "Z2"
   ]
  },
  {
   "cell_type": "code",
   "execution_count": 8,
   "id": "316ec457-3799-4843-80df-491956229101",
   "metadata": {},
   "outputs": [
    {
     "name": "stdout",
     "output_type": "stream",
     "text": [
      "8.01 s ± 80.9 ms per loop (mean ± std. dev. of 3 runs, 1 loop each)\n"
     ]
    }
   ],
   "source": [
    "%%timeit -r3 -n1\n",
    "anjl.canonical_nj(medium_D)"
   ]
  },
  {
   "cell_type": "code",
   "execution_count": null,
   "id": "1fd81211-0772-4b79-904f-2b42b71184e4",
   "metadata": {},
   "outputs": [],
   "source": []
  }
 ],
 "metadata": {
  "kernelspec": {
   "display_name": "Python 3 (ipykernel)",
   "language": "python",
   "name": "python3"
  },
  "language_info": {
   "codemirror_mode": {
    "name": "ipython",
    "version": 3
   },
   "file_extension": ".py",
   "mimetype": "text/x-python",
   "name": "python",
   "nbconvert_exporter": "python",
   "pygments_lexer": "ipython3",
   "version": "3.10.12"
  }
 },
 "nbformat": 4,
 "nbformat_minor": 5
}
