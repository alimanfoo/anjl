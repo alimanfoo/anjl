{
 "cells": [
  {
   "cell_type": "code",
   "execution_count": null,
   "id": "2f560f77-1fee-434a-8062-590673250473",
   "metadata": {},
   "outputs": [],
   "source": [
    "import zarr\n",
    "from scipy.spatial.distance import squareform\n",
    "import numpy as np\n",
    "import anjl\n",
    "import pandas as pd\n",
    "import plotly.express as px\n",
    "import sys\n",
    "import time\n",
    "from contextlib import contextmanager\n",
    "from tqdm.auto import tqdm\n",
    "\n",
    "\n",
    "@contextmanager\n",
    "def section(*msg):\n",
    "    print(*msg, file=sys.stdout, end=\"... \")\n",
    "    sys.stdout.flush()\n",
    "    before = time.time()\n",
    "    try:\n",
    "        yield\n",
    "    finally:\n",
    "        after = time.time()\n",
    "        duration = after - before\n",
    "        print(f\"{duration:.4f}s\", file=sys.stdout)\n",
    "        sys.stdout.flush()\n",
    "\n",
    "\n",
    "def run_diagnostics(D, template=\"plotly\"):\n",
    "    with section(\"canonical\"):\n",
    "        _, timings_canonical, searched_canonical, visited_canonical = anjl.canonical_nj(\n",
    "            D,\n",
    "            diagnostics=True,\n",
    "        )\n",
    "\n",
    "    with section(\"rapid_gc100\"):\n",
    "        _, timings_rapid_gc100, searched_rapid_gc100, visited_rapid_gc100 = (\n",
    "            anjl.rapid_nj(\n",
    "                D,\n",
    "                diagnostics=True,\n",
    "                gc=100,\n",
    "            )\n",
    "        )\n",
    "\n",
    "    with section(\"rapid_gc10\"):\n",
    "        _, timings_rapid_gc10, searched_rapid_gc10, visited_rapid_gc10 = anjl.rapid_nj(\n",
    "            D,\n",
    "            diagnostics=True,\n",
    "            gc=10,\n",
    "        )\n",
    "\n",
    "    with section(\"rapid_nogc\"):\n",
    "        _, timings_rapid_nogc, searched_rapid_nogc, visited_rapid_nogc = anjl.rapid_nj(\n",
    "            D,\n",
    "            diagnostics=True,\n",
    "            gc=None,\n",
    "        )\n",
    "\n",
    "    df_canonical = pd.DataFrame(\n",
    "        {\n",
    "            \"time\": timings_canonical,\n",
    "            \"searched\": searched_canonical,\n",
    "            \"visited\": visited_canonical,\n",
    "            \"iteration\": np.arange(len(timings_canonical)),\n",
    "            \"algorithm\": \"canonical\",\n",
    "        }\n",
    "    )\n",
    "    df_rapid_gc100 = pd.DataFrame(\n",
    "        {\n",
    "            \"time\": timings_rapid_gc100,\n",
    "            \"searched\": searched_rapid_gc100,\n",
    "            \"visited\": visited_rapid_gc100,\n",
    "            \"iteration\": np.arange(len(timings_rapid_gc100)),\n",
    "            \"algorithm\": \"rapid_gc100\",\n",
    "        }\n",
    "    )\n",
    "    df_rapid_gc10 = pd.DataFrame(\n",
    "        {\n",
    "            \"time\": timings_rapid_gc10,\n",
    "            \"searched\": searched_rapid_gc10,\n",
    "            \"visited\": visited_rapid_gc10,\n",
    "            \"iteration\": np.arange(len(timings_rapid_gc10)),\n",
    "            \"algorithm\": \"rapid_gc10\",\n",
    "        }\n",
    "    )\n",
    "    df_rapid_nogc = pd.DataFrame(\n",
    "        {\n",
    "            \"time\": timings_rapid_nogc,\n",
    "            \"searched\": searched_rapid_nogc,\n",
    "            \"visited\": visited_rapid_nogc,\n",
    "            \"iteration\": np.arange(len(timings_rapid_nogc)),\n",
    "            \"algorithm\": \"rapid_nogc\",\n",
    "        }\n",
    "    )\n",
    "\n",
    "    df_diagnostics = pd.concat(\n",
    "        [\n",
    "            df_rapid_gc100,\n",
    "            df_rapid_gc10,\n",
    "            df_rapid_nogc,\n",
    "            df_canonical,\n",
    "        ],\n",
    "        axis=0,\n",
    "    )\n",
    "    df_diagnostics[\"time_per_search\"] = df_diagnostics.eval(\"time / searched\")\n",
    "    df_diagnostics[\"time_per_visit\"] = df_diagnostics.eval(\"time / visited\")\n",
    "    display(\n",
    "        df_diagnostics.groupby(\"algorithm\").agg(\n",
    "            {\n",
    "                \"time\": \"sum\",\n",
    "                \"visited\": \"sum\",\n",
    "                \"searched\": \"sum\",\n",
    "                \"time_per_visit\": \"median\",\n",
    "                \"time_per_search\": \"median\",\n",
    "            }\n",
    "        )\n",
    "    )\n",
    "\n",
    "    fig = px.line(\n",
    "        df_diagnostics,\n",
    "        x=\"iteration\",\n",
    "        y=\"time\",\n",
    "        color=\"algorithm\",\n",
    "        template=template,\n",
    "        render_mode=\"svg\",\n",
    "    )\n",
    "    fig.update_yaxes(range=[0, None])\n",
    "    fig.show()\n",
    "\n",
    "    fig = px.line(\n",
    "        df_diagnostics,\n",
    "        x=\"iteration\",\n",
    "        y=\"searched\",\n",
    "        color=\"algorithm\",\n",
    "        template=template,\n",
    "        render_mode=\"svg\",\n",
    "    )\n",
    "    fig.update_yaxes(range=[0, None])\n",
    "    fig.show()\n",
    "\n",
    "    fig = px.line(\n",
    "        df_diagnostics,\n",
    "        x=\"iteration\",\n",
    "        y=\"visited\",\n",
    "        color=\"algorithm\",\n",
    "        template=template,\n",
    "        render_mode=\"svg\",\n",
    "    )\n",
    "    fig.update_yaxes(range=[0, None])\n",
    "    fig.show()\n",
    "\n",
    "    fig = px.line(\n",
    "        df_diagnostics,\n",
    "        x=\"iteration\",\n",
    "        y=\"time_per_search\",\n",
    "        color=\"algorithm\",\n",
    "        template=template,\n",
    "        render_mode=\"svg\",\n",
    "    )\n",
    "    fig.update_yaxes(range=[0, 30e-9])\n",
    "    fig.show()\n",
    "\n",
    "    fig = px.line(\n",
    "        df_diagnostics,\n",
    "        x=\"iteration\",\n",
    "        y=\"time_per_visit\",\n",
    "        color=\"algorithm\",\n",
    "        template=template,\n",
    "        render_mode=\"svg\",\n",
    "    )\n",
    "    fig.update_yaxes(range=[0, 30e-9])\n",
    "    fig.show()"
   ]
  },
  {
   "cell_type": "markdown",
   "id": "2b2dde93-ab62-4b0a-81c2-385ef3ec1e39",
   "metadata": {},
   "source": [
    "## Small"
   ]
  },
  {
   "cell_type": "code",
   "execution_count": null,
   "id": "eb436654-d847-4e79-85ad-64f83006994c",
   "metadata": {},
   "outputs": [],
   "source": [
    "small = zarr.load(\"../data/small/dist.zarr.zip\")\n",
    "small_D = squareform(small)\n",
    "small_D.shape"
   ]
  },
  {
   "cell_type": "code",
   "execution_count": null,
   "id": "c1486842-02b9-46a6-b166-acd2d61ba373",
   "metadata": {},
   "outputs": [],
   "source": [
    "small_Z = anjl.canonical_nj(small_D)"
   ]
  },
  {
   "cell_type": "code",
   "execution_count": null,
   "id": "93591185-ce1f-4989-9d7a-ba1bb74ea03d",
   "metadata": {},
   "outputs": [],
   "source": [
    "small_Z_r = anjl.rapid_nj(small_D, gc=None)"
   ]
  },
  {
   "cell_type": "code",
   "execution_count": null,
   "id": "9070c6a2-f890-4352-8ae0-2faa97f100f0",
   "metadata": {},
   "outputs": [],
   "source": [
    "small_Z_r = anjl.rapid_nj(small_D, gc=1)"
   ]
  },
  {
   "cell_type": "code",
   "execution_count": null,
   "id": "76f10e01-4497-43d4-a47f-2a01ec5c011a",
   "metadata": {},
   "outputs": [],
   "source": [
    "%%timeit -r500 -n1\n",
    "anjl.canonical_nj(small_D)"
   ]
  },
  {
   "cell_type": "code",
   "execution_count": null,
   "id": "ee0a0c08-c69a-43be-81c8-3cb5cede3a93",
   "metadata": {},
   "outputs": [],
   "source": [
    "%%timeit -r500 -n1\n",
    "anjl.rapid_nj(small_D, gc=None)"
   ]
  },
  {
   "cell_type": "code",
   "execution_count": null,
   "id": "a58be702-caa5-4063-846d-96ed632d9745",
   "metadata": {},
   "outputs": [],
   "source": [
    "%%timeit -r500 -n1\n",
    "anjl.rapid_nj(small_D, gc=100)"
   ]
  },
  {
   "cell_type": "code",
   "execution_count": null,
   "id": "bf44d0b6-cdee-4e7c-ad77-13855a605b1f",
   "metadata": {},
   "outputs": [],
   "source": [
    "run_diagnostics(small_D)"
   ]
  },
  {
   "cell_type": "markdown",
   "id": "ee57e2bc-9773-4ea1-93c9-b0bfc13c9e63",
   "metadata": {},
   "source": [
    "## Medium"
   ]
  },
  {
   "cell_type": "code",
   "execution_count": null,
   "id": "befccb6f-dffa-49b7-97eb-1d5437568001",
   "metadata": {},
   "outputs": [],
   "source": [
    "medium = zarr.load(\"../data/medium/dist.zarr.zip\")\n",
    "medium_D = squareform(medium)\n",
    "medium_D.shape"
   ]
  },
  {
   "cell_type": "code",
   "execution_count": null,
   "id": "3ff47662-e8e6-41a3-afe8-ff2a080455a5",
   "metadata": {},
   "outputs": [],
   "source": [
    "%%time\n",
    "medium_Z = anjl.canonical_nj(medium_D)"
   ]
  },
  {
   "cell_type": "code",
   "execution_count": null,
   "id": "d6cffbca-f3c3-41f5-8786-b56c0857934d",
   "metadata": {},
   "outputs": [],
   "source": [
    "%%time\n",
    "medium_Z_r = anjl.rapid_nj(medium_D)"
   ]
  },
  {
   "cell_type": "code",
   "execution_count": null,
   "id": "316ec457-3799-4843-80df-491956229101",
   "metadata": {},
   "outputs": [],
   "source": [
    "%%timeit -r200 -n1\n",
    "anjl.canonical_nj(medium_D)"
   ]
  },
  {
   "cell_type": "code",
   "execution_count": null,
   "id": "f7707bf3-a669-4da8-b608-23d0f4279d3c",
   "metadata": {},
   "outputs": [],
   "source": [
    "%%timeit -r100 -n1\n",
    "anjl.rapid_nj(medium_D, gc=None)"
   ]
  },
  {
   "cell_type": "code",
   "execution_count": null,
   "id": "506482bb-0cd2-47cc-8d17-3d93eb3bd91b",
   "metadata": {},
   "outputs": [],
   "source": [
    "%%timeit -r100 -n1\n",
    "anjl.rapid_nj(medium_D, gc=10)"
   ]
  },
  {
   "cell_type": "code",
   "execution_count": null,
   "id": "04e35aa1-7f1b-4961-a142-c4b1d26f1ae6",
   "metadata": {},
   "outputs": [],
   "source": [
    "%%timeit -r100 -n1\n",
    "anjl.rapid_nj(medium_D, gc=100)"
   ]
  },
  {
   "cell_type": "code",
   "execution_count": null,
   "id": "50ed1f59-23eb-4aa3-9659-66bcaa9a929d",
   "metadata": {},
   "outputs": [],
   "source": [
    "%%timeit -r100 -n1\n",
    "anjl.rapid_nj(medium_D, gc=1)"
   ]
  },
  {
   "cell_type": "code",
   "execution_count": null,
   "id": "193e3673-cfef-4f13-a850-8c5fd02587e8",
   "metadata": {},
   "outputs": [],
   "source": [
    "run_diagnostics(medium_D)"
   ]
  },
  {
   "cell_type": "code",
   "execution_count": null,
   "id": "610be4c5-ba74-4244-b7b1-58792e693188",
   "metadata": {},
   "outputs": [],
   "source": [
    "run_diagnostics(medium_D)"
   ]
  },
  {
   "cell_type": "markdown",
   "id": "e5245947-65cd-4817-b606-d36f6f21279e",
   "metadata": {},
   "source": [
    "## Large"
   ]
  },
  {
   "cell_type": "code",
   "execution_count": null,
   "id": "31ba8838-150b-42ee-84fd-7da492b8c36c",
   "metadata": {},
   "outputs": [],
   "source": [
    "large = zarr.load(\"../data/large/dist.zarr.zip\")\n",
    "large_D = squareform(large)\n",
    "shuffle = np.random.choice(large_D.shape[0], size=2000, replace=False)\n",
    "large_D_shuffled = large_D.take(shuffle, axis=0).take(shuffle, axis=1)\n",
    "run_diagnostics(large_D_shuffled)"
   ]
  },
  {
   "cell_type": "code",
   "execution_count": null,
   "id": "0bc124d6-dfcb-4513-ae57-471c2a063d62",
   "metadata": {},
   "outputs": [],
   "source": [
    "%%timeit -r5 -n1\n",
    "anjl.canonical_nj(large_D_shuffled)"
   ]
  },
  {
   "cell_type": "code",
   "execution_count": null,
   "id": "2d4f9335-688f-43f2-b941-5ad27232eb66",
   "metadata": {},
   "outputs": [],
   "source": [
    "%%timeit -r5 -n1\n",
    "anjl.rapid_nj(large_D_shuffled, gc=10)"
   ]
  },
  {
   "cell_type": "code",
   "execution_count": null,
   "id": "63aeb046-6e73-43c1-8a1d-9ca27e133aa3",
   "metadata": {},
   "outputs": [],
   "source": [
    "%%timeit -r5 -n1\n",
    "anjl.rapid_nj(large_D_shuffled, gc=100)"
   ]
  },
  {
   "cell_type": "code",
   "execution_count": null,
   "id": "4e4d1c01-f989-47db-94f9-e456dc09ab57",
   "metadata": {},
   "outputs": [],
   "source": [
    "%%timeit -r5 -n1\n",
    "anjl.rapid_nj(large_D_shuffled, gc=200)"
   ]
  },
  {
   "cell_type": "code",
   "execution_count": null,
   "id": "717f9f06-27fc-4ef6-a545-f195035e69e5",
   "metadata": {},
   "outputs": [],
   "source": [
    "%%timeit -r5 -n1\n",
    "anjl.rapid_nj(large_D_shuffled, gc=None)"
   ]
  },
  {
   "cell_type": "code",
   "execution_count": null,
   "id": "aee68004-5771-49b7-b3bd-3f00e34c6c85",
   "metadata": {},
   "outputs": [],
   "source": [
    "%%timeit -r3 -n1\n",
    "np.argsort(large_D_shuffled, axis=1)"
   ]
  },
  {
   "cell_type": "markdown",
   "id": "8b5aca9a-4949-4dc1-a35c-171ee5b283de",
   "metadata": {},
   "source": [
    "## XXL"
   ]
  },
  {
   "cell_type": "code",
   "execution_count": null,
   "id": "c219009d-5813-4f98-ad24-ed9b341c438d",
   "metadata": {},
   "outputs": [],
   "source": [
    "xxl = zarr.load(\"../data/xxl/dist.zarr.zip\")\n",
    "xxl_D = squareform(xxl)\n",
    "# xxl_shuffle = np.random.choice(xxl_D.shape[0], size=7000, replace=False)\n",
    "# xxl_D_shuffled = xxl_D.take(xxl_shuffle, axis=0).take(xxl_shuffle, axis=1)\n",
    "# run_diagnostics(xxl_D_shuffled)"
   ]
  },
  {
   "cell_type": "code",
   "execution_count": null,
   "id": "d6bb80f7-ee56-466a-88b4-f781dcc48657",
   "metadata": {},
   "outputs": [],
   "source": [
    "%%time\n",
    "anjl.rapid_nj(xxl_D, gc=100, progress=tqdm)"
   ]
  },
  {
   "cell_type": "code",
   "execution_count": null,
   "id": "49b6da7b-1ee3-49e1-98ca-2706a5195b01",
   "metadata": {},
   "outputs": [],
   "source": [
    "%%time\n",
    "anjl.canonical_nj(xxl_D, progress=tqdm)"
   ]
  },
  {
   "cell_type": "code",
   "execution_count": null,
   "id": "893916ff-f91f-4d33-9a13-e7de8846a7c7",
   "metadata": {},
   "outputs": [],
   "source": []
  }
 ],
 "metadata": {
  "kernelspec": {
   "display_name": "Python 3 (ipykernel)",
   "language": "python",
   "name": "python3"
  },
  "language_info": {
   "codemirror_mode": {
    "name": "ipython",
    "version": 3
   },
   "file_extension": ".py",
   "mimetype": "text/x-python",
   "name": "python",
   "nbconvert_exporter": "python",
   "pygments_lexer": "ipython3",
   "version": "3.10.12"
  },
  "widgets": {
   "application/vnd.jupyter.widget-state+json": {
    "state": {},
    "version_major": 2,
    "version_minor": 0
   }
  }
 },
 "nbformat": 4,
 "nbformat_minor": 5
}
