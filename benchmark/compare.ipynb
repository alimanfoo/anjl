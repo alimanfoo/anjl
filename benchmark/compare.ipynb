{
 "cells": [
  {
   "cell_type": "code",
   "execution_count": 1,
   "id": "dcd051d8-ff89-4bef-8f2e-d5714f993a57",
   "metadata": {},
   "outputs": [
    {
     "data": {
      "text/plain": [
       "'1.84'"
      ]
     },
     "execution_count": 1,
     "metadata": {},
     "output_type": "execute_result"
    }
   ],
   "source": [
    "import Bio\n",
    "\n",
    "Bio.__version__"
   ]
  },
  {
   "cell_type": "code",
   "execution_count": 2,
   "id": "83c99002-10ad-458d-bdca-da248049d5c0",
   "metadata": {},
   "outputs": [
    {
     "data": {
      "text/plain": [
       "'0.6.2'"
      ]
     },
     "execution_count": 2,
     "metadata": {},
     "output_type": "execute_result"
    }
   ],
   "source": [
    "import skbio\n",
    "\n",
    "skbio.__version__"
   ]
  },
  {
   "cell_type": "code",
   "execution_count": 3,
   "id": "bcce6720-c4dc-40e2-b2d9-cffe8ee5f74f",
   "metadata": {},
   "outputs": [
    {
     "data": {
      "text/plain": [
       "'1.0.1'"
      ]
     },
     "execution_count": 3,
     "metadata": {},
     "output_type": "execute_result"
    }
   ],
   "source": [
    "import biotite\n",
    "\n",
    "biotite.__version__"
   ]
  },
  {
   "cell_type": "code",
   "execution_count": 4,
   "id": "40190ef0-c53a-42f1-a95e-f1955a87ff18",
   "metadata": {},
   "outputs": [
    {
     "data": {
      "text/plain": [
       "'1.0.0'"
      ]
     },
     "execution_count": 4,
     "metadata": {},
     "output_type": "execute_result"
    }
   ],
   "source": [
    "import anjl\n",
    "\n",
    "anjl.__version__"
   ]
  },
  {
   "cell_type": "code",
   "execution_count": 5,
   "id": "da83181c-d34e-4f6f-8093-eaa02da95b06",
   "metadata": {},
   "outputs": [
    {
     "data": {
      "text/plain": [
       "'2.0.2'"
      ]
     },
     "execution_count": 5,
     "metadata": {},
     "output_type": "execute_result"
    }
   ],
   "source": [
    "import numpy as np\n",
    "\n",
    "np.__version__"
   ]
  },
  {
   "cell_type": "code",
   "execution_count": 6,
   "id": "222f138c-97d5-44b4-bc64-46a4ed2cbd8a",
   "metadata": {},
   "outputs": [
    {
     "data": {
      "text/plain": [
       "'0.60.0'"
      ]
     },
     "execution_count": 6,
     "metadata": {},
     "output_type": "execute_result"
    }
   ],
   "source": [
    "import numba\n",
    "\n",
    "numba.__version__"
   ]
  },
  {
   "cell_type": "code",
   "execution_count": 7,
   "id": "82f02d5c-5ba7-4fea-910b-1a2e3899e3cc",
   "metadata": {},
   "outputs": [],
   "source": [
    "import zarr\n",
    "from scipy.spatial.distance import squareform\n",
    "import time\n",
    "import pandas as pd\n",
    "import functools"
   ]
  },
  {
   "cell_type": "code",
   "execution_count": 8,
   "id": "2495cc74-7c63-4377-b578-92bb7b1f0fab",
   "metadata": {},
   "outputs": [
    {
     "data": {
      "text/plain": [
       "(8825, 8825)"
      ]
     },
     "execution_count": 8,
     "metadata": {},
     "output_type": "execute_result"
    }
   ],
   "source": [
    "xxl = zarr.load(\"xxl/dist.zarr.zip\")\n",
    "xxl_D = squareform(xxl)\n",
    "xxl_D.shape"
   ]
  },
  {
   "cell_type": "code",
   "execution_count": 9,
   "id": "5b5337be-c018-4d03-9e89-c351ae1505ba",
   "metadata": {},
   "outputs": [],
   "source": [
    "def sample_data(D, size, seed):\n",
    "    np.random.seed(seed)\n",
    "    indices = np.random.choice(D.shape[0], size=size, replace=False)\n",
    "    return D.take(indices, axis=0).take(indices, axis=1)"
   ]
  },
  {
   "cell_type": "code",
   "execution_count": 25,
   "id": "6ef3492e-f579-49bf-a718-7f05cfb673a2",
   "metadata": {},
   "outputs": [],
   "source": [
    "@functools.cache\n",
    "def bench_anjl_rapid(size, seed):\n",
    "    print(size, seed)\n",
    "    D = sample_data(xxl_D, size=size, seed=seed)\n",
    "    before = time.time()\n",
    "    anjl.rapid_nj(D)\n",
    "    after = time.time()\n",
    "    duration = after - before\n",
    "    return duration"
   ]
  },
  {
   "cell_type": "code",
   "execution_count": 27,
   "id": "baa44b4a-8e02-448f-bd71-0d7e65f68408",
   "metadata": {},
   "outputs": [
    {
     "data": {
      "text/plain": [
       "0.007709503173828125"
      ]
     },
     "execution_count": 27,
     "metadata": {},
     "output_type": "execute_result"
    }
   ],
   "source": [
    "bench_anjl_rapid(200, seed=1)"
   ]
  },
  {
   "cell_type": "code",
   "execution_count": 28,
   "id": "186fb3eb-8008-4b8c-b378-f97c8f462762",
   "metadata": {},
   "outputs": [],
   "source": [
    "@functools.cache\n",
    "def bench_anjl_canonical(size, seed):\n",
    "    print(size, seed)\n",
    "    D = sample_data(xxl_D, size=size, seed=seed)\n",
    "    before = time.time()\n",
    "    anjl.canonical_nj(D)\n",
    "    after = time.time()\n",
    "    duration = after - before\n",
    "    return duration"
   ]
  },
  {
   "cell_type": "code",
   "execution_count": 30,
   "id": "9272cee7-171f-4b6b-8a4d-fa1cc7ffce01",
   "metadata": {},
   "outputs": [
    {
     "data": {
      "text/plain": [
       "0.004141330718994141"
      ]
     },
     "execution_count": 30,
     "metadata": {},
     "output_type": "execute_result"
    }
   ],
   "source": [
    "bench_anjl_canonical(200, seed=1)"
   ]
  },
  {
   "cell_type": "code",
   "execution_count": 31,
   "id": "d2e4f92c-60de-4c18-9131-5fef3b08b318",
   "metadata": {},
   "outputs": [],
   "source": [
    "from biotite.sequence.phylo import neighbor_joining as biotite_nj\n",
    "\n",
    "\n",
    "@functools.cache\n",
    "def bench_biotite(size, seed):\n",
    "    print(size, seed)\n",
    "    D = sample_data(xxl_D, size=size, seed=seed)\n",
    "    before = time.time()\n",
    "    biotite_nj(D)\n",
    "    after = time.time()\n",
    "    duration = after - before\n",
    "    return duration"
   ]
  },
  {
   "cell_type": "code",
   "execution_count": 32,
   "id": "51277e59-7080-44e5-9198-73f972d33b18",
   "metadata": {},
   "outputs": [
    {
     "name": "stdout",
     "output_type": "stream",
     "text": [
      "200 1\n"
     ]
    },
    {
     "data": {
      "text/plain": [
       "0.012845516204833984"
      ]
     },
     "execution_count": 32,
     "metadata": {},
     "output_type": "execute_result"
    }
   ],
   "source": [
    "bench_biotite(200, seed=1)"
   ]
  },
  {
   "cell_type": "code",
   "execution_count": 33,
   "id": "cde9f9d3-6d4a-45dc-86b4-a10ffc4d87c8",
   "metadata": {},
   "outputs": [],
   "source": [
    "@functools.cache\n",
    "def bench_skbio(size, seed):\n",
    "    print(size, seed)\n",
    "    D = sample_data(xxl_D, size=size, seed=seed)\n",
    "    dm = skbio.DistanceMatrix(D)\n",
    "    before = time.time()\n",
    "    skbio.tree.nj(dm)\n",
    "    after = time.time()\n",
    "    duration = after - before\n",
    "    return duration"
   ]
  },
  {
   "cell_type": "code",
   "execution_count": 34,
   "id": "4cdc2893-76ac-4a58-8b27-a63730c6e909",
   "metadata": {},
   "outputs": [
    {
     "name": "stdout",
     "output_type": "stream",
     "text": [
      "200 1\n"
     ]
    },
    {
     "data": {
      "text/plain": [
       "0.1536557674407959"
      ]
     },
     "execution_count": 34,
     "metadata": {},
     "output_type": "execute_result"
    }
   ],
   "source": [
    "bench_skbio(200, seed=1)"
   ]
  },
  {
   "cell_type": "code",
   "execution_count": 35,
   "id": "825777db-bd0c-4a38-9a2f-3220b34f37bb",
   "metadata": {},
   "outputs": [],
   "source": [
    "from Bio.Phylo.TreeConstruction import DistanceTreeConstructor, DistanceMatrix\n",
    "\n",
    "\n",
    "@functools.cache\n",
    "def bench_biopython(size, seed):\n",
    "    print(size, seed)\n",
    "    D = sample_data(xxl_D, size=size, seed=seed)\n",
    "    dl = [[float(D[i, j]) for j in range(i + 1)] for i in range(D.shape[0])]\n",
    "    dm = DistanceMatrix(names=[str(i) for i in range(D.shape[0])], matrix=dl)\n",
    "    constructor = DistanceTreeConstructor()\n",
    "    before = time.time()\n",
    "    constructor.nj(dm)\n",
    "    after = time.time()\n",
    "    duration = after - before\n",
    "    return duration"
   ]
  },
  {
   "cell_type": "code",
   "execution_count": 36,
   "id": "cbc49e82-a6f8-491c-b27b-3421cf79f613",
   "metadata": {},
   "outputs": [
    {
     "name": "stdout",
     "output_type": "stream",
     "text": [
      "200 1\n"
     ]
    },
    {
     "data": {
      "text/plain": [
       "3.256747245788574"
      ]
     },
     "execution_count": 36,
     "metadata": {},
     "output_type": "execute_result"
    }
   ],
   "source": [
    "bench_biopython(200, seed=1)"
   ]
  },
  {
   "cell_type": "code",
   "execution_count": 159,
   "id": "7071602b-f3d8-487f-bb8b-ac209e8b3c2d",
   "metadata": {},
   "outputs": [],
   "source": [
    "def run_benchmark(name, f, sizes, reps, cutoff=30):\n",
    "    results = []\n",
    "    abort = False\n",
    "    for size in sizes:\n",
    "        if abort:\n",
    "            break\n",
    "        for rep in range(reps):\n",
    "            if abort:\n",
    "                break\n",
    "            duration = f(size=size, seed=rep)\n",
    "            if duration > cutoff:\n",
    "                abort = True\n",
    "            results.append([name, size, rep, duration])\n",
    "    df = pd.DataFrame.from_records(\n",
    "        results, columns=[\"implementation\", \"size\", \"rep\", \"time\"]\n",
    "    )\n",
    "    return df"
   ]
  },
  {
   "cell_type": "code",
   "execution_count": 160,
   "id": "372a31bb-4ceb-440e-8ff8-09d3d93578af",
   "metadata": {},
   "outputs": [
    {
     "data": {
      "text/html": [
       "<div>\n",
       "<style scoped>\n",
       "    .dataframe tbody tr th:only-of-type {\n",
       "        vertical-align: middle;\n",
       "    }\n",
       "\n",
       "    .dataframe tbody tr th {\n",
       "        vertical-align: top;\n",
       "    }\n",
       "\n",
       "    .dataframe thead th {\n",
       "        text-align: right;\n",
       "    }\n",
       "</style>\n",
       "<table border=\"1\" class=\"dataframe\">\n",
       "  <thead>\n",
       "    <tr style=\"text-align: right;\">\n",
       "      <th></th>\n",
       "      <th>implementation</th>\n",
       "      <th>size</th>\n",
       "      <th>rep</th>\n",
       "      <th>time</th>\n",
       "    </tr>\n",
       "  </thead>\n",
       "  <tbody>\n",
       "    <tr>\n",
       "      <th>0</th>\n",
       "      <td>BioPython</td>\n",
       "      <td>50</td>\n",
       "      <td>0</td>\n",
       "      <td>0.083560</td>\n",
       "    </tr>\n",
       "    <tr>\n",
       "      <th>1</th>\n",
       "      <td>BioPython</td>\n",
       "      <td>50</td>\n",
       "      <td>1</td>\n",
       "      <td>0.060253</td>\n",
       "    </tr>\n",
       "    <tr>\n",
       "      <th>2</th>\n",
       "      <td>BioPython</td>\n",
       "      <td>50</td>\n",
       "      <td>2</td>\n",
       "      <td>0.060644</td>\n",
       "    </tr>\n",
       "    <tr>\n",
       "      <th>3</th>\n",
       "      <td>BioPython</td>\n",
       "      <td>100</td>\n",
       "      <td>0</td>\n",
       "      <td>0.443854</td>\n",
       "    </tr>\n",
       "    <tr>\n",
       "      <th>4</th>\n",
       "      <td>BioPython</td>\n",
       "      <td>100</td>\n",
       "      <td>1</td>\n",
       "      <td>0.415457</td>\n",
       "    </tr>\n",
       "    <tr>\n",
       "      <th>5</th>\n",
       "      <td>BioPython</td>\n",
       "      <td>100</td>\n",
       "      <td>2</td>\n",
       "      <td>0.411590</td>\n",
       "    </tr>\n",
       "    <tr>\n",
       "      <th>6</th>\n",
       "      <td>BioPython</td>\n",
       "      <td>150</td>\n",
       "      <td>0</td>\n",
       "      <td>1.380568</td>\n",
       "    </tr>\n",
       "    <tr>\n",
       "      <th>7</th>\n",
       "      <td>BioPython</td>\n",
       "      <td>150</td>\n",
       "      <td>1</td>\n",
       "      <td>1.359871</td>\n",
       "    </tr>\n",
       "    <tr>\n",
       "      <th>8</th>\n",
       "      <td>BioPython</td>\n",
       "      <td>150</td>\n",
       "      <td>2</td>\n",
       "      <td>1.353179</td>\n",
       "    </tr>\n",
       "    <tr>\n",
       "      <th>9</th>\n",
       "      <td>BioPython</td>\n",
       "      <td>200</td>\n",
       "      <td>0</td>\n",
       "      <td>3.322348</td>\n",
       "    </tr>\n",
       "    <tr>\n",
       "      <th>10</th>\n",
       "      <td>BioPython</td>\n",
       "      <td>200</td>\n",
       "      <td>1</td>\n",
       "      <td>3.285418</td>\n",
       "    </tr>\n",
       "    <tr>\n",
       "      <th>11</th>\n",
       "      <td>BioPython</td>\n",
       "      <td>200</td>\n",
       "      <td>2</td>\n",
       "      <td>3.321384</td>\n",
       "    </tr>\n",
       "    <tr>\n",
       "      <th>12</th>\n",
       "      <td>BioPython</td>\n",
       "      <td>300</td>\n",
       "      <td>0</td>\n",
       "      <td>11.966073</td>\n",
       "    </tr>\n",
       "    <tr>\n",
       "      <th>13</th>\n",
       "      <td>BioPython</td>\n",
       "      <td>300</td>\n",
       "      <td>1</td>\n",
       "      <td>11.065567</td>\n",
       "    </tr>\n",
       "    <tr>\n",
       "      <th>14</th>\n",
       "      <td>BioPython</td>\n",
       "      <td>300</td>\n",
       "      <td>2</td>\n",
       "      <td>10.967366</td>\n",
       "    </tr>\n",
       "    <tr>\n",
       "      <th>15</th>\n",
       "      <td>BioPython</td>\n",
       "      <td>400</td>\n",
       "      <td>0</td>\n",
       "      <td>26.710108</td>\n",
       "    </tr>\n",
       "    <tr>\n",
       "      <th>16</th>\n",
       "      <td>BioPython</td>\n",
       "      <td>400</td>\n",
       "      <td>1</td>\n",
       "      <td>30.669732</td>\n",
       "    </tr>\n",
       "    <tr>\n",
       "      <th>17</th>\n",
       "      <td>BioPython</td>\n",
       "      <td>400</td>\n",
       "      <td>2</td>\n",
       "      <td>28.236873</td>\n",
       "    </tr>\n",
       "    <tr>\n",
       "      <th>18</th>\n",
       "      <td>BioPython</td>\n",
       "      <td>500</td>\n",
       "      <td>0</td>\n",
       "      <td>53.690913</td>\n",
       "    </tr>\n",
       "    <tr>\n",
       "      <th>19</th>\n",
       "      <td>BioPython</td>\n",
       "      <td>500</td>\n",
       "      <td>1</td>\n",
       "      <td>53.111753</td>\n",
       "    </tr>\n",
       "    <tr>\n",
       "      <th>20</th>\n",
       "      <td>BioPython</td>\n",
       "      <td>500</td>\n",
       "      <td>2</td>\n",
       "      <td>54.295288</td>\n",
       "    </tr>\n",
       "  </tbody>\n",
       "</table>\n",
       "</div>"
      ],
      "text/plain": [
       "   implementation  size  rep       time\n",
       "0       BioPython    50    0   0.083560\n",
       "1       BioPython    50    1   0.060253\n",
       "2       BioPython    50    2   0.060644\n",
       "3       BioPython   100    0   0.443854\n",
       "4       BioPython   100    1   0.415457\n",
       "5       BioPython   100    2   0.411590\n",
       "6       BioPython   150    0   1.380568\n",
       "7       BioPython   150    1   1.359871\n",
       "8       BioPython   150    2   1.353179\n",
       "9       BioPython   200    0   3.322348\n",
       "10      BioPython   200    1   3.285418\n",
       "11      BioPython   200    2   3.321384\n",
       "12      BioPython   300    0  11.966073\n",
       "13      BioPython   300    1  11.065567\n",
       "14      BioPython   300    2  10.967366\n",
       "15      BioPython   400    0  26.710108\n",
       "16      BioPython   400    1  30.669732\n",
       "17      BioPython   400    2  28.236873\n",
       "18      BioPython   500    0  53.690913\n",
       "19      BioPython   500    1  53.111753\n",
       "20      BioPython   500    2  54.295288"
      ]
     },
     "execution_count": 160,
     "metadata": {},
     "output_type": "execute_result"
    }
   ],
   "source": [
    "df_biopython = run_benchmark(\n",
    "    name=\"BioPython\",\n",
    "    f=bench_biopython,\n",
    "    sizes=[50, 100, 150, 200, 300, 400, 500],\n",
    "    cutoff=100,\n",
    "    reps=3,\n",
    ")\n",
    "df_biopython"
   ]
  },
  {
   "cell_type": "code",
   "execution_count": 161,
   "id": "44da7e25-71e0-4857-9db9-323e1f5065d9",
   "metadata": {},
   "outputs": [
    {
     "data": {
      "text/html": [
       "<div>\n",
       "<style scoped>\n",
       "    .dataframe tbody tr th:only-of-type {\n",
       "        vertical-align: middle;\n",
       "    }\n",
       "\n",
       "    .dataframe tbody tr th {\n",
       "        vertical-align: top;\n",
       "    }\n",
       "\n",
       "    .dataframe thead th {\n",
       "        text-align: right;\n",
       "    }\n",
       "</style>\n",
       "<table border=\"1\" class=\"dataframe\">\n",
       "  <thead>\n",
       "    <tr style=\"text-align: right;\">\n",
       "      <th></th>\n",
       "      <th>implementation</th>\n",
       "      <th>size</th>\n",
       "      <th>rep</th>\n",
       "      <th>time</th>\n",
       "    </tr>\n",
       "  </thead>\n",
       "  <tbody>\n",
       "    <tr>\n",
       "      <th>0</th>\n",
       "      <td>scikit-bio</td>\n",
       "      <td>50</td>\n",
       "      <td>0</td>\n",
       "      <td>0.041680</td>\n",
       "    </tr>\n",
       "    <tr>\n",
       "      <th>1</th>\n",
       "      <td>scikit-bio</td>\n",
       "      <td>50</td>\n",
       "      <td>1</td>\n",
       "      <td>0.051028</td>\n",
       "    </tr>\n",
       "    <tr>\n",
       "      <th>2</th>\n",
       "      <td>scikit-bio</td>\n",
       "      <td>50</td>\n",
       "      <td>2</td>\n",
       "      <td>0.016162</td>\n",
       "    </tr>\n",
       "    <tr>\n",
       "      <th>3</th>\n",
       "      <td>scikit-bio</td>\n",
       "      <td>100</td>\n",
       "      <td>0</td>\n",
       "      <td>0.149352</td>\n",
       "    </tr>\n",
       "    <tr>\n",
       "      <th>4</th>\n",
       "      <td>scikit-bio</td>\n",
       "      <td>100</td>\n",
       "      <td>1</td>\n",
       "      <td>0.307049</td>\n",
       "    </tr>\n",
       "    <tr>\n",
       "      <th>5</th>\n",
       "      <td>scikit-bio</td>\n",
       "      <td>100</td>\n",
       "      <td>2</td>\n",
       "      <td>0.288162</td>\n",
       "    </tr>\n",
       "    <tr>\n",
       "      <th>6</th>\n",
       "      <td>scikit-bio</td>\n",
       "      <td>150</td>\n",
       "      <td>0</td>\n",
       "      <td>0.149396</td>\n",
       "    </tr>\n",
       "    <tr>\n",
       "      <th>7</th>\n",
       "      <td>scikit-bio</td>\n",
       "      <td>150</td>\n",
       "      <td>1</td>\n",
       "      <td>0.353079</td>\n",
       "    </tr>\n",
       "    <tr>\n",
       "      <th>8</th>\n",
       "      <td>scikit-bio</td>\n",
       "      <td>150</td>\n",
       "      <td>2</td>\n",
       "      <td>0.140435</td>\n",
       "    </tr>\n",
       "    <tr>\n",
       "      <th>9</th>\n",
       "      <td>scikit-bio</td>\n",
       "      <td>200</td>\n",
       "      <td>0</td>\n",
       "      <td>0.222226</td>\n",
       "    </tr>\n",
       "    <tr>\n",
       "      <th>10</th>\n",
       "      <td>scikit-bio</td>\n",
       "      <td>200</td>\n",
       "      <td>1</td>\n",
       "      <td>0.101282</td>\n",
       "    </tr>\n",
       "    <tr>\n",
       "      <th>11</th>\n",
       "      <td>scikit-bio</td>\n",
       "      <td>200</td>\n",
       "      <td>2</td>\n",
       "      <td>0.093070</td>\n",
       "    </tr>\n",
       "    <tr>\n",
       "      <th>12</th>\n",
       "      <td>scikit-bio</td>\n",
       "      <td>400</td>\n",
       "      <td>0</td>\n",
       "      <td>0.417021</td>\n",
       "    </tr>\n",
       "    <tr>\n",
       "      <th>13</th>\n",
       "      <td>scikit-bio</td>\n",
       "      <td>400</td>\n",
       "      <td>1</td>\n",
       "      <td>0.420084</td>\n",
       "    </tr>\n",
       "    <tr>\n",
       "      <th>14</th>\n",
       "      <td>scikit-bio</td>\n",
       "      <td>400</td>\n",
       "      <td>2</td>\n",
       "      <td>0.427511</td>\n",
       "    </tr>\n",
       "    <tr>\n",
       "      <th>15</th>\n",
       "      <td>scikit-bio</td>\n",
       "      <td>600</td>\n",
       "      <td>0</td>\n",
       "      <td>1.312940</td>\n",
       "    </tr>\n",
       "    <tr>\n",
       "      <th>16</th>\n",
       "      <td>scikit-bio</td>\n",
       "      <td>600</td>\n",
       "      <td>1</td>\n",
       "      <td>1.305361</td>\n",
       "    </tr>\n",
       "    <tr>\n",
       "      <th>17</th>\n",
       "      <td>scikit-bio</td>\n",
       "      <td>600</td>\n",
       "      <td>2</td>\n",
       "      <td>1.306464</td>\n",
       "    </tr>\n",
       "    <tr>\n",
       "      <th>18</th>\n",
       "      <td>scikit-bio</td>\n",
       "      <td>800</td>\n",
       "      <td>0</td>\n",
       "      <td>3.271752</td>\n",
       "    </tr>\n",
       "    <tr>\n",
       "      <th>19</th>\n",
       "      <td>scikit-bio</td>\n",
       "      <td>800</td>\n",
       "      <td>1</td>\n",
       "      <td>3.671171</td>\n",
       "    </tr>\n",
       "    <tr>\n",
       "      <th>20</th>\n",
       "      <td>scikit-bio</td>\n",
       "      <td>800</td>\n",
       "      <td>2</td>\n",
       "      <td>3.412523</td>\n",
       "    </tr>\n",
       "    <tr>\n",
       "      <th>21</th>\n",
       "      <td>scikit-bio</td>\n",
       "      <td>1000</td>\n",
       "      <td>0</td>\n",
       "      <td>6.605799</td>\n",
       "    </tr>\n",
       "    <tr>\n",
       "      <th>22</th>\n",
       "      <td>scikit-bio</td>\n",
       "      <td>1000</td>\n",
       "      <td>1</td>\n",
       "      <td>6.748066</td>\n",
       "    </tr>\n",
       "    <tr>\n",
       "      <th>23</th>\n",
       "      <td>scikit-bio</td>\n",
       "      <td>1000</td>\n",
       "      <td>2</td>\n",
       "      <td>7.058176</td>\n",
       "    </tr>\n",
       "    <tr>\n",
       "      <th>24</th>\n",
       "      <td>scikit-bio</td>\n",
       "      <td>1200</td>\n",
       "      <td>0</td>\n",
       "      <td>11.726455</td>\n",
       "    </tr>\n",
       "    <tr>\n",
       "      <th>25</th>\n",
       "      <td>scikit-bio</td>\n",
       "      <td>1200</td>\n",
       "      <td>1</td>\n",
       "      <td>11.790596</td>\n",
       "    </tr>\n",
       "    <tr>\n",
       "      <th>26</th>\n",
       "      <td>scikit-bio</td>\n",
       "      <td>1200</td>\n",
       "      <td>2</td>\n",
       "      <td>12.547185</td>\n",
       "    </tr>\n",
       "    <tr>\n",
       "      <th>27</th>\n",
       "      <td>scikit-bio</td>\n",
       "      <td>1400</td>\n",
       "      <td>0</td>\n",
       "      <td>20.257747</td>\n",
       "    </tr>\n",
       "    <tr>\n",
       "      <th>28</th>\n",
       "      <td>scikit-bio</td>\n",
       "      <td>1400</td>\n",
       "      <td>1</td>\n",
       "      <td>18.913864</td>\n",
       "    </tr>\n",
       "    <tr>\n",
       "      <th>29</th>\n",
       "      <td>scikit-bio</td>\n",
       "      <td>1400</td>\n",
       "      <td>2</td>\n",
       "      <td>18.408904</td>\n",
       "    </tr>\n",
       "    <tr>\n",
       "      <th>30</th>\n",
       "      <td>scikit-bio</td>\n",
       "      <td>1600</td>\n",
       "      <td>0</td>\n",
       "      <td>26.708368</td>\n",
       "    </tr>\n",
       "    <tr>\n",
       "      <th>31</th>\n",
       "      <td>scikit-bio</td>\n",
       "      <td>1600</td>\n",
       "      <td>1</td>\n",
       "      <td>26.921359</td>\n",
       "    </tr>\n",
       "    <tr>\n",
       "      <th>32</th>\n",
       "      <td>scikit-bio</td>\n",
       "      <td>1600</td>\n",
       "      <td>2</td>\n",
       "      <td>26.411663</td>\n",
       "    </tr>\n",
       "    <tr>\n",
       "      <th>33</th>\n",
       "      <td>scikit-bio</td>\n",
       "      <td>1800</td>\n",
       "      <td>0</td>\n",
       "      <td>40.143336</td>\n",
       "    </tr>\n",
       "    <tr>\n",
       "      <th>34</th>\n",
       "      <td>scikit-bio</td>\n",
       "      <td>1800</td>\n",
       "      <td>1</td>\n",
       "      <td>39.197919</td>\n",
       "    </tr>\n",
       "    <tr>\n",
       "      <th>35</th>\n",
       "      <td>scikit-bio</td>\n",
       "      <td>1800</td>\n",
       "      <td>2</td>\n",
       "      <td>40.988254</td>\n",
       "    </tr>\n",
       "    <tr>\n",
       "      <th>36</th>\n",
       "      <td>scikit-bio</td>\n",
       "      <td>2000</td>\n",
       "      <td>0</td>\n",
       "      <td>50.526995</td>\n",
       "    </tr>\n",
       "    <tr>\n",
       "      <th>37</th>\n",
       "      <td>scikit-bio</td>\n",
       "      <td>2000</td>\n",
       "      <td>1</td>\n",
       "      <td>50.796322</td>\n",
       "    </tr>\n",
       "    <tr>\n",
       "      <th>38</th>\n",
       "      <td>scikit-bio</td>\n",
       "      <td>2000</td>\n",
       "      <td>2</td>\n",
       "      <td>51.407705</td>\n",
       "    </tr>\n",
       "  </tbody>\n",
       "</table>\n",
       "</div>"
      ],
      "text/plain": [
       "   implementation  size  rep       time\n",
       "0      scikit-bio    50    0   0.041680\n",
       "1      scikit-bio    50    1   0.051028\n",
       "2      scikit-bio    50    2   0.016162\n",
       "3      scikit-bio   100    0   0.149352\n",
       "4      scikit-bio   100    1   0.307049\n",
       "5      scikit-bio   100    2   0.288162\n",
       "6      scikit-bio   150    0   0.149396\n",
       "7      scikit-bio   150    1   0.353079\n",
       "8      scikit-bio   150    2   0.140435\n",
       "9      scikit-bio   200    0   0.222226\n",
       "10     scikit-bio   200    1   0.101282\n",
       "11     scikit-bio   200    2   0.093070\n",
       "12     scikit-bio   400    0   0.417021\n",
       "13     scikit-bio   400    1   0.420084\n",
       "14     scikit-bio   400    2   0.427511\n",
       "15     scikit-bio   600    0   1.312940\n",
       "16     scikit-bio   600    1   1.305361\n",
       "17     scikit-bio   600    2   1.306464\n",
       "18     scikit-bio   800    0   3.271752\n",
       "19     scikit-bio   800    1   3.671171\n",
       "20     scikit-bio   800    2   3.412523\n",
       "21     scikit-bio  1000    0   6.605799\n",
       "22     scikit-bio  1000    1   6.748066\n",
       "23     scikit-bio  1000    2   7.058176\n",
       "24     scikit-bio  1200    0  11.726455\n",
       "25     scikit-bio  1200    1  11.790596\n",
       "26     scikit-bio  1200    2  12.547185\n",
       "27     scikit-bio  1400    0  20.257747\n",
       "28     scikit-bio  1400    1  18.913864\n",
       "29     scikit-bio  1400    2  18.408904\n",
       "30     scikit-bio  1600    0  26.708368\n",
       "31     scikit-bio  1600    1  26.921359\n",
       "32     scikit-bio  1600    2  26.411663\n",
       "33     scikit-bio  1800    0  40.143336\n",
       "34     scikit-bio  1800    1  39.197919\n",
       "35     scikit-bio  1800    2  40.988254\n",
       "36     scikit-bio  2000    0  50.526995\n",
       "37     scikit-bio  2000    1  50.796322\n",
       "38     scikit-bio  2000    2  51.407705"
      ]
     },
     "execution_count": 161,
     "metadata": {},
     "output_type": "execute_result"
    }
   ],
   "source": [
    "df_skbio = run_benchmark(\n",
    "    name=\"scikit-bio\",\n",
    "    f=bench_skbio,\n",
    "    sizes=[50, 100, 150] + list(range(200, 2200, 200)),\n",
    "    reps=3,\n",
    "    cutoff=100,\n",
    ")\n",
    "df_skbio"
   ]
  },
  {
   "cell_type": "code",
   "execution_count": 162,
   "id": "0f671729-6330-4b45-b7e6-52bc17f770e7",
   "metadata": {},
   "outputs": [
    {
     "data": {
      "text/html": [
       "<div>\n",
       "<style scoped>\n",
       "    .dataframe tbody tr th:only-of-type {\n",
       "        vertical-align: middle;\n",
       "    }\n",
       "\n",
       "    .dataframe tbody tr th {\n",
       "        vertical-align: top;\n",
       "    }\n",
       "\n",
       "    .dataframe thead th {\n",
       "        text-align: right;\n",
       "    }\n",
       "</style>\n",
       "<table border=\"1\" class=\"dataframe\">\n",
       "  <thead>\n",
       "    <tr style=\"text-align: right;\">\n",
       "      <th></th>\n",
       "      <th>implementation</th>\n",
       "      <th>size</th>\n",
       "      <th>rep</th>\n",
       "      <th>time</th>\n",
       "    </tr>\n",
       "  </thead>\n",
       "  <tbody>\n",
       "    <tr>\n",
       "      <th>0</th>\n",
       "      <td>biotite</td>\n",
       "      <td>50</td>\n",
       "      <td>0</td>\n",
       "      <td>0.001581</td>\n",
       "    </tr>\n",
       "    <tr>\n",
       "      <th>1</th>\n",
       "      <td>biotite</td>\n",
       "      <td>50</td>\n",
       "      <td>1</td>\n",
       "      <td>0.000872</td>\n",
       "    </tr>\n",
       "    <tr>\n",
       "      <th>2</th>\n",
       "      <td>biotite</td>\n",
       "      <td>50</td>\n",
       "      <td>2</td>\n",
       "      <td>0.000564</td>\n",
       "    </tr>\n",
       "    <tr>\n",
       "      <th>3</th>\n",
       "      <td>biotite</td>\n",
       "      <td>100</td>\n",
       "      <td>0</td>\n",
       "      <td>0.002476</td>\n",
       "    </tr>\n",
       "    <tr>\n",
       "      <th>4</th>\n",
       "      <td>biotite</td>\n",
       "      <td>100</td>\n",
       "      <td>1</td>\n",
       "      <td>0.002355</td>\n",
       "    </tr>\n",
       "    <tr>\n",
       "      <th>5</th>\n",
       "      <td>biotite</td>\n",
       "      <td>100</td>\n",
       "      <td>2</td>\n",
       "      <td>0.002254</td>\n",
       "    </tr>\n",
       "    <tr>\n",
       "      <th>6</th>\n",
       "      <td>biotite</td>\n",
       "      <td>150</td>\n",
       "      <td>0</td>\n",
       "      <td>0.006171</td>\n",
       "    </tr>\n",
       "    <tr>\n",
       "      <th>7</th>\n",
       "      <td>biotite</td>\n",
       "      <td>150</td>\n",
       "      <td>1</td>\n",
       "      <td>0.005539</td>\n",
       "    </tr>\n",
       "    <tr>\n",
       "      <th>8</th>\n",
       "      <td>biotite</td>\n",
       "      <td>150</td>\n",
       "      <td>2</td>\n",
       "      <td>0.006190</td>\n",
       "    </tr>\n",
       "    <tr>\n",
       "      <th>9</th>\n",
       "      <td>biotite</td>\n",
       "      <td>200</td>\n",
       "      <td>0</td>\n",
       "      <td>0.013107</td>\n",
       "    </tr>\n",
       "    <tr>\n",
       "      <th>10</th>\n",
       "      <td>biotite</td>\n",
       "      <td>200</td>\n",
       "      <td>1</td>\n",
       "      <td>0.015595</td>\n",
       "    </tr>\n",
       "    <tr>\n",
       "      <th>11</th>\n",
       "      <td>biotite</td>\n",
       "      <td>200</td>\n",
       "      <td>2</td>\n",
       "      <td>0.014232</td>\n",
       "    </tr>\n",
       "    <tr>\n",
       "      <th>12</th>\n",
       "      <td>biotite</td>\n",
       "      <td>400</td>\n",
       "      <td>0</td>\n",
       "      <td>0.100063</td>\n",
       "    </tr>\n",
       "    <tr>\n",
       "      <th>13</th>\n",
       "      <td>biotite</td>\n",
       "      <td>400</td>\n",
       "      <td>1</td>\n",
       "      <td>0.098635</td>\n",
       "    </tr>\n",
       "    <tr>\n",
       "      <th>14</th>\n",
       "      <td>biotite</td>\n",
       "      <td>400</td>\n",
       "      <td>2</td>\n",
       "      <td>0.098857</td>\n",
       "    </tr>\n",
       "    <tr>\n",
       "      <th>15</th>\n",
       "      <td>biotite</td>\n",
       "      <td>600</td>\n",
       "      <td>0</td>\n",
       "      <td>0.352421</td>\n",
       "    </tr>\n",
       "    <tr>\n",
       "      <th>16</th>\n",
       "      <td>biotite</td>\n",
       "      <td>600</td>\n",
       "      <td>1</td>\n",
       "      <td>0.347635</td>\n",
       "    </tr>\n",
       "    <tr>\n",
       "      <th>17</th>\n",
       "      <td>biotite</td>\n",
       "      <td>600</td>\n",
       "      <td>2</td>\n",
       "      <td>0.342098</td>\n",
       "    </tr>\n",
       "    <tr>\n",
       "      <th>18</th>\n",
       "      <td>biotite</td>\n",
       "      <td>800</td>\n",
       "      <td>0</td>\n",
       "      <td>0.859337</td>\n",
       "    </tr>\n",
       "    <tr>\n",
       "      <th>19</th>\n",
       "      <td>biotite</td>\n",
       "      <td>800</td>\n",
       "      <td>1</td>\n",
       "      <td>0.843117</td>\n",
       "    </tr>\n",
       "    <tr>\n",
       "      <th>20</th>\n",
       "      <td>biotite</td>\n",
       "      <td>800</td>\n",
       "      <td>2</td>\n",
       "      <td>0.861794</td>\n",
       "    </tr>\n",
       "    <tr>\n",
       "      <th>21</th>\n",
       "      <td>biotite</td>\n",
       "      <td>1000</td>\n",
       "      <td>0</td>\n",
       "      <td>1.700999</td>\n",
       "    </tr>\n",
       "    <tr>\n",
       "      <th>22</th>\n",
       "      <td>biotite</td>\n",
       "      <td>1000</td>\n",
       "      <td>1</td>\n",
       "      <td>1.727434</td>\n",
       "    </tr>\n",
       "    <tr>\n",
       "      <th>23</th>\n",
       "      <td>biotite</td>\n",
       "      <td>1000</td>\n",
       "      <td>2</td>\n",
       "      <td>1.664252</td>\n",
       "    </tr>\n",
       "    <tr>\n",
       "      <th>24</th>\n",
       "      <td>biotite</td>\n",
       "      <td>1200</td>\n",
       "      <td>0</td>\n",
       "      <td>3.006084</td>\n",
       "    </tr>\n",
       "    <tr>\n",
       "      <th>25</th>\n",
       "      <td>biotite</td>\n",
       "      <td>1200</td>\n",
       "      <td>1</td>\n",
       "      <td>2.968499</td>\n",
       "    </tr>\n",
       "    <tr>\n",
       "      <th>26</th>\n",
       "      <td>biotite</td>\n",
       "      <td>1200</td>\n",
       "      <td>2</td>\n",
       "      <td>2.989622</td>\n",
       "    </tr>\n",
       "    <tr>\n",
       "      <th>27</th>\n",
       "      <td>biotite</td>\n",
       "      <td>1400</td>\n",
       "      <td>0</td>\n",
       "      <td>4.821130</td>\n",
       "    </tr>\n",
       "    <tr>\n",
       "      <th>28</th>\n",
       "      <td>biotite</td>\n",
       "      <td>1400</td>\n",
       "      <td>1</td>\n",
       "      <td>4.826070</td>\n",
       "    </tr>\n",
       "    <tr>\n",
       "      <th>29</th>\n",
       "      <td>biotite</td>\n",
       "      <td>1400</td>\n",
       "      <td>2</td>\n",
       "      <td>4.922799</td>\n",
       "    </tr>\n",
       "    <tr>\n",
       "      <th>30</th>\n",
       "      <td>biotite</td>\n",
       "      <td>1600</td>\n",
       "      <td>0</td>\n",
       "      <td>7.857447</td>\n",
       "    </tr>\n",
       "    <tr>\n",
       "      <th>31</th>\n",
       "      <td>biotite</td>\n",
       "      <td>1600</td>\n",
       "      <td>1</td>\n",
       "      <td>8.134431</td>\n",
       "    </tr>\n",
       "    <tr>\n",
       "      <th>32</th>\n",
       "      <td>biotite</td>\n",
       "      <td>1600</td>\n",
       "      <td>2</td>\n",
       "      <td>7.905708</td>\n",
       "    </tr>\n",
       "    <tr>\n",
       "      <th>33</th>\n",
       "      <td>biotite</td>\n",
       "      <td>1800</td>\n",
       "      <td>0</td>\n",
       "      <td>11.567479</td>\n",
       "    </tr>\n",
       "    <tr>\n",
       "      <th>34</th>\n",
       "      <td>biotite</td>\n",
       "      <td>1800</td>\n",
       "      <td>1</td>\n",
       "      <td>11.504927</td>\n",
       "    </tr>\n",
       "    <tr>\n",
       "      <th>35</th>\n",
       "      <td>biotite</td>\n",
       "      <td>1800</td>\n",
       "      <td>2</td>\n",
       "      <td>11.453036</td>\n",
       "    </tr>\n",
       "    <tr>\n",
       "      <th>36</th>\n",
       "      <td>biotite</td>\n",
       "      <td>2000</td>\n",
       "      <td>0</td>\n",
       "      <td>15.258548</td>\n",
       "    </tr>\n",
       "    <tr>\n",
       "      <th>37</th>\n",
       "      <td>biotite</td>\n",
       "      <td>2000</td>\n",
       "      <td>1</td>\n",
       "      <td>14.817832</td>\n",
       "    </tr>\n",
       "    <tr>\n",
       "      <th>38</th>\n",
       "      <td>biotite</td>\n",
       "      <td>2000</td>\n",
       "      <td>2</td>\n",
       "      <td>14.710419</td>\n",
       "    </tr>\n",
       "    <tr>\n",
       "      <th>39</th>\n",
       "      <td>biotite</td>\n",
       "      <td>2200</td>\n",
       "      <td>0</td>\n",
       "      <td>19.939492</td>\n",
       "    </tr>\n",
       "    <tr>\n",
       "      <th>40</th>\n",
       "      <td>biotite</td>\n",
       "      <td>2200</td>\n",
       "      <td>1</td>\n",
       "      <td>21.294081</td>\n",
       "    </tr>\n",
       "    <tr>\n",
       "      <th>41</th>\n",
       "      <td>biotite</td>\n",
       "      <td>2200</td>\n",
       "      <td>2</td>\n",
       "      <td>20.198019</td>\n",
       "    </tr>\n",
       "    <tr>\n",
       "      <th>42</th>\n",
       "      <td>biotite</td>\n",
       "      <td>2400</td>\n",
       "      <td>0</td>\n",
       "      <td>26.735863</td>\n",
       "    </tr>\n",
       "    <tr>\n",
       "      <th>43</th>\n",
       "      <td>biotite</td>\n",
       "      <td>2400</td>\n",
       "      <td>1</td>\n",
       "      <td>26.874217</td>\n",
       "    </tr>\n",
       "    <tr>\n",
       "      <th>44</th>\n",
       "      <td>biotite</td>\n",
       "      <td>2400</td>\n",
       "      <td>2</td>\n",
       "      <td>26.791220</td>\n",
       "    </tr>\n",
       "    <tr>\n",
       "      <th>45</th>\n",
       "      <td>biotite</td>\n",
       "      <td>2600</td>\n",
       "      <td>0</td>\n",
       "      <td>35.198875</td>\n",
       "    </tr>\n",
       "    <tr>\n",
       "      <th>46</th>\n",
       "      <td>biotite</td>\n",
       "      <td>2600</td>\n",
       "      <td>1</td>\n",
       "      <td>35.898414</td>\n",
       "    </tr>\n",
       "    <tr>\n",
       "      <th>47</th>\n",
       "      <td>biotite</td>\n",
       "      <td>2600</td>\n",
       "      <td>2</td>\n",
       "      <td>36.027321</td>\n",
       "    </tr>\n",
       "    <tr>\n",
       "      <th>48</th>\n",
       "      <td>biotite</td>\n",
       "      <td>2800</td>\n",
       "      <td>0</td>\n",
       "      <td>46.524357</td>\n",
       "    </tr>\n",
       "    <tr>\n",
       "      <th>49</th>\n",
       "      <td>biotite</td>\n",
       "      <td>2800</td>\n",
       "      <td>1</td>\n",
       "      <td>45.900566</td>\n",
       "    </tr>\n",
       "    <tr>\n",
       "      <th>50</th>\n",
       "      <td>biotite</td>\n",
       "      <td>2800</td>\n",
       "      <td>2</td>\n",
       "      <td>45.299124</td>\n",
       "    </tr>\n",
       "    <tr>\n",
       "      <th>51</th>\n",
       "      <td>biotite</td>\n",
       "      <td>3000</td>\n",
       "      <td>0</td>\n",
       "      <td>57.329010</td>\n",
       "    </tr>\n",
       "    <tr>\n",
       "      <th>52</th>\n",
       "      <td>biotite</td>\n",
       "      <td>3000</td>\n",
       "      <td>1</td>\n",
       "      <td>56.257153</td>\n",
       "    </tr>\n",
       "    <tr>\n",
       "      <th>53</th>\n",
       "      <td>biotite</td>\n",
       "      <td>3000</td>\n",
       "      <td>2</td>\n",
       "      <td>59.382156</td>\n",
       "    </tr>\n",
       "  </tbody>\n",
       "</table>\n",
       "</div>"
      ],
      "text/plain": [
       "   implementation  size  rep       time\n",
       "0         biotite    50    0   0.001581\n",
       "1         biotite    50    1   0.000872\n",
       "2         biotite    50    2   0.000564\n",
       "3         biotite   100    0   0.002476\n",
       "4         biotite   100    1   0.002355\n",
       "5         biotite   100    2   0.002254\n",
       "6         biotite   150    0   0.006171\n",
       "7         biotite   150    1   0.005539\n",
       "8         biotite   150    2   0.006190\n",
       "9         biotite   200    0   0.013107\n",
       "10        biotite   200    1   0.015595\n",
       "11        biotite   200    2   0.014232\n",
       "12        biotite   400    0   0.100063\n",
       "13        biotite   400    1   0.098635\n",
       "14        biotite   400    2   0.098857\n",
       "15        biotite   600    0   0.352421\n",
       "16        biotite   600    1   0.347635\n",
       "17        biotite   600    2   0.342098\n",
       "18        biotite   800    0   0.859337\n",
       "19        biotite   800    1   0.843117\n",
       "20        biotite   800    2   0.861794\n",
       "21        biotite  1000    0   1.700999\n",
       "22        biotite  1000    1   1.727434\n",
       "23        biotite  1000    2   1.664252\n",
       "24        biotite  1200    0   3.006084\n",
       "25        biotite  1200    1   2.968499\n",
       "26        biotite  1200    2   2.989622\n",
       "27        biotite  1400    0   4.821130\n",
       "28        biotite  1400    1   4.826070\n",
       "29        biotite  1400    2   4.922799\n",
       "30        biotite  1600    0   7.857447\n",
       "31        biotite  1600    1   8.134431\n",
       "32        biotite  1600    2   7.905708\n",
       "33        biotite  1800    0  11.567479\n",
       "34        biotite  1800    1  11.504927\n",
       "35        biotite  1800    2  11.453036\n",
       "36        biotite  2000    0  15.258548\n",
       "37        biotite  2000    1  14.817832\n",
       "38        biotite  2000    2  14.710419\n",
       "39        biotite  2200    0  19.939492\n",
       "40        biotite  2200    1  21.294081\n",
       "41        biotite  2200    2  20.198019\n",
       "42        biotite  2400    0  26.735863\n",
       "43        biotite  2400    1  26.874217\n",
       "44        biotite  2400    2  26.791220\n",
       "45        biotite  2600    0  35.198875\n",
       "46        biotite  2600    1  35.898414\n",
       "47        biotite  2600    2  36.027321\n",
       "48        biotite  2800    0  46.524357\n",
       "49        biotite  2800    1  45.900566\n",
       "50        biotite  2800    2  45.299124\n",
       "51        biotite  3000    0  57.329010\n",
       "52        biotite  3000    1  56.257153\n",
       "53        biotite  3000    2  59.382156"
      ]
     },
     "execution_count": 162,
     "metadata": {},
     "output_type": "execute_result"
    }
   ],
   "source": [
    "df_biotite = run_benchmark(\n",
    "    name=\"biotite\",\n",
    "    f=bench_biotite,\n",
    "    sizes=[50, 100, 150] + list(range(200, 3200, 200)),\n",
    "    reps=3,\n",
    "    cutoff=100,\n",
    ")\n",
    "df_biotite"
   ]
  },
  {
   "cell_type": "code",
   "execution_count": 163,
   "id": "b2d986f4-3b77-4d1d-9f0a-d54b957e6ae9",
   "metadata": {},
   "outputs": [
    {
     "data": {
      "text/html": [
       "<div>\n",
       "<style scoped>\n",
       "    .dataframe tbody tr th:only-of-type {\n",
       "        vertical-align: middle;\n",
       "    }\n",
       "\n",
       "    .dataframe tbody tr th {\n",
       "        vertical-align: top;\n",
       "    }\n",
       "\n",
       "    .dataframe thead th {\n",
       "        text-align: right;\n",
       "    }\n",
       "</style>\n",
       "<table border=\"1\" class=\"dataframe\">\n",
       "  <thead>\n",
       "    <tr style=\"text-align: right;\">\n",
       "      <th></th>\n",
       "      <th>implementation</th>\n",
       "      <th>size</th>\n",
       "      <th>rep</th>\n",
       "      <th>time</th>\n",
       "    </tr>\n",
       "  </thead>\n",
       "  <tbody>\n",
       "    <tr>\n",
       "      <th>0</th>\n",
       "      <td>anjl.canonical_nj</td>\n",
       "      <td>50</td>\n",
       "      <td>0</td>\n",
       "      <td>0.000853</td>\n",
       "    </tr>\n",
       "    <tr>\n",
       "      <th>1</th>\n",
       "      <td>anjl.canonical_nj</td>\n",
       "      <td>50</td>\n",
       "      <td>1</td>\n",
       "      <td>0.000166</td>\n",
       "    </tr>\n",
       "    <tr>\n",
       "      <th>2</th>\n",
       "      <td>anjl.canonical_nj</td>\n",
       "      <td>50</td>\n",
       "      <td>2</td>\n",
       "      <td>0.000147</td>\n",
       "    </tr>\n",
       "    <tr>\n",
       "      <th>3</th>\n",
       "      <td>anjl.canonical_nj</td>\n",
       "      <td>100</td>\n",
       "      <td>0</td>\n",
       "      <td>0.000535</td>\n",
       "    </tr>\n",
       "    <tr>\n",
       "      <th>4</th>\n",
       "      <td>anjl.canonical_nj</td>\n",
       "      <td>100</td>\n",
       "      <td>1</td>\n",
       "      <td>0.000529</td>\n",
       "    </tr>\n",
       "    <tr>\n",
       "      <th>...</th>\n",
       "      <td>...</td>\n",
       "      <td>...</td>\n",
       "      <td>...</td>\n",
       "      <td>...</td>\n",
       "    </tr>\n",
       "    <tr>\n",
       "      <th>64</th>\n",
       "      <td>anjl.canonical_nj</td>\n",
       "      <td>5000</td>\n",
       "      <td>1</td>\n",
       "      <td>47.803516</td>\n",
       "    </tr>\n",
       "    <tr>\n",
       "      <th>65</th>\n",
       "      <td>anjl.canonical_nj</td>\n",
       "      <td>5000</td>\n",
       "      <td>2</td>\n",
       "      <td>48.696107</td>\n",
       "    </tr>\n",
       "    <tr>\n",
       "      <th>66</th>\n",
       "      <td>anjl.canonical_nj</td>\n",
       "      <td>5500</td>\n",
       "      <td>0</td>\n",
       "      <td>66.508343</td>\n",
       "    </tr>\n",
       "    <tr>\n",
       "      <th>67</th>\n",
       "      <td>anjl.canonical_nj</td>\n",
       "      <td>5500</td>\n",
       "      <td>1</td>\n",
       "      <td>68.774081</td>\n",
       "    </tr>\n",
       "    <tr>\n",
       "      <th>68</th>\n",
       "      <td>anjl.canonical_nj</td>\n",
       "      <td>5500</td>\n",
       "      <td>2</td>\n",
       "      <td>73.998286</td>\n",
       "    </tr>\n",
       "  </tbody>\n",
       "</table>\n",
       "<p>69 rows × 4 columns</p>\n",
       "</div>"
      ],
      "text/plain": [
       "       implementation  size  rep       time\n",
       "0   anjl.canonical_nj    50    0   0.000853\n",
       "1   anjl.canonical_nj    50    1   0.000166\n",
       "2   anjl.canonical_nj    50    2   0.000147\n",
       "3   anjl.canonical_nj   100    0   0.000535\n",
       "4   anjl.canonical_nj   100    1   0.000529\n",
       "..                ...   ...  ...        ...\n",
       "64  anjl.canonical_nj  5000    1  47.803516\n",
       "65  anjl.canonical_nj  5000    2  48.696107\n",
       "66  anjl.canonical_nj  5500    0  66.508343\n",
       "67  anjl.canonical_nj  5500    1  68.774081\n",
       "68  anjl.canonical_nj  5500    2  73.998286\n",
       "\n",
       "[69 rows x 4 columns]"
      ]
     },
     "execution_count": 163,
     "metadata": {},
     "output_type": "execute_result"
    }
   ],
   "source": [
    "df_anjl_canonical = run_benchmark(\n",
    "    name=\"anjl.canonical_nj\",\n",
    "    f=bench_anjl_canonical,\n",
    "    sizes=[50, 100, 150] + list(range(200, 3000, 200)) + list(range(3000, 6000, 500)),\n",
    "    reps=3,\n",
    "    cutoff=100,\n",
    ")\n",
    "df_anjl_canonical"
   ]
  },
  {
   "cell_type": "code",
   "execution_count": 164,
   "id": "4cc9ba5b-22af-45a6-ac39-3a89d858ba18",
   "metadata": {},
   "outputs": [
    {
     "data": {
      "text/html": [
       "<div>\n",
       "<style scoped>\n",
       "    .dataframe tbody tr th:only-of-type {\n",
       "        vertical-align: middle;\n",
       "    }\n",
       "\n",
       "    .dataframe tbody tr th {\n",
       "        vertical-align: top;\n",
       "    }\n",
       "\n",
       "    .dataframe thead th {\n",
       "        text-align: right;\n",
       "    }\n",
       "</style>\n",
       "<table border=\"1\" class=\"dataframe\">\n",
       "  <thead>\n",
       "    <tr style=\"text-align: right;\">\n",
       "      <th></th>\n",
       "      <th>implementation</th>\n",
       "      <th>size</th>\n",
       "      <th>rep</th>\n",
       "      <th>time</th>\n",
       "    </tr>\n",
       "  </thead>\n",
       "  <tbody>\n",
       "    <tr>\n",
       "      <th>0</th>\n",
       "      <td>anjl.rapid_nj</td>\n",
       "      <td>50</td>\n",
       "      <td>0</td>\n",
       "      <td>0.000977</td>\n",
       "    </tr>\n",
       "    <tr>\n",
       "      <th>1</th>\n",
       "      <td>anjl.rapid_nj</td>\n",
       "      <td>50</td>\n",
       "      <td>1</td>\n",
       "      <td>0.000690</td>\n",
       "    </tr>\n",
       "    <tr>\n",
       "      <th>2</th>\n",
       "      <td>anjl.rapid_nj</td>\n",
       "      <td>50</td>\n",
       "      <td>2</td>\n",
       "      <td>0.000733</td>\n",
       "    </tr>\n",
       "    <tr>\n",
       "      <th>3</th>\n",
       "      <td>anjl.rapid_nj</td>\n",
       "      <td>100</td>\n",
       "      <td>0</td>\n",
       "      <td>0.002107</td>\n",
       "    </tr>\n",
       "    <tr>\n",
       "      <th>4</th>\n",
       "      <td>anjl.rapid_nj</td>\n",
       "      <td>100</td>\n",
       "      <td>1</td>\n",
       "      <td>0.002284</td>\n",
       "    </tr>\n",
       "    <tr>\n",
       "      <th>...</th>\n",
       "      <td>...</td>\n",
       "      <td>...</td>\n",
       "      <td>...</td>\n",
       "      <td>...</td>\n",
       "    </tr>\n",
       "    <tr>\n",
       "      <th>82</th>\n",
       "      <td>anjl.rapid_nj</td>\n",
       "      <td>8000</td>\n",
       "      <td>1</td>\n",
       "      <td>58.074711</td>\n",
       "    </tr>\n",
       "    <tr>\n",
       "      <th>83</th>\n",
       "      <td>anjl.rapid_nj</td>\n",
       "      <td>8000</td>\n",
       "      <td>2</td>\n",
       "      <td>49.088682</td>\n",
       "    </tr>\n",
       "    <tr>\n",
       "      <th>84</th>\n",
       "      <td>anjl.rapid_nj</td>\n",
       "      <td>8500</td>\n",
       "      <td>0</td>\n",
       "      <td>62.453770</td>\n",
       "    </tr>\n",
       "    <tr>\n",
       "      <th>85</th>\n",
       "      <td>anjl.rapid_nj</td>\n",
       "      <td>8500</td>\n",
       "      <td>1</td>\n",
       "      <td>69.281142</td>\n",
       "    </tr>\n",
       "    <tr>\n",
       "      <th>86</th>\n",
       "      <td>anjl.rapid_nj</td>\n",
       "      <td>8500</td>\n",
       "      <td>2</td>\n",
       "      <td>65.419187</td>\n",
       "    </tr>\n",
       "  </tbody>\n",
       "</table>\n",
       "<p>87 rows × 4 columns</p>\n",
       "</div>"
      ],
      "text/plain": [
       "   implementation  size  rep       time\n",
       "0   anjl.rapid_nj    50    0   0.000977\n",
       "1   anjl.rapid_nj    50    1   0.000690\n",
       "2   anjl.rapid_nj    50    2   0.000733\n",
       "3   anjl.rapid_nj   100    0   0.002107\n",
       "4   anjl.rapid_nj   100    1   0.002284\n",
       "..            ...   ...  ...        ...\n",
       "82  anjl.rapid_nj  8000    1  58.074711\n",
       "83  anjl.rapid_nj  8000    2  49.088682\n",
       "84  anjl.rapid_nj  8500    0  62.453770\n",
       "85  anjl.rapid_nj  8500    1  69.281142\n",
       "86  anjl.rapid_nj  8500    2  65.419187\n",
       "\n",
       "[87 rows x 4 columns]"
      ]
     },
     "execution_count": 164,
     "metadata": {},
     "output_type": "execute_result"
    }
   ],
   "source": [
    "df_anjl_rapid = run_benchmark(\n",
    "    name=\"anjl.rapid_nj\",\n",
    "    f=bench_anjl_rapid,\n",
    "    sizes=[50, 100, 150] + list(range(200, 3000, 200)) + list(range(3000, 9000, 500)),\n",
    "    reps=3,\n",
    "    cutoff=100,\n",
    ")\n",
    "df_anjl_rapid"
   ]
  },
  {
   "cell_type": "code",
   "execution_count": 165,
   "id": "9ae5f0b8-7ca5-49c0-9f88-9e035b85dd7f",
   "metadata": {},
   "outputs": [
    {
     "data": {
      "text/html": [
       "<div>\n",
       "<style scoped>\n",
       "    .dataframe tbody tr th:only-of-type {\n",
       "        vertical-align: middle;\n",
       "    }\n",
       "\n",
       "    .dataframe tbody tr th {\n",
       "        vertical-align: top;\n",
       "    }\n",
       "\n",
       "    .dataframe thead th {\n",
       "        text-align: right;\n",
       "    }\n",
       "</style>\n",
       "<table border=\"1\" class=\"dataframe\">\n",
       "  <thead>\n",
       "    <tr style=\"text-align: right;\">\n",
       "      <th></th>\n",
       "      <th>implementation</th>\n",
       "      <th>size</th>\n",
       "      <th>rep</th>\n",
       "      <th>time</th>\n",
       "    </tr>\n",
       "  </thead>\n",
       "  <tbody>\n",
       "    <tr>\n",
       "      <th>0</th>\n",
       "      <td>BioPython</td>\n",
       "      <td>50</td>\n",
       "      <td>0</td>\n",
       "      <td>0.083560</td>\n",
       "    </tr>\n",
       "    <tr>\n",
       "      <th>1</th>\n",
       "      <td>BioPython</td>\n",
       "      <td>50</td>\n",
       "      <td>1</td>\n",
       "      <td>0.060253</td>\n",
       "    </tr>\n",
       "    <tr>\n",
       "      <th>2</th>\n",
       "      <td>BioPython</td>\n",
       "      <td>50</td>\n",
       "      <td>2</td>\n",
       "      <td>0.060644</td>\n",
       "    </tr>\n",
       "    <tr>\n",
       "      <th>3</th>\n",
       "      <td>BioPython</td>\n",
       "      <td>100</td>\n",
       "      <td>0</td>\n",
       "      <td>0.443854</td>\n",
       "    </tr>\n",
       "    <tr>\n",
       "      <th>4</th>\n",
       "      <td>BioPython</td>\n",
       "      <td>100</td>\n",
       "      <td>1</td>\n",
       "      <td>0.415457</td>\n",
       "    </tr>\n",
       "    <tr>\n",
       "      <th>...</th>\n",
       "      <td>...</td>\n",
       "      <td>...</td>\n",
       "      <td>...</td>\n",
       "      <td>...</td>\n",
       "    </tr>\n",
       "    <tr>\n",
       "      <th>82</th>\n",
       "      <td>anjl.rapid_nj</td>\n",
       "      <td>8000</td>\n",
       "      <td>1</td>\n",
       "      <td>58.074711</td>\n",
       "    </tr>\n",
       "    <tr>\n",
       "      <th>83</th>\n",
       "      <td>anjl.rapid_nj</td>\n",
       "      <td>8000</td>\n",
       "      <td>2</td>\n",
       "      <td>49.088682</td>\n",
       "    </tr>\n",
       "    <tr>\n",
       "      <th>84</th>\n",
       "      <td>anjl.rapid_nj</td>\n",
       "      <td>8500</td>\n",
       "      <td>0</td>\n",
       "      <td>62.453770</td>\n",
       "    </tr>\n",
       "    <tr>\n",
       "      <th>85</th>\n",
       "      <td>anjl.rapid_nj</td>\n",
       "      <td>8500</td>\n",
       "      <td>1</td>\n",
       "      <td>69.281142</td>\n",
       "    </tr>\n",
       "    <tr>\n",
       "      <th>86</th>\n",
       "      <td>anjl.rapid_nj</td>\n",
       "      <td>8500</td>\n",
       "      <td>2</td>\n",
       "      <td>65.419187</td>\n",
       "    </tr>\n",
       "  </tbody>\n",
       "</table>\n",
       "<p>270 rows × 4 columns</p>\n",
       "</div>"
      ],
      "text/plain": [
       "   implementation  size  rep       time\n",
       "0       BioPython    50    0   0.083560\n",
       "1       BioPython    50    1   0.060253\n",
       "2       BioPython    50    2   0.060644\n",
       "3       BioPython   100    0   0.443854\n",
       "4       BioPython   100    1   0.415457\n",
       "..            ...   ...  ...        ...\n",
       "82  anjl.rapid_nj  8000    1  58.074711\n",
       "83  anjl.rapid_nj  8000    2  49.088682\n",
       "84  anjl.rapid_nj  8500    0  62.453770\n",
       "85  anjl.rapid_nj  8500    1  69.281142\n",
       "86  anjl.rapid_nj  8500    2  65.419187\n",
       "\n",
       "[270 rows x 4 columns]"
      ]
     },
     "execution_count": 165,
     "metadata": {},
     "output_type": "execute_result"
    }
   ],
   "source": [
    "df_results = pd.concat(\n",
    "    [\n",
    "        df_biopython,\n",
    "        df_skbio,\n",
    "        df_biotite,\n",
    "        df_anjl_canonical,\n",
    "        df_anjl_rapid,\n",
    "    ],\n",
    "    axis=0,\n",
    ")\n",
    "df_results"
   ]
  },
  {
   "cell_type": "code",
   "execution_count": 166,
   "id": "420dc415-e0b3-4c02-98a8-1fd2517cf5e3",
   "metadata": {},
   "outputs": [],
   "source": [
    "df_results.to_csv(\"results.csv\")"
   ]
  },
  {
   "cell_type": "code",
   "execution_count": 167,
   "id": "52f5139c-84c3-4ceb-9cca-ecdbf8a7f788",
   "metadata": {},
   "outputs": [],
   "source": [
    "import plotly.express as px"
   ]
  },
  {
   "cell_type": "code",
   "execution_count": 168,
   "id": "e268f6c3-6bd2-4f52-8f6c-f9f0cc54d25b",
   "metadata": {},
   "outputs": [
    {
     "data": {
      "text/html": [
       "<div>\n",
       "<style scoped>\n",
       "    .dataframe tbody tr th:only-of-type {\n",
       "        vertical-align: middle;\n",
       "    }\n",
       "\n",
       "    .dataframe tbody tr th {\n",
       "        vertical-align: top;\n",
       "    }\n",
       "\n",
       "    .dataframe thead th {\n",
       "        text-align: right;\n",
       "    }\n",
       "</style>\n",
       "<table border=\"1\" class=\"dataframe\">\n",
       "  <thead>\n",
       "    <tr style=\"text-align: right;\">\n",
       "      <th></th>\n",
       "      <th>implementation</th>\n",
       "      <th>size</th>\n",
       "      <th>time_mean</th>\n",
       "      <th>time_std</th>\n",
       "    </tr>\n",
       "  </thead>\n",
       "  <tbody>\n",
       "    <tr>\n",
       "      <th>0</th>\n",
       "      <td>BioPython</td>\n",
       "      <td>50</td>\n",
       "      <td>0.068153</td>\n",
       "      <td>0.013345</td>\n",
       "    </tr>\n",
       "    <tr>\n",
       "      <th>1</th>\n",
       "      <td>BioPython</td>\n",
       "      <td>100</td>\n",
       "      <td>0.423633</td>\n",
       "      <td>0.017618</td>\n",
       "    </tr>\n",
       "    <tr>\n",
       "      <th>2</th>\n",
       "      <td>BioPython</td>\n",
       "      <td>150</td>\n",
       "      <td>1.364539</td>\n",
       "      <td>0.014279</td>\n",
       "    </tr>\n",
       "    <tr>\n",
       "      <th>3</th>\n",
       "      <td>BioPython</td>\n",
       "      <td>200</td>\n",
       "      <td>3.309717</td>\n",
       "      <td>0.021049</td>\n",
       "    </tr>\n",
       "    <tr>\n",
       "      <th>4</th>\n",
       "      <td>BioPython</td>\n",
       "      <td>300</td>\n",
       "      <td>11.333002</td>\n",
       "      <td>0.550450</td>\n",
       "    </tr>\n",
       "    <tr>\n",
       "      <th>...</th>\n",
       "      <td>...</td>\n",
       "      <td>...</td>\n",
       "      <td>...</td>\n",
       "      <td>...</td>\n",
       "    </tr>\n",
       "    <tr>\n",
       "      <th>85</th>\n",
       "      <td>scikit-bio</td>\n",
       "      <td>1200</td>\n",
       "      <td>12.021412</td>\n",
       "      <td>0.456461</td>\n",
       "    </tr>\n",
       "    <tr>\n",
       "      <th>86</th>\n",
       "      <td>scikit-bio</td>\n",
       "      <td>1400</td>\n",
       "      <td>19.193505</td>\n",
       "      <td>0.955617</td>\n",
       "    </tr>\n",
       "    <tr>\n",
       "      <th>87</th>\n",
       "      <td>scikit-bio</td>\n",
       "      <td>1600</td>\n",
       "      <td>26.680464</td>\n",
       "      <td>0.255991</td>\n",
       "    </tr>\n",
       "    <tr>\n",
       "      <th>88</th>\n",
       "      <td>scikit-bio</td>\n",
       "      <td>1800</td>\n",
       "      <td>40.109836</td>\n",
       "      <td>0.895637</td>\n",
       "    </tr>\n",
       "    <tr>\n",
       "      <th>89</th>\n",
       "      <td>scikit-bio</td>\n",
       "      <td>2000</td>\n",
       "      <td>50.910341</td>\n",
       "      <td>0.451290</td>\n",
       "    </tr>\n",
       "  </tbody>\n",
       "</table>\n",
       "<p>90 rows × 4 columns</p>\n",
       "</div>"
      ],
      "text/plain": [
       "   implementation  size  time_mean  time_std\n",
       "0       BioPython    50   0.068153  0.013345\n",
       "1       BioPython   100   0.423633  0.017618\n",
       "2       BioPython   150   1.364539  0.014279\n",
       "3       BioPython   200   3.309717  0.021049\n",
       "4       BioPython   300  11.333002  0.550450\n",
       "..            ...   ...        ...       ...\n",
       "85     scikit-bio  1200  12.021412  0.456461\n",
       "86     scikit-bio  1400  19.193505  0.955617\n",
       "87     scikit-bio  1600  26.680464  0.255991\n",
       "88     scikit-bio  1800  40.109836  0.895637\n",
       "89     scikit-bio  2000  50.910341  0.451290\n",
       "\n",
       "[90 rows x 4 columns]"
      ]
     },
     "execution_count": 168,
     "metadata": {},
     "output_type": "execute_result"
    }
   ],
   "source": [
    "df_plot = (\n",
    "    df_results.groupby([\"implementation\", \"size\"])\n",
    "    .agg(\n",
    "        time_mean=(\"time\", \"mean\"),\n",
    "        time_std=(\"time\", \"std\"),\n",
    "    )\n",
    "    .reset_index()\n",
    ")\n",
    "df_plot"
   ]
  },
  {
   "cell_type": "code",
   "execution_count": 169,
   "id": "854d27ea-65d9-4304-92d6-d3e260805fd4",
   "metadata": {},
   "outputs": [
    {
     "data": {
      "application/vnd.plotly.v1+json": {
       "config": {
        "plotlyServerURL": "https://plot.ly"
       },
       "data": [
        {
         "error_y": {
          "array": [
           0.013344843044078129,
           0.017617567179492047,
           0.014278806935613038,
           0.021048851077530767,
           0.5504496905519014,
           1.9970160540998032,
           0.5918123150994137
          ]
         },
         "hovertemplate": "implementation=BioPython<br>size=%{x}<br>time_mean=%{y}<extra></extra>",
         "legendgroup": "BioPython",
         "line": {
          "color": "#636efa",
          "dash": "solid"
         },
         "marker": {
          "symbol": "circle"
         },
         "mode": "lines",
         "name": "BioPython",
         "orientation": "v",
         "showlegend": true,
         "type": "scatter",
         "x": [
          50,
          100,
          150,
          200,
          300,
          400,
          500
         ],
         "xaxis": "x",
         "y": [
          0.06815258661905925,
          0.42363349596659344,
          1.364539384841919,
          3.3097170193990073,
          11.33300201098124,
          28.538904269536335,
          53.69931825002035
         ],
         "yaxis": "y"
        },
        {
         "error_y": {
          "array": [
           0.0004021861614992993,
           3.578609131103074e-05,
           0.00014490260596478728,
           0.0001485308202193632,
           0.0015091826753622934,
           0.02153922834399064,
           0.013849489558913436,
           0.01118678972027236,
           0.007916265675583777,
           0.02163896958404477,
           0.02169773246549691,
           0.083198863626105,
           0.062060946588007045,
           0.060360116339923386,
           0.09457855911379476,
           0.09593034183487806,
           0.2439270876723443,
           0.10348314397898135,
           0.11818130997907451,
           0.25327606094395344,
           0.38632135590760175,
           0.4813192051651533,
           3.8411184760733583
          ]
         },
         "hovertemplate": "implementation=anjl.canonical_nj<br>size=%{x}<br>time_mean=%{y}<extra></extra>",
         "legendgroup": "anjl.canonical_nj",
         "line": {
          "color": "#EF553B",
          "dash": "solid"
         },
         "marker": {
          "symbol": "circle"
         },
         "mode": "lines",
         "name": "anjl.canonical_nj",
         "orientation": "v",
         "showlegend": true,
         "type": "scatter",
         "x": [
          50,
          100,
          150,
          200,
          400,
          600,
          800,
          1000,
          1200,
          1400,
          1600,
          1800,
          2000,
          2200,
          2400,
          2600,
          2800,
          3000,
          3500,
          4000,
          4500,
          5000,
          5500
         ],
         "xaxis": "x",
         "y": [
          0.0003885428110758464,
          0.000552972157796224,
          0.0014231204986572266,
          0.004969278971354167,
          0.03145766258239746,
          0.06923151016235352,
          0.12860639890034994,
          0.23414945602416992,
          0.4084468682607015,
          0.6409767468770345,
          0.980542500813802,
          1.4738410313924153,
          2.2003716627756753,
          2.7470881938934326,
          3.957571029663086,
          5.363139708836873,
          6.434784332911174,
          7.957294623057048,
          13.838848193486532,
          22.03127670288086,
          33.54841613769531,
          48.14574670791626,
          69.7602367401123
         ],
         "yaxis": "y"
        },
        {
         "error_y": {
          "array": [
           0.0001547678188238734,
           0.0001318897301804716,
           0.0003616120874863497,
           0.0013884660104189388,
           0.0027687483380710804,
           0.0018196689706644904,
           0.008984806741028552,
           0.017713800298696993,
           0.015791877896929634,
           0.1076067102685506,
           0.08220349455399156,
           0.194111307743715,
           0.2554291195395276,
           0.3624139442243904,
           0.4980985954614524,
           0.5387227421232514,
           0.3704816802542446,
           0.4380080396823622,
           0.6325092462991094,
           0.8348751625465249,
           1.1188016122701747,
           1.4198941149785678,
           2.918107513508275,
           2.0741006830221824,
           2.1271279531866996,
           0.9622302008388331,
           4.3297434125561125,
           4.716730396202483,
           3.423482981510728
          ]
         },
         "hovertemplate": "implementation=anjl.rapid_nj<br>size=%{x}<br>time_mean=%{y}<extra></extra>",
         "legendgroup": "anjl.rapid_nj",
         "line": {
          "color": "#00cc96",
          "dash": "solid"
         },
         "marker": {
          "symbol": "circle"
         },
         "mode": "lines",
         "name": "anjl.rapid_nj",
         "orientation": "v",
         "showlegend": true,
         "type": "scatter",
         "x": [
          50,
          100,
          150,
          200,
          400,
          600,
          800,
          1000,
          1200,
          1400,
          1600,
          1800,
          2000,
          2200,
          2400,
          2600,
          2800,
          3000,
          3500,
          4000,
          4500,
          5000,
          5500,
          6000,
          6500,
          7000,
          7500,
          8000,
          8500
         ],
         "xaxis": "x",
         "y": [
          0.0007998943328857422,
          0.002251784006754557,
          0.0037082831064860025,
          0.009471972783406576,
          0.03069448471069336,
          0.07459346453348796,
          0.1342453956604004,
          0.21628093719482425,
          0.33916457494099933,
          0.5698556105295817,
          0.7350060145060221,
          1.0937686761220295,
          1.4652060667673747,
          1.9119446277618408,
          2.4118749300638833,
          3.049350102742513,
          3.415184179941813,
          4.229552507400513,
          5.880913098653157,
          8.552767276763916,
          11.806554317474363,
          15.064638376235962,
          21.149179220199585,
          25.08877404530843,
          30.211262782414753,
          35.87149739265442,
          44.853556394577026,
          54.41042415301005,
          65.7180331548055
         ],
         "yaxis": "y"
        },
        {
         "error_y": {
          "array": [
           0.0005216881271000567,
           0.00011112377685745456,
           0.0003704040638857449,
           0.0012456020330701195,
           0.000768202359295404,
           0.005166074964202742,
           0.010148683106174169,
           0.03173112110989177,
           0.018840613653764583,
           0.05732591385298023,
           0.14796605163321055,
           0.05730459204975987,
           0.2904632405064943,
           0.7191543874947963,
           0.06963581040953515,
           0.44577561091149703,
           0.6126506263435346,
           1.5879721953149095
          ]
         },
         "hovertemplate": "implementation=biotite<br>size=%{x}<br>time_mean=%{y}<extra></extra>",
         "legendgroup": "biotite",
         "line": {
          "color": "#ab63fa",
          "dash": "solid"
         },
         "marker": {
          "symbol": "circle"
         },
         "mode": "lines",
         "name": "biotite",
         "orientation": "v",
         "showlegend": true,
         "type": "scatter",
         "x": [
          50,
          100,
          150,
          200,
          400,
          600,
          800,
          1000,
          1200,
          1400,
          1600,
          1800,
          2000,
          2200,
          2400,
          2600,
          2800,
          3000
         ],
         "xaxis": "x",
         "y": [
          0.0010056495666503906,
          0.002361536026000977,
          0.005966742833455403,
          0.014311393102010092,
          0.09918506940205891,
          0.3473842144012451,
          0.8547495206197103,
          1.6975616614023843,
          2.9880682627360025,
          4.856666088104248,
          7.965861717859904,
          11.508480628331505,
          14.928932984670004,
          20.477197408676147,
          26.800433317820232,
          35.708203236262,
          45.908015727996826,
          57.656106313069664
         ],
         "yaxis": "y"
        },
        {
         "error_y": {
          "array": [
           0.01804722160516059,
           0.08611356170797342,
           0.12026709352721564,
           0.07231470643814965,
           0.005393942051236592,
           0.004094465635261512,
           0.20258782787378724,
           0.23131961474969803,
           0.45646062687026434,
           0.9556173816675152,
           0.25599121295499977,
           0.8956372222016408,
           0.451289845460252
          ]
         },
         "hovertemplate": "implementation=scikit-bio<br>size=%{x}<br>time_mean=%{y}<extra></extra>",
         "legendgroup": "scikit-bio",
         "line": {
          "color": "#FFA15A",
          "dash": "solid"
         },
         "marker": {
          "symbol": "circle"
         },
         "mode": "lines",
         "name": "scikit-bio",
         "orientation": "v",
         "showlegend": true,
         "type": "scatter",
         "x": [
          50,
          100,
          150,
          200,
          400,
          600,
          800,
          1000,
          1200,
          1400,
          1600,
          1800,
          2000
         ],
         "xaxis": "x",
         "y": [
          0.03628985087076823,
          0.2481874624888102,
          0.21430325508117676,
          0.13885927200317383,
          0.4215385913848877,
          1.3082551161448162,
          3.451815128326416,
          6.804013570149739,
          12.021412134170532,
          19.19350528717041,
          26.680463552474976,
          40.10983633995056,
          50.910340785980225
         ],
         "yaxis": "y"
        }
       ],
       "layout": {
        "height": 500,
        "legend": {
         "title": {
          "text": "implementation"
         },
         "tracegroupgap": 0
        },
        "margin": {
         "t": 60
        },
        "template": {
         "data": {
          "bar": [
           {
            "error_x": {
             "color": "#2a3f5f"
            },
            "error_y": {
             "color": "#2a3f5f"
            },
            "marker": {
             "line": {
              "color": "#E5ECF6",
              "width": 0.5
             },
             "pattern": {
              "fillmode": "overlay",
              "size": 10,
              "solidity": 0.2
             }
            },
            "type": "bar"
           }
          ],
          "barpolar": [
           {
            "marker": {
             "line": {
              "color": "#E5ECF6",
              "width": 0.5
             },
             "pattern": {
              "fillmode": "overlay",
              "size": 10,
              "solidity": 0.2
             }
            },
            "type": "barpolar"
           }
          ],
          "carpet": [
           {
            "aaxis": {
             "endlinecolor": "#2a3f5f",
             "gridcolor": "white",
             "linecolor": "white",
             "minorgridcolor": "white",
             "startlinecolor": "#2a3f5f"
            },
            "baxis": {
             "endlinecolor": "#2a3f5f",
             "gridcolor": "white",
             "linecolor": "white",
             "minorgridcolor": "white",
             "startlinecolor": "#2a3f5f"
            },
            "type": "carpet"
           }
          ],
          "choropleth": [
           {
            "colorbar": {
             "outlinewidth": 0,
             "ticks": ""
            },
            "type": "choropleth"
           }
          ],
          "contour": [
           {
            "colorbar": {
             "outlinewidth": 0,
             "ticks": ""
            },
            "colorscale": [
             [
              0,
              "#0d0887"
             ],
             [
              0.1111111111111111,
              "#46039f"
             ],
             [
              0.2222222222222222,
              "#7201a8"
             ],
             [
              0.3333333333333333,
              "#9c179e"
             ],
             [
              0.4444444444444444,
              "#bd3786"
             ],
             [
              0.5555555555555556,
              "#d8576b"
             ],
             [
              0.6666666666666666,
              "#ed7953"
             ],
             [
              0.7777777777777778,
              "#fb9f3a"
             ],
             [
              0.8888888888888888,
              "#fdca26"
             ],
             [
              1,
              "#f0f921"
             ]
            ],
            "type": "contour"
           }
          ],
          "contourcarpet": [
           {
            "colorbar": {
             "outlinewidth": 0,
             "ticks": ""
            },
            "type": "contourcarpet"
           }
          ],
          "heatmap": [
           {
            "colorbar": {
             "outlinewidth": 0,
             "ticks": ""
            },
            "colorscale": [
             [
              0,
              "#0d0887"
             ],
             [
              0.1111111111111111,
              "#46039f"
             ],
             [
              0.2222222222222222,
              "#7201a8"
             ],
             [
              0.3333333333333333,
              "#9c179e"
             ],
             [
              0.4444444444444444,
              "#bd3786"
             ],
             [
              0.5555555555555556,
              "#d8576b"
             ],
             [
              0.6666666666666666,
              "#ed7953"
             ],
             [
              0.7777777777777778,
              "#fb9f3a"
             ],
             [
              0.8888888888888888,
              "#fdca26"
             ],
             [
              1,
              "#f0f921"
             ]
            ],
            "type": "heatmap"
           }
          ],
          "heatmapgl": [
           {
            "colorbar": {
             "outlinewidth": 0,
             "ticks": ""
            },
            "colorscale": [
             [
              0,
              "#0d0887"
             ],
             [
              0.1111111111111111,
              "#46039f"
             ],
             [
              0.2222222222222222,
              "#7201a8"
             ],
             [
              0.3333333333333333,
              "#9c179e"
             ],
             [
              0.4444444444444444,
              "#bd3786"
             ],
             [
              0.5555555555555556,
              "#d8576b"
             ],
             [
              0.6666666666666666,
              "#ed7953"
             ],
             [
              0.7777777777777778,
              "#fb9f3a"
             ],
             [
              0.8888888888888888,
              "#fdca26"
             ],
             [
              1,
              "#f0f921"
             ]
            ],
            "type": "heatmapgl"
           }
          ],
          "histogram": [
           {
            "marker": {
             "pattern": {
              "fillmode": "overlay",
              "size": 10,
              "solidity": 0.2
             }
            },
            "type": "histogram"
           }
          ],
          "histogram2d": [
           {
            "colorbar": {
             "outlinewidth": 0,
             "ticks": ""
            },
            "colorscale": [
             [
              0,
              "#0d0887"
             ],
             [
              0.1111111111111111,
              "#46039f"
             ],
             [
              0.2222222222222222,
              "#7201a8"
             ],
             [
              0.3333333333333333,
              "#9c179e"
             ],
             [
              0.4444444444444444,
              "#bd3786"
             ],
             [
              0.5555555555555556,
              "#d8576b"
             ],
             [
              0.6666666666666666,
              "#ed7953"
             ],
             [
              0.7777777777777778,
              "#fb9f3a"
             ],
             [
              0.8888888888888888,
              "#fdca26"
             ],
             [
              1,
              "#f0f921"
             ]
            ],
            "type": "histogram2d"
           }
          ],
          "histogram2dcontour": [
           {
            "colorbar": {
             "outlinewidth": 0,
             "ticks": ""
            },
            "colorscale": [
             [
              0,
              "#0d0887"
             ],
             [
              0.1111111111111111,
              "#46039f"
             ],
             [
              0.2222222222222222,
              "#7201a8"
             ],
             [
              0.3333333333333333,
              "#9c179e"
             ],
             [
              0.4444444444444444,
              "#bd3786"
             ],
             [
              0.5555555555555556,
              "#d8576b"
             ],
             [
              0.6666666666666666,
              "#ed7953"
             ],
             [
              0.7777777777777778,
              "#fb9f3a"
             ],
             [
              0.8888888888888888,
              "#fdca26"
             ],
             [
              1,
              "#f0f921"
             ]
            ],
            "type": "histogram2dcontour"
           }
          ],
          "mesh3d": [
           {
            "colorbar": {
             "outlinewidth": 0,
             "ticks": ""
            },
            "type": "mesh3d"
           }
          ],
          "parcoords": [
           {
            "line": {
             "colorbar": {
              "outlinewidth": 0,
              "ticks": ""
             }
            },
            "type": "parcoords"
           }
          ],
          "pie": [
           {
            "automargin": true,
            "type": "pie"
           }
          ],
          "scatter": [
           {
            "fillpattern": {
             "fillmode": "overlay",
             "size": 10,
             "solidity": 0.2
            },
            "type": "scatter"
           }
          ],
          "scatter3d": [
           {
            "line": {
             "colorbar": {
              "outlinewidth": 0,
              "ticks": ""
             }
            },
            "marker": {
             "colorbar": {
              "outlinewidth": 0,
              "ticks": ""
             }
            },
            "type": "scatter3d"
           }
          ],
          "scattercarpet": [
           {
            "marker": {
             "colorbar": {
              "outlinewidth": 0,
              "ticks": ""
             }
            },
            "type": "scattercarpet"
           }
          ],
          "scattergeo": [
           {
            "marker": {
             "colorbar": {
              "outlinewidth": 0,
              "ticks": ""
             }
            },
            "type": "scattergeo"
           }
          ],
          "scattergl": [
           {
            "marker": {
             "colorbar": {
              "outlinewidth": 0,
              "ticks": ""
             }
            },
            "type": "scattergl"
           }
          ],
          "scattermapbox": [
           {
            "marker": {
             "colorbar": {
              "outlinewidth": 0,
              "ticks": ""
             }
            },
            "type": "scattermapbox"
           }
          ],
          "scatterpolar": [
           {
            "marker": {
             "colorbar": {
              "outlinewidth": 0,
              "ticks": ""
             }
            },
            "type": "scatterpolar"
           }
          ],
          "scatterpolargl": [
           {
            "marker": {
             "colorbar": {
              "outlinewidth": 0,
              "ticks": ""
             }
            },
            "type": "scatterpolargl"
           }
          ],
          "scatterternary": [
           {
            "marker": {
             "colorbar": {
              "outlinewidth": 0,
              "ticks": ""
             }
            },
            "type": "scatterternary"
           }
          ],
          "surface": [
           {
            "colorbar": {
             "outlinewidth": 0,
             "ticks": ""
            },
            "colorscale": [
             [
              0,
              "#0d0887"
             ],
             [
              0.1111111111111111,
              "#46039f"
             ],
             [
              0.2222222222222222,
              "#7201a8"
             ],
             [
              0.3333333333333333,
              "#9c179e"
             ],
             [
              0.4444444444444444,
              "#bd3786"
             ],
             [
              0.5555555555555556,
              "#d8576b"
             ],
             [
              0.6666666666666666,
              "#ed7953"
             ],
             [
              0.7777777777777778,
              "#fb9f3a"
             ],
             [
              0.8888888888888888,
              "#fdca26"
             ],
             [
              1,
              "#f0f921"
             ]
            ],
            "type": "surface"
           }
          ],
          "table": [
           {
            "cells": {
             "fill": {
              "color": "#EBF0F8"
             },
             "line": {
              "color": "white"
             }
            },
            "header": {
             "fill": {
              "color": "#C8D4E3"
             },
             "line": {
              "color": "white"
             }
            },
            "type": "table"
           }
          ]
         },
         "layout": {
          "annotationdefaults": {
           "arrowcolor": "#2a3f5f",
           "arrowhead": 0,
           "arrowwidth": 1
          },
          "autotypenumbers": "strict",
          "coloraxis": {
           "colorbar": {
            "outlinewidth": 0,
            "ticks": ""
           }
          },
          "colorscale": {
           "diverging": [
            [
             0,
             "#8e0152"
            ],
            [
             0.1,
             "#c51b7d"
            ],
            [
             0.2,
             "#de77ae"
            ],
            [
             0.3,
             "#f1b6da"
            ],
            [
             0.4,
             "#fde0ef"
            ],
            [
             0.5,
             "#f7f7f7"
            ],
            [
             0.6,
             "#e6f5d0"
            ],
            [
             0.7,
             "#b8e186"
            ],
            [
             0.8,
             "#7fbc41"
            ],
            [
             0.9,
             "#4d9221"
            ],
            [
             1,
             "#276419"
            ]
           ],
           "sequential": [
            [
             0,
             "#0d0887"
            ],
            [
             0.1111111111111111,
             "#46039f"
            ],
            [
             0.2222222222222222,
             "#7201a8"
            ],
            [
             0.3333333333333333,
             "#9c179e"
            ],
            [
             0.4444444444444444,
             "#bd3786"
            ],
            [
             0.5555555555555556,
             "#d8576b"
            ],
            [
             0.6666666666666666,
             "#ed7953"
            ],
            [
             0.7777777777777778,
             "#fb9f3a"
            ],
            [
             0.8888888888888888,
             "#fdca26"
            ],
            [
             1,
             "#f0f921"
            ]
           ],
           "sequentialminus": [
            [
             0,
             "#0d0887"
            ],
            [
             0.1111111111111111,
             "#46039f"
            ],
            [
             0.2222222222222222,
             "#7201a8"
            ],
            [
             0.3333333333333333,
             "#9c179e"
            ],
            [
             0.4444444444444444,
             "#bd3786"
            ],
            [
             0.5555555555555556,
             "#d8576b"
            ],
            [
             0.6666666666666666,
             "#ed7953"
            ],
            [
             0.7777777777777778,
             "#fb9f3a"
            ],
            [
             0.8888888888888888,
             "#fdca26"
            ],
            [
             1,
             "#f0f921"
            ]
           ]
          },
          "colorway": [
           "#636efa",
           "#EF553B",
           "#00cc96",
           "#ab63fa",
           "#FFA15A",
           "#19d3f3",
           "#FF6692",
           "#B6E880",
           "#FF97FF",
           "#FECB52"
          ],
          "font": {
           "color": "#2a3f5f"
          },
          "geo": {
           "bgcolor": "white",
           "lakecolor": "white",
           "landcolor": "#E5ECF6",
           "showlakes": true,
           "showland": true,
           "subunitcolor": "white"
          },
          "hoverlabel": {
           "align": "left"
          },
          "hovermode": "closest",
          "mapbox": {
           "style": "light"
          },
          "paper_bgcolor": "white",
          "plot_bgcolor": "#E5ECF6",
          "polar": {
           "angularaxis": {
            "gridcolor": "white",
            "linecolor": "white",
            "ticks": ""
           },
           "bgcolor": "#E5ECF6",
           "radialaxis": {
            "gridcolor": "white",
            "linecolor": "white",
            "ticks": ""
           }
          },
          "scene": {
           "xaxis": {
            "backgroundcolor": "#E5ECF6",
            "gridcolor": "white",
            "gridwidth": 2,
            "linecolor": "white",
            "showbackground": true,
            "ticks": "",
            "zerolinecolor": "white"
           },
           "yaxis": {
            "backgroundcolor": "#E5ECF6",
            "gridcolor": "white",
            "gridwidth": 2,
            "linecolor": "white",
            "showbackground": true,
            "ticks": "",
            "zerolinecolor": "white"
           },
           "zaxis": {
            "backgroundcolor": "#E5ECF6",
            "gridcolor": "white",
            "gridwidth": 2,
            "linecolor": "white",
            "showbackground": true,
            "ticks": "",
            "zerolinecolor": "white"
           }
          },
          "shapedefaults": {
           "line": {
            "color": "#2a3f5f"
           }
          },
          "ternary": {
           "aaxis": {
            "gridcolor": "white",
            "linecolor": "white",
            "ticks": ""
           },
           "baxis": {
            "gridcolor": "white",
            "linecolor": "white",
            "ticks": ""
           },
           "bgcolor": "#E5ECF6",
           "caxis": {
            "gridcolor": "white",
            "linecolor": "white",
            "ticks": ""
           }
          },
          "title": {
           "x": 0.05
          },
          "xaxis": {
           "automargin": true,
           "gridcolor": "white",
           "linecolor": "white",
           "ticks": "",
           "title": {
            "standoff": 15
           },
           "zerolinecolor": "white",
           "zerolinewidth": 2
          },
          "yaxis": {
           "automargin": true,
           "gridcolor": "white",
           "linecolor": "white",
           "ticks": "",
           "title": {
            "standoff": 15
           },
           "zerolinecolor": "white",
           "zerolinewidth": 2
          }
         }
        },
        "title": {
         "text": "Neighbour-joining performance"
        },
        "width": 800,
        "xaxis": {
         "anchor": "y",
         "autorange": true,
         "domain": [
          0,
          1
         ],
         "range": [
          -419.44444444444446,
          8969.444444444445
         ],
         "title": {
          "text": "size"
         },
         "type": "linear"
        },
        "yaxis": {
         "anchor": "x",
         "autorange": true,
         "domain": [
          0,
          1
         ],
         "range": [
          -4.088978579991318,
          77.69032015282656
         ],
         "title": {
          "text": "time_mean"
         },
         "type": "linear"
        }
       }
      },
      "image/png": "[encoded data removed]",
      "text/html": [
       "<div>                            <div id=\"ed0da45e-1f54-4a65-a807-238318ce008d\" class=\"plotly-graph-div\" style=\"height:500px; width:800px;\"></div>            <script type=\"text/javascript\">                require([\"plotly\"], function(Plotly) {                    window.PLOTLYENV=window.PLOTLYENV || {};                                    if (document.getElementById(\"ed0da45e-1f54-4a65-a807-238318ce008d\")) {                    Plotly.newPlot(                        \"ed0da45e-1f54-4a65-a807-238318ce008d\",                        [{\"error_y\":{\"array\":[0.013344843044078127,0.017617567179492047,0.014278806935613038,0.021048851077530767,0.5504496905519014,1.9970160540998034,0.5918123150994137]},\"hovertemplate\":\"implementation=BioPython\\u003cbr\\u003esize=%{x}\\u003cbr\\u003etime_mean=%{y}\\u003cextra\\u003e\\u003c\\u002fextra\\u003e\",\"legendgroup\":\"BioPython\",\"line\":{\"color\":\"#636efa\",\"dash\":\"solid\"},\"marker\":{\"symbol\":\"circle\"},\"mode\":\"lines\",\"name\":\"BioPython\",\"orientation\":\"v\",\"showlegend\":true,\"x\":[50,100,150,200,300,400,500],\"xaxis\":\"x\",\"y\":[0.06815258661905925,0.42363349596659344,1.364539384841919,3.3097170193990073,11.333002010981241,28.538904269536335,53.69931825002035],\"yaxis\":\"y\",\"type\":\"scatter\"},{\"error_y\":{\"array\":[0.0004021861614992993,0.00003578609131103074,0.00014490260596478728,0.0001485308202193632,0.0015091826753622934,0.02153922834399064,0.013849489558913436,0.01118678972027236,0.007916265675583777,0.02163896958404477,0.02169773246549691,0.083198863626105,0.062060946588007045,0.060360116339923386,0.09457855911379476,0.09593034183487806,0.2439270876723443,0.10348314397898135,0.11818130997907451,0.25327606094395344,0.38632135590760175,0.48131920516515325,3.8411184760733588]},\"hovertemplate\":\"implementation=anjl.canonical_nj\\u003cbr\\u003esize=%{x}\\u003cbr\\u003etime_mean=%{y}\\u003cextra\\u003e\\u003c\\u002fextra\\u003e\",\"legendgroup\":\"anjl.canonical_nj\",\"line\":{\"color\":\"#EF553B\",\"dash\":\"solid\"},\"marker\":{\"symbol\":\"circle\"},\"mode\":\"lines\",\"name\":\"anjl.canonical_nj\",\"orientation\":\"v\",\"showlegend\":true,\"x\":[50,100,150,200,400,600,800,1000,1200,1400,1600,1800,2000,2200,2400,2600,2800,3000,3500,4000,4500,5000,5500],\"xaxis\":\"x\",\"y\":[0.00038854281107584637,0.000552972157796224,0.0014231204986572266,0.004969278971354167,0.03145766258239746,0.06923151016235352,0.12860639890034994,0.23414945602416992,0.4084468682607015,0.6409767468770345,0.9805425008138021,1.4738410313924153,2.2003716627756753,2.7470881938934326,3.957571029663086,5.363139708836873,6.434784332911174,7.957294623057048,13.838848193486532,22.03127670288086,33.54841613769531,48.14574670791626,69.7602367401123],\"yaxis\":\"y\",\"type\":\"scatter\"},{\"error_y\":{\"array\":[0.00015476781882387341,0.0001318897301804716,0.0003616120874863497,0.0013884660104189388,0.0027687483380710804,0.0018196689706644906,0.008984806741028552,0.017713800298696993,0.015791877896929634,0.10760671026855059,0.08220349455399156,0.194111307743715,0.2554291195395276,0.36241394422439044,0.4980985954614524,0.5387227421232514,0.3704816802542446,0.4380080396823622,0.6325092462991094,0.8348751625465249,1.1188016122701747,1.4198941149785678,2.918107513508275,2.0741006830221824,2.1271279531866996,0.9622302008388331,4.3297434125561125,4.716730396202483,3.423482981510728]},\"hovertemplate\":\"implementation=anjl.rapid_nj\\u003cbr\\u003esize=%{x}\\u003cbr\\u003etime_mean=%{y}\\u003cextra\\u003e\\u003c\\u002fextra\\u003e\",\"legendgroup\":\"anjl.rapid_nj\",\"line\":{\"color\":\"#00cc96\",\"dash\":\"solid\"},\"marker\":{\"symbol\":\"circle\"},\"mode\":\"lines\",\"name\":\"anjl.rapid_nj\",\"orientation\":\"v\",\"showlegend\":true,\"x\":[50,100,150,200,400,600,800,1000,1200,1400,1600,1800,2000,2200,2400,2600,2800,3000,3500,4000,4500,5000,5500,6000,6500,7000,7500,8000,8500],\"xaxis\":\"x\",\"y\":[0.0007998943328857422,0.002251784006754557,0.0037082831064860025,0.009471972783406576,0.03069448471069336,0.07459346453348796,0.1342453956604004,0.21628093719482422,0.33916457494099933,0.5698556105295817,0.7350060145060221,1.0937686761220295,1.4652060667673747,1.9119446277618408,2.4118749300638833,3.049350102742513,3.415184179941813,4.229552507400513,5.880913098653157,8.552767276763916,11.806554317474365,15.064638376235962,21.149179220199585,25.08877404530843,30.211262782414753,35.87149739265442,44.853556394577026,54.41042415301005,65.7180331548055],\"yaxis\":\"y\",\"type\":\"scatter\"},{\"error_y\":{\"array\":[0.0005216881271000567,0.00011112377685745455,0.00037040406388574485,0.0012456020330701197,0.000768202359295404,0.005166074964202742,0.010148683106174169,0.03173112110989177,0.018840613653764583,0.05732591385298023,0.14796605163321055,0.05730459204975987,0.2904632405064943,0.7191543874947963,0.06963581040953515,0.44577561091149703,0.6126506263435346,1.5879721953149095]},\"hovertemplate\":\"implementation=biotite\\u003cbr\\u003esize=%{x}\\u003cbr\\u003etime_mean=%{y}\\u003cextra\\u003e\\u003c\\u002fextra\\u003e\",\"legendgroup\":\"biotite\",\"line\":{\"color\":\"#ab63fa\",\"dash\":\"solid\"},\"marker\":{\"symbol\":\"circle\"},\"mode\":\"lines\",\"name\":\"biotite\",\"orientation\":\"v\",\"showlegend\":true,\"x\":[50,100,150,200,400,600,800,1000,1200,1400,1600,1800,2000,2200,2400,2600,2800,3000],\"xaxis\":\"x\",\"y\":[0.0010056495666503906,0.0023615360260009766,0.005966742833455403,0.014311393102010092,0.09918506940205891,0.3473842144012451,0.8547495206197103,1.6975616614023845,2.9880682627360025,4.856666088104248,7.965861717859904,11.508480628331503,14.928932984670004,20.477197408676147,26.800433317820232,35.708203236262,45.908015727996826,57.656106313069664],\"yaxis\":\"y\",\"type\":\"scatter\"},{\"error_y\":{\"array\":[0.01804722160516059,0.08611356170797342,0.12026709352721565,0.07231470643814965,0.005393942051236592,0.004094465635261512,0.20258782787378724,0.23131961474969803,0.45646062687026434,0.9556173816675151,0.25599121295499977,0.8956372222016408,0.451289845460252]},\"hovertemplate\":\"implementation=scikit-bio\\u003cbr\\u003esize=%{x}\\u003cbr\\u003etime_mean=%{y}\\u003cextra\\u003e\\u003c\\u002fextra\\u003e\",\"legendgroup\":\"scikit-bio\",\"line\":{\"color\":\"#FFA15A\",\"dash\":\"solid\"},\"marker\":{\"symbol\":\"circle\"},\"mode\":\"lines\",\"name\":\"scikit-bio\",\"orientation\":\"v\",\"showlegend\":true,\"x\":[50,100,150,200,400,600,800,1000,1200,1400,1600,1800,2000],\"xaxis\":\"x\",\"y\":[0.03628985087076823,0.2481874624888102,0.21430325508117676,0.13885927200317383,0.4215385913848877,1.3082551161448162,3.451815128326416,6.804013570149739,12.021412134170532,19.19350528717041,26.680463552474976,40.10983633995056,50.910340785980225],\"yaxis\":\"y\",\"type\":\"scatter\"}],                        {\"template\":{\"data\":{\"histogram2dcontour\":[{\"type\":\"histogram2dcontour\",\"colorbar\":{\"outlinewidth\":0,\"ticks\":\"\"},\"colorscale\":[[0.0,\"#0d0887\"],[0.1111111111111111,\"#46039f\"],[0.2222222222222222,\"#7201a8\"],[0.3333333333333333,\"#9c179e\"],[0.4444444444444444,\"#bd3786\"],[0.5555555555555556,\"#d8576b\"],[0.6666666666666666,\"#ed7953\"],[0.7777777777777778,\"#fb9f3a\"],[0.8888888888888888,\"#fdca26\"],[1.0,\"#f0f921\"]]}],\"choropleth\":[{\"type\":\"choropleth\",\"colorbar\":{\"outlinewidth\":0,\"ticks\":\"\"}}],\"histogram2d\":[{\"type\":\"histogram2d\",\"colorbar\":{\"outlinewidth\":0,\"ticks\":\"\"},\"colorscale\":[[0.0,\"#0d0887\"],[0.1111111111111111,\"#46039f\"],[0.2222222222222222,\"#7201a8\"],[0.3333333333333333,\"#9c179e\"],[0.4444444444444444,\"#bd3786\"],[0.5555555555555556,\"#d8576b\"],[0.6666666666666666,\"#ed7953\"],[0.7777777777777778,\"#fb9f3a\"],[0.8888888888888888,\"#fdca26\"],[1.0,\"#f0f921\"]]}],\"heatmap\":[{\"type\":\"heatmap\",\"colorbar\":{\"outlinewidth\":0,\"ticks\":\"\"},\"colorscale\":[[0.0,\"#0d0887\"],[0.1111111111111111,\"#46039f\"],[0.2222222222222222,\"#7201a8\"],[0.3333333333333333,\"#9c179e\"],[0.4444444444444444,\"#bd3786\"],[0.5555555555555556,\"#d8576b\"],[0.6666666666666666,\"#ed7953\"],[0.7777777777777778,\"#fb9f3a\"],[0.8888888888888888,\"#fdca26\"],[1.0,\"#f0f921\"]]}],\"heatmapgl\":[{\"type\":\"heatmapgl\",\"colorbar\":{\"outlinewidth\":0,\"ticks\":\"\"},\"colorscale\":[[0.0,\"#0d0887\"],[0.1111111111111111,\"#46039f\"],[0.2222222222222222,\"#7201a8\"],[0.3333333333333333,\"#9c179e\"],[0.4444444444444444,\"#bd3786\"],[0.5555555555555556,\"#d8576b\"],[0.6666666666666666,\"#ed7953\"],[0.7777777777777778,\"#fb9f3a\"],[0.8888888888888888,\"#fdca26\"],[1.0,\"#f0f921\"]]}],\"contourcarpet\":[{\"type\":\"contourcarpet\",\"colorbar\":{\"outlinewidth\":0,\"ticks\":\"\"}}],\"contour\":[{\"type\":\"contour\",\"colorbar\":{\"outlinewidth\":0,\"ticks\":\"\"},\"colorscale\":[[0.0,\"#0d0887\"],[0.1111111111111111,\"#46039f\"],[0.2222222222222222,\"#7201a8\"],[0.3333333333333333,\"#9c179e\"],[0.4444444444444444,\"#bd3786\"],[0.5555555555555556,\"#d8576b\"],[0.6666666666666666,\"#ed7953\"],[0.7777777777777778,\"#fb9f3a\"],[0.8888888888888888,\"#fdca26\"],[1.0,\"#f0f921\"]]}],\"surface\":[{\"type\":\"surface\",\"colorbar\":{\"outlinewidth\":0,\"ticks\":\"\"},\"colorscale\":[[0.0,\"#0d0887\"],[0.1111111111111111,\"#46039f\"],[0.2222222222222222,\"#7201a8\"],[0.3333333333333333,\"#9c179e\"],[0.4444444444444444,\"#bd3786\"],[0.5555555555555556,\"#d8576b\"],[0.6666666666666666,\"#ed7953\"],[0.7777777777777778,\"#fb9f3a\"],[0.8888888888888888,\"#fdca26\"],[1.0,\"#f0f921\"]]}],\"mesh3d\":[{\"type\":\"mesh3d\",\"colorbar\":{\"outlinewidth\":0,\"ticks\":\"\"}}],\"scatter\":[{\"fillpattern\":{\"fillmode\":\"overlay\",\"size\":10,\"solidity\":0.2},\"type\":\"scatter\"}],\"parcoords\":[{\"type\":\"parcoords\",\"line\":{\"colorbar\":{\"outlinewidth\":0,\"ticks\":\"\"}}}],\"scatterpolargl\":[{\"type\":\"scatterpolargl\",\"marker\":{\"colorbar\":{\"outlinewidth\":0,\"ticks\":\"\"}}}],\"bar\":[{\"error_x\":{\"color\":\"#2a3f5f\"},\"error_y\":{\"color\":\"#2a3f5f\"},\"marker\":{\"line\":{\"color\":\"#E5ECF6\",\"width\":0.5},\"pattern\":{\"fillmode\":\"overlay\",\"size\":10,\"solidity\":0.2}},\"type\":\"bar\"}],\"scattergeo\":[{\"type\":\"scattergeo\",\"marker\":{\"colorbar\":{\"outlinewidth\":0,\"ticks\":\"\"}}}],\"scatterpolar\":[{\"type\":\"scatterpolar\",\"marker\":{\"colorbar\":{\"outlinewidth\":0,\"ticks\":\"\"}}}],\"histogram\":[{\"marker\":{\"pattern\":{\"fillmode\":\"overlay\",\"size\":10,\"solidity\":0.2}},\"type\":\"histogram\"}],\"scattergl\":[{\"type\":\"scattergl\",\"marker\":{\"colorbar\":{\"outlinewidth\":0,\"ticks\":\"\"}}}],\"scatter3d\":[{\"type\":\"scatter3d\",\"line\":{\"colorbar\":{\"outlinewidth\":0,\"ticks\":\"\"}},\"marker\":{\"colorbar\":{\"outlinewidth\":0,\"ticks\":\"\"}}}],\"scattermapbox\":[{\"type\":\"scattermapbox\",\"marker\":{\"colorbar\":{\"outlinewidth\":0,\"ticks\":\"\"}}}],\"scatterternary\":[{\"type\":\"scatterternary\",\"marker\":{\"colorbar\":{\"outlinewidth\":0,\"ticks\":\"\"}}}],\"scattercarpet\":[{\"type\":\"scattercarpet\",\"marker\":{\"colorbar\":{\"outlinewidth\":0,\"ticks\":\"\"}}}],\"carpet\":[{\"aaxis\":{\"endlinecolor\":\"#2a3f5f\",\"gridcolor\":\"white\",\"linecolor\":\"white\",\"minorgridcolor\":\"white\",\"startlinecolor\":\"#2a3f5f\"},\"baxis\":{\"endlinecolor\":\"#2a3f5f\",\"gridcolor\":\"white\",\"linecolor\":\"white\",\"minorgridcolor\":\"white\",\"startlinecolor\":\"#2a3f5f\"},\"type\":\"carpet\"}],\"table\":[{\"cells\":{\"fill\":{\"color\":\"#EBF0F8\"},\"line\":{\"color\":\"white\"}},\"header\":{\"fill\":{\"color\":\"#C8D4E3\"},\"line\":{\"color\":\"white\"}},\"type\":\"table\"}],\"barpolar\":[{\"marker\":{\"line\":{\"color\":\"#E5ECF6\",\"width\":0.5},\"pattern\":{\"fillmode\":\"overlay\",\"size\":10,\"solidity\":0.2}},\"type\":\"barpolar\"}],\"pie\":[{\"automargin\":true,\"type\":\"pie\"}]},\"layout\":{\"autotypenumbers\":\"strict\",\"colorway\":[\"#636efa\",\"#EF553B\",\"#00cc96\",\"#ab63fa\",\"#FFA15A\",\"#19d3f3\",\"#FF6692\",\"#B6E880\",\"#FF97FF\",\"#FECB52\"],\"font\":{\"color\":\"#2a3f5f\"},\"hovermode\":\"closest\",\"hoverlabel\":{\"align\":\"left\"},\"paper_bgcolor\":\"white\",\"plot_bgcolor\":\"#E5ECF6\",\"polar\":{\"bgcolor\":\"#E5ECF6\",\"angularaxis\":{\"gridcolor\":\"white\",\"linecolor\":\"white\",\"ticks\":\"\"},\"radialaxis\":{\"gridcolor\":\"white\",\"linecolor\":\"white\",\"ticks\":\"\"}},\"ternary\":{\"bgcolor\":\"#E5ECF6\",\"aaxis\":{\"gridcolor\":\"white\",\"linecolor\":\"white\",\"ticks\":\"\"},\"baxis\":{\"gridcolor\":\"white\",\"linecolor\":\"white\",\"ticks\":\"\"},\"caxis\":{\"gridcolor\":\"white\",\"linecolor\":\"white\",\"ticks\":\"\"}},\"coloraxis\":{\"colorbar\":{\"outlinewidth\":0,\"ticks\":\"\"}},\"colorscale\":{\"sequential\":[[0.0,\"#0d0887\"],[0.1111111111111111,\"#46039f\"],[0.2222222222222222,\"#7201a8\"],[0.3333333333333333,\"#9c179e\"],[0.4444444444444444,\"#bd3786\"],[0.5555555555555556,\"#d8576b\"],[0.6666666666666666,\"#ed7953\"],[0.7777777777777778,\"#fb9f3a\"],[0.8888888888888888,\"#fdca26\"],[1.0,\"#f0f921\"]],\"sequentialminus\":[[0.0,\"#0d0887\"],[0.1111111111111111,\"#46039f\"],[0.2222222222222222,\"#7201a8\"],[0.3333333333333333,\"#9c179e\"],[0.4444444444444444,\"#bd3786\"],[0.5555555555555556,\"#d8576b\"],[0.6666666666666666,\"#ed7953\"],[0.7777777777777778,\"#fb9f3a\"],[0.8888888888888888,\"#fdca26\"],[1.0,\"#f0f921\"]],\"diverging\":[[0,\"#8e0152\"],[0.1,\"#c51b7d\"],[0.2,\"#de77ae\"],[0.3,\"#f1b6da\"],[0.4,\"#fde0ef\"],[0.5,\"#f7f7f7\"],[0.6,\"#e6f5d0\"],[0.7,\"#b8e186\"],[0.8,\"#7fbc41\"],[0.9,\"#4d9221\"],[1,\"#276419\"]]},\"xaxis\":{\"gridcolor\":\"white\",\"linecolor\":\"white\",\"ticks\":\"\",\"title\":{\"standoff\":15},\"zerolinecolor\":\"white\",\"automargin\":true,\"zerolinewidth\":2},\"yaxis\":{\"gridcolor\":\"white\",\"linecolor\":\"white\",\"ticks\":\"\",\"title\":{\"standoff\":15},\"zerolinecolor\":\"white\",\"automargin\":true,\"zerolinewidth\":2},\"scene\":{\"xaxis\":{\"backgroundcolor\":\"#E5ECF6\",\"gridcolor\":\"white\",\"linecolor\":\"white\",\"showbackground\":true,\"ticks\":\"\",\"zerolinecolor\":\"white\",\"gridwidth\":2},\"yaxis\":{\"backgroundcolor\":\"#E5ECF6\",\"gridcolor\":\"white\",\"linecolor\":\"white\",\"showbackground\":true,\"ticks\":\"\",\"zerolinecolor\":\"white\",\"gridwidth\":2},\"zaxis\":{\"backgroundcolor\":\"#E5ECF6\",\"gridcolor\":\"white\",\"linecolor\":\"white\",\"showbackground\":true,\"ticks\":\"\",\"zerolinecolor\":\"white\",\"gridwidth\":2}},\"shapedefaults\":{\"line\":{\"color\":\"#2a3f5f\"}},\"annotationdefaults\":{\"arrowcolor\":\"#2a3f5f\",\"arrowhead\":0,\"arrowwidth\":1},\"geo\":{\"bgcolor\":\"white\",\"landcolor\":\"#E5ECF6\",\"subunitcolor\":\"white\",\"showland\":true,\"showlakes\":true,\"lakecolor\":\"white\"},\"title\":{\"x\":0.05},\"mapbox\":{\"style\":\"light\"}}},\"xaxis\":{\"anchor\":\"y\",\"domain\":[0.0,1.0],\"title\":{\"text\":\"size\"}},\"yaxis\":{\"anchor\":\"x\",\"domain\":[0.0,1.0],\"title\":{\"text\":\"time_mean\"}},\"legend\":{\"title\":{\"text\":\"implementation\"},\"tracegroupgap\":0},\"margin\":{\"t\":60},\"height\":500,\"width\":800,\"title\":{\"text\":\"Neighbour-joining performance\"}},                        {\"responsive\": true}                    ).then(function(){\n",
       "                            \n",
       "var gd = document.getElementById('ed0da45e-1f54-4a65-a807-238318ce008d');\n",
       "var x = new MutationObserver(function (mutations, observer) {{\n",
       "        var display = window.getComputedStyle(gd).display;\n",
       "        if (!display || display === 'none') {{\n",
       "            console.log([gd, 'removed!']);\n",
       "            Plotly.purge(gd);\n",
       "            observer.disconnect();\n",
       "        }}\n",
       "}});\n",
       "\n",
       "// Listen for the removal of the full notebook cells\n",
       "var notebookContainer = gd.closest('#notebook-container');\n",
       "if (notebookContainer) {{\n",
       "    x.observe(notebookContainer, {childList: true});\n",
       "}}\n",
       "\n",
       "// Listen for the clearing of the current output cell\n",
       "var outputEl = gd.closest('.output');\n",
       "if (outputEl) {{\n",
       "    x.observe(outputEl, {childList: true});\n",
       "}}\n",
       "\n",
       "                        })                };                });            </script>        </div>"
      ]
     },
     "metadata": {},
     "output_type": "display_data"
    }
   ],
   "source": [
    "fig = px.line(\n",
    "    df_plot,\n",
    "    x=\"size\",\n",
    "    y=\"time_mean\",\n",
    "    error_y=\"time_std\",\n",
    "    width=800,\n",
    "    height=500,\n",
    "    color=\"implementation\",\n",
    "    # log_y=True,\n",
    "    # log_x=True,\n",
    ")\n",
    "fig.update_layout(\n",
    "    title=\"Neighbour-joining performance\",\n",
    ")"
   ]
  },
  {
   "cell_type": "code",
   "execution_count": null,
   "id": "d0aa1bf3-987e-435d-aefe-9d1a881a4e71",
   "metadata": {},
   "outputs": [],
   "source": []
  }
 ],
 "metadata": {
  "kernelspec": {
   "display_name": "Python (Pixi)",
   "language": "python",
   "name": "pixi-kernel-python3"
  },
  "language_info": {
   "codemirror_mode": {
    "name": "ipython",
    "version": 3
   },
   "file_extension": ".py",
   "mimetype": "text/x-python",
   "name": "python",
   "nbconvert_exporter": "python",
   "pygments_lexer": "ipython3",
   "version": "3.12.7"
  }
 },
 "nbformat": 4,
 "nbformat_minor": 5
}
