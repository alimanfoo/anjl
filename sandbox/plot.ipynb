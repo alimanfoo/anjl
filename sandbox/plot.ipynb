{
 "cells": [
  {
   "cell_type": "markdown",
   "id": "95612ea7-0860-4649-b1e0-e2cc22c7a529",
   "metadata": {},
   "source": [
    "# Plotting"
   ]
  },
  {
   "cell_type": "code",
   "execution_count": 1,
   "id": "864df6fb-3976-4e02-a9d6-bba8cfd709cd",
   "metadata": {},
   "outputs": [],
   "source": [
    "import anjl\n",
    "import plotly.io\n",
    "import zarr\n",
    "from scipy.spatial.distance import squareform\n",
    "import pandas as pd\n",
    "import numpy as np\n",
    "from plotly.subplots import make_subplots\n",
    "\n",
    "plotly.io.renderers.default = \"plotly_mimetype+notebook_connected\""
   ]
  },
  {
   "cell_type": "markdown",
   "id": "e8ac2d6e-6338-4921-84a8-775b6847a304",
   "metadata": {},
   "source": [
    "## Example 1"
   ]
  },
  {
   "cell_type": "code",
   "execution_count": 2,
   "id": "ff9823e8-a955-41e2-8cbd-14c2cb2144de",
   "metadata": {},
   "outputs": [
    {
     "data": {
      "text/plain": [
       "array([[ 0.,  4.,  5., 10.],\n",
       "       [ 4.,  0.,  7., 12.],\n",
       "       [ 5.,  7.,  0.,  9.],\n",
       "       [10., 12.,  9.,  0.]], dtype=float32)"
      ]
     },
     "execution_count": 2,
     "metadata": {},
     "output_type": "execute_result"
    }
   ],
   "source": [
    "D1, _ = anjl.data.example_1()\n",
    "D1"
   ]
  },
  {
   "cell_type": "code",
   "execution_count": 3,
   "id": "089473fd-ff21-4811-93d7-15d2009d6635",
   "metadata": {},
   "outputs": [
    {
     "data": {
      "text/plain": [
       "array([[0. , 1. , 1. , 3. , 2. ],\n",
       "       [2. , 4. , 2. , 2. , 3. ],\n",
       "       [3. , 5. , 3.5, 3.5, 4. ]], dtype=float32)"
      ]
     },
     "execution_count": 3,
     "metadata": {},
     "output_type": "execute_result"
    }
   ],
   "source": [
    "Z1d = anjl.dynamic_nj(D1)\n",
    "Z1d"
   ]
  },
  {
   "cell_type": "code",
   "execution_count": 4,
   "id": "3a1d1471-825a-452a-918d-2ece876de63d",
   "metadata": {},
   "outputs": [
    {
     "data": {
      "text/plain": [
       "array([[0. , 1. , 1. , 3. , 2. ],\n",
       "       [2. , 4. , 2. , 2. , 3. ],\n",
       "       [3. , 5. , 3.5, 3.5, 4. ]], dtype=float32)"
      ]
     },
     "execution_count": 4,
     "metadata": {},
     "output_type": "execute_result"
    }
   ],
   "source": [
    "Z1r = anjl.rapid_nj(D1)\n",
    "Z1r"
   ]
  },
  {
   "cell_type": "code",
   "execution_count": 5,
   "id": "94dc2d29-f58e-40c0-9570-8b5a249acba0",
   "metadata": {},
   "outputs": [
    {
     "data": {
      "text/plain": [
       "array([[ 0.,  4.,  5., 10.],\n",
       "       [ 4.,  0.,  7., 12.],\n",
       "       [ 5.,  7.,  0.,  9.],\n",
       "       [10., 12.,  9.,  0.]], dtype=float32)"
      ]
     },
     "execution_count": 5,
     "metadata": {},
     "output_type": "execute_result"
    }
   ],
   "source": [
    "D1"
   ]
  },
  {
   "cell_type": "code",
   "execution_count": 12,
   "id": "8181afed-6929-44fc-b939-c9eb4caa172d",
   "metadata": {},
   "outputs": [
    {
     "name": "stdout",
     "output_type": "stream",
     "text": [
      "0 1 4 0\n",
      "0 2 4 1\n",
      "0 3 4 2\n",
      "0 1 4 0\n",
      "1 2 4 3\n",
      "1 3 4 4\n",
      "0 2 4 1\n",
      "1 2 4 3\n",
      "2 3 4 5\n",
      "0 3 4 2\n",
      "1 3 4 4\n",
      "2 3 4 5\n",
      "Z [[0. 0. 0. 0. 0.]\n",
      " [0. 0. 0. 0. 0.]\n",
      " [0. 0. 0. 0. 0.]]\n",
      "0 1 4 0\n",
      "0 2 4 1\n",
      "0 3 4 2\n",
      "1 2 4 3\n",
      "1 3 4 4\n",
      "2 3 4 5\n",
      "0 1 4 0\n",
      "0 2 4 1\n",
      "1 2 4 3\n",
      "0 2 4 1\n",
      "0 3 4 2\n",
      "1 3 4 4\n",
      "0 3 4 2\n",
      "Z [[0. 1. 1. 3. 2.]\n",
      " [0. 0. 0. 0. 0.]\n",
      " [0. 0. 0. 0. 0.]]\n",
      "0 2 4 1\n",
      "0 3 4 2\n",
      "2 3 4 5\n",
      "0 2 4 1\n",
      "2 3 4 5\n",
      "0 3 4 2\n",
      "2 3 4 5\n",
      "Z [[0. 1. 1. 3. 2.]\n",
      " [2. 4. 2. 2. 3.]\n",
      " [0. 0. 0. 0. 0.]]\n",
      "2 3 4 5\n"
     ]
    },
    {
     "data": {
      "text/plain": [
       "array([[0. , 1. , 1. , 3. , 2. ],\n",
       "       [2. , 4. , 2. , 2. , 3. ],\n",
       "       [3. , 5. , 3.5, 3.5, 4. ]], dtype=float32)"
      ]
     },
     "execution_count": 12,
     "metadata": {},
     "output_type": "execute_result"
    }
   ],
   "source": [
    "Z1 = anjl.canonical_nj(D1)\n",
    "Z1"
   ]
  },
  {
   "cell_type": "code",
   "execution_count": 17,
   "id": "498e1f06-d95c-4475-ba2d-08b1e606d856",
   "metadata": {},
   "outputs": [
    {
     "name": "stdout",
     "output_type": "stream",
     "text": [
      "Node(id=6, dist=0, count=4)\n",
      "    Leaf(id=3, dist=3.5)\n",
      "    Node(id=5, dist=3.5, count=3)\n",
      "        Leaf(id=2, dist=2.0)\n",
      "        Node(id=4, dist=2.0, count=2)\n",
      "            Leaf(id=0, dist=1.0)\n",
      "            Leaf(id=1, dist=3.0)\n",
      "Node(id=6, dist=0, count=4)\n",
      "    Leaf(id=3, dist=3.5)\n",
      "    Node(id=5, dist=3.5, count=3)\n",
      "        Leaf(id=2, dist=2.0)\n",
      "        Node(id=4, dist=2.0, count=2)\n",
      "            Leaf(id=0, dist=1.0)\n",
      "            Leaf(id=1, dist=3.0)\n",
      "Node(id=6, dist=0, count=4)\n",
      "    Leaf(id=3, dist=3.5)\n",
      "    Node(id=5, dist=3.5, count=3)\n",
      "        Leaf(id=2, dist=2.0)\n",
      "        Node(id=4, dist=2.0, count=2)\n",
      "            Leaf(id=0, dist=1.0)\n",
      "            Leaf(id=1, dist=3.0)\n"
     ]
    }
   ],
   "source": [
    "print(anjl.to_string(Z1d))\n",
    "print(anjl.to_string(Z1r))\n",
    "print(anjl.to_string(Z1))"
   ]
  },
  {
   "cell_type": "code",
   "execution_count": 18,
   "id": "2fd8f499-5e6a-4631-b164-bae20dd09a76",
   "metadata": {},
   "outputs": [
    {
     "data": {
      "text/html": [
       "        <script type=\"text/javascript\">\n",
       "        window.PlotlyConfig = {MathJaxConfig: 'local'};\n",
       "        if (window.MathJax && window.MathJax.Hub && window.MathJax.Hub.Config) {window.MathJax.Hub.Config({SVG: {font: \"STIX-Web\"}});}\n",
       "        if (typeof require !== 'undefined') {\n",
       "        require.undef(\"plotly\");\n",
       "        requirejs.config({\n",
       "            paths: {\n",
       "                'plotly': ['https://cdn.plot.ly/plotly-2.35.2.min']\n",
       "            }\n",
       "        });\n",
       "        require(['plotly'], function(Plotly) {\n",
       "            window._Plotly = Plotly;\n",
       "        });\n",
       "        }\n",
       "        </script>\n",
       "        "
      ]
     },
     "metadata": {},
     "output_type": "display_data"
    },
    {
     "data": {
      "application/vnd.plotly.v1+json": {
       "config": {
        "plotlyServerURL": "https://plot.ly"
       },
       "data": [
        {
         "hovertemplate": "x=%{x}<br>y=%{y}<extra></extra>",
         "legendgroup": "",
         "line": {
          "color": "#636efa",
          "dash": "solid",
          "width": 1
         },
         "marker": {
          "symbol": "circle"
         },
         "mode": "lines",
         "name": "",
         "orientation": "v",
         "showlegend": false,
         "type": "scatter",
         "x": [
          0,
          2.4748737812042236,
          null,
          0,
          -2.4748737812042236,
          null,
          -2.4748737812042236,
          -1.0606602430343628,
          null,
          -2.4748737812042236,
          -4.4748735427856445,
          null,
          -4.4748735427856445,
          -5.181980133056641,
          null,
          -4.4748735427856445,
          -6.596193790435791,
          null
         ],
         "xaxis": "x",
         "y": [
          0,
          2.4748737812042236,
          null,
          0,
          -2.4748737812042236,
          null,
          -2.4748737812042236,
          -3.889087200164795,
          null,
          -2.4748737812042236,
          -2.4748737812042236,
          null,
          -2.4748737812042236,
          -3.181980609893799,
          null,
          -2.4748737812042236,
          -0.35355353355407715,
          null
         ],
         "yaxis": "y"
        },
        {
         "hovertemplate": "<b>%{hovertext}</b><br><br>x=%{x}<br>y=%{y}<extra></extra>",
         "hovertext": [
          1,
          0,
          2,
          3
         ],
         "legendgroup": "",
         "marker": {
          "color": "#636efa",
          "size": 5,
          "symbol": "circle"
         },
         "mode": "markers",
         "name": "",
         "orientation": "v",
         "showlegend": false,
         "type": "scatter",
         "x": [
          -6.596193790435791,
          -5.181980133056641,
          -1.0606602430343628,
          2.4748737812042236
         ],
         "xaxis": "x",
         "y": [
          -0.35355353355407715,
          -3.181980609893799,
          -3.889087200164795,
          2.4748737812042236
         ],
         "yaxis": "y"
        },
        {
         "hovertemplate": "<b>%{hovertext}</b><br><br>x=%{x}<br>y=%{y}<extra></extra>",
         "hovertext": [
          6,
          5,
          4
         ],
         "legendgroup": "",
         "marker": {
          "color": "#636efa",
          "size": 5,
          "symbol": "circle"
         },
         "mode": "markers",
         "name": "",
         "orientation": "v",
         "showlegend": false,
         "type": "scatter",
         "x": [
          0,
          -2.4748737812042236,
          -4.4748735427856445
         ],
         "xaxis": "x",
         "y": [
          0,
          -2.4748737812042236,
          -2.4748737812042236
         ],
         "yaxis": "y"
        },
        {
         "hovertemplate": "x=%{x}<br>y=%{y}<extra></extra>",
         "legendgroup": "",
         "line": {
          "color": "#636efa",
          "dash": "solid",
          "width": 1
         },
         "marker": {
          "symbol": "circle"
         },
         "mode": "lines",
         "name": "",
         "orientation": "v",
         "showlegend": false,
         "type": "scatter",
         "x": [
          0,
          2.4748737812042236,
          null,
          0,
          -2.4748737812042236,
          null,
          -2.4748737812042236,
          -1.0606602430343628,
          null,
          -2.4748737812042236,
          -4.4748735427856445,
          null,
          -4.4748735427856445,
          -5.181980133056641,
          null,
          -4.4748735427856445,
          -6.596193790435791,
          null
         ],
         "xaxis": "x2",
         "y": [
          0,
          2.4748737812042236,
          null,
          0,
          -2.4748737812042236,
          null,
          -2.4748737812042236,
          -3.889087200164795,
          null,
          -2.4748737812042236,
          -2.4748737812042236,
          null,
          -2.4748737812042236,
          -3.181980609893799,
          null,
          -2.4748737812042236,
          -0.35355353355407715,
          null
         ],
         "yaxis": "y2"
        },
        {
         "hovertemplate": "<b>%{hovertext}</b><br><br>x=%{x}<br>y=%{y}<extra></extra>",
         "hovertext": [
          1,
          0,
          2,
          3
         ],
         "legendgroup": "",
         "marker": {
          "color": "#636efa",
          "size": 5,
          "symbol": "circle"
         },
         "mode": "markers",
         "name": "",
         "orientation": "v",
         "showlegend": false,
         "type": "scatter",
         "x": [
          -6.596193790435791,
          -5.181980133056641,
          -1.0606602430343628,
          2.4748737812042236
         ],
         "xaxis": "x2",
         "y": [
          -0.35355353355407715,
          -3.181980609893799,
          -3.889087200164795,
          2.4748737812042236
         ],
         "yaxis": "y2"
        },
        {
         "hovertemplate": "<b>%{hovertext}</b><br><br>x=%{x}<br>y=%{y}<extra></extra>",
         "hovertext": [
          6,
          5,
          4
         ],
         "legendgroup": "",
         "marker": {
          "color": "#636efa",
          "size": 5,
          "symbol": "circle"
         },
         "mode": "markers",
         "name": "",
         "orientation": "v",
         "showlegend": false,
         "type": "scatter",
         "x": [
          0,
          -2.4748737812042236,
          -4.4748735427856445
         ],
         "xaxis": "x2",
         "y": [
          0,
          -2.4748737812042236,
          -2.4748737812042236
         ],
         "yaxis": "y2"
        },
        {
         "hovertemplate": "x=%{x}<br>y=%{y}<extra></extra>",
         "legendgroup": "",
         "line": {
          "color": "#636efa",
          "dash": "solid",
          "width": 1
         },
         "marker": {
          "symbol": "circle"
         },
         "mode": "lines",
         "name": "",
         "orientation": "v",
         "showlegend": false,
         "type": "scatter",
         "x": [
          0,
          2.4748737812042236,
          null,
          0,
          -2.4748737812042236,
          null,
          -2.4748737812042236,
          -1.0606602430343628,
          null,
          -2.4748737812042236,
          -4.4748735427856445,
          null,
          -4.4748735427856445,
          -5.181980133056641,
          null,
          -4.4748735427856445,
          -6.596193790435791,
          null
         ],
         "xaxis": "x3",
         "y": [
          0,
          2.4748737812042236,
          null,
          0,
          -2.4748737812042236,
          null,
          -2.4748737812042236,
          -3.889087200164795,
          null,
          -2.4748737812042236,
          -2.4748737812042236,
          null,
          -2.4748737812042236,
          -3.181980609893799,
          null,
          -2.4748737812042236,
          -0.35355353355407715,
          null
         ],
         "yaxis": "y3"
        },
        {
         "hovertemplate": "<b>%{hovertext}</b><br><br>x=%{x}<br>y=%{y}<extra></extra>",
         "hovertext": [
          1,
          0,
          2,
          3
         ],
         "legendgroup": "",
         "marker": {
          "color": "#636efa",
          "size": 5,
          "symbol": "circle"
         },
         "mode": "markers",
         "name": "",
         "orientation": "v",
         "showlegend": false,
         "type": "scatter",
         "x": [
          -6.596193790435791,
          -5.181980133056641,
          -1.0606602430343628,
          2.4748737812042236
         ],
         "xaxis": "x3",
         "y": [
          -0.35355353355407715,
          -3.181980609893799,
          -3.889087200164795,
          2.4748737812042236
         ],
         "yaxis": "y3"
        },
        {
         "hovertemplate": "<b>%{hovertext}</b><br><br>x=%{x}<br>y=%{y}<extra></extra>",
         "hovertext": [
          6,
          5,
          4
         ],
         "legendgroup": "",
         "marker": {
          "color": "#636efa",
          "size": 5,
          "symbol": "circle"
         },
         "mode": "markers",
         "name": "",
         "orientation": "v",
         "showlegend": false,
         "type": "scatter",
         "x": [
          0,
          -2.4748737812042236,
          -4.4748735427856445
         ],
         "xaxis": "x3",
         "y": [
          0,
          -2.4748737812042236,
          -2.4748737812042236
         ],
         "yaxis": "y3"
        }
       ],
       "layout": {
        "annotations": [
         {
          "font": {
           "size": 16
          },
          "showarrow": false,
          "text": "Canonical",
          "x": 0.16,
          "xanchor": "center",
          "xref": "paper",
          "y": 1,
          "yanchor": "bottom",
          "yref": "paper"
         },
         {
          "font": {
           "size": 16
          },
          "showarrow": false,
          "text": "Rapid",
          "x": 0.5,
          "xanchor": "center",
          "xref": "paper",
          "y": 1,
          "yanchor": "bottom",
          "yref": "paper"
         },
         {
          "font": {
           "size": 16
          },
          "showarrow": false,
          "text": "Dynamic",
          "x": 0.8400000000000001,
          "xanchor": "center",
          "xref": "paper",
          "y": 1,
          "yanchor": "bottom",
          "yref": "paper"
         }
        ],
        "height": 450,
        "showlegend": false,
        "template": {
         "data": {
          "bar": [
           {
            "error_x": {
             "color": "#2a3f5f"
            },
            "error_y": {
             "color": "#2a3f5f"
            },
            "marker": {
             "line": {
              "color": "#E5ECF6",
              "width": 0.5
             },
             "pattern": {
              "fillmode": "overlay",
              "size": 10,
              "solidity": 0.2
             }
            },
            "type": "bar"
           }
          ],
          "barpolar": [
           {
            "marker": {
             "line": {
              "color": "#E5ECF6",
              "width": 0.5
             },
             "pattern": {
              "fillmode": "overlay",
              "size": 10,
              "solidity": 0.2
             }
            },
            "type": "barpolar"
           }
          ],
          "carpet": [
           {
            "aaxis": {
             "endlinecolor": "#2a3f5f",
             "gridcolor": "white",
             "linecolor": "white",
             "minorgridcolor": "white",
             "startlinecolor": "#2a3f5f"
            },
            "baxis": {
             "endlinecolor": "#2a3f5f",
             "gridcolor": "white",
             "linecolor": "white",
             "minorgridcolor": "white",
             "startlinecolor": "#2a3f5f"
            },
            "type": "carpet"
           }
          ],
          "choropleth": [
           {
            "colorbar": {
             "outlinewidth": 0,
             "ticks": ""
            },
            "type": "choropleth"
           }
          ],
          "contour": [
           {
            "colorbar": {
             "outlinewidth": 0,
             "ticks": ""
            },
            "colorscale": [
             [
              0,
              "#0d0887"
             ],
             [
              0.1111111111111111,
              "#46039f"
             ],
             [
              0.2222222222222222,
              "#7201a8"
             ],
             [
              0.3333333333333333,
              "#9c179e"
             ],
             [
              0.4444444444444444,
              "#bd3786"
             ],
             [
              0.5555555555555556,
              "#d8576b"
             ],
             [
              0.6666666666666666,
              "#ed7953"
             ],
             [
              0.7777777777777778,
              "#fb9f3a"
             ],
             [
              0.8888888888888888,
              "#fdca26"
             ],
             [
              1,
              "#f0f921"
             ]
            ],
            "type": "contour"
           }
          ],
          "contourcarpet": [
           {
            "colorbar": {
             "outlinewidth": 0,
             "ticks": ""
            },
            "type": "contourcarpet"
           }
          ],
          "heatmap": [
           {
            "colorbar": {
             "outlinewidth": 0,
             "ticks": ""
            },
            "colorscale": [
             [
              0,
              "#0d0887"
             ],
             [
              0.1111111111111111,
              "#46039f"
             ],
             [
              0.2222222222222222,
              "#7201a8"
             ],
             [
              0.3333333333333333,
              "#9c179e"
             ],
             [
              0.4444444444444444,
              "#bd3786"
             ],
             [
              0.5555555555555556,
              "#d8576b"
             ],
             [
              0.6666666666666666,
              "#ed7953"
             ],
             [
              0.7777777777777778,
              "#fb9f3a"
             ],
             [
              0.8888888888888888,
              "#fdca26"
             ],
             [
              1,
              "#f0f921"
             ]
            ],
            "type": "heatmap"
           }
          ],
          "heatmapgl": [
           {
            "colorbar": {
             "outlinewidth": 0,
             "ticks": ""
            },
            "colorscale": [
             [
              0,
              "#0d0887"
             ],
             [
              0.1111111111111111,
              "#46039f"
             ],
             [
              0.2222222222222222,
              "#7201a8"
             ],
             [
              0.3333333333333333,
              "#9c179e"
             ],
             [
              0.4444444444444444,
              "#bd3786"
             ],
             [
              0.5555555555555556,
              "#d8576b"
             ],
             [
              0.6666666666666666,
              "#ed7953"
             ],
             [
              0.7777777777777778,
              "#fb9f3a"
             ],
             [
              0.8888888888888888,
              "#fdca26"
             ],
             [
              1,
              "#f0f921"
             ]
            ],
            "type": "heatmapgl"
           }
          ],
          "histogram": [
           {
            "marker": {
             "pattern": {
              "fillmode": "overlay",
              "size": 10,
              "solidity": 0.2
             }
            },
            "type": "histogram"
           }
          ],
          "histogram2d": [
           {
            "colorbar": {
             "outlinewidth": 0,
             "ticks": ""
            },
            "colorscale": [
             [
              0,
              "#0d0887"
             ],
             [
              0.1111111111111111,
              "#46039f"
             ],
             [
              0.2222222222222222,
              "#7201a8"
             ],
             [
              0.3333333333333333,
              "#9c179e"
             ],
             [
              0.4444444444444444,
              "#bd3786"
             ],
             [
              0.5555555555555556,
              "#d8576b"
             ],
             [
              0.6666666666666666,
              "#ed7953"
             ],
             [
              0.7777777777777778,
              "#fb9f3a"
             ],
             [
              0.8888888888888888,
              "#fdca26"
             ],
             [
              1,
              "#f0f921"
             ]
            ],
            "type": "histogram2d"
           }
          ],
          "histogram2dcontour": [
           {
            "colorbar": {
             "outlinewidth": 0,
             "ticks": ""
            },
            "colorscale": [
             [
              0,
              "#0d0887"
             ],
             [
              0.1111111111111111,
              "#46039f"
             ],
             [
              0.2222222222222222,
              "#7201a8"
             ],
             [
              0.3333333333333333,
              "#9c179e"
             ],
             [
              0.4444444444444444,
              "#bd3786"
             ],
             [
              0.5555555555555556,
              "#d8576b"
             ],
             [
              0.6666666666666666,
              "#ed7953"
             ],
             [
              0.7777777777777778,
              "#fb9f3a"
             ],
             [
              0.8888888888888888,
              "#fdca26"
             ],
             [
              1,
              "#f0f921"
             ]
            ],
            "type": "histogram2dcontour"
           }
          ],
          "mesh3d": [
           {
            "colorbar": {
             "outlinewidth": 0,
             "ticks": ""
            },
            "type": "mesh3d"
           }
          ],
          "parcoords": [
           {
            "line": {
             "colorbar": {
              "outlinewidth": 0,
              "ticks": ""
             }
            },
            "type": "parcoords"
           }
          ],
          "pie": [
           {
            "automargin": true,
            "type": "pie"
           }
          ],
          "scatter": [
           {
            "fillpattern": {
             "fillmode": "overlay",
             "size": 10,
             "solidity": 0.2
            },
            "type": "scatter"
           }
          ],
          "scatter3d": [
           {
            "line": {
             "colorbar": {
              "outlinewidth": 0,
              "ticks": ""
             }
            },
            "marker": {
             "colorbar": {
              "outlinewidth": 0,
              "ticks": ""
             }
            },
            "type": "scatter3d"
           }
          ],
          "scattercarpet": [
           {
            "marker": {
             "colorbar": {
              "outlinewidth": 0,
              "ticks": ""
             }
            },
            "type": "scattercarpet"
           }
          ],
          "scattergeo": [
           {
            "marker": {
             "colorbar": {
              "outlinewidth": 0,
              "ticks": ""
             }
            },
            "type": "scattergeo"
           }
          ],
          "scattergl": [
           {
            "marker": {
             "colorbar": {
              "outlinewidth": 0,
              "ticks": ""
             }
            },
            "type": "scattergl"
           }
          ],
          "scattermapbox": [
           {
            "marker": {
             "colorbar": {
              "outlinewidth": 0,
              "ticks": ""
             }
            },
            "type": "scattermapbox"
           }
          ],
          "scatterpolar": [
           {
            "marker": {
             "colorbar": {
              "outlinewidth": 0,
              "ticks": ""
             }
            },
            "type": "scatterpolar"
           }
          ],
          "scatterpolargl": [
           {
            "marker": {
             "colorbar": {
              "outlinewidth": 0,
              "ticks": ""
             }
            },
            "type": "scatterpolargl"
           }
          ],
          "scatterternary": [
           {
            "marker": {
             "colorbar": {
              "outlinewidth": 0,
              "ticks": ""
             }
            },
            "type": "scatterternary"
           }
          ],
          "surface": [
           {
            "colorbar": {
             "outlinewidth": 0,
             "ticks": ""
            },
            "colorscale": [
             [
              0,
              "#0d0887"
             ],
             [
              0.1111111111111111,
              "#46039f"
             ],
             [
              0.2222222222222222,
              "#7201a8"
             ],
             [
              0.3333333333333333,
              "#9c179e"
             ],
             [
              0.4444444444444444,
              "#bd3786"
             ],
             [
              0.5555555555555556,
              "#d8576b"
             ],
             [
              0.6666666666666666,
              "#ed7953"
             ],
             [
              0.7777777777777778,
              "#fb9f3a"
             ],
             [
              0.8888888888888888,
              "#fdca26"
             ],
             [
              1,
              "#f0f921"
             ]
            ],
            "type": "surface"
           }
          ],
          "table": [
           {
            "cells": {
             "fill": {
              "color": "#EBF0F8"
             },
             "line": {
              "color": "white"
             }
            },
            "header": {
             "fill": {
              "color": "#C8D4E3"
             },
             "line": {
              "color": "white"
             }
            },
            "type": "table"
           }
          ]
         },
         "layout": {
          "annotationdefaults": {
           "arrowcolor": "#2a3f5f",
           "arrowhead": 0,
           "arrowwidth": 1
          },
          "autotypenumbers": "strict",
          "coloraxis": {
           "colorbar": {
            "outlinewidth": 0,
            "ticks": ""
           }
          },
          "colorscale": {
           "diverging": [
            [
             0,
             "#8e0152"
            ],
            [
             0.1,
             "#c51b7d"
            ],
            [
             0.2,
             "#de77ae"
            ],
            [
             0.3,
             "#f1b6da"
            ],
            [
             0.4,
             "#fde0ef"
            ],
            [
             0.5,
             "#f7f7f7"
            ],
            [
             0.6,
             "#e6f5d0"
            ],
            [
             0.7,
             "#b8e186"
            ],
            [
             0.8,
             "#7fbc41"
            ],
            [
             0.9,
             "#4d9221"
            ],
            [
             1,
             "#276419"
            ]
           ],
           "sequential": [
            [
             0,
             "#0d0887"
            ],
            [
             0.1111111111111111,
             "#46039f"
            ],
            [
             0.2222222222222222,
             "#7201a8"
            ],
            [
             0.3333333333333333,
             "#9c179e"
            ],
            [
             0.4444444444444444,
             "#bd3786"
            ],
            [
             0.5555555555555556,
             "#d8576b"
            ],
            [
             0.6666666666666666,
             "#ed7953"
            ],
            [
             0.7777777777777778,
             "#fb9f3a"
            ],
            [
             0.8888888888888888,
             "#fdca26"
            ],
            [
             1,
             "#f0f921"
            ]
           ],
           "sequentialminus": [
            [
             0,
             "#0d0887"
            ],
            [
             0.1111111111111111,
             "#46039f"
            ],
            [
             0.2222222222222222,
             "#7201a8"
            ],
            [
             0.3333333333333333,
             "#9c179e"
            ],
            [
             0.4444444444444444,
             "#bd3786"
            ],
            [
             0.5555555555555556,
             "#d8576b"
            ],
            [
             0.6666666666666666,
             "#ed7953"
            ],
            [
             0.7777777777777778,
             "#fb9f3a"
            ],
            [
             0.8888888888888888,
             "#fdca26"
            ],
            [
             1,
             "#f0f921"
            ]
           ]
          },
          "colorway": [
           "#636efa",
           "#EF553B",
           "#00cc96",
           "#ab63fa",
           "#FFA15A",
           "#19d3f3",
           "#FF6692",
           "#B6E880",
           "#FF97FF",
           "#FECB52"
          ],
          "font": {
           "color": "#2a3f5f"
          },
          "geo": {
           "bgcolor": "white",
           "lakecolor": "white",
           "landcolor": "#E5ECF6",
           "showlakes": true,
           "showland": true,
           "subunitcolor": "white"
          },
          "hoverlabel": {
           "align": "left"
          },
          "hovermode": "closest",
          "mapbox": {
           "style": "light"
          },
          "paper_bgcolor": "white",
          "plot_bgcolor": "#E5ECF6",
          "polar": {
           "angularaxis": {
            "gridcolor": "white",
            "linecolor": "white",
            "ticks": ""
           },
           "bgcolor": "#E5ECF6",
           "radialaxis": {
            "gridcolor": "white",
            "linecolor": "white",
            "ticks": ""
           }
          },
          "scene": {
           "xaxis": {
            "backgroundcolor": "#E5ECF6",
            "gridcolor": "white",
            "gridwidth": 2,
            "linecolor": "white",
            "showbackground": true,
            "ticks": "",
            "zerolinecolor": "white"
           },
           "yaxis": {
            "backgroundcolor": "#E5ECF6",
            "gridcolor": "white",
            "gridwidth": 2,
            "linecolor": "white",
            "showbackground": true,
            "ticks": "",
            "zerolinecolor": "white"
           },
           "zaxis": {
            "backgroundcolor": "#E5ECF6",
            "gridcolor": "white",
            "gridwidth": 2,
            "linecolor": "white",
            "showbackground": true,
            "ticks": "",
            "zerolinecolor": "white"
           }
          },
          "shapedefaults": {
           "line": {
            "color": "#2a3f5f"
           }
          },
          "ternary": {
           "aaxis": {
            "gridcolor": "white",
            "linecolor": "white",
            "ticks": ""
           },
           "baxis": {
            "gridcolor": "white",
            "linecolor": "white",
            "ticks": ""
           },
           "bgcolor": "#E5ECF6",
           "caxis": {
            "gridcolor": "white",
            "linecolor": "white",
            "ticks": ""
           }
          },
          "title": {
           "x": 0.05
          },
          "xaxis": {
           "automargin": true,
           "gridcolor": "white",
           "linecolor": "white",
           "ticks": "",
           "title": {
            "standoff": 15
           },
           "zerolinecolor": "white",
           "zerolinewidth": 2
          },
          "yaxis": {
           "automargin": true,
           "gridcolor": "white",
           "linecolor": "white",
           "ticks": "",
           "title": {
            "standoff": 15
           },
           "zerolinecolor": "white",
           "zerolinewidth": 2
          }
         }
        },
        "width": 1100,
        "xaxis": {
         "anchor": "y",
         "autorange": true,
         "domain": [
          0,
          0.32
         ],
         "range": [
          -7.219235883825744,
          3.0979158745941766
         ],
         "type": "linear"
        },
        "xaxis2": {
         "anchor": "y2",
         "autorange": true,
         "domain": [
          0.34,
          0.66
         ],
         "range": [
          -7.219235883825744,
          3.0979158745941766
         ],
         "type": "linear"
        },
        "xaxis3": {
         "anchor": "y3",
         "autorange": true,
         "domain": [
          0.68,
          1
         ],
         "range": [
          -7.219235883825744,
          3.0979158745941766
         ],
         "type": "linear"
        },
        "yaxis": {
         "anchor": "x",
         "autorange": true,
         "domain": [
          0,
          1
         ],
         "range": [
          -4.335975695688596,
          2.9217622767280247
         ],
         "type": "linear"
        },
        "yaxis2": {
         "anchor": "x2",
         "autorange": true,
         "domain": [
          0,
          1
         ],
         "range": [
          -4.335975695688596,
          2.9217622767280247
         ],
         "type": "linear"
        },
        "yaxis3": {
         "anchor": "x3",
         "autorange": true,
         "domain": [
          0,
          1
         ],
         "range": [
          -4.335975695688596,
          2.9217622767280247
         ],
         "type": "linear"
        }
       }
      },
      "image/png": "[encoded data removed]",
      "text/html": [
       "<div>                            <div id=\"ebaa7ecb-c996-4e0e-90ab-bd6225335879\" class=\"plotly-graph-div\" style=\"height:450px; width:1100px;\"></div>            <script type=\"text/javascript\">                require([\"plotly\"], function(Plotly) {                    window.PLOTLYENV=window.PLOTLYENV || {};                                    if (document.getElementById(\"ebaa7ecb-c996-4e0e-90ab-bd6225335879\")) {                    Plotly.newPlot(                        \"ebaa7ecb-c996-4e0e-90ab-bd6225335879\",                        [{\"hovertemplate\":\"x=%{x}\\u003cbr\\u003ey=%{y}\\u003cextra\\u003e\\u003c\\u002fextra\\u003e\",\"legendgroup\":\"\",\"line\":{\"color\":\"#636efa\",\"dash\":\"solid\",\"width\":1},\"marker\":{\"symbol\":\"circle\"},\"mode\":\"lines\",\"name\":\"\",\"orientation\":\"v\",\"showlegend\":false,\"x\":[0.0,2.4748737812042236,null,0.0,-2.4748737812042236,null,-2.4748737812042236,-1.0606602430343628,null,-2.4748737812042236,-4.4748735427856445,null,-4.4748735427856445,-5.181980133056641,null,-4.4748735427856445,-6.596193790435791,null],\"xaxis\":\"x\",\"y\":[0.0,2.4748737812042236,null,0.0,-2.4748737812042236,null,-2.4748737812042236,-3.889087200164795,null,-2.4748737812042236,-2.4748737812042236,null,-2.4748737812042236,-3.181980609893799,null,-2.4748737812042236,-0.35355353355407715,null],\"yaxis\":\"y\",\"type\":\"scatter\"},{\"hovertemplate\":\"\\u003cb\\u003e%{hovertext}\\u003c\\u002fb\\u003e\\u003cbr\\u003e\\u003cbr\\u003ex=%{x}\\u003cbr\\u003ey=%{y}\\u003cextra\\u003e\\u003c\\u002fextra\\u003e\",\"hovertext\":[1.0,0.0,2.0,3.0],\"legendgroup\":\"\",\"marker\":{\"color\":\"#636efa\",\"size\":5,\"symbol\":\"circle\"},\"mode\":\"markers\",\"name\":\"\",\"orientation\":\"v\",\"showlegend\":false,\"x\":[-6.596193790435791,-5.181980133056641,-1.0606602430343628,2.4748737812042236],\"xaxis\":\"x\",\"y\":[-0.35355353355407715,-3.181980609893799,-3.889087200164795,2.4748737812042236],\"yaxis\":\"y\",\"type\":\"scatter\"},{\"hovertemplate\":\"\\u003cb\\u003e%{hovertext}\\u003c\\u002fb\\u003e\\u003cbr\\u003e\\u003cbr\\u003ex=%{x}\\u003cbr\\u003ey=%{y}\\u003cextra\\u003e\\u003c\\u002fextra\\u003e\",\"hovertext\":[6.0,5.0,4.0],\"legendgroup\":\"\",\"marker\":{\"color\":\"#636efa\",\"size\":5,\"symbol\":\"circle\"},\"mode\":\"markers\",\"name\":\"\",\"orientation\":\"v\",\"showlegend\":false,\"x\":[0.0,-2.4748737812042236,-4.4748735427856445],\"xaxis\":\"x\",\"y\":[0.0,-2.4748737812042236,-2.4748737812042236],\"yaxis\":\"y\",\"type\":\"scatter\"},{\"hovertemplate\":\"x=%{x}\\u003cbr\\u003ey=%{y}\\u003cextra\\u003e\\u003c\\u002fextra\\u003e\",\"legendgroup\":\"\",\"line\":{\"color\":\"#636efa\",\"dash\":\"solid\",\"width\":1},\"marker\":{\"symbol\":\"circle\"},\"mode\":\"lines\",\"name\":\"\",\"orientation\":\"v\",\"showlegend\":false,\"x\":[0.0,2.4748737812042236,null,0.0,-2.4748737812042236,null,-2.4748737812042236,-1.0606602430343628,null,-2.4748737812042236,-4.4748735427856445,null,-4.4748735427856445,-5.181980133056641,null,-4.4748735427856445,-6.596193790435791,null],\"xaxis\":\"x2\",\"y\":[0.0,2.4748737812042236,null,0.0,-2.4748737812042236,null,-2.4748737812042236,-3.889087200164795,null,-2.4748737812042236,-2.4748737812042236,null,-2.4748737812042236,-3.181980609893799,null,-2.4748737812042236,-0.35355353355407715,null],\"yaxis\":\"y2\",\"type\":\"scatter\"},{\"hovertemplate\":\"\\u003cb\\u003e%{hovertext}\\u003c\\u002fb\\u003e\\u003cbr\\u003e\\u003cbr\\u003ex=%{x}\\u003cbr\\u003ey=%{y}\\u003cextra\\u003e\\u003c\\u002fextra\\u003e\",\"hovertext\":[1.0,0.0,2.0,3.0],\"legendgroup\":\"\",\"marker\":{\"color\":\"#636efa\",\"size\":5,\"symbol\":\"circle\"},\"mode\":\"markers\",\"name\":\"\",\"orientation\":\"v\",\"showlegend\":false,\"x\":[-6.596193790435791,-5.181980133056641,-1.0606602430343628,2.4748737812042236],\"xaxis\":\"x2\",\"y\":[-0.35355353355407715,-3.181980609893799,-3.889087200164795,2.4748737812042236],\"yaxis\":\"y2\",\"type\":\"scatter\"},{\"hovertemplate\":\"\\u003cb\\u003e%{hovertext}\\u003c\\u002fb\\u003e\\u003cbr\\u003e\\u003cbr\\u003ex=%{x}\\u003cbr\\u003ey=%{y}\\u003cextra\\u003e\\u003c\\u002fextra\\u003e\",\"hovertext\":[6.0,5.0,4.0],\"legendgroup\":\"\",\"marker\":{\"color\":\"#636efa\",\"size\":5,\"symbol\":\"circle\"},\"mode\":\"markers\",\"name\":\"\",\"orientation\":\"v\",\"showlegend\":false,\"x\":[0.0,-2.4748737812042236,-4.4748735427856445],\"xaxis\":\"x2\",\"y\":[0.0,-2.4748737812042236,-2.4748737812042236],\"yaxis\":\"y2\",\"type\":\"scatter\"},{\"hovertemplate\":\"x=%{x}\\u003cbr\\u003ey=%{y}\\u003cextra\\u003e\\u003c\\u002fextra\\u003e\",\"legendgroup\":\"\",\"line\":{\"color\":\"#636efa\",\"dash\":\"solid\",\"width\":1},\"marker\":{\"symbol\":\"circle\"},\"mode\":\"lines\",\"name\":\"\",\"orientation\":\"v\",\"showlegend\":false,\"x\":[0.0,2.4748737812042236,null,0.0,-2.4748737812042236,null,-2.4748737812042236,-1.0606602430343628,null,-2.4748737812042236,-4.4748735427856445,null,-4.4748735427856445,-5.181980133056641,null,-4.4748735427856445,-6.596193790435791,null],\"xaxis\":\"x3\",\"y\":[0.0,2.4748737812042236,null,0.0,-2.4748737812042236,null,-2.4748737812042236,-3.889087200164795,null,-2.4748737812042236,-2.4748737812042236,null,-2.4748737812042236,-3.181980609893799,null,-2.4748737812042236,-0.35355353355407715,null],\"yaxis\":\"y3\",\"type\":\"scatter\"},{\"hovertemplate\":\"\\u003cb\\u003e%{hovertext}\\u003c\\u002fb\\u003e\\u003cbr\\u003e\\u003cbr\\u003ex=%{x}\\u003cbr\\u003ey=%{y}\\u003cextra\\u003e\\u003c\\u002fextra\\u003e\",\"hovertext\":[1.0,0.0,2.0,3.0],\"legendgroup\":\"\",\"marker\":{\"color\":\"#636efa\",\"size\":5,\"symbol\":\"circle\"},\"mode\":\"markers\",\"name\":\"\",\"orientation\":\"v\",\"showlegend\":false,\"x\":[-6.596193790435791,-5.181980133056641,-1.0606602430343628,2.4748737812042236],\"xaxis\":\"x3\",\"y\":[-0.35355353355407715,-3.181980609893799,-3.889087200164795,2.4748737812042236],\"yaxis\":\"y3\",\"type\":\"scatter\"},{\"hovertemplate\":\"\\u003cb\\u003e%{hovertext}\\u003c\\u002fb\\u003e\\u003cbr\\u003e\\u003cbr\\u003ex=%{x}\\u003cbr\\u003ey=%{y}\\u003cextra\\u003e\\u003c\\u002fextra\\u003e\",\"hovertext\":[6.0,5.0,4.0],\"legendgroup\":\"\",\"marker\":{\"color\":\"#636efa\",\"size\":5,\"symbol\":\"circle\"},\"mode\":\"markers\",\"name\":\"\",\"orientation\":\"v\",\"showlegend\":false,\"x\":[0.0,-2.4748737812042236,-4.4748735427856445],\"xaxis\":\"x3\",\"y\":[0.0,-2.4748737812042236,-2.4748737812042236],\"yaxis\":\"y3\",\"type\":\"scatter\"}],                        {\"template\":{\"data\":{\"histogram2dcontour\":[{\"type\":\"histogram2dcontour\",\"colorbar\":{\"outlinewidth\":0,\"ticks\":\"\"},\"colorscale\":[[0.0,\"#0d0887\"],[0.1111111111111111,\"#46039f\"],[0.2222222222222222,\"#7201a8\"],[0.3333333333333333,\"#9c179e\"],[0.4444444444444444,\"#bd3786\"],[0.5555555555555556,\"#d8576b\"],[0.6666666666666666,\"#ed7953\"],[0.7777777777777778,\"#fb9f3a\"],[0.8888888888888888,\"#fdca26\"],[1.0,\"#f0f921\"]]}],\"choropleth\":[{\"type\":\"choropleth\",\"colorbar\":{\"outlinewidth\":0,\"ticks\":\"\"}}],\"histogram2d\":[{\"type\":\"histogram2d\",\"colorbar\":{\"outlinewidth\":0,\"ticks\":\"\"},\"colorscale\":[[0.0,\"#0d0887\"],[0.1111111111111111,\"#46039f\"],[0.2222222222222222,\"#7201a8\"],[0.3333333333333333,\"#9c179e\"],[0.4444444444444444,\"#bd3786\"],[0.5555555555555556,\"#d8576b\"],[0.6666666666666666,\"#ed7953\"],[0.7777777777777778,\"#fb9f3a\"],[0.8888888888888888,\"#fdca26\"],[1.0,\"#f0f921\"]]}],\"heatmap\":[{\"type\":\"heatmap\",\"colorbar\":{\"outlinewidth\":0,\"ticks\":\"\"},\"colorscale\":[[0.0,\"#0d0887\"],[0.1111111111111111,\"#46039f\"],[0.2222222222222222,\"#7201a8\"],[0.3333333333333333,\"#9c179e\"],[0.4444444444444444,\"#bd3786\"],[0.5555555555555556,\"#d8576b\"],[0.6666666666666666,\"#ed7953\"],[0.7777777777777778,\"#fb9f3a\"],[0.8888888888888888,\"#fdca26\"],[1.0,\"#f0f921\"]]}],\"heatmapgl\":[{\"type\":\"heatmapgl\",\"colorbar\":{\"outlinewidth\":0,\"ticks\":\"\"},\"colorscale\":[[0.0,\"#0d0887\"],[0.1111111111111111,\"#46039f\"],[0.2222222222222222,\"#7201a8\"],[0.3333333333333333,\"#9c179e\"],[0.4444444444444444,\"#bd3786\"],[0.5555555555555556,\"#d8576b\"],[0.6666666666666666,\"#ed7953\"],[0.7777777777777778,\"#fb9f3a\"],[0.8888888888888888,\"#fdca26\"],[1.0,\"#f0f921\"]]}],\"contourcarpet\":[{\"type\":\"contourcarpet\",\"colorbar\":{\"outlinewidth\":0,\"ticks\":\"\"}}],\"contour\":[{\"type\":\"contour\",\"colorbar\":{\"outlinewidth\":0,\"ticks\":\"\"},\"colorscale\":[[0.0,\"#0d0887\"],[0.1111111111111111,\"#46039f\"],[0.2222222222222222,\"#7201a8\"],[0.3333333333333333,\"#9c179e\"],[0.4444444444444444,\"#bd3786\"],[0.5555555555555556,\"#d8576b\"],[0.6666666666666666,\"#ed7953\"],[0.7777777777777778,\"#fb9f3a\"],[0.8888888888888888,\"#fdca26\"],[1.0,\"#f0f921\"]]}],\"surface\":[{\"type\":\"surface\",\"colorbar\":{\"outlinewidth\":0,\"ticks\":\"\"},\"colorscale\":[[0.0,\"#0d0887\"],[0.1111111111111111,\"#46039f\"],[0.2222222222222222,\"#7201a8\"],[0.3333333333333333,\"#9c179e\"],[0.4444444444444444,\"#bd3786\"],[0.5555555555555556,\"#d8576b\"],[0.6666666666666666,\"#ed7953\"],[0.7777777777777778,\"#fb9f3a\"],[0.8888888888888888,\"#fdca26\"],[1.0,\"#f0f921\"]]}],\"mesh3d\":[{\"type\":\"mesh3d\",\"colorbar\":{\"outlinewidth\":0,\"ticks\":\"\"}}],\"scatter\":[{\"fillpattern\":{\"fillmode\":\"overlay\",\"size\":10,\"solidity\":0.2},\"type\":\"scatter\"}],\"parcoords\":[{\"type\":\"parcoords\",\"line\":{\"colorbar\":{\"outlinewidth\":0,\"ticks\":\"\"}}}],\"scatterpolargl\":[{\"type\":\"scatterpolargl\",\"marker\":{\"colorbar\":{\"outlinewidth\":0,\"ticks\":\"\"}}}],\"bar\":[{\"error_x\":{\"color\":\"#2a3f5f\"},\"error_y\":{\"color\":\"#2a3f5f\"},\"marker\":{\"line\":{\"color\":\"#E5ECF6\",\"width\":0.5},\"pattern\":{\"fillmode\":\"overlay\",\"size\":10,\"solidity\":0.2}},\"type\":\"bar\"}],\"scattergeo\":[{\"type\":\"scattergeo\",\"marker\":{\"colorbar\":{\"outlinewidth\":0,\"ticks\":\"\"}}}],\"scatterpolar\":[{\"type\":\"scatterpolar\",\"marker\":{\"colorbar\":{\"outlinewidth\":0,\"ticks\":\"\"}}}],\"histogram\":[{\"marker\":{\"pattern\":{\"fillmode\":\"overlay\",\"size\":10,\"solidity\":0.2}},\"type\":\"histogram\"}],\"scattergl\":[{\"type\":\"scattergl\",\"marker\":{\"colorbar\":{\"outlinewidth\":0,\"ticks\":\"\"}}}],\"scatter3d\":[{\"type\":\"scatter3d\",\"line\":{\"colorbar\":{\"outlinewidth\":0,\"ticks\":\"\"}},\"marker\":{\"colorbar\":{\"outlinewidth\":0,\"ticks\":\"\"}}}],\"scattermapbox\":[{\"type\":\"scattermapbox\",\"marker\":{\"colorbar\":{\"outlinewidth\":0,\"ticks\":\"\"}}}],\"scatterternary\":[{\"type\":\"scatterternary\",\"marker\":{\"colorbar\":{\"outlinewidth\":0,\"ticks\":\"\"}}}],\"scattercarpet\":[{\"type\":\"scattercarpet\",\"marker\":{\"colorbar\":{\"outlinewidth\":0,\"ticks\":\"\"}}}],\"carpet\":[{\"aaxis\":{\"endlinecolor\":\"#2a3f5f\",\"gridcolor\":\"white\",\"linecolor\":\"white\",\"minorgridcolor\":\"white\",\"startlinecolor\":\"#2a3f5f\"},\"baxis\":{\"endlinecolor\":\"#2a3f5f\",\"gridcolor\":\"white\",\"linecolor\":\"white\",\"minorgridcolor\":\"white\",\"startlinecolor\":\"#2a3f5f\"},\"type\":\"carpet\"}],\"table\":[{\"cells\":{\"fill\":{\"color\":\"#EBF0F8\"},\"line\":{\"color\":\"white\"}},\"header\":{\"fill\":{\"color\":\"#C8D4E3\"},\"line\":{\"color\":\"white\"}},\"type\":\"table\"}],\"barpolar\":[{\"marker\":{\"line\":{\"color\":\"#E5ECF6\",\"width\":0.5},\"pattern\":{\"fillmode\":\"overlay\",\"size\":10,\"solidity\":0.2}},\"type\":\"barpolar\"}],\"pie\":[{\"automargin\":true,\"type\":\"pie\"}]},\"layout\":{\"autotypenumbers\":\"strict\",\"colorway\":[\"#636efa\",\"#EF553B\",\"#00cc96\",\"#ab63fa\",\"#FFA15A\",\"#19d3f3\",\"#FF6692\",\"#B6E880\",\"#FF97FF\",\"#FECB52\"],\"font\":{\"color\":\"#2a3f5f\"},\"hovermode\":\"closest\",\"hoverlabel\":{\"align\":\"left\"},\"paper_bgcolor\":\"white\",\"plot_bgcolor\":\"#E5ECF6\",\"polar\":{\"bgcolor\":\"#E5ECF6\",\"angularaxis\":{\"gridcolor\":\"white\",\"linecolor\":\"white\",\"ticks\":\"\"},\"radialaxis\":{\"gridcolor\":\"white\",\"linecolor\":\"white\",\"ticks\":\"\"}},\"ternary\":{\"bgcolor\":\"#E5ECF6\",\"aaxis\":{\"gridcolor\":\"white\",\"linecolor\":\"white\",\"ticks\":\"\"},\"baxis\":{\"gridcolor\":\"white\",\"linecolor\":\"white\",\"ticks\":\"\"},\"caxis\":{\"gridcolor\":\"white\",\"linecolor\":\"white\",\"ticks\":\"\"}},\"coloraxis\":{\"colorbar\":{\"outlinewidth\":0,\"ticks\":\"\"}},\"colorscale\":{\"sequential\":[[0.0,\"#0d0887\"],[0.1111111111111111,\"#46039f\"],[0.2222222222222222,\"#7201a8\"],[0.3333333333333333,\"#9c179e\"],[0.4444444444444444,\"#bd3786\"],[0.5555555555555556,\"#d8576b\"],[0.6666666666666666,\"#ed7953\"],[0.7777777777777778,\"#fb9f3a\"],[0.8888888888888888,\"#fdca26\"],[1.0,\"#f0f921\"]],\"sequentialminus\":[[0.0,\"#0d0887\"],[0.1111111111111111,\"#46039f\"],[0.2222222222222222,\"#7201a8\"],[0.3333333333333333,\"#9c179e\"],[0.4444444444444444,\"#bd3786\"],[0.5555555555555556,\"#d8576b\"],[0.6666666666666666,\"#ed7953\"],[0.7777777777777778,\"#fb9f3a\"],[0.8888888888888888,\"#fdca26\"],[1.0,\"#f0f921\"]],\"diverging\":[[0,\"#8e0152\"],[0.1,\"#c51b7d\"],[0.2,\"#de77ae\"],[0.3,\"#f1b6da\"],[0.4,\"#fde0ef\"],[0.5,\"#f7f7f7\"],[0.6,\"#e6f5d0\"],[0.7,\"#b8e186\"],[0.8,\"#7fbc41\"],[0.9,\"#4d9221\"],[1,\"#276419\"]]},\"xaxis\":{\"gridcolor\":\"white\",\"linecolor\":\"white\",\"ticks\":\"\",\"title\":{\"standoff\":15},\"zerolinecolor\":\"white\",\"automargin\":true,\"zerolinewidth\":2},\"yaxis\":{\"gridcolor\":\"white\",\"linecolor\":\"white\",\"ticks\":\"\",\"title\":{\"standoff\":15},\"zerolinecolor\":\"white\",\"automargin\":true,\"zerolinewidth\":2},\"scene\":{\"xaxis\":{\"backgroundcolor\":\"#E5ECF6\",\"gridcolor\":\"white\",\"linecolor\":\"white\",\"showbackground\":true,\"ticks\":\"\",\"zerolinecolor\":\"white\",\"gridwidth\":2},\"yaxis\":{\"backgroundcolor\":\"#E5ECF6\",\"gridcolor\":\"white\",\"linecolor\":\"white\",\"showbackground\":true,\"ticks\":\"\",\"zerolinecolor\":\"white\",\"gridwidth\":2},\"zaxis\":{\"backgroundcolor\":\"#E5ECF6\",\"gridcolor\":\"white\",\"linecolor\":\"white\",\"showbackground\":true,\"ticks\":\"\",\"zerolinecolor\":\"white\",\"gridwidth\":2}},\"shapedefaults\":{\"line\":{\"color\":\"#2a3f5f\"}},\"annotationdefaults\":{\"arrowcolor\":\"#2a3f5f\",\"arrowhead\":0,\"arrowwidth\":1},\"geo\":{\"bgcolor\":\"white\",\"landcolor\":\"#E5ECF6\",\"subunitcolor\":\"white\",\"showland\":true,\"showlakes\":true,\"lakecolor\":\"white\"},\"title\":{\"x\":0.05},\"mapbox\":{\"style\":\"light\"}}},\"xaxis\":{\"anchor\":\"y\",\"domain\":[0.0,0.32]},\"yaxis\":{\"anchor\":\"x\",\"domain\":[0.0,1.0]},\"xaxis2\":{\"anchor\":\"y2\",\"domain\":[0.34,0.66]},\"yaxis2\":{\"anchor\":\"x2\",\"domain\":[0.0,1.0]},\"xaxis3\":{\"anchor\":\"y3\",\"domain\":[0.68,1.0]},\"yaxis3\":{\"anchor\":\"x3\",\"domain\":[0.0,1.0]},\"annotations\":[{\"font\":{\"size\":16},\"showarrow\":false,\"text\":\"Canonical\",\"x\":0.16,\"xanchor\":\"center\",\"xref\":\"paper\",\"y\":1.0,\"yanchor\":\"bottom\",\"yref\":\"paper\"},{\"font\":{\"size\":16},\"showarrow\":false,\"text\":\"Rapid\",\"x\":0.5,\"xanchor\":\"center\",\"xref\":\"paper\",\"y\":1.0,\"yanchor\":\"bottom\",\"yref\":\"paper\"},{\"font\":{\"size\":16},\"showarrow\":false,\"text\":\"Dynamic\",\"x\":0.8400000000000001,\"xanchor\":\"center\",\"xref\":\"paper\",\"y\":1.0,\"yanchor\":\"bottom\",\"yref\":\"paper\"}],\"showlegend\":false,\"height\":450,\"width\":1100},                        {\"responsive\": true}                    ).then(function(){\n",
       "                            \n",
       "var gd = document.getElementById('ebaa7ecb-c996-4e0e-90ab-bd6225335879');\n",
       "var x = new MutationObserver(function (mutations, observer) {{\n",
       "        var display = window.getComputedStyle(gd).display;\n",
       "        if (!display || display === 'none') {{\n",
       "            console.log([gd, 'removed!']);\n",
       "            Plotly.purge(gd);\n",
       "            observer.disconnect();\n",
       "        }}\n",
       "}});\n",
       "\n",
       "// Listen for the removal of the full notebook cells\n",
       "var notebookContainer = gd.closest('#notebook-container');\n",
       "if (notebookContainer) {{\n",
       "    x.observe(notebookContainer, {childList: true});\n",
       "}}\n",
       "\n",
       "// Listen for the clearing of the current output cell\n",
       "var outputEl = gd.closest('.output');\n",
       "if (outputEl) {{\n",
       "    x.observe(outputEl, {childList: true});\n",
       "}}\n",
       "\n",
       "                        })                };                });            </script>        </div>"
      ]
     },
     "metadata": {},
     "output_type": "display_data"
    }
   ],
   "source": [
    "figd = anjl.plot(Z1d, marker_size=5, internal_marker_size=5)\n",
    "figr = anjl.plot(Z1r, marker_size=5, internal_marker_size=5)\n",
    "figc = anjl.plot(Z1, marker_size=5, internal_marker_size=5)\n",
    "figures = [figc, figr, figd]\n",
    "fig = make_subplots(\n",
    "    rows=1,\n",
    "    cols=len(figures),\n",
    "    subplot_titles=[\"Canonical\", \"Rapid\", \"Dynamic\"],\n",
    "    horizontal_spacing=0.02,\n",
    "    vertical_spacing=0.02,\n",
    ")\n",
    "for i, figure in enumerate(figures):\n",
    "    for trace in range(len(figure[\"data\"])):\n",
    "        fig.append_trace(figure[\"data\"][trace], row=1, col=i + 1)\n",
    "fig.update_layout(showlegend=False, height=450, width=1100)\n",
    "fig"
   ]
  },
  {
   "cell_type": "code",
   "execution_count": null,
   "id": "9e35b4f1-8ba0-4061-b5e9-070742fb3f5c",
   "metadata": {},
   "outputs": [],
   "source": [
    "ld1 = pd.DataFrame.from_records(\n",
    "    [\n",
    "        [\"A\", \"apple\", \"carrot\", \"pigeon\", \"Ferrari\"],\n",
    "        [\"B\", \"apple\", \"pea\", \"ladybird\", \"Lamborghini\"],\n",
    "        [\"C\", \"banana\", \"cabbage\", \"pigeon\", \"Landrover\"],\n",
    "        [\"D\", \"mango\", \"cabbage\", \"spider\", np.nan],\n",
    "    ],\n",
    "    columns=[\"name\", \"fruit\", \"vegetable\", \"animal\", \"car\"],\n",
    ")\n",
    "ld1"
   ]
  },
  {
   "cell_type": "code",
   "execution_count": null,
   "id": "0db6f228-03d3-4e0d-9338-0eff0a30ae02",
   "metadata": {},
   "outputs": [],
   "source": [
    "anjl.plot(\n",
    "    Z=Z1,\n",
    "    leaf_data=ld1,\n",
    "    hover_name=\"name\",\n",
    "    hover_data=[\"fruit\", \"vegetable\", \"animal\", \"car\"],\n",
    "    color=\"fruit\",\n",
    "    marker_size=20,\n",
    "    internal_marker_size=5,\n",
    "    line_width=4,\n",
    ")"
   ]
  },
  {
   "cell_type": "code",
   "execution_count": null,
   "id": "3c455ae8-d01b-430d-a970-5290e86bfe92",
   "metadata": {},
   "outputs": [],
   "source": [
    "anjl.plot(\n",
    "    Z=Z1r,\n",
    "    leaf_data=ld1,\n",
    "    hover_name=\"name\",\n",
    "    hover_data=[\"fruit\", \"vegetable\", \"animal\", \"car\"],\n",
    "    color=\"fruit\",\n",
    "    marker_size=20,\n",
    "    symbol=\"car\",\n",
    "    internal_marker_size=5,\n",
    "    line_width=4,\n",
    ")"
   ]
  },
  {
   "cell_type": "code",
   "execution_count": null,
   "id": "4d9d6a48-691f-4aff-8832-3814d8639ac0",
   "metadata": {},
   "outputs": [],
   "source": [
    "anjl.plot(\n",
    "    Z=Z1r,\n",
    "    leaf_data=ld1,\n",
    "    hover_name=\"name\",\n",
    "    hover_data=[\"fruit\", \"vegetable\", \"animal\", \"car\"],\n",
    "    color=\"car\",\n",
    "    marker_size=20,\n",
    "    symbol=\"fruit\",\n",
    "    internal_marker_size=5,\n",
    "    line_width=4,\n",
    ")"
   ]
  },
  {
   "cell_type": "markdown",
   "id": "f8050acd-b9dc-48e1-9ff4-5a44295c9dbd",
   "metadata": {},
   "source": [
    "## Example 2"
   ]
  },
  {
   "cell_type": "code",
   "execution_count": 43,
   "id": "2cefdc4f-baac-4118-81f1-6e70d7afd56f",
   "metadata": {},
   "outputs": [
    {
     "ename": "OverflowError",
     "evalue": "Python integer -1 out of bounds for uint64",
     "output_type": "error",
     "traceback": [
      "\u001b[0;31m---------------------------------------------------------------------------\u001b[0m",
      "\u001b[0;31mOverflowError\u001b[0m                             Traceback (most recent call last)",
      "Cell \u001b[0;32mIn[43], line 1\u001b[0m\n\u001b[0;32m----> 1\u001b[0m \u001b[43mnp\u001b[49m\u001b[38;5;241;43m.\u001b[39;49m\u001b[43muintp\u001b[49m\u001b[43m(\u001b[49m\u001b[38;5;241;43m-\u001b[39;49m\u001b[38;5;241;43m1\u001b[39;49m\u001b[43m)\u001b[49m\n",
      "\u001b[0;31mOverflowError\u001b[0m: Python integer -1 out of bounds for uint64"
     ]
    }
   ],
   "source": [
    "np.uintp(-1)"
   ]
  },
  {
   "cell_type": "code",
   "execution_count": 42,
   "id": "3358bfa9-66bb-4617-a09e-cc379a667715",
   "metadata": {},
   "outputs": [
    {
     "name": "stderr",
     "output_type": "stream",
     "text": [
      "/tmp/ipykernel_40225/1029841452.py:1: RuntimeWarning:\n",
      "\n",
      "overflow encountered in scalar subtract\n",
      "\n"
     ]
    },
    {
     "data": {
      "text/plain": [
       "np.uint64(18446744073709551615)"
      ]
     },
     "execution_count": 42,
     "metadata": {},
     "output_type": "execute_result"
    }
   ],
   "source": [
    "np.uintp(5) - np.uintp(6)"
   ]
  },
  {
   "cell_type": "code",
   "execution_count": 40,
   "id": "77465d5e-770f-4219-9ec8-958eec3a0e27",
   "metadata": {},
   "outputs": [
    {
     "data": {
      "text/plain": [
       "array([[0. , 1. , 2. , 3. , 2. ],\n",
       "       [2. , 5. , 4. , 3. , 3. ],\n",
       "       [3. , 6. , 2. , 2. , 4. ],\n",
       "       [4. , 7. , 0.5, 0.5, 5. ]], dtype=float32)"
      ]
     },
     "execution_count": 40,
     "metadata": {},
     "output_type": "execute_result"
    }
   ],
   "source": [
    "D2, _ = anjl.data.wikipedia_example()\n",
    "D2\n",
    "\n",
    "Z2d = anjl.dynamic_nj(D2)\n",
    "Z2r = anjl.rapid_nj(D2)\n",
    "Z2 = anjl.canonical_nj(D2)\n",
    "Z2"
   ]
  },
  {
   "cell_type": "code",
   "execution_count": 41,
   "id": "07edc2f1-238c-4ba5-82d6-1ef0b8f780b0",
   "metadata": {},
   "outputs": [
    {
     "data": {
      "text/plain": [
       "array([[0. , 1. , 2. , 3. , 2. ],\n",
       "       [2. , 5. , 4. , 3. , 3. ],\n",
       "       [3. , 6. , 2. , 2. , 4. ],\n",
       "       [4. , 7. , 0.5, 0.5, 5. ]], dtype=float32)"
      ]
     },
     "execution_count": 41,
     "metadata": {},
     "output_type": "execute_result"
    }
   ],
   "source": [
    "Z2d"
   ]
  },
  {
   "cell_type": "code",
   "execution_count": 9,
   "id": "589b3446-080b-4991-9358-48aadd29263f",
   "metadata": {},
   "outputs": [
    {
     "name": "stdout",
     "output_type": "stream",
     "text": [
      "Node(id=8, dist=0, count=5)\n",
      "    Leaf(id=4, dist=0.5)\n",
      "    Node(id=7, dist=0.5, count=4)\n",
      "        Leaf(id=3, dist=2.0)\n",
      "        Node(id=6, dist=2.0, count=3)\n",
      "            Leaf(id=2, dist=4.0)\n",
      "            Node(id=5, dist=3.0, count=2)\n",
      "                Leaf(id=0, dist=2.0)\n",
      "                Leaf(id=1, dist=3.0)\n",
      "Node(id=8, dist=0, count=5)\n",
      "    Leaf(id=3, dist=1.0)\n",
      "    Node(id=7, dist=1.0, count=4)\n",
      "        Leaf(id=4, dist=1.0)\n",
      "        Node(id=6, dist=2.0, count=3)\n",
      "            Leaf(id=2, dist=4.0)\n",
      "            Node(id=5, dist=3.0, count=2)\n",
      "                Leaf(id=0, dist=2.0)\n",
      "                Leaf(id=1, dist=3.0)\n",
      "Node(id=8, dist=0, count=5)\n",
      "    Leaf(id=4, dist=0.5)\n",
      "    Node(id=7, dist=0.5, count=4)\n",
      "        Leaf(id=3, dist=2.0)\n",
      "        Node(id=6, dist=2.0, count=3)\n",
      "            Leaf(id=2, dist=4.0)\n",
      "            Node(id=5, dist=3.0, count=2)\n",
      "                Leaf(id=0, dist=2.0)\n",
      "                Leaf(id=1, dist=3.0)\n"
     ]
    }
   ],
   "source": [
    "print(anjl.to_string(Z2d))\n",
    "print(anjl.to_string(Z2r))\n",
    "print(anjl.to_string(Z2))"
   ]
  },
  {
   "cell_type": "code",
   "execution_count": 10,
   "id": "491052df-7b8e-4210-8f0d-3e829de8d164",
   "metadata": {},
   "outputs": [
    {
     "data": {
      "text/html": [
       "        <script type=\"text/javascript\">\n",
       "        window.PlotlyConfig = {MathJaxConfig: 'local'};\n",
       "        if (window.MathJax && window.MathJax.Hub && window.MathJax.Hub.Config) {window.MathJax.Hub.Config({SVG: {font: \"STIX-Web\"}});}\n",
       "        if (typeof require !== 'undefined') {\n",
       "        require.undef(\"plotly\");\n",
       "        requirejs.config({\n",
       "            paths: {\n",
       "                'plotly': ['https://cdn.plot.ly/plotly-2.35.2.min']\n",
       "            }\n",
       "        });\n",
       "        require(['plotly'], function(Plotly) {\n",
       "            window._Plotly = Plotly;\n",
       "        });\n",
       "        }\n",
       "        </script>\n",
       "        "
      ]
     },
     "metadata": {},
     "output_type": "display_data"
    },
    {
     "data": {
      "application/vnd.plotly.v1+json": {
       "config": {
        "plotlyServerURL": "https://plot.ly"
       },
       "data": [
        {
         "hovertemplate": "x=%{x}<br>y=%{y}<extra></extra>",
         "legendgroup": "",
         "line": {
          "color": "#636efa",
          "dash": "solid",
          "width": 1
         },
         "marker": {
          "symbol": "circle"
         },
         "mode": "lines",
         "name": "",
         "orientation": "v",
         "showlegend": false,
         "type": "scatter",
         "x": [
          0,
          0.29389262199401855,
          null,
          0,
          -0.29389262199401855,
          null,
          -0.29389262199401855,
          1.6082204580307007,
          null,
          -0.29389262199401855,
          -2.1960058212280273,
          null,
          -2.1960058212280273,
          -2.1960058212280273,
          null,
          -2.1960058212280273,
          -5.049175262451172,
          null,
          -5.049175262451172,
          -6.951288223266602,
          null,
          -5.049175262451172,
          -6.812530994415283,
          null
         ],
         "xaxis": "x",
         "y": [
          0,
          0.404508501291275,
          null,
          0,
          -0.404508501291275,
          null,
          -0.404508501291275,
          -1.0225424766540527,
          null,
          -0.404508501291275,
          -1.0225424766540527,
          null,
          -1.0225424766540527,
          -5.022542476654053,
          null,
          -1.0225424766540527,
          -0.09549146890640259,
          null,
          -0.09549146890640259,
          -0.7135254740715027,
          null,
          -0.09549146890640259,
          2.331559658050537,
          null
         ],
         "yaxis": "y"
        },
        {
         "hovertemplate": "<b>%{hovertext}</b><br><br>x=%{x}<br>y=%{y}<extra></extra>",
         "hovertext": [
          1,
          0,
          2,
          3,
          4
         ],
         "legendgroup": "",
         "marker": {
          "color": "#636efa",
          "size": 5,
          "symbol": "circle"
         },
         "mode": "markers",
         "name": "",
         "orientation": "v",
         "showlegend": false,
         "type": "scatter",
         "x": [
          -6.812530994415283,
          -6.951288223266602,
          -2.1960058212280273,
          1.6082204580307007,
          0.29389262199401855
         ],
         "xaxis": "x",
         "y": [
          2.331559658050537,
          -0.7135254740715027,
          -5.022542476654053,
          -1.0225424766540527,
          0.404508501291275
         ],
         "yaxis": "y"
        },
        {
         "hovertemplate": "<b>%{hovertext}</b><br><br>x=%{x}<br>y=%{y}<extra></extra>",
         "hovertext": [
          8,
          7,
          6,
          5
         ],
         "legendgroup": "",
         "marker": {
          "color": "#636efa",
          "size": 5,
          "symbol": "circle"
         },
         "mode": "markers",
         "name": "",
         "orientation": "v",
         "showlegend": false,
         "type": "scatter",
         "x": [
          0,
          -0.29389262199401855,
          -2.1960058212280273,
          -5.049175262451172
         ],
         "xaxis": "x",
         "y": [
          0,
          -0.404508501291275,
          -1.0225424766540527,
          -0.09549146890640259
         ],
         "yaxis": "y"
        },
        {
         "hovertemplate": "x=%{x}<br>y=%{y}<extra></extra>",
         "legendgroup": "",
         "line": {
          "color": "#636efa",
          "dash": "solid",
          "width": 1
         },
         "marker": {
          "symbol": "circle"
         },
         "mode": "lines",
         "name": "",
         "orientation": "v",
         "showlegend": false,
         "type": "scatter",
         "x": [
          0,
          0.5877852439880371,
          null,
          0,
          -0.5877852439880371,
          null,
          -0.5877852439880371,
          0.3632712960243225,
          null,
          -0.5877852439880371,
          -2.489898204803467,
          null,
          -2.489898204803467,
          -2.489898204803467,
          null,
          -2.489898204803467,
          -5.3430681228637695,
          null,
          -5.3430681228637695,
          -7.245181083679199,
          null,
          -5.3430681228637695,
          -7.106423854827881,
          null
         ],
         "xaxis": "x2",
         "y": [
          0,
          0.80901700258255,
          null,
          0,
          -0.80901700258255,
          null,
          -0.80901700258255,
          -1.1180340051651,
          null,
          -0.80901700258255,
          -1.427051067352295,
          null,
          -1.427051067352295,
          -5.427051067352295,
          null,
          -1.427051067352295,
          -0.5000000596046448,
          null,
          -0.5000000596046448,
          -1.1180341243743896,
          null,
          -0.5000000596046448,
          1.927051067352295,
          null
         ],
         "yaxis": "y2"
        },
        {
         "hovertemplate": "<b>%{hovertext}</b><br><br>x=%{x}<br>y=%{y}<extra></extra>",
         "hovertext": [
          1,
          0,
          2,
          4,
          3
         ],
         "legendgroup": "",
         "marker": {
          "color": "#636efa",
          "size": 5,
          "symbol": "circle"
         },
         "mode": "markers",
         "name": "",
         "orientation": "v",
         "showlegend": false,
         "type": "scatter",
         "x": [
          -7.106423854827881,
          -7.245181083679199,
          -2.489898204803467,
          0.3632712960243225,
          0.5877852439880371
         ],
         "xaxis": "x2",
         "y": [
          1.927051067352295,
          -1.1180341243743896,
          -5.427051067352295,
          -1.1180340051651,
          0.80901700258255
         ],
         "yaxis": "y2"
        },
        {
         "hovertemplate": "<b>%{hovertext}</b><br><br>x=%{x}<br>y=%{y}<extra></extra>",
         "hovertext": [
          8,
          7,
          6,
          5
         ],
         "legendgroup": "",
         "marker": {
          "color": "#636efa",
          "size": 5,
          "symbol": "circle"
         },
         "mode": "markers",
         "name": "",
         "orientation": "v",
         "showlegend": false,
         "type": "scatter",
         "x": [
          0,
          -0.5877852439880371,
          -2.489898204803467,
          -5.3430681228637695
         ],
         "xaxis": "x2",
         "y": [
          0,
          -0.80901700258255,
          -1.427051067352295,
          -0.5000000596046448
         ],
         "yaxis": "y2"
        },
        {
         "hovertemplate": "x=%{x}<br>y=%{y}<extra></extra>",
         "legendgroup": "",
         "line": {
          "color": "#636efa",
          "dash": "solid",
          "width": 1
         },
         "marker": {
          "symbol": "circle"
         },
         "mode": "lines",
         "name": "",
         "orientation": "v",
         "showlegend": false,
         "type": "scatter",
         "x": [
          0,
          0.29389262199401855,
          null,
          0,
          -0.29389262199401855,
          null,
          -0.29389262199401855,
          1.6082204580307007,
          null,
          -0.29389262199401855,
          -2.1960058212280273,
          null,
          -2.1960058212280273,
          -2.1960058212280273,
          null,
          -2.1960058212280273,
          -5.049175262451172,
          null,
          -5.049175262451172,
          -6.951288223266602,
          null,
          -5.049175262451172,
          -6.812530994415283,
          null
         ],
         "xaxis": "x3",
         "y": [
          0,
          0.404508501291275,
          null,
          0,
          -0.404508501291275,
          null,
          -0.404508501291275,
          -1.0225424766540527,
          null,
          -0.404508501291275,
          -1.0225424766540527,
          null,
          -1.0225424766540527,
          -5.022542476654053,
          null,
          -1.0225424766540527,
          -0.09549146890640259,
          null,
          -0.09549146890640259,
          -0.7135254740715027,
          null,
          -0.09549146890640259,
          2.331559658050537,
          null
         ],
         "yaxis": "y3"
        },
        {
         "hovertemplate": "<b>%{hovertext}</b><br><br>x=%{x}<br>y=%{y}<extra></extra>",
         "hovertext": [
          1,
          0,
          2,
          3,
          4
         ],
         "legendgroup": "",
         "marker": {
          "color": "#636efa",
          "size": 5,
          "symbol": "circle"
         },
         "mode": "markers",
         "name": "",
         "orientation": "v",
         "showlegend": false,
         "type": "scatter",
         "x": [
          -6.812530994415283,
          -6.951288223266602,
          -2.1960058212280273,
          1.6082204580307007,
          0.29389262199401855
         ],
         "xaxis": "x3",
         "y": [
          2.331559658050537,
          -0.7135254740715027,
          -5.022542476654053,
          -1.0225424766540527,
          0.404508501291275
         ],
         "yaxis": "y3"
        },
        {
         "hovertemplate": "<b>%{hovertext}</b><br><br>x=%{x}<br>y=%{y}<extra></extra>",
         "hovertext": [
          8,
          7,
          6,
          5
         ],
         "legendgroup": "",
         "marker": {
          "color": "#636efa",
          "size": 5,
          "symbol": "circle"
         },
         "mode": "markers",
         "name": "",
         "orientation": "v",
         "showlegend": false,
         "type": "scatter",
         "x": [
          0,
          -0.29389262199401855,
          -2.1960058212280273,
          -5.049175262451172
         ],
         "xaxis": "x3",
         "y": [
          0,
          -0.404508501291275,
          -1.0225424766540527,
          -0.09549146890640259
         ],
         "yaxis": "y3"
        }
       ],
       "layout": {
        "annotations": [
         {
          "font": {
           "size": 16
          },
          "showarrow": false,
          "text": "Canonical",
          "x": 0.16,
          "xanchor": "center",
          "xref": "paper",
          "y": 1,
          "yanchor": "bottom",
          "yref": "paper"
         },
         {
          "font": {
           "size": 16
          },
          "showarrow": false,
          "text": "Rapid",
          "x": 0.5,
          "xanchor": "center",
          "xref": "paper",
          "y": 1,
          "yanchor": "bottom",
          "yref": "paper"
         },
         {
          "font": {
           "size": 16
          },
          "showarrow": false,
          "text": "Dynamic",
          "x": 0.8400000000000001,
          "xanchor": "center",
          "xref": "paper",
          "y": 1,
          "yanchor": "bottom",
          "yref": "paper"
         }
        ],
        "height": 450,
        "showlegend": false,
        "template": {
         "data": {
          "bar": [
           {
            "error_x": {
             "color": "#2a3f5f"
            },
            "error_y": {
             "color": "#2a3f5f"
            },
            "marker": {
             "line": {
              "color": "#E5ECF6",
              "width": 0.5
             },
             "pattern": {
              "fillmode": "overlay",
              "size": 10,
              "solidity": 0.2
             }
            },
            "type": "bar"
           }
          ],
          "barpolar": [
           {
            "marker": {
             "line": {
              "color": "#E5ECF6",
              "width": 0.5
             },
             "pattern": {
              "fillmode": "overlay",
              "size": 10,
              "solidity": 0.2
             }
            },
            "type": "barpolar"
           }
          ],
          "carpet": [
           {
            "aaxis": {
             "endlinecolor": "#2a3f5f",
             "gridcolor": "white",
             "linecolor": "white",
             "minorgridcolor": "white",
             "startlinecolor": "#2a3f5f"
            },
            "baxis": {
             "endlinecolor": "#2a3f5f",
             "gridcolor": "white",
             "linecolor": "white",
             "minorgridcolor": "white",
             "startlinecolor": "#2a3f5f"
            },
            "type": "carpet"
           }
          ],
          "choropleth": [
           {
            "colorbar": {
             "outlinewidth": 0,
             "ticks": ""
            },
            "type": "choropleth"
           }
          ],
          "contour": [
           {
            "colorbar": {
             "outlinewidth": 0,
             "ticks": ""
            },
            "colorscale": [
             [
              0,
              "#0d0887"
             ],
             [
              0.1111111111111111,
              "#46039f"
             ],
             [
              0.2222222222222222,
              "#7201a8"
             ],
             [
              0.3333333333333333,
              "#9c179e"
             ],
             [
              0.4444444444444444,
              "#bd3786"
             ],
             [
              0.5555555555555556,
              "#d8576b"
             ],
             [
              0.6666666666666666,
              "#ed7953"
             ],
             [
              0.7777777777777778,
              "#fb9f3a"
             ],
             [
              0.8888888888888888,
              "#fdca26"
             ],
             [
              1,
              "#f0f921"
             ]
            ],
            "type": "contour"
           }
          ],
          "contourcarpet": [
           {
            "colorbar": {
             "outlinewidth": 0,
             "ticks": ""
            },
            "type": "contourcarpet"
           }
          ],
          "heatmap": [
           {
            "colorbar": {
             "outlinewidth": 0,
             "ticks": ""
            },
            "colorscale": [
             [
              0,
              "#0d0887"
             ],
             [
              0.1111111111111111,
              "#46039f"
             ],
             [
              0.2222222222222222,
              "#7201a8"
             ],
             [
              0.3333333333333333,
              "#9c179e"
             ],
             [
              0.4444444444444444,
              "#bd3786"
             ],
             [
              0.5555555555555556,
              "#d8576b"
             ],
             [
              0.6666666666666666,
              "#ed7953"
             ],
             [
              0.7777777777777778,
              "#fb9f3a"
             ],
             [
              0.8888888888888888,
              "#fdca26"
             ],
             [
              1,
              "#f0f921"
             ]
            ],
            "type": "heatmap"
           }
          ],
          "heatmapgl": [
           {
            "colorbar": {
             "outlinewidth": 0,
             "ticks": ""
            },
            "colorscale": [
             [
              0,
              "#0d0887"
             ],
             [
              0.1111111111111111,
              "#46039f"
             ],
             [
              0.2222222222222222,
              "#7201a8"
             ],
             [
              0.3333333333333333,
              "#9c179e"
             ],
             [
              0.4444444444444444,
              "#bd3786"
             ],
             [
              0.5555555555555556,
              "#d8576b"
             ],
             [
              0.6666666666666666,
              "#ed7953"
             ],
             [
              0.7777777777777778,
              "#fb9f3a"
             ],
             [
              0.8888888888888888,
              "#fdca26"
             ],
             [
              1,
              "#f0f921"
             ]
            ],
            "type": "heatmapgl"
           }
          ],
          "histogram": [
           {
            "marker": {
             "pattern": {
              "fillmode": "overlay",
              "size": 10,
              "solidity": 0.2
             }
            },
            "type": "histogram"
           }
          ],
          "histogram2d": [
           {
            "colorbar": {
             "outlinewidth": 0,
             "ticks": ""
            },
            "colorscale": [
             [
              0,
              "#0d0887"
             ],
             [
              0.1111111111111111,
              "#46039f"
             ],
             [
              0.2222222222222222,
              "#7201a8"
             ],
             [
              0.3333333333333333,
              "#9c179e"
             ],
             [
              0.4444444444444444,
              "#bd3786"
             ],
             [
              0.5555555555555556,
              "#d8576b"
             ],
             [
              0.6666666666666666,
              "#ed7953"
             ],
             [
              0.7777777777777778,
              "#fb9f3a"
             ],
             [
              0.8888888888888888,
              "#fdca26"
             ],
             [
              1,
              "#f0f921"
             ]
            ],
            "type": "histogram2d"
           }
          ],
          "histogram2dcontour": [
           {
            "colorbar": {
             "outlinewidth": 0,
             "ticks": ""
            },
            "colorscale": [
             [
              0,
              "#0d0887"
             ],
             [
              0.1111111111111111,
              "#46039f"
             ],
             [
              0.2222222222222222,
              "#7201a8"
             ],
             [
              0.3333333333333333,
              "#9c179e"
             ],
             [
              0.4444444444444444,
              "#bd3786"
             ],
             [
              0.5555555555555556,
              "#d8576b"
             ],
             [
              0.6666666666666666,
              "#ed7953"
             ],
             [
              0.7777777777777778,
              "#fb9f3a"
             ],
             [
              0.8888888888888888,
              "#fdca26"
             ],
             [
              1,
              "#f0f921"
             ]
            ],
            "type": "histogram2dcontour"
           }
          ],
          "mesh3d": [
           {
            "colorbar": {
             "outlinewidth": 0,
             "ticks": ""
            },
            "type": "mesh3d"
           }
          ],
          "parcoords": [
           {
            "line": {
             "colorbar": {
              "outlinewidth": 0,
              "ticks": ""
             }
            },
            "type": "parcoords"
           }
          ],
          "pie": [
           {
            "automargin": true,
            "type": "pie"
           }
          ],
          "scatter": [
           {
            "fillpattern": {
             "fillmode": "overlay",
             "size": 10,
             "solidity": 0.2
            },
            "type": "scatter"
           }
          ],
          "scatter3d": [
           {
            "line": {
             "colorbar": {
              "outlinewidth": 0,
              "ticks": ""
             }
            },
            "marker": {
             "colorbar": {
              "outlinewidth": 0,
              "ticks": ""
             }
            },
            "type": "scatter3d"
           }
          ],
          "scattercarpet": [
           {
            "marker": {
             "colorbar": {
              "outlinewidth": 0,
              "ticks": ""
             }
            },
            "type": "scattercarpet"
           }
          ],
          "scattergeo": [
           {
            "marker": {
             "colorbar": {
              "outlinewidth": 0,
              "ticks": ""
             }
            },
            "type": "scattergeo"
           }
          ],
          "scattergl": [
           {
            "marker": {
             "colorbar": {
              "outlinewidth": 0,
              "ticks": ""
             }
            },
            "type": "scattergl"
           }
          ],
          "scattermapbox": [
           {
            "marker": {
             "colorbar": {
              "outlinewidth": 0,
              "ticks": ""
             }
            },
            "type": "scattermapbox"
           }
          ],
          "scatterpolar": [
           {
            "marker": {
             "colorbar": {
              "outlinewidth": 0,
              "ticks": ""
             }
            },
            "type": "scatterpolar"
           }
          ],
          "scatterpolargl": [
           {
            "marker": {
             "colorbar": {
              "outlinewidth": 0,
              "ticks": ""
             }
            },
            "type": "scatterpolargl"
           }
          ],
          "scatterternary": [
           {
            "marker": {
             "colorbar": {
              "outlinewidth": 0,
              "ticks": ""
             }
            },
            "type": "scatterternary"
           }
          ],
          "surface": [
           {
            "colorbar": {
             "outlinewidth": 0,
             "ticks": ""
            },
            "colorscale": [
             [
              0,
              "#0d0887"
             ],
             [
              0.1111111111111111,
              "#46039f"
             ],
             [
              0.2222222222222222,
              "#7201a8"
             ],
             [
              0.3333333333333333,
              "#9c179e"
             ],
             [
              0.4444444444444444,
              "#bd3786"
             ],
             [
              0.5555555555555556,
              "#d8576b"
             ],
             [
              0.6666666666666666,
              "#ed7953"
             ],
             [
              0.7777777777777778,
              "#fb9f3a"
             ],
             [
              0.8888888888888888,
              "#fdca26"
             ],
             [
              1,
              "#f0f921"
             ]
            ],
            "type": "surface"
           }
          ],
          "table": [
           {
            "cells": {
             "fill": {
              "color": "#EBF0F8"
             },
             "line": {
              "color": "white"
             }
            },
            "header": {
             "fill": {
              "color": "#C8D4E3"
             },
             "line": {
              "color": "white"
             }
            },
            "type": "table"
           }
          ]
         },
         "layout": {
          "annotationdefaults": {
           "arrowcolor": "#2a3f5f",
           "arrowhead": 0,
           "arrowwidth": 1
          },
          "autotypenumbers": "strict",
          "coloraxis": {
           "colorbar": {
            "outlinewidth": 0,
            "ticks": ""
           }
          },
          "colorscale": {
           "diverging": [
            [
             0,
             "#8e0152"
            ],
            [
             0.1,
             "#c51b7d"
            ],
            [
             0.2,
             "#de77ae"
            ],
            [
             0.3,
             "#f1b6da"
            ],
            [
             0.4,
             "#fde0ef"
            ],
            [
             0.5,
             "#f7f7f7"
            ],
            [
             0.6,
             "#e6f5d0"
            ],
            [
             0.7,
             "#b8e186"
            ],
            [
             0.8,
             "#7fbc41"
            ],
            [
             0.9,
             "#4d9221"
            ],
            [
             1,
             "#276419"
            ]
           ],
           "sequential": [
            [
             0,
             "#0d0887"
            ],
            [
             0.1111111111111111,
             "#46039f"
            ],
            [
             0.2222222222222222,
             "#7201a8"
            ],
            [
             0.3333333333333333,
             "#9c179e"
            ],
            [
             0.4444444444444444,
             "#bd3786"
            ],
            [
             0.5555555555555556,
             "#d8576b"
            ],
            [
             0.6666666666666666,
             "#ed7953"
            ],
            [
             0.7777777777777778,
             "#fb9f3a"
            ],
            [
             0.8888888888888888,
             "#fdca26"
            ],
            [
             1,
             "#f0f921"
            ]
           ],
           "sequentialminus": [
            [
             0,
             "#0d0887"
            ],
            [
             0.1111111111111111,
             "#46039f"
            ],
            [
             0.2222222222222222,
             "#7201a8"
            ],
            [
             0.3333333333333333,
             "#9c179e"
            ],
            [
             0.4444444444444444,
             "#bd3786"
            ],
            [
             0.5555555555555556,
             "#d8576b"
            ],
            [
             0.6666666666666666,
             "#ed7953"
            ],
            [
             0.7777777777777778,
             "#fb9f3a"
            ],
            [
             0.8888888888888888,
             "#fdca26"
            ],
            [
             1,
             "#f0f921"
            ]
           ]
          },
          "colorway": [
           "#636efa",
           "#EF553B",
           "#00cc96",
           "#ab63fa",
           "#FFA15A",
           "#19d3f3",
           "#FF6692",
           "#B6E880",
           "#FF97FF",
           "#FECB52"
          ],
          "font": {
           "color": "#2a3f5f"
          },
          "geo": {
           "bgcolor": "white",
           "lakecolor": "white",
           "landcolor": "#E5ECF6",
           "showlakes": true,
           "showland": true,
           "subunitcolor": "white"
          },
          "hoverlabel": {
           "align": "left"
          },
          "hovermode": "closest",
          "mapbox": {
           "style": "light"
          },
          "paper_bgcolor": "white",
          "plot_bgcolor": "#E5ECF6",
          "polar": {
           "angularaxis": {
            "gridcolor": "white",
            "linecolor": "white",
            "ticks": ""
           },
           "bgcolor": "#E5ECF6",
           "radialaxis": {
            "gridcolor": "white",
            "linecolor": "white",
            "ticks": ""
           }
          },
          "scene": {
           "xaxis": {
            "backgroundcolor": "#E5ECF6",
            "gridcolor": "white",
            "gridwidth": 2,
            "linecolor": "white",
            "showbackground": true,
            "ticks": "",
            "zerolinecolor": "white"
           },
           "yaxis": {
            "backgroundcolor": "#E5ECF6",
            "gridcolor": "white",
            "gridwidth": 2,
            "linecolor": "white",
            "showbackground": true,
            "ticks": "",
            "zerolinecolor": "white"
           },
           "zaxis": {
            "backgroundcolor": "#E5ECF6",
            "gridcolor": "white",
            "gridwidth": 2,
            "linecolor": "white",
            "showbackground": true,
            "ticks": "",
            "zerolinecolor": "white"
           }
          },
          "shapedefaults": {
           "line": {
            "color": "#2a3f5f"
           }
          },
          "ternary": {
           "aaxis": {
            "gridcolor": "white",
            "linecolor": "white",
            "ticks": ""
           },
           "baxis": {
            "gridcolor": "white",
            "linecolor": "white",
            "ticks": ""
           },
           "bgcolor": "#E5ECF6",
           "caxis": {
            "gridcolor": "white",
            "linecolor": "white",
            "ticks": ""
           }
          },
          "title": {
           "x": 0.05
          },
          "xaxis": {
           "automargin": true,
           "gridcolor": "white",
           "linecolor": "white",
           "ticks": "",
           "title": {
            "standoff": 15
           },
           "zerolinecolor": "white",
           "zerolinewidth": 2
          },
          "yaxis": {
           "automargin": true,
           "gridcolor": "white",
           "linecolor": "white",
           "ticks": "",
           "title": {
            "standoff": 15
           },
           "zerolinecolor": "white",
           "zerolinewidth": 2
          }
         }
        },
        "width": 1100,
        "xaxis": {
         "anchor": "y",
         "autorange": true,
         "domain": [
          0,
          0.32
         ],
         "range": [
          -7.539194130158746,
          2.1961263649228453
         ],
         "type": "linear"
        },
        "xaxis2": {
         "anchor": "y2",
         "autorange": true,
         "domain": [
          0.34,
          0.66
         ],
         "range": [
          -7.783184764028862,
          1.1257889243377002
         ],
         "type": "linear"
        },
        "xaxis3": {
         "anchor": "y3",
         "autorange": true,
         "domain": [
          0.68,
          1
         ],
         "range": [
          -7.539194130158746,
          2.1961263649228453
         ],
         "type": "linear"
        },
        "yaxis": {
         "anchor": "x",
         "autorange": true,
         "domain": [
          0,
          1
         ],
         "range": [
          -5.538960419587374,
          2.8479776009838584
         ],
         "type": "linear"
        },
        "yaxis2": {
         "anchor": "x2",
         "autorange": true,
         "domain": [
          0,
          1
         ],
         "range": [
          -5.943469010285616,
          2.4434690102856162
         ],
         "type": "linear"
        },
        "yaxis3": {
         "anchor": "x3",
         "autorange": true,
         "domain": [
          0,
          1
         ],
         "range": [
          -5.538960419587374,
          2.8479776009838584
         ],
         "type": "linear"
        }
       }
      },
      "image/png": "[encoded data removed]",
      "text/html": [
       "<div>                            <div id=\"2a80dfc9-325c-415c-be17-9e76c0916738\" class=\"plotly-graph-div\" style=\"height:450px; width:1100px;\"></div>            <script type=\"text/javascript\">                require([\"plotly\"], function(Plotly) {                    window.PLOTLYENV=window.PLOTLYENV || {};                                    if (document.getElementById(\"2a80dfc9-325c-415c-be17-9e76c0916738\")) {                    Plotly.newPlot(                        \"2a80dfc9-325c-415c-be17-9e76c0916738\",                        [{\"hovertemplate\":\"x=%{x}\\u003cbr\\u003ey=%{y}\\u003cextra\\u003e\\u003c\\u002fextra\\u003e\",\"legendgroup\":\"\",\"line\":{\"color\":\"#636efa\",\"dash\":\"solid\",\"width\":1},\"marker\":{\"symbol\":\"circle\"},\"mode\":\"lines\",\"name\":\"\",\"orientation\":\"v\",\"showlegend\":false,\"x\":[0.0,0.29389262199401855,null,0.0,-0.29389262199401855,null,-0.29389262199401855,1.6082204580307007,null,-0.29389262199401855,-2.1960058212280273,null,-2.1960058212280273,-2.1960058212280273,null,-2.1960058212280273,-5.049175262451172,null,-5.049175262451172,-6.951288223266602,null,-5.049175262451172,-6.812530994415283,null],\"xaxis\":\"x\",\"y\":[0.0,0.404508501291275,null,0.0,-0.404508501291275,null,-0.404508501291275,-1.0225424766540527,null,-0.404508501291275,-1.0225424766540527,null,-1.0225424766540527,-5.022542476654053,null,-1.0225424766540527,-0.09549146890640259,null,-0.09549146890640259,-0.7135254740715027,null,-0.09549146890640259,2.331559658050537,null],\"yaxis\":\"y\",\"type\":\"scatter\"},{\"hovertemplate\":\"\\u003cb\\u003e%{hovertext}\\u003c\\u002fb\\u003e\\u003cbr\\u003e\\u003cbr\\u003ex=%{x}\\u003cbr\\u003ey=%{y}\\u003cextra\\u003e\\u003c\\u002fextra\\u003e\",\"hovertext\":[1.0,0.0,2.0,3.0,4.0],\"legendgroup\":\"\",\"marker\":{\"color\":\"#636efa\",\"size\":5,\"symbol\":\"circle\"},\"mode\":\"markers\",\"name\":\"\",\"orientation\":\"v\",\"showlegend\":false,\"x\":[-6.812530994415283,-6.951288223266602,-2.1960058212280273,1.6082204580307007,0.29389262199401855],\"xaxis\":\"x\",\"y\":[2.331559658050537,-0.7135254740715027,-5.022542476654053,-1.0225424766540527,0.404508501291275],\"yaxis\":\"y\",\"type\":\"scatter\"},{\"hovertemplate\":\"\\u003cb\\u003e%{hovertext}\\u003c\\u002fb\\u003e\\u003cbr\\u003e\\u003cbr\\u003ex=%{x}\\u003cbr\\u003ey=%{y}\\u003cextra\\u003e\\u003c\\u002fextra\\u003e\",\"hovertext\":[8.0,7.0,6.0,5.0],\"legendgroup\":\"\",\"marker\":{\"color\":\"#636efa\",\"size\":5,\"symbol\":\"circle\"},\"mode\":\"markers\",\"name\":\"\",\"orientation\":\"v\",\"showlegend\":false,\"x\":[0.0,-0.29389262199401855,-2.1960058212280273,-5.049175262451172],\"xaxis\":\"x\",\"y\":[0.0,-0.404508501291275,-1.0225424766540527,-0.09549146890640259],\"yaxis\":\"y\",\"type\":\"scatter\"},{\"hovertemplate\":\"x=%{x}\\u003cbr\\u003ey=%{y}\\u003cextra\\u003e\\u003c\\u002fextra\\u003e\",\"legendgroup\":\"\",\"line\":{\"color\":\"#636efa\",\"dash\":\"solid\",\"width\":1},\"marker\":{\"symbol\":\"circle\"},\"mode\":\"lines\",\"name\":\"\",\"orientation\":\"v\",\"showlegend\":false,\"x\":[0.0,0.5877852439880371,null,0.0,-0.5877852439880371,null,-0.5877852439880371,0.3632712960243225,null,-0.5877852439880371,-2.489898204803467,null,-2.489898204803467,-2.489898204803467,null,-2.489898204803467,-5.3430681228637695,null,-5.3430681228637695,-7.245181083679199,null,-5.3430681228637695,-7.106423854827881,null],\"xaxis\":\"x2\",\"y\":[0.0,0.80901700258255,null,0.0,-0.80901700258255,null,-0.80901700258255,-1.1180340051651,null,-0.80901700258255,-1.427051067352295,null,-1.427051067352295,-5.427051067352295,null,-1.427051067352295,-0.5000000596046448,null,-0.5000000596046448,-1.1180341243743896,null,-0.5000000596046448,1.927051067352295,null],\"yaxis\":\"y2\",\"type\":\"scatter\"},{\"hovertemplate\":\"\\u003cb\\u003e%{hovertext}\\u003c\\u002fb\\u003e\\u003cbr\\u003e\\u003cbr\\u003ex=%{x}\\u003cbr\\u003ey=%{y}\\u003cextra\\u003e\\u003c\\u002fextra\\u003e\",\"hovertext\":[1.0,0.0,2.0,4.0,3.0],\"legendgroup\":\"\",\"marker\":{\"color\":\"#636efa\",\"size\":5,\"symbol\":\"circle\"},\"mode\":\"markers\",\"name\":\"\",\"orientation\":\"v\",\"showlegend\":false,\"x\":[-7.106423854827881,-7.245181083679199,-2.489898204803467,0.3632712960243225,0.5877852439880371],\"xaxis\":\"x2\",\"y\":[1.927051067352295,-1.1180341243743896,-5.427051067352295,-1.1180340051651,0.80901700258255],\"yaxis\":\"y2\",\"type\":\"scatter\"},{\"hovertemplate\":\"\\u003cb\\u003e%{hovertext}\\u003c\\u002fb\\u003e\\u003cbr\\u003e\\u003cbr\\u003ex=%{x}\\u003cbr\\u003ey=%{y}\\u003cextra\\u003e\\u003c\\u002fextra\\u003e\",\"hovertext\":[8.0,7.0,6.0,5.0],\"legendgroup\":\"\",\"marker\":{\"color\":\"#636efa\",\"size\":5,\"symbol\":\"circle\"},\"mode\":\"markers\",\"name\":\"\",\"orientation\":\"v\",\"showlegend\":false,\"x\":[0.0,-0.5877852439880371,-2.489898204803467,-5.3430681228637695],\"xaxis\":\"x2\",\"y\":[0.0,-0.80901700258255,-1.427051067352295,-0.5000000596046448],\"yaxis\":\"y2\",\"type\":\"scatter\"},{\"hovertemplate\":\"x=%{x}\\u003cbr\\u003ey=%{y}\\u003cextra\\u003e\\u003c\\u002fextra\\u003e\",\"legendgroup\":\"\",\"line\":{\"color\":\"#636efa\",\"dash\":\"solid\",\"width\":1},\"marker\":{\"symbol\":\"circle\"},\"mode\":\"lines\",\"name\":\"\",\"orientation\":\"v\",\"showlegend\":false,\"x\":[0.0,0.29389262199401855,null,0.0,-0.29389262199401855,null,-0.29389262199401855,1.6082204580307007,null,-0.29389262199401855,-2.1960058212280273,null,-2.1960058212280273,-2.1960058212280273,null,-2.1960058212280273,-5.049175262451172,null,-5.049175262451172,-6.951288223266602,null,-5.049175262451172,-6.812530994415283,null],\"xaxis\":\"x3\",\"y\":[0.0,0.404508501291275,null,0.0,-0.404508501291275,null,-0.404508501291275,-1.0225424766540527,null,-0.404508501291275,-1.0225424766540527,null,-1.0225424766540527,-5.022542476654053,null,-1.0225424766540527,-0.09549146890640259,null,-0.09549146890640259,-0.7135254740715027,null,-0.09549146890640259,2.331559658050537,null],\"yaxis\":\"y3\",\"type\":\"scatter\"},{\"hovertemplate\":\"\\u003cb\\u003e%{hovertext}\\u003c\\u002fb\\u003e\\u003cbr\\u003e\\u003cbr\\u003ex=%{x}\\u003cbr\\u003ey=%{y}\\u003cextra\\u003e\\u003c\\u002fextra\\u003e\",\"hovertext\":[1.0,0.0,2.0,3.0,4.0],\"legendgroup\":\"\",\"marker\":{\"color\":\"#636efa\",\"size\":5,\"symbol\":\"circle\"},\"mode\":\"markers\",\"name\":\"\",\"orientation\":\"v\",\"showlegend\":false,\"x\":[-6.812530994415283,-6.951288223266602,-2.1960058212280273,1.6082204580307007,0.29389262199401855],\"xaxis\":\"x3\",\"y\":[2.331559658050537,-0.7135254740715027,-5.022542476654053,-1.0225424766540527,0.404508501291275],\"yaxis\":\"y3\",\"type\":\"scatter\"},{\"hovertemplate\":\"\\u003cb\\u003e%{hovertext}\\u003c\\u002fb\\u003e\\u003cbr\\u003e\\u003cbr\\u003ex=%{x}\\u003cbr\\u003ey=%{y}\\u003cextra\\u003e\\u003c\\u002fextra\\u003e\",\"hovertext\":[8.0,7.0,6.0,5.0],\"legendgroup\":\"\",\"marker\":{\"color\":\"#636efa\",\"size\":5,\"symbol\":\"circle\"},\"mode\":\"markers\",\"name\":\"\",\"orientation\":\"v\",\"showlegend\":false,\"x\":[0.0,-0.29389262199401855,-2.1960058212280273,-5.049175262451172],\"xaxis\":\"x3\",\"y\":[0.0,-0.404508501291275,-1.0225424766540527,-0.09549146890640259],\"yaxis\":\"y3\",\"type\":\"scatter\"}],                        {\"template\":{\"data\":{\"histogram2dcontour\":[{\"type\":\"histogram2dcontour\",\"colorbar\":{\"outlinewidth\":0,\"ticks\":\"\"},\"colorscale\":[[0.0,\"#0d0887\"],[0.1111111111111111,\"#46039f\"],[0.2222222222222222,\"#7201a8\"],[0.3333333333333333,\"#9c179e\"],[0.4444444444444444,\"#bd3786\"],[0.5555555555555556,\"#d8576b\"],[0.6666666666666666,\"#ed7953\"],[0.7777777777777778,\"#fb9f3a\"],[0.8888888888888888,\"#fdca26\"],[1.0,\"#f0f921\"]]}],\"choropleth\":[{\"type\":\"choropleth\",\"colorbar\":{\"outlinewidth\":0,\"ticks\":\"\"}}],\"histogram2d\":[{\"type\":\"histogram2d\",\"colorbar\":{\"outlinewidth\":0,\"ticks\":\"\"},\"colorscale\":[[0.0,\"#0d0887\"],[0.1111111111111111,\"#46039f\"],[0.2222222222222222,\"#7201a8\"],[0.3333333333333333,\"#9c179e\"],[0.4444444444444444,\"#bd3786\"],[0.5555555555555556,\"#d8576b\"],[0.6666666666666666,\"#ed7953\"],[0.7777777777777778,\"#fb9f3a\"],[0.8888888888888888,\"#fdca26\"],[1.0,\"#f0f921\"]]}],\"heatmap\":[{\"type\":\"heatmap\",\"colorbar\":{\"outlinewidth\":0,\"ticks\":\"\"},\"colorscale\":[[0.0,\"#0d0887\"],[0.1111111111111111,\"#46039f\"],[0.2222222222222222,\"#7201a8\"],[0.3333333333333333,\"#9c179e\"],[0.4444444444444444,\"#bd3786\"],[0.5555555555555556,\"#d8576b\"],[0.6666666666666666,\"#ed7953\"],[0.7777777777777778,\"#fb9f3a\"],[0.8888888888888888,\"#fdca26\"],[1.0,\"#f0f921\"]]}],\"heatmapgl\":[{\"type\":\"heatmapgl\",\"colorbar\":{\"outlinewidth\":0,\"ticks\":\"\"},\"colorscale\":[[0.0,\"#0d0887\"],[0.1111111111111111,\"#46039f\"],[0.2222222222222222,\"#7201a8\"],[0.3333333333333333,\"#9c179e\"],[0.4444444444444444,\"#bd3786\"],[0.5555555555555556,\"#d8576b\"],[0.6666666666666666,\"#ed7953\"],[0.7777777777777778,\"#fb9f3a\"],[0.8888888888888888,\"#fdca26\"],[1.0,\"#f0f921\"]]}],\"contourcarpet\":[{\"type\":\"contourcarpet\",\"colorbar\":{\"outlinewidth\":0,\"ticks\":\"\"}}],\"contour\":[{\"type\":\"contour\",\"colorbar\":{\"outlinewidth\":0,\"ticks\":\"\"},\"colorscale\":[[0.0,\"#0d0887\"],[0.1111111111111111,\"#46039f\"],[0.2222222222222222,\"#7201a8\"],[0.3333333333333333,\"#9c179e\"],[0.4444444444444444,\"#bd3786\"],[0.5555555555555556,\"#d8576b\"],[0.6666666666666666,\"#ed7953\"],[0.7777777777777778,\"#fb9f3a\"],[0.8888888888888888,\"#fdca26\"],[1.0,\"#f0f921\"]]}],\"surface\":[{\"type\":\"surface\",\"colorbar\":{\"outlinewidth\":0,\"ticks\":\"\"},\"colorscale\":[[0.0,\"#0d0887\"],[0.1111111111111111,\"#46039f\"],[0.2222222222222222,\"#7201a8\"],[0.3333333333333333,\"#9c179e\"],[0.4444444444444444,\"#bd3786\"],[0.5555555555555556,\"#d8576b\"],[0.6666666666666666,\"#ed7953\"],[0.7777777777777778,\"#fb9f3a\"],[0.8888888888888888,\"#fdca26\"],[1.0,\"#f0f921\"]]}],\"mesh3d\":[{\"type\":\"mesh3d\",\"colorbar\":{\"outlinewidth\":0,\"ticks\":\"\"}}],\"scatter\":[{\"fillpattern\":{\"fillmode\":\"overlay\",\"size\":10,\"solidity\":0.2},\"type\":\"scatter\"}],\"parcoords\":[{\"type\":\"parcoords\",\"line\":{\"colorbar\":{\"outlinewidth\":0,\"ticks\":\"\"}}}],\"scatterpolargl\":[{\"type\":\"scatterpolargl\",\"marker\":{\"colorbar\":{\"outlinewidth\":0,\"ticks\":\"\"}}}],\"bar\":[{\"error_x\":{\"color\":\"#2a3f5f\"},\"error_y\":{\"color\":\"#2a3f5f\"},\"marker\":{\"line\":{\"color\":\"#E5ECF6\",\"width\":0.5},\"pattern\":{\"fillmode\":\"overlay\",\"size\":10,\"solidity\":0.2}},\"type\":\"bar\"}],\"scattergeo\":[{\"type\":\"scattergeo\",\"marker\":{\"colorbar\":{\"outlinewidth\":0,\"ticks\":\"\"}}}],\"scatterpolar\":[{\"type\":\"scatterpolar\",\"marker\":{\"colorbar\":{\"outlinewidth\":0,\"ticks\":\"\"}}}],\"histogram\":[{\"marker\":{\"pattern\":{\"fillmode\":\"overlay\",\"size\":10,\"solidity\":0.2}},\"type\":\"histogram\"}],\"scattergl\":[{\"type\":\"scattergl\",\"marker\":{\"colorbar\":{\"outlinewidth\":0,\"ticks\":\"\"}}}],\"scatter3d\":[{\"type\":\"scatter3d\",\"line\":{\"colorbar\":{\"outlinewidth\":0,\"ticks\":\"\"}},\"marker\":{\"colorbar\":{\"outlinewidth\":0,\"ticks\":\"\"}}}],\"scattermapbox\":[{\"type\":\"scattermapbox\",\"marker\":{\"colorbar\":{\"outlinewidth\":0,\"ticks\":\"\"}}}],\"scatterternary\":[{\"type\":\"scatterternary\",\"marker\":{\"colorbar\":{\"outlinewidth\":0,\"ticks\":\"\"}}}],\"scattercarpet\":[{\"type\":\"scattercarpet\",\"marker\":{\"colorbar\":{\"outlinewidth\":0,\"ticks\":\"\"}}}],\"carpet\":[{\"aaxis\":{\"endlinecolor\":\"#2a3f5f\",\"gridcolor\":\"white\",\"linecolor\":\"white\",\"minorgridcolor\":\"white\",\"startlinecolor\":\"#2a3f5f\"},\"baxis\":{\"endlinecolor\":\"#2a3f5f\",\"gridcolor\":\"white\",\"linecolor\":\"white\",\"minorgridcolor\":\"white\",\"startlinecolor\":\"#2a3f5f\"},\"type\":\"carpet\"}],\"table\":[{\"cells\":{\"fill\":{\"color\":\"#EBF0F8\"},\"line\":{\"color\":\"white\"}},\"header\":{\"fill\":{\"color\":\"#C8D4E3\"},\"line\":{\"color\":\"white\"}},\"type\":\"table\"}],\"barpolar\":[{\"marker\":{\"line\":{\"color\":\"#E5ECF6\",\"width\":0.5},\"pattern\":{\"fillmode\":\"overlay\",\"size\":10,\"solidity\":0.2}},\"type\":\"barpolar\"}],\"pie\":[{\"automargin\":true,\"type\":\"pie\"}]},\"layout\":{\"autotypenumbers\":\"strict\",\"colorway\":[\"#636efa\",\"#EF553B\",\"#00cc96\",\"#ab63fa\",\"#FFA15A\",\"#19d3f3\",\"#FF6692\",\"#B6E880\",\"#FF97FF\",\"#FECB52\"],\"font\":{\"color\":\"#2a3f5f\"},\"hovermode\":\"closest\",\"hoverlabel\":{\"align\":\"left\"},\"paper_bgcolor\":\"white\",\"plot_bgcolor\":\"#E5ECF6\",\"polar\":{\"bgcolor\":\"#E5ECF6\",\"angularaxis\":{\"gridcolor\":\"white\",\"linecolor\":\"white\",\"ticks\":\"\"},\"radialaxis\":{\"gridcolor\":\"white\",\"linecolor\":\"white\",\"ticks\":\"\"}},\"ternary\":{\"bgcolor\":\"#E5ECF6\",\"aaxis\":{\"gridcolor\":\"white\",\"linecolor\":\"white\",\"ticks\":\"\"},\"baxis\":{\"gridcolor\":\"white\",\"linecolor\":\"white\",\"ticks\":\"\"},\"caxis\":{\"gridcolor\":\"white\",\"linecolor\":\"white\",\"ticks\":\"\"}},\"coloraxis\":{\"colorbar\":{\"outlinewidth\":0,\"ticks\":\"\"}},\"colorscale\":{\"sequential\":[[0.0,\"#0d0887\"],[0.1111111111111111,\"#46039f\"],[0.2222222222222222,\"#7201a8\"],[0.3333333333333333,\"#9c179e\"],[0.4444444444444444,\"#bd3786\"],[0.5555555555555556,\"#d8576b\"],[0.6666666666666666,\"#ed7953\"],[0.7777777777777778,\"#fb9f3a\"],[0.8888888888888888,\"#fdca26\"],[1.0,\"#f0f921\"]],\"sequentialminus\":[[0.0,\"#0d0887\"],[0.1111111111111111,\"#46039f\"],[0.2222222222222222,\"#7201a8\"],[0.3333333333333333,\"#9c179e\"],[0.4444444444444444,\"#bd3786\"],[0.5555555555555556,\"#d8576b\"],[0.6666666666666666,\"#ed7953\"],[0.7777777777777778,\"#fb9f3a\"],[0.8888888888888888,\"#fdca26\"],[1.0,\"#f0f921\"]],\"diverging\":[[0,\"#8e0152\"],[0.1,\"#c51b7d\"],[0.2,\"#de77ae\"],[0.3,\"#f1b6da\"],[0.4,\"#fde0ef\"],[0.5,\"#f7f7f7\"],[0.6,\"#e6f5d0\"],[0.7,\"#b8e186\"],[0.8,\"#7fbc41\"],[0.9,\"#4d9221\"],[1,\"#276419\"]]},\"xaxis\":{\"gridcolor\":\"white\",\"linecolor\":\"white\",\"ticks\":\"\",\"title\":{\"standoff\":15},\"zerolinecolor\":\"white\",\"automargin\":true,\"zerolinewidth\":2},\"yaxis\":{\"gridcolor\":\"white\",\"linecolor\":\"white\",\"ticks\":\"\",\"title\":{\"standoff\":15},\"zerolinecolor\":\"white\",\"automargin\":true,\"zerolinewidth\":2},\"scene\":{\"xaxis\":{\"backgroundcolor\":\"#E5ECF6\",\"gridcolor\":\"white\",\"linecolor\":\"white\",\"showbackground\":true,\"ticks\":\"\",\"zerolinecolor\":\"white\",\"gridwidth\":2},\"yaxis\":{\"backgroundcolor\":\"#E5ECF6\",\"gridcolor\":\"white\",\"linecolor\":\"white\",\"showbackground\":true,\"ticks\":\"\",\"zerolinecolor\":\"white\",\"gridwidth\":2},\"zaxis\":{\"backgroundcolor\":\"#E5ECF6\",\"gridcolor\":\"white\",\"linecolor\":\"white\",\"showbackground\":true,\"ticks\":\"\",\"zerolinecolor\":\"white\",\"gridwidth\":2}},\"shapedefaults\":{\"line\":{\"color\":\"#2a3f5f\"}},\"annotationdefaults\":{\"arrowcolor\":\"#2a3f5f\",\"arrowhead\":0,\"arrowwidth\":1},\"geo\":{\"bgcolor\":\"white\",\"landcolor\":\"#E5ECF6\",\"subunitcolor\":\"white\",\"showland\":true,\"showlakes\":true,\"lakecolor\":\"white\"},\"title\":{\"x\":0.05},\"mapbox\":{\"style\":\"light\"}}},\"xaxis\":{\"anchor\":\"y\",\"domain\":[0.0,0.32]},\"yaxis\":{\"anchor\":\"x\",\"domain\":[0.0,1.0]},\"xaxis2\":{\"anchor\":\"y2\",\"domain\":[0.34,0.66]},\"yaxis2\":{\"anchor\":\"x2\",\"domain\":[0.0,1.0]},\"xaxis3\":{\"anchor\":\"y3\",\"domain\":[0.68,1.0]},\"yaxis3\":{\"anchor\":\"x3\",\"domain\":[0.0,1.0]},\"annotations\":[{\"font\":{\"size\":16},\"showarrow\":false,\"text\":\"Canonical\",\"x\":0.16,\"xanchor\":\"center\",\"xref\":\"paper\",\"y\":1.0,\"yanchor\":\"bottom\",\"yref\":\"paper\"},{\"font\":{\"size\":16},\"showarrow\":false,\"text\":\"Rapid\",\"x\":0.5,\"xanchor\":\"center\",\"xref\":\"paper\",\"y\":1.0,\"yanchor\":\"bottom\",\"yref\":\"paper\"},{\"font\":{\"size\":16},\"showarrow\":false,\"text\":\"Dynamic\",\"x\":0.8400000000000001,\"xanchor\":\"center\",\"xref\":\"paper\",\"y\":1.0,\"yanchor\":\"bottom\",\"yref\":\"paper\"}],\"showlegend\":false,\"height\":450,\"width\":1100},                        {\"responsive\": true}                    ).then(function(){\n",
       "                            \n",
       "var gd = document.getElementById('2a80dfc9-325c-415c-be17-9e76c0916738');\n",
       "var x = new MutationObserver(function (mutations, observer) {{\n",
       "        var display = window.getComputedStyle(gd).display;\n",
       "        if (!display || display === 'none') {{\n",
       "            console.log([gd, 'removed!']);\n",
       "            Plotly.purge(gd);\n",
       "            observer.disconnect();\n",
       "        }}\n",
       "}});\n",
       "\n",
       "// Listen for the removal of the full notebook cells\n",
       "var notebookContainer = gd.closest('#notebook-container');\n",
       "if (notebookContainer) {{\n",
       "    x.observe(notebookContainer, {childList: true});\n",
       "}}\n",
       "\n",
       "// Listen for the clearing of the current output cell\n",
       "var outputEl = gd.closest('.output');\n",
       "if (outputEl) {{\n",
       "    x.observe(outputEl, {childList: true});\n",
       "}}\n",
       "\n",
       "                        })                };                });            </script>        </div>"
      ]
     },
     "metadata": {},
     "output_type": "display_data"
    }
   ],
   "source": [
    "figd = anjl.plot(Z2d, marker_size=5, internal_marker_size=5)\n",
    "figr = anjl.plot(Z2r, marker_size=5, internal_marker_size=5)\n",
    "figc = anjl.plot(Z2, marker_size=5, internal_marker_size=5)\n",
    "figures = [figc, figr, figd]\n",
    "fig = make_subplots(\n",
    "    rows=1,\n",
    "    cols=len(figures),\n",
    "    subplot_titles=[\"Canonical\", \"Rapid\", \"Dynamic\"],\n",
    "    horizontal_spacing=0.02,\n",
    "    vertical_spacing=0.02,\n",
    ")\n",
    "for i, figure in enumerate(figures):\n",
    "    for trace in range(len(figure[\"data\"])):\n",
    "        fig.append_trace(figure[\"data\"][trace], row=1, col=i + 1)\n",
    "fig.update_layout(showlegend=False, height=450, width=1100)\n",
    "fig"
   ]
  },
  {
   "cell_type": "markdown",
   "id": "c7351738-0ef5-4ff3-a579-201e772b48e9",
   "metadata": {},
   "source": [
    "## Example 3 (small)"
   ]
  },
  {
   "cell_type": "code",
   "execution_count": null,
   "id": "121b2346-4602-4499-8f76-76be9bf8d3c5",
   "metadata": {},
   "outputs": [],
   "source": [
    "D3, ld3 = anjl.data.mosquitoes()\n",
    "loc_shuffle = np.random.choice(D3.shape[0], size=D3.shape[0], replace=False)\n",
    "D3 = D3.take(loc_shuffle, axis=0).take(loc_shuffle, axis=1)\n",
    "ld3 = ld3.iloc[loc_shuffle].reset_index(drop=True)\n",
    "D3.shape"
   ]
  },
  {
   "cell_type": "code",
   "execution_count": null,
   "id": "82b55dc5-38ed-49e3-bebe-ef2d3748f365",
   "metadata": {},
   "outputs": [],
   "source": [
    "Z3d = anjl.dynamic_nj(D3)\n",
    "Z3r = anjl.rapid_nj(D3)\n",
    "Z3 = anjl.canonical_nj(D3)"
   ]
  },
  {
   "cell_type": "code",
   "execution_count": null,
   "id": "4424e7a4-2a94-4b7a-ae06-dead92edbe38",
   "metadata": {},
   "outputs": [],
   "source": [
    "color = \"taxon\"\n",
    "params3 = dict(\n",
    "    line_width=1,\n",
    "    marker_size=4,\n",
    "    count_sort=True,\n",
    "    color=color,\n",
    "    hover_name=\"sample_id\",\n",
    "    leaf_data=ld3,\n",
    "    category_orders={color: np.unique(ld3[color])},\n",
    "    render_mode=\"svg\",\n",
    ")\n",
    "figd = anjl.plot(Z3d, **params3)\n",
    "figr = anjl.plot(Z3r, **params3)\n",
    "figc = anjl.plot(Z3, **params3)\n",
    "figures = [figc, figr, figd]\n",
    "fig = make_subplots(\n",
    "    rows=1,\n",
    "    cols=len(figures),\n",
    "    subplot_titles=[\"Canonical\", \"Rapid\", \"Dynamic\"],\n",
    "    horizontal_spacing=0.02,\n",
    "    vertical_spacing=0.02,\n",
    ")\n",
    "for i, figure in enumerate(figures):\n",
    "    for trace in range(len(figure[\"data\"])):\n",
    "        fig.append_trace(figure[\"data\"][trace], row=1, col=i + 1)\n",
    "fig.update_layout(showlegend=False, height=450, width=1100)\n",
    "fig"
   ]
  },
  {
   "cell_type": "code",
   "execution_count": null,
   "id": "fd955ed4-5bd2-4e36-bad3-895e4d88b811",
   "metadata": {},
   "outputs": [],
   "source": [
    "fig = anjl.plot(Z3d, **params3)\n",
    "fig.update_layout(title=\"Dynamic\")\n",
    "fig"
   ]
  },
  {
   "cell_type": "code",
   "execution_count": null,
   "id": "1f836434-9cb9-4f13-ab7b-b41177b13742",
   "metadata": {},
   "outputs": [],
   "source": [
    "fig = anjl.plot(Z3r, **params3)\n",
    "fig.update_layout(title=\"Rapid\")\n",
    "fig"
   ]
  },
  {
   "cell_type": "code",
   "execution_count": null,
   "id": "0f1879b7-50b4-4e43-a169-762c62f8055a",
   "metadata": {},
   "outputs": [],
   "source": [
    "fig = anjl.plot(Z3, **params3)\n",
    "fig.update_layout(title=\"Canonical\")\n",
    "fig"
   ]
  },
  {
   "cell_type": "markdown",
   "id": "b2ddee73-9340-4ed0-8458-711da137cc69",
   "metadata": {},
   "source": [
    "## Example 4 (medium)"
   ]
  },
  {
   "cell_type": "code",
   "execution_count": null,
   "id": "fd60df37-ad47-4bc6-b077-277943db4862",
   "metadata": {},
   "outputs": [],
   "source": [
    "ld4 = pd.read_csv(\"../benchmark/medium/samples.csv\")\n",
    "medium = zarr.load(\"../benchmark/medium/dist.zarr.zip\")\n",
    "D4 = squareform(medium)\n",
    "loc_shuffle = np.random.choice(D4.shape[0], size=D4.shape[0], replace=False)\n",
    "D4 = D4.take(loc_shuffle, axis=0).take(loc_shuffle, axis=1)\n",
    "ld4 = ld4.iloc[loc_shuffle].reset_index(drop=True)\n",
    "D4.shape"
   ]
  },
  {
   "cell_type": "code",
   "execution_count": null,
   "id": "b69c7852-5922-4654-b610-1b97c2aeb5ba",
   "metadata": {},
   "outputs": [],
   "source": [
    "Z4d = anjl.dynamic_nj(D4)\n",
    "Z4r = anjl.rapid_nj(D4)\n",
    "Z4 = anjl.canonical_nj(D4)"
   ]
  },
  {
   "cell_type": "code",
   "execution_count": null,
   "id": "d91a22b0-cc87-42cc-8cea-19df6d1881bc",
   "metadata": {},
   "outputs": [],
   "source": [
    "color = \"taxon\"\n",
    "params4 = dict(\n",
    "    line_width=0.5,\n",
    "    marker_size=3,\n",
    "    count_sort=True,\n",
    "    color=color,\n",
    "    hover_name=\"sample_id\",\n",
    "    hover_data=[\"country\", \"location\", \"year\", \"month\"],\n",
    "    leaf_data=ld4,\n",
    "    category_orders={color: np.unique(ld4[color])},\n",
    "    render_mode=\"svg\",\n",
    ")\n",
    "figd = anjl.plot(Z4d, **params4)\n",
    "figr = anjl.plot(Z4r, **params4)\n",
    "figc = anjl.plot(Z4, **params4)\n",
    "figures = [figc, figr, figd]\n",
    "fig = make_subplots(\n",
    "    rows=1,\n",
    "    cols=len(figures),\n",
    "    subplot_titles=[\"Canonical\", \"Rapid\", \"Dynamic\"],\n",
    "    horizontal_spacing=0.02,\n",
    "    vertical_spacing=0.02,\n",
    ")\n",
    "for i, figure in enumerate(figures):\n",
    "    for trace in range(len(figure[\"data\"])):\n",
    "        fig.append_trace(figure[\"data\"][trace], row=1, col=i + 1)\n",
    "fig.update_layout(showlegend=False, height=450, width=1100)\n",
    "fig"
   ]
  },
  {
   "cell_type": "markdown",
   "id": "87e1e3df-413b-4a58-a5d5-9af6d71029bb",
   "metadata": {},
   "source": [
    "## Example 5 (large)"
   ]
  },
  {
   "cell_type": "code",
   "execution_count": null,
   "id": "20f7b5c5-6bb2-4c2d-9b44-42e5b08df9df",
   "metadata": {},
   "outputs": [],
   "source": [
    "ld5 = pd.read_csv(\"../benchmark/large/samples.csv\")\n",
    "large = zarr.load(\"../benchmark/large/dist.zarr.zip\")\n",
    "D5 = squareform(large)\n",
    "loc_shuffle = np.random.choice(D5.shape[0], size=D5.shape[0], replace=False)\n",
    "D5 = D5.take(loc_shuffle, axis=0).take(loc_shuffle, axis=1)\n",
    "ld5 = ld5.iloc[loc_shuffle].reset_index(drop=True)\n",
    "\n",
    "Z5d = anjl.dynamic_nj(D5)\n",
    "Z5r = anjl.rapid_nj(D5)\n",
    "\n",
    "D5.shape"
   ]
  },
  {
   "cell_type": "code",
   "execution_count": null,
   "id": "6a5b2ea7-547e-4f9b-a321-25fdcaceec3a",
   "metadata": {},
   "outputs": [],
   "source": [
    "color = \"taxon\"\n",
    "params5 = dict(\n",
    "    line_width=0.5,\n",
    "    marker_size=3,\n",
    "    count_sort=True,\n",
    "    color=color,\n",
    "    hover_name=\"sample_id\",\n",
    "    hover_data=[\"country\", \"location\", \"year\", \"month\"],\n",
    "    leaf_data=ld5,\n",
    "    category_orders={color: np.unique(ld5[color])},\n",
    "    render_mode=\"svg\",\n",
    ")\n",
    "figd = anjl.plot(Z5d, **params5)\n",
    "figr = anjl.plot(Z5r, **params5)\n",
    "figures = [figr, figd]\n",
    "fig = make_subplots(\n",
    "    rows=1,\n",
    "    cols=len(figures),\n",
    "    subplot_titles=[\"Rapid\", \"Dynamic\"],\n",
    "    horizontal_spacing=0.02,\n",
    "    vertical_spacing=0.02,\n",
    ")\n",
    "for i, figure in enumerate(figures):\n",
    "    for trace in range(len(figure[\"data\"])):\n",
    "        fig.append_trace(figure[\"data\"][trace], row=1, col=i + 1)\n",
    "fig.update_layout(showlegend=False, height=500, width=900)\n",
    "fig"
   ]
  },
  {
   "cell_type": "markdown",
   "id": "03ee9510-b7cd-4ec6-b015-f46dc0480351",
   "metadata": {},
   "source": [
    "## Example 6 (XL)"
   ]
  },
  {
   "cell_type": "code",
   "execution_count": null,
   "id": "3b851e85-05fe-49f1-b512-702271536df4",
   "metadata": {},
   "outputs": [],
   "source": [
    "ld6 = pd.read_csv(\"../benchmark/xl/samples.csv\")\n",
    "large = zarr.load(\"../benchmark/xl/dist.zarr.zip\")\n",
    "D6 = squareform(large)\n",
    "loc_shuffle = np.random.choice(D6.shape[0], size=D6.shape[0], replace=False)\n",
    "D6 = D6.take(loc_shuffle, axis=0).take(loc_shuffle, axis=1)\n",
    "ld6 = ld6.iloc[loc_shuffle].reset_index(drop=True)\n",
    "\n",
    "Z6d = anjl.dynamic_nj(D6)\n",
    "Z6r = anjl.rapid_nj(D6)\n",
    "\n",
    "D6.shape"
   ]
  },
  {
   "cell_type": "code",
   "execution_count": null,
   "id": "7c935e4e-dc50-4fef-89de-847dda43d160",
   "metadata": {},
   "outputs": [],
   "source": [
    "color = \"taxon\"\n",
    "params6 = dict(\n",
    "    line_width=0.5,\n",
    "    marker_size=3,\n",
    "    count_sort=True,\n",
    "    color=color,\n",
    "    hover_name=\"sample_id\",\n",
    "    hover_data=[\"country\", \"location\", \"year\", \"month\"],\n",
    "    leaf_data=ld6,\n",
    "    category_orders={color: np.unique(ld6[color])},\n",
    "    render_mode=\"auto\",\n",
    ")\n",
    "figd = anjl.plot(Z6d, **params6)\n",
    "figr = anjl.plot(Z6r, **params6)\n",
    "figures = [figr, figd]\n",
    "fig = make_subplots(\n",
    "    rows=1,\n",
    "    cols=len(figures),\n",
    "    subplot_titles=[\"Rapid\", \"Dynamic\"],\n",
    "    horizontal_spacing=0.02,\n",
    "    vertical_spacing=0.02,\n",
    ")\n",
    "for i, figure in enumerate(figures):\n",
    "    for trace in range(len(figure[\"data\"])):\n",
    "        fig.append_trace(figure[\"data\"][trace], row=1, col=i + 1)\n",
    "fig.update_layout(showlegend=False, height=500, width=900)\n",
    "fig"
   ]
  },
  {
   "cell_type": "code",
   "execution_count": null,
   "id": "46a72ccc-3a7e-454a-ae54-d6153859720f",
   "metadata": {},
   "outputs": [],
   "source": []
  }
 ],
 "metadata": {
  "environment": {
   "kernel": "python3",
   "name": "workbench-notebooks.m124",
   "type": "gcloud",
   "uri": "us-docker.pkg.dev/deeplearning-platform-release/gcr.io/workbench-notebooks:m124"
  },
  "kernelspec": {
   "display_name": "Python 3 (ipykernel)",
   "language": "python",
   "name": "python3"
  },
  "language_info": {
   "codemirror_mode": {
    "name": "ipython",
    "version": 3
   },
   "file_extension": ".py",
   "mimetype": "text/x-python",
   "name": "python",
   "nbconvert_exporter": "python",
   "pygments_lexer": "ipython3",
   "version": "3.10.12"
  },
  "widgets": {
   "application/vnd.jupyter.widget-state+json": {
    "state": {},
    "version_major": 2,
    "version_minor": 0
   }
  }
 },
 "nbformat": 4,
 "nbformat_minor": 5
}
