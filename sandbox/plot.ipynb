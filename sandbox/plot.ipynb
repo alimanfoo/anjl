{
 "cells": [
  {
   "cell_type": "markdown",
   "id": "95612ea7-0860-4649-b1e0-e2cc22c7a529",
   "metadata": {},
   "source": [
    "# Plotting"
   ]
  },
  {
   "cell_type": "code",
   "execution_count": null,
   "id": "864df6fb-3976-4e02-a9d6-bba8cfd709cd",
   "metadata": {},
   "outputs": [],
   "source": [
    "import anjl\n",
    "import plotly.io\n",
    "import zarr\n",
    "from scipy.spatial.distance import squareform\n",
    "import pandas as pd\n",
    "import numpy as np\n",
    "\n",
    "plotly.io.renderers.default = \"plotly_mimetype+notebook_connected\""
   ]
  },
  {
   "cell_type": "markdown",
   "id": "e8ac2d6e-6338-4921-84a8-775b6847a304",
   "metadata": {},
   "source": [
    "## Example 1"
   ]
  },
  {
   "cell_type": "code",
   "execution_count": null,
   "id": "ff9823e8-a955-41e2-8cbd-14c2cb2144de",
   "metadata": {},
   "outputs": [],
   "source": [
    "D1, _ = anjl.data.example_1()\n",
    "D1"
   ]
  },
  {
   "cell_type": "code",
   "execution_count": null,
   "id": "089473fd-ff21-4811-93d7-15d2009d6635",
   "metadata": {},
   "outputs": [],
   "source": [
    "Z1d = anjl.dynamic_nj(D1)\n",
    "Z1d"
   ]
  },
  {
   "cell_type": "code",
   "execution_count": null,
   "id": "2fb814e1-cfb6-4311-b1cb-9195eb0908ae",
   "metadata": {},
   "outputs": [],
   "source": [
    "Z1h = anjl.heuristic_nj(D1)\n",
    "Z1h"
   ]
  },
  {
   "cell_type": "code",
   "execution_count": null,
   "id": "3a1d1471-825a-452a-918d-2ece876de63d",
   "metadata": {},
   "outputs": [],
   "source": [
    "Z1r = anjl.rapid_nj(D1)\n",
    "Z1r"
   ]
  },
  {
   "cell_type": "code",
   "execution_count": null,
   "id": "8181afed-6929-44fc-b939-c9eb4caa172d",
   "metadata": {},
   "outputs": [],
   "source": [
    "Z1 = anjl.canonical_nj(D1)\n",
    "Z1"
   ]
  },
  {
   "cell_type": "code",
   "execution_count": null,
   "id": "498e1f06-d95c-4475-ba2d-08b1e606d856",
   "metadata": {},
   "outputs": [],
   "source": [
    "print(anjl.to_string(Z1d))\n",
    "print(anjl.to_string(Z1h))\n",
    "print(anjl.to_string(Z1r))\n",
    "print(anjl.to_string(Z1))"
   ]
  },
  {
   "cell_type": "code",
   "execution_count": null,
   "id": "63490021-e8ce-48ef-b066-ff0422756d41",
   "metadata": {},
   "outputs": [],
   "source": [
    "anjl.plot(Z1d, marker_size=5, internal_marker_size=5, width=400, height=400)"
   ]
  },
  {
   "cell_type": "code",
   "execution_count": null,
   "id": "0e2cfa00-b1cd-4d64-8a53-8b8cbe6672c2",
   "metadata": {},
   "outputs": [],
   "source": [
    "anjl.plot(Z1h, marker_size=5, internal_marker_size=5, width=400, height=400)"
   ]
  },
  {
   "cell_type": "code",
   "execution_count": null,
   "id": "512ac01b-47c5-49a8-a329-147aaa288b3f",
   "metadata": {},
   "outputs": [],
   "source": [
    "anjl.plot(Z1r, marker_size=5, internal_marker_size=5, width=400, height=400)"
   ]
  },
  {
   "cell_type": "code",
   "execution_count": null,
   "id": "6c2f339f-38f7-4808-8de3-c8b25fa2df9c",
   "metadata": {},
   "outputs": [],
   "source": [
    "anjl.plot(Z1, marker_size=5, internal_marker_size=5, width=400, height=400)"
   ]
  },
  {
   "cell_type": "code",
   "execution_count": null,
   "id": "9e35b4f1-8ba0-4061-b5e9-070742fb3f5c",
   "metadata": {},
   "outputs": [],
   "source": [
    "ld1 = pd.DataFrame.from_records(\n",
    "    [\n",
    "        [\"A\", \"apple\", \"carrot\", \"pigeon\", \"Ferrari\"],\n",
    "        [\"B\", \"apple\", \"pea\", \"ladybird\", \"Lamborghini\"],\n",
    "        [\"C\", \"banana\", \"cabbage\", \"pigeon\", \"Landrover\"],\n",
    "        [\"D\", \"mango\", \"cabbage\", \"spider\", np.nan],\n",
    "    ],\n",
    "    columns=[\"name\", \"fruit\", \"vegetable\", \"animal\", \"car\"],\n",
    ")\n",
    "ld1"
   ]
  },
  {
   "cell_type": "code",
   "execution_count": null,
   "id": "0db6f228-03d3-4e0d-9338-0eff0a30ae02",
   "metadata": {},
   "outputs": [],
   "source": [
    "anjl.plot(\n",
    "    Z=Z1,\n",
    "    leaf_data=ld1,\n",
    "    hover_name=\"name\",\n",
    "    hover_data=[\"fruit\", \"vegetable\", \"animal\", \"car\"],\n",
    "    color=\"fruit\",\n",
    "    marker_size=20,\n",
    "    internal_marker_size=5,\n",
    "    line_width=4,\n",
    ")"
   ]
  },
  {
   "cell_type": "code",
   "execution_count": null,
   "id": "3c455ae8-d01b-430d-a970-5290e86bfe92",
   "metadata": {},
   "outputs": [],
   "source": [
    "anjl.plot(\n",
    "    Z=Z1r,\n",
    "    leaf_data=ld1,\n",
    "    hover_name=\"name\",\n",
    "    hover_data=[\"fruit\", \"vegetable\", \"animal\", \"car\"],\n",
    "    color=\"fruit\",\n",
    "    marker_size=20,\n",
    "    symbol=\"car\",\n",
    "    internal_marker_size=5,\n",
    "    line_width=4,\n",
    ")"
   ]
  },
  {
   "cell_type": "code",
   "execution_count": null,
   "id": "4d9d6a48-691f-4aff-8832-3814d8639ac0",
   "metadata": {},
   "outputs": [],
   "source": [
    "anjl.plot(\n",
    "    Z=Z1r,\n",
    "    leaf_data=ld1,\n",
    "    hover_name=\"name\",\n",
    "    hover_data=[\"fruit\", \"vegetable\", \"animal\", \"car\"],\n",
    "    color=\"car\",\n",
    "    marker_size=20,\n",
    "    symbol=\"fruit\",\n",
    "    internal_marker_size=5,\n",
    "    line_width=4,\n",
    ")"
   ]
  },
  {
   "cell_type": "markdown",
   "id": "f8050acd-b9dc-48e1-9ff4-5a44295c9dbd",
   "metadata": {},
   "source": [
    "## Example 2"
   ]
  },
  {
   "cell_type": "code",
   "execution_count": null,
   "id": "65cdf669-4a98-4208-8447-de76c90cef0f",
   "metadata": {},
   "outputs": [],
   "source": [
    "D2, _ = anjl.data.wikipedia_example()\n",
    "D2"
   ]
  },
  {
   "cell_type": "code",
   "execution_count": null,
   "id": "a6b5ad22-24f5-4ff3-8432-df0c03d0fa55",
   "metadata": {},
   "outputs": [],
   "source": [
    "Z2d = anjl.dynamic_nj(D2)\n",
    "Z2d"
   ]
  },
  {
   "cell_type": "code",
   "execution_count": null,
   "id": "e316e7d0-010f-49f5-9dbf-0592f89e1cc1",
   "metadata": {},
   "outputs": [],
   "source": [
    "Z2h = anjl.heuristic_nj(D2)\n",
    "Z2h"
   ]
  },
  {
   "cell_type": "code",
   "execution_count": null,
   "id": "93f00287-6477-45b6-a217-a84cb8bfb002",
   "metadata": {},
   "outputs": [],
   "source": [
    "Z2r = anjl.rapid_nj(D2)\n",
    "Z2r"
   ]
  },
  {
   "cell_type": "code",
   "execution_count": null,
   "id": "062ead50-f768-40f6-9234-9264297c265d",
   "metadata": {},
   "outputs": [],
   "source": [
    "Z2 = anjl.canonical_nj(D2)\n",
    "Z2"
   ]
  },
  {
   "cell_type": "code",
   "execution_count": null,
   "id": "589b3446-080b-4991-9358-48aadd29263f",
   "metadata": {},
   "outputs": [],
   "source": [
    "print(anjl.to_string(Z2d))\n",
    "print(anjl.to_string(Z2h))\n",
    "print(anjl.to_string(Z2r))\n",
    "print(anjl.to_string(Z2))"
   ]
  },
  {
   "cell_type": "code",
   "execution_count": null,
   "id": "c9a271cf-c285-4d31-8c4b-4871d68d0df1",
   "metadata": {},
   "outputs": [],
   "source": [
    "anjl.plot(Z=Z2d, line_width=2, marker_size=20, internal_marker_size=5)"
   ]
  },
  {
   "cell_type": "code",
   "execution_count": null,
   "id": "2d85c716-8003-4b99-a590-c76fb1387660",
   "metadata": {},
   "outputs": [],
   "source": [
    "anjl.plot(Z=Z2h, line_width=2, marker_size=20, internal_marker_size=5)"
   ]
  },
  {
   "cell_type": "code",
   "execution_count": null,
   "id": "0198ae50-ac38-4798-94fc-d1b7de11a662",
   "metadata": {},
   "outputs": [],
   "source": [
    "anjl.plot(Z=Z2r, line_width=2, marker_size=20, internal_marker_size=5)"
   ]
  },
  {
   "cell_type": "code",
   "execution_count": null,
   "id": "a0c014da-5e74-45a5-976e-59f189f2310e",
   "metadata": {},
   "outputs": [],
   "source": [
    "anjl.plot(Z=Z2, line_width=2, marker_size=20, internal_marker_size=5)"
   ]
  },
  {
   "cell_type": "markdown",
   "id": "c7351738-0ef5-4ff3-a579-201e772b48e9",
   "metadata": {},
   "source": [
    "## Example 3 (small)"
   ]
  },
  {
   "cell_type": "code",
   "execution_count": null,
   "id": "121b2346-4602-4499-8f76-76be9bf8d3c5",
   "metadata": {},
   "outputs": [],
   "source": [
    "D3, ld3 = anjl.data.mosquitoes()\n",
    "D3.shape"
   ]
  },
  {
   "cell_type": "code",
   "execution_count": null,
   "id": "82b55dc5-38ed-49e3-bebe-ef2d3748f365",
   "metadata": {},
   "outputs": [],
   "source": [
    "Z3d = anjl.dynamic_nj(D3)\n",
    "Z3h = anjl.heuristic_nj(D3)\n",
    "Z3r = anjl.rapid_nj(D3)\n",
    "Z3 = anjl.canonical_nj(D3)"
   ]
  },
  {
   "cell_type": "code",
   "execution_count": null,
   "id": "fd955ed4-5bd2-4e36-bad3-895e4d88b811",
   "metadata": {},
   "outputs": [],
   "source": [
    "fig = anjl.plot(\n",
    "    Z3d,\n",
    "    line_width=1,\n",
    "    marker_size=8,\n",
    "    count_sort=True,\n",
    "    color=\"taxon\",\n",
    "    hover_name=\"sample_id\",\n",
    "    leaf_data=ld3,\n",
    "    render_mode=\"svg\",\n",
    ")\n",
    "fig.update_layout(title=\"Dynamic\")\n",
    "fig"
   ]
  },
  {
   "cell_type": "code",
   "execution_count": null,
   "id": "6e0692c0-82d6-4502-849a-49070fd7bf5a",
   "metadata": {},
   "outputs": [],
   "source": [
    "fig = anjl.plot(\n",
    "    Z3h,\n",
    "    line_width=1,\n",
    "    marker_size=8,\n",
    "    count_sort=True,\n",
    "    color=\"taxon\",\n",
    "    hover_name=\"sample_id\",\n",
    "    leaf_data=ld3,\n",
    "    render_mode=\"svg\",\n",
    ")\n",
    "fig.update_layout(title=\"Heuristic\")\n",
    "fig"
   ]
  },
  {
   "cell_type": "code",
   "execution_count": null,
   "id": "1f836434-9cb9-4f13-ab7b-b41177b13742",
   "metadata": {},
   "outputs": [],
   "source": [
    "fig = anjl.plot(\n",
    "    Z3r,\n",
    "    line_width=1,\n",
    "    marker_size=8,\n",
    "    count_sort=True,\n",
    "    color=\"taxon\",\n",
    "    hover_name=\"sample_id\",\n",
    "    leaf_data=ld3,\n",
    "    render_mode=\"svg\",\n",
    ")\n",
    "fig.update_layout(title=\"Rapid\")\n",
    "fig"
   ]
  },
  {
   "cell_type": "code",
   "execution_count": null,
   "id": "0f1879b7-50b4-4e43-a169-762c62f8055a",
   "metadata": {},
   "outputs": [],
   "source": [
    "fig = anjl.plot(\n",
    "    Z3,\n",
    "    line_width=1,\n",
    "    marker_size=8,\n",
    "    count_sort=True,\n",
    "    color=\"taxon\",\n",
    "    hover_name=\"sample_id\",\n",
    "    leaf_data=ld3,\n",
    "    render_mode=\"svg\",\n",
    ")\n",
    "fig.update_layout(title=\"Canonical\")\n",
    "fig"
   ]
  },
  {
   "cell_type": "markdown",
   "id": "b2ddee73-9340-4ed0-8458-711da137cc69",
   "metadata": {},
   "source": [
    "## Example 4 (medium)"
   ]
  },
  {
   "cell_type": "code",
   "execution_count": null,
   "id": "f225ba6b-793d-4c52-bb2d-b5d9c68489ba",
   "metadata": {},
   "outputs": [],
   "source": [
    "ld4 = pd.read_csv(\"../benchmark/medium/samples.csv\")\n",
    "ld4.head()"
   ]
  },
  {
   "cell_type": "code",
   "execution_count": null,
   "id": "acfb36fc-f19c-4959-9382-728017534961",
   "metadata": {},
   "outputs": [],
   "source": [
    "medium = zarr.load(\"../benchmark/medium/dist.zarr.zip\")\n",
    "D4 = squareform(medium)\n",
    "D4.shape"
   ]
  },
  {
   "cell_type": "code",
   "execution_count": null,
   "id": "b69c7852-5922-4654-b610-1b97c2aeb5ba",
   "metadata": {},
   "outputs": [],
   "source": [
    "Z4d = anjl.dynamic_nj(D4)\n",
    "Z4h = anjl.heuristic_nj(D4)\n",
    "Z4r = anjl.rapid_nj(D4)\n",
    "Z4 = anjl.canonical_nj(D4)"
   ]
  },
  {
   "cell_type": "code",
   "execution_count": null,
   "id": "dfcd2b9a-5836-413f-b666-e830a67190e8",
   "metadata": {},
   "outputs": [],
   "source": [
    "fig = anjl.plot(\n",
    "    Z4d,\n",
    "    line_width=0.5,\n",
    "    marker_size=5,\n",
    "    width=800,\n",
    "    height=700,\n",
    "    leaf_data=ld4,\n",
    "    color=\"taxon\",\n",
    "    hover_name=\"sample_id\",\n",
    "    hover_data=[\"country\", \"location\", \"year\", \"month\"],\n",
    "    render_mode=\"svg\",\n",
    ")\n",
    "fig.update_layout(title=\"Dynamic\")\n",
    "fig"
   ]
  },
  {
   "cell_type": "code",
   "execution_count": null,
   "id": "8af00c6a-a572-4d0f-8fa4-ef2c15512302",
   "metadata": {},
   "outputs": [],
   "source": [
    "fig = anjl.plot(\n",
    "    Z4h,\n",
    "    line_width=0.5,\n",
    "    marker_size=5,\n",
    "    width=800,\n",
    "    height=700,\n",
    "    leaf_data=ld4,\n",
    "    color=\"taxon\",\n",
    "    hover_name=\"sample_id\",\n",
    "    hover_data=[\"country\", \"location\", \"year\", \"month\"],\n",
    "    render_mode=\"svg\",\n",
    ")\n",
    "fig.update_layout(title=\"Heuristic\")\n",
    "fig"
   ]
  },
  {
   "cell_type": "code",
   "execution_count": null,
   "id": "e756506e-9057-4e7c-aa16-cae0a625b6d3",
   "metadata": {},
   "outputs": [],
   "source": [
    "fig = anjl.plot(\n",
    "    Z4r,\n",
    "    line_width=0.5,\n",
    "    marker_size=5,\n",
    "    width=800,\n",
    "    height=700,\n",
    "    leaf_data=ld4,\n",
    "    color=\"taxon\",\n",
    "    hover_name=\"sample_id\",\n",
    "    hover_data=[\"country\", \"location\", \"year\", \"month\"],\n",
    "    render_mode=\"svg\",\n",
    ")\n",
    "fig.update_layout(title=\"Rapid\")\n",
    "fig"
   ]
  },
  {
   "cell_type": "code",
   "execution_count": null,
   "id": "03cee5e1-7bee-4106-ba82-6895f3c0adb2",
   "metadata": {},
   "outputs": [],
   "source": [
    "fig = anjl.plot(\n",
    "    Z4,\n",
    "    line_width=0.5,\n",
    "    marker_size=5,\n",
    "    width=800,\n",
    "    height=700,\n",
    "    leaf_data=ld4,\n",
    "    color=\"taxon\",\n",
    "    hover_name=\"sample_id\",\n",
    "    hover_data=[\"country\", \"location\", \"year\", \"month\"],\n",
    "    render_mode=\"svg\",\n",
    ")\n",
    "fig.update_layout(title=\"Canonical\")\n",
    "fig"
   ]
  },
  {
   "cell_type": "markdown",
   "id": "87e1e3df-413b-4a58-a5d5-9af6d71029bb",
   "metadata": {},
   "source": [
    "## Example 5 (large)"
   ]
  },
  {
   "cell_type": "code",
   "execution_count": null,
   "id": "af260f75-296f-4f4e-a764-4995aa643f47",
   "metadata": {},
   "outputs": [],
   "source": [
    "ld5 = pd.read_csv(\"../benchmark/large/samples.csv\")\n",
    "large = zarr.load(\"../benchmark/large/dist.zarr.zip\")\n",
    "D5 = squareform(large)\n",
    "D5.shape"
   ]
  },
  {
   "cell_type": "code",
   "execution_count": null,
   "id": "57d16d56-df92-4125-b540-60c958bd9c27",
   "metadata": {},
   "outputs": [],
   "source": [
    "Z5d = anjl.dynamic_nj(D5)\n",
    "Z5h = anjl.heuristic_nj(D5)\n",
    "Z5r = anjl.rapid_nj(D5)"
   ]
  },
  {
   "cell_type": "code",
   "execution_count": null,
   "id": "8a451cdb-b4bd-4bab-a8b1-8a2b6fd51c1d",
   "metadata": {},
   "outputs": [],
   "source": [
    "fig = anjl.plot(\n",
    "    Z5d,\n",
    "    line_width=0.5,\n",
    "    marker_size=5,\n",
    "    width=800,\n",
    "    height=700,\n",
    "    leaf_data=ld5,\n",
    "    color=\"country\",\n",
    "    hover_name=\"sample_id\",\n",
    "    hover_data=[\"country\", \"location\", \"year\", \"month\"],\n",
    "    render_mode=\"svg\",\n",
    "    count_sort=True,\n",
    ")\n",
    "fig.update_layout(title=\"Dynamic\")\n",
    "fig"
   ]
  },
  {
   "cell_type": "code",
   "execution_count": null,
   "id": "af1c70b5-aa0f-40eb-a99b-72b44e71e4ed",
   "metadata": {},
   "outputs": [],
   "source": [
    "fig = anjl.plot(\n",
    "    Z5h,\n",
    "    line_width=0.5,\n",
    "    marker_size=5,\n",
    "    width=800,\n",
    "    height=700,\n",
    "    leaf_data=ld5,\n",
    "    color=\"country\",\n",
    "    hover_name=\"sample_id\",\n",
    "    hover_data=[\"country\", \"location\", \"year\", \"month\"],\n",
    "    render_mode=\"svg\",\n",
    "    count_sort=True,\n",
    ")\n",
    "fig.update_layout(title=\"Heuristic\")\n",
    "fig"
   ]
  },
  {
   "cell_type": "code",
   "execution_count": null,
   "id": "04909da7-011d-40c7-9a1c-b0c0396574fe",
   "metadata": {},
   "outputs": [],
   "source": [
    "fig = anjl.plot(\n",
    "    Z5r,\n",
    "    line_width=0.5,\n",
    "    marker_size=5,\n",
    "    width=800,\n",
    "    height=700,\n",
    "    leaf_data=ld5,\n",
    "    color=\"country\",\n",
    "    hover_name=\"sample_id\",\n",
    "    hover_data=[\"country\", \"location\", \"year\", \"month\"],\n",
    "    render_mode=\"svg\",\n",
    "    count_sort=True,\n",
    ")\n",
    "fig.update_layout(title=\"Rapid\")\n",
    "fig"
   ]
  },
  {
   "cell_type": "markdown",
   "id": "03ee9510-b7cd-4ec6-b015-f46dc0480351",
   "metadata": {},
   "source": [
    "## Example 6 (XL)"
   ]
  },
  {
   "cell_type": "code",
   "execution_count": null,
   "id": "8195374f-2a79-44be-ae5c-739fd3d62878",
   "metadata": {},
   "outputs": [],
   "source": [
    "ld6 = pd.read_csv(\"../benchmark/xl/samples.csv\")\n",
    "large = zarr.load(\"../benchmark/xl/dist.zarr.zip\")\n",
    "D6 = squareform(large)\n",
    "D6.shape"
   ]
  },
  {
   "cell_type": "code",
   "execution_count": null,
   "id": "43b817ac-bcb3-4086-951d-25f584646d8c",
   "metadata": {},
   "outputs": [],
   "source": [
    "Z6d = anjl.dynamic_nj(D6)\n",
    "Z6h = anjl.heuristic_nj(D6)\n",
    "Z6r = anjl.rapid_nj(D6)"
   ]
  },
  {
   "cell_type": "code",
   "execution_count": null,
   "id": "bc20d604-53b2-45db-a8e5-80f7f55fa42c",
   "metadata": {},
   "outputs": [],
   "source": [
    "fig = anjl.plot(\n",
    "    Z6d,\n",
    "    line_width=0.5,\n",
    "    marker_size=5,\n",
    "    width=800,\n",
    "    height=700,\n",
    "    leaf_data=ld6,\n",
    "    color=\"taxon\",\n",
    "    hover_name=\"sample_id\",\n",
    "    hover_data=[\"country\", \"location\", \"year\", \"month\"],\n",
    ")\n",
    "fig.update_layout(title=\"Dynamic\")\n",
    "fig"
   ]
  },
  {
   "cell_type": "code",
   "execution_count": null,
   "id": "d79582f5-acd8-455f-b7ee-8cdc6d637ce0",
   "metadata": {},
   "outputs": [],
   "source": [
    "fig = anjl.plot(\n",
    "    Z6h,\n",
    "    line_width=0.5,\n",
    "    marker_size=5,\n",
    "    width=800,\n",
    "    height=700,\n",
    "    leaf_data=ld6,\n",
    "    color=\"taxon\",\n",
    "    hover_name=\"sample_id\",\n",
    "    hover_data=[\"country\", \"location\", \"year\", \"month\"],\n",
    ")\n",
    "fig.update_layout(title=\"Heuristic\")\n",
    "fig"
   ]
  },
  {
   "cell_type": "code",
   "execution_count": null,
   "id": "eff370a1-0409-4390-ba14-3fc505c4de41",
   "metadata": {},
   "outputs": [],
   "source": [
    "fig = anjl.plot(\n",
    "    Z6r,\n",
    "    line_width=0.5,\n",
    "    marker_size=5,\n",
    "    width=800,\n",
    "    height=700,\n",
    "    leaf_data=ld6,\n",
    "    color=\"taxon\",\n",
    "    hover_name=\"sample_id\",\n",
    "    hover_data=[\"country\", \"location\", \"year\", \"month\"],\n",
    ")\n",
    "fig.update_layout(title=\"Rapid\")\n",
    "fig"
   ]
  }
 ],
 "metadata": {
  "environment": {
   "kernel": "python3",
   "name": "workbench-notebooks.m124",
   "type": "gcloud",
   "uri": "us-docker.pkg.dev/deeplearning-platform-release/gcr.io/workbench-notebooks:m124"
  },
  "kernelspec": {
   "display_name": "Python 3 (ipykernel)",
   "language": "python",
   "name": "python3"
  },
  "language_info": {
   "codemirror_mode": {
    "name": "ipython",
    "version": 3
   },
   "file_extension": ".py",
   "mimetype": "text/x-python",
   "name": "python",
   "nbconvert_exporter": "python",
   "pygments_lexer": "ipython3",
   "version": "3.10.12"
  },
  "widgets": {
   "application/vnd.jupyter.widget-state+json": {
    "state": {},
    "version_major": 2,
    "version_minor": 0
   }
  }
 },
 "nbformat": 4,
 "nbformat_minor": 5
}
