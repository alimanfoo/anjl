{
 "cells": [
  {
   "cell_type": "code",
   "execution_count": null,
   "id": "864df6fb-3976-4e02-a9d6-bba8cfd709cd",
   "metadata": {},
   "outputs": [],
   "source": [
    "import anjl\n",
    "import plotly.io\n",
    "import zarr\n",
    "from scipy.spatial.distance import squareform\n",
    "import pandas as pd\n",
    "\n",
    "plotly.io.renderers.default = \"plotly_mimetype+notebook_connected\""
   ]
  },
  {
   "cell_type": "markdown",
   "id": "e8ac2d6e-6338-4921-84a8-775b6847a304",
   "metadata": {},
   "source": [
    "## Example 1"
   ]
  },
  {
   "cell_type": "code",
   "execution_count": null,
   "id": "4f1bbc17-6d22-4f1b-a97a-9e6e8db96387",
   "metadata": {},
   "outputs": [],
   "source": [
    "D1, _ = anjl.data.example_1()\n",
    "Z1 = anjl.canonical_nj(D1)\n",
    "Z1"
   ]
  },
  {
   "cell_type": "code",
   "execution_count": null,
   "id": "73ac0689-182a-4e86-8a1a-3515631fe0ca",
   "metadata": {},
   "outputs": [],
   "source": [
    "print(anjl.to_string(Z1))"
   ]
  },
  {
   "cell_type": "code",
   "execution_count": null,
   "id": "3a1d1471-825a-452a-918d-2ece876de63d",
   "metadata": {},
   "outputs": [],
   "source": [
    "Z1r = anjl.rapid_nj(D1)\n",
    "Z1r"
   ]
  },
  {
   "cell_type": "code",
   "execution_count": null,
   "id": "2e00bf2b-4231-4574-8839-b37b43ea351b",
   "metadata": {},
   "outputs": [],
   "source": [
    "print(anjl.to_string(Z1r))"
   ]
  },
  {
   "cell_type": "code",
   "execution_count": null,
   "id": "668c7ecb-26cd-4ec4-80ca-e4b2fade6196",
   "metadata": {},
   "outputs": [],
   "source": [
    "df_internal_nodes, df_leaf_nodes, df_edges = anjl.layout_equal_angle(Z=Z1)"
   ]
  },
  {
   "cell_type": "code",
   "execution_count": null,
   "id": "d125ca06-f49c-4ed3-976b-0743e79f9038",
   "metadata": {},
   "outputs": [],
   "source": [
    "df_leaf_nodes"
   ]
  },
  {
   "cell_type": "code",
   "execution_count": null,
   "id": "b6bf7df0-c063-4608-9efc-2cb74faec438",
   "metadata": {},
   "outputs": [],
   "source": [
    "df_internal_nodes"
   ]
  },
  {
   "cell_type": "code",
   "execution_count": null,
   "id": "f5701bf9-03d8-44f4-8b18-74c6dc815717",
   "metadata": {},
   "outputs": [],
   "source": [
    "df_edges"
   ]
  },
  {
   "cell_type": "code",
   "execution_count": null,
   "id": "6c2f339f-38f7-4808-8de3-c8b25fa2df9c",
   "metadata": {},
   "outputs": [],
   "source": [
    "anjl.plot(Z1, marker_size=5, internal_marker_size=5, width=400, height=400)"
   ]
  },
  {
   "cell_type": "code",
   "execution_count": null,
   "id": "512ac01b-47c5-49a8-a329-147aaa288b3f",
   "metadata": {},
   "outputs": [],
   "source": [
    "anjl.plot(Z1r, marker_size=5, internal_marker_size=5, width=400, height=400)"
   ]
  },
  {
   "cell_type": "code",
   "execution_count": null,
   "id": "9e35b4f1-8ba0-4061-b5e9-070742fb3f5c",
   "metadata": {},
   "outputs": [],
   "source": [
    "ld1 = pd.DataFrame.from_records(\n",
    "    [\n",
    "        [\"A\", \"apple\", \"carrot\", \"pigeon\", \"Ferrari\"],\n",
    "        [\"B\", \"apple\", \"pea\", \"ladybird\", \"Lamborghini\"],\n",
    "        [\"C\", \"banana\", \"cabbage\", \"pigeon\", \"Landrover\"],\n",
    "        [\"D\", \"mango\", \"cabbage\", \"spider\", \"Lamborghini\"],\n",
    "    ],\n",
    "    columns=[\"name\", \"fruit\", \"vegetable\", \"animal\", \"car\"],\n",
    ")\n",
    "ld1"
   ]
  },
  {
   "cell_type": "code",
   "execution_count": null,
   "id": "f2c6db09-252d-4d97-9438-c0029c1d53e3",
   "metadata": {},
   "outputs": [],
   "source": [
    "anjl.map_internal_to_leaves(Z1)"
   ]
  },
  {
   "cell_type": "code",
   "execution_count": null,
   "id": "cb618075-c3c0-4246-a923-65ae532124ee",
   "metadata": {},
   "outputs": [],
   "source": [
    "anjl.paint_internal(Z1, ld1[\"fruit\"].values)"
   ]
  },
  {
   "cell_type": "code",
   "execution_count": null,
   "id": "0db6f228-03d3-4e0d-9338-0eff0a30ae02",
   "metadata": {},
   "outputs": [],
   "source": [
    "anjl.plot(\n",
    "    Z=Z1,\n",
    "    leaf_data=ld1,\n",
    "    hover_name=\"name\",\n",
    "    hover_data=[\"fruit\", \"vegetable\", \"animal\", \"car\"],\n",
    "    color=\"fruit\",\n",
    "    marker_size=20,\n",
    "    internal_marker_size=5,\n",
    "    line_width=4,\n",
    ")"
   ]
  },
  {
   "cell_type": "code",
   "execution_count": null,
   "id": "3c455ae8-d01b-430d-a970-5290e86bfe92",
   "metadata": {},
   "outputs": [],
   "source": [
    "anjl.plot(\n",
    "    Z=Z1r,\n",
    "    leaf_data=ld1,\n",
    "    hover_name=\"name\",\n",
    "    hover_data=[\"fruit\", \"vegetable\", \"animal\", \"car\"],\n",
    "    color=\"fruit\",\n",
    "    marker_size=20,\n",
    "    symbol=\"car\",\n",
    "    internal_marker_size=5,\n",
    "    line_width=4,\n",
    ")"
   ]
  },
  {
   "cell_type": "markdown",
   "id": "f8050acd-b9dc-48e1-9ff4-5a44295c9dbd",
   "metadata": {},
   "source": [
    "## Example 2"
   ]
  },
  {
   "cell_type": "code",
   "execution_count": null,
   "id": "b63536cf-29d5-4780-ae6b-d014a8f91de5",
   "metadata": {},
   "outputs": [],
   "source": [
    "D2, _ = anjl.data.wikipedia_example()\n",
    "Z2 = anjl.canonical_nj(D2)\n",
    "Z2"
   ]
  },
  {
   "cell_type": "code",
   "execution_count": null,
   "id": "52b5b6fc-aa55-43f4-ac46-f031b34c58db",
   "metadata": {},
   "outputs": [],
   "source": [
    "print(anjl.to_string(Z2))"
   ]
  },
  {
   "cell_type": "code",
   "execution_count": null,
   "id": "93f00287-6477-45b6-a217-a84cb8bfb002",
   "metadata": {},
   "outputs": [],
   "source": [
    "Z2r = anjl.rapid_nj(D2)\n",
    "Z2r"
   ]
  },
  {
   "cell_type": "code",
   "execution_count": null,
   "id": "0fcec992-d137-490d-b910-c613f5ae5c90",
   "metadata": {},
   "outputs": [],
   "source": [
    "print(anjl.to_string(Z2r))"
   ]
  },
  {
   "cell_type": "code",
   "execution_count": null,
   "id": "84f2946c-68e0-4c96-94ea-f80095766375",
   "metadata": {},
   "outputs": [],
   "source": [
    "anjl.map_internal_to_leaves(Z2)"
   ]
  },
  {
   "cell_type": "code",
   "execution_count": null,
   "id": "954dc15f-7107-461b-b40d-0162564c0e86",
   "metadata": {},
   "outputs": [],
   "source": [
    "anjl.map_internal_to_leaves(Z2r)"
   ]
  },
  {
   "cell_type": "code",
   "execution_count": null,
   "id": "a0c014da-5e74-45a5-976e-59f189f2310e",
   "metadata": {},
   "outputs": [],
   "source": [
    "anjl.plot(Z=Z2, line_width=2, marker_size=20, internal_marker_size=5)"
   ]
  },
  {
   "cell_type": "code",
   "execution_count": null,
   "id": "0198ae50-ac38-4798-94fc-d1b7de11a662",
   "metadata": {},
   "outputs": [],
   "source": [
    "anjl.plot(Z=Z2r, line_width=2, marker_size=20, internal_marker_size=5)"
   ]
  },
  {
   "cell_type": "markdown",
   "id": "c7351738-0ef5-4ff3-a579-201e772b48e9",
   "metadata": {},
   "source": [
    "## Example 3 (small)"
   ]
  },
  {
   "cell_type": "code",
   "execution_count": null,
   "id": "157ff545-38e6-4f74-af8e-cd7ceac3ee47",
   "metadata": {},
   "outputs": [],
   "source": [
    "ld3 = pd.read_csv(\"../benchmark/small/samples.csv\")\n",
    "ld3.head()"
   ]
  },
  {
   "cell_type": "code",
   "execution_count": null,
   "id": "b7e91ed2-7434-4ffd-acb3-6e6fbe9c266e",
   "metadata": {},
   "outputs": [],
   "source": [
    "small = zarr.load(\"../benchmark/small/dist.zarr.zip\")\n",
    "D3 = squareform(small)\n",
    "D3.shape"
   ]
  },
  {
   "cell_type": "code",
   "execution_count": null,
   "id": "359b6cf3-7833-460a-b5e8-ddd96f3103a2",
   "metadata": {},
   "outputs": [],
   "source": [
    "Z3 = anjl.canonical_nj(D3)"
   ]
  },
  {
   "cell_type": "code",
   "execution_count": null,
   "id": "2289b84c-302d-445e-b392-44ccc90826f0",
   "metadata": {},
   "outputs": [],
   "source": [
    "Z3r = anjl.rapid_nj(D3)"
   ]
  },
  {
   "cell_type": "code",
   "execution_count": null,
   "id": "0f1879b7-50b4-4e43-a169-762c62f8055a",
   "metadata": {},
   "outputs": [],
   "source": [
    "anjl.plot(\n",
    "    Z3,\n",
    "    line_width=1,\n",
    "    marker_size=8,\n",
    "    count_sort=True,\n",
    "    color=\"taxon\",\n",
    "    hover_name=\"sample_id\",\n",
    "    leaf_data=ld3,\n",
    ")"
   ]
  },
  {
   "cell_type": "code",
   "execution_count": null,
   "id": "1f836434-9cb9-4f13-ab7b-b41177b13742",
   "metadata": {},
   "outputs": [],
   "source": [
    "anjl.plot(\n",
    "    Z3r,\n",
    "    line_width=1,\n",
    "    marker_size=8,\n",
    "    count_sort=True,\n",
    "    color=\"taxon\",\n",
    "    hover_name=\"sample_id\",\n",
    "    leaf_data=ld3,\n",
    ")"
   ]
  },
  {
   "cell_type": "markdown",
   "id": "b2ddee73-9340-4ed0-8458-711da137cc69",
   "metadata": {},
   "source": [
    "## Example 4 (medium)"
   ]
  },
  {
   "cell_type": "code",
   "execution_count": null,
   "id": "f225ba6b-793d-4c52-bb2d-b5d9c68489ba",
   "metadata": {},
   "outputs": [],
   "source": [
    "ld4 = pd.read_csv(\"../benchmark/medium/samples.csv\")\n",
    "ld4.head()"
   ]
  },
  {
   "cell_type": "code",
   "execution_count": null,
   "id": "acfb36fc-f19c-4959-9382-728017534961",
   "metadata": {},
   "outputs": [],
   "source": [
    "medium = zarr.load(\"../benchmark/medium/dist.zarr.zip\")\n",
    "D4 = squareform(medium)\n",
    "D4.shape"
   ]
  },
  {
   "cell_type": "code",
   "execution_count": null,
   "id": "2c059f48-6024-470b-9a28-9b22c5e881fe",
   "metadata": {},
   "outputs": [],
   "source": [
    "Z4 = anjl.canonical_nj(D4)\n",
    "Z4"
   ]
  },
  {
   "cell_type": "code",
   "execution_count": null,
   "id": "7d14e789-4872-47ae-a0e9-412566849c0f",
   "metadata": {},
   "outputs": [],
   "source": [
    "Z4r = anjl.rapid_nj(D4)\n",
    "Z4r"
   ]
  },
  {
   "cell_type": "code",
   "execution_count": null,
   "id": "03cee5e1-7bee-4106-ba82-6895f3c0adb2",
   "metadata": {},
   "outputs": [],
   "source": [
    "anjl.plot(\n",
    "    Z4,\n",
    "    line_width=0.5,\n",
    "    marker_size=5,\n",
    "    width=800,\n",
    "    height=700,\n",
    "    leaf_data=ld4,\n",
    "    color=\"taxon\",\n",
    "    hover_name=\"sample_id\",\n",
    "    hover_data=[\"country\", \"location\", \"year\", \"month\"],\n",
    ")"
   ]
  },
  {
   "cell_type": "code",
   "execution_count": null,
   "id": "e756506e-9057-4e7c-aa16-cae0a625b6d3",
   "metadata": {},
   "outputs": [],
   "source": [
    "anjl.plot(\n",
    "    Z4r,\n",
    "    line_width=0.5,\n",
    "    marker_size=5,\n",
    "    width=800,\n",
    "    height=700,\n",
    "    leaf_data=ld4,\n",
    "    color=\"taxon\",\n",
    "    hover_name=\"sample_id\",\n",
    "    hover_data=[\"country\", \"location\", \"year\", \"month\"],\n",
    ")"
   ]
  },
  {
   "cell_type": "code",
   "execution_count": null,
   "id": "6b13e8f8-52d0-4000-a42b-bc2f25958f7a",
   "metadata": {},
   "outputs": [],
   "source": []
  },
  {
   "cell_type": "code",
   "execution_count": null,
   "id": "75583a88-7a39-4f26-a1bf-b689787de2f8",
   "metadata": {},
   "outputs": [],
   "source": []
  }
 ],
 "metadata": {
  "environment": {
   "kernel": "python3",
   "name": "workbench-notebooks.m124",
   "type": "gcloud",
   "uri": "us-docker.pkg.dev/deeplearning-platform-release/gcr.io/workbench-notebooks:m124"
  },
  "kernelspec": {
   "display_name": "Python 3 (ipykernel)",
   "language": "python",
   "name": "python3"
  },
  "language_info": {
   "codemirror_mode": {
    "name": "ipython",
    "version": 3
   },
   "file_extension": ".py",
   "mimetype": "text/x-python",
   "name": "python",
   "nbconvert_exporter": "python",
   "pygments_lexer": "ipython3",
   "version": "3.10.12"
  },
  "widgets": {
   "application/vnd.jupyter.widget-state+json": {
    "state": {},
    "version_major": 2,
    "version_minor": 0
   }
  }
 },
 "nbformat": 4,
 "nbformat_minor": 5
}
