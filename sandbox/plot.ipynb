{
 "cells": [
  {
   "cell_type": "markdown",
   "id": "95612ea7-0860-4649-b1e0-e2cc22c7a529",
   "metadata": {},
   "source": [
    "# Plotting"
   ]
  },
  {
   "cell_type": "code",
   "execution_count": null,
   "id": "864df6fb-3976-4e02-a9d6-bba8cfd709cd",
   "metadata": {},
   "outputs": [],
   "source": [
    "import anjl\n",
    "import plotly.io\n",
    "import zarr\n",
    "from scipy.spatial.distance import squareform\n",
    "import pandas as pd\n",
    "import numpy as np\n",
    "from plotly.subplots import make_subplots\n",
    "\n",
    "plotly.io.renderers.default = \"plotly_mimetype+notebook_connected\""
   ]
  },
  {
   "cell_type": "markdown",
   "id": "e8ac2d6e-6338-4921-84a8-775b6847a304",
   "metadata": {},
   "source": [
    "## Example 1"
   ]
  },
  {
   "cell_type": "code",
   "execution_count": null,
   "id": "ff9823e8-a955-41e2-8cbd-14c2cb2144de",
   "metadata": {},
   "outputs": [],
   "source": [
    "D1, _ = anjl.data.example_1()\n",
    "D1"
   ]
  },
  {
   "cell_type": "code",
   "execution_count": null,
   "id": "089473fd-ff21-4811-93d7-15d2009d6635",
   "metadata": {},
   "outputs": [],
   "source": [
    "Z1d = anjl.dynamic_nj(D1)\n",
    "Z1d"
   ]
  },
  {
   "cell_type": "code",
   "execution_count": null,
   "id": "3a1d1471-825a-452a-918d-2ece876de63d",
   "metadata": {},
   "outputs": [],
   "source": [
    "Z1r = anjl.rapid_nj(D1)\n",
    "Z1r"
   ]
  },
  {
   "cell_type": "code",
   "execution_count": null,
   "id": "8181afed-6929-44fc-b939-c9eb4caa172d",
   "metadata": {},
   "outputs": [],
   "source": [
    "Z1 = anjl.canonical_nj(D1)\n",
    "Z1"
   ]
  },
  {
   "cell_type": "code",
   "execution_count": null,
   "id": "498e1f06-d95c-4475-ba2d-08b1e606d856",
   "metadata": {},
   "outputs": [],
   "source": [
    "print(anjl.to_string(Z1d))\n",
    "print(anjl.to_string(Z1r))\n",
    "print(anjl.to_string(Z1))"
   ]
  },
  {
   "cell_type": "code",
   "execution_count": null,
   "id": "2fd8f499-5e6a-4631-b164-bae20dd09a76",
   "metadata": {},
   "outputs": [],
   "source": [
    "figd = anjl.plot(Z1d, marker_size=5, internal_marker_size=5)\n",
    "figr = anjl.plot(Z1r, marker_size=5, internal_marker_size=5)\n",
    "figc = anjl.plot(Z1, marker_size=5, internal_marker_size=5)\n",
    "figures = [figc, figr, figd]\n",
    "fig = make_subplots(\n",
    "    rows=1,\n",
    "    cols=len(figures),\n",
    "    subplot_titles=[\"Canonical\", \"Rapid\", \"Dynamic\"],\n",
    "    horizontal_spacing=0.02,\n",
    "    vertical_spacing=0.02,\n",
    ")\n",
    "for i, figure in enumerate(figures):\n",
    "    for trace in range(len(figure[\"data\"])):\n",
    "        fig.append_trace(figure[\"data\"][trace], row=1, col=i + 1)\n",
    "fig.update_layout(showlegend=False, height=450, width=1100)\n",
    "fig"
   ]
  },
  {
   "cell_type": "code",
   "execution_count": null,
   "id": "9e35b4f1-8ba0-4061-b5e9-070742fb3f5c",
   "metadata": {},
   "outputs": [],
   "source": [
    "ld1 = pd.DataFrame.from_records(\n",
    "    [\n",
    "        [\"A\", \"apple\", \"carrot\", \"pigeon\", \"Ferrari\"],\n",
    "        [\"B\", \"apple\", \"pea\", \"ladybird\", \"Lamborghini\"],\n",
    "        [\"C\", \"banana\", \"cabbage\", \"pigeon\", \"Landrover\"],\n",
    "        [\"D\", \"mango\", \"cabbage\", \"spider\", np.nan],\n",
    "    ],\n",
    "    columns=[\"name\", \"fruit\", \"vegetable\", \"animal\", \"car\"],\n",
    ")\n",
    "ld1"
   ]
  },
  {
   "cell_type": "code",
   "execution_count": null,
   "id": "0db6f228-03d3-4e0d-9338-0eff0a30ae02",
   "metadata": {},
   "outputs": [],
   "source": [
    "anjl.plot(\n",
    "    Z=Z1,\n",
    "    leaf_data=ld1,\n",
    "    hover_name=\"name\",\n",
    "    hover_data=[\"fruit\", \"vegetable\", \"animal\", \"car\"],\n",
    "    color=\"fruit\",\n",
    "    marker_size=20,\n",
    "    internal_marker_size=5,\n",
    "    line_width=4,\n",
    ")"
   ]
  },
  {
   "cell_type": "code",
   "execution_count": null,
   "id": "3c455ae8-d01b-430d-a970-5290e86bfe92",
   "metadata": {},
   "outputs": [],
   "source": [
    "anjl.plot(\n",
    "    Z=Z1r,\n",
    "    leaf_data=ld1,\n",
    "    hover_name=\"name\",\n",
    "    hover_data=[\"fruit\", \"vegetable\", \"animal\", \"car\"],\n",
    "    color=\"fruit\",\n",
    "    marker_size=20,\n",
    "    symbol=\"car\",\n",
    "    internal_marker_size=5,\n",
    "    line_width=4,\n",
    ")"
   ]
  },
  {
   "cell_type": "code",
   "execution_count": null,
   "id": "4d9d6a48-691f-4aff-8832-3814d8639ac0",
   "metadata": {},
   "outputs": [],
   "source": [
    "anjl.plot(\n",
    "    Z=Z1r,\n",
    "    leaf_data=ld1,\n",
    "    hover_name=\"name\",\n",
    "    hover_data=[\"fruit\", \"vegetable\", \"animal\", \"car\"],\n",
    "    color=\"car\",\n",
    "    marker_size=20,\n",
    "    symbol=\"fruit\",\n",
    "    internal_marker_size=5,\n",
    "    line_width=4,\n",
    ")"
   ]
  },
  {
   "cell_type": "markdown",
   "id": "f8050acd-b9dc-48e1-9ff4-5a44295c9dbd",
   "metadata": {},
   "source": [
    "## Example 2"
   ]
  },
  {
   "cell_type": "code",
   "execution_count": null,
   "id": "77465d5e-770f-4219-9ec8-958eec3a0e27",
   "metadata": {},
   "outputs": [],
   "source": [
    "D2, _ = anjl.data.wikipedia_example()\n",
    "D2\n",
    "\n",
    "Z2d = anjl.dynamic_nj(D2)\n",
    "Z2r = anjl.rapid_nj(D2)\n",
    "Z2 = anjl.canonical_nj(D2)"
   ]
  },
  {
   "cell_type": "code",
   "execution_count": null,
   "id": "589b3446-080b-4991-9358-48aadd29263f",
   "metadata": {},
   "outputs": [],
   "source": [
    "print(anjl.to_string(Z2d))\n",
    "print(anjl.to_string(Z2r))\n",
    "print(anjl.to_string(Z2))"
   ]
  },
  {
   "cell_type": "code",
   "execution_count": null,
   "id": "491052df-7b8e-4210-8f0d-3e829de8d164",
   "metadata": {},
   "outputs": [],
   "source": [
    "figd = anjl.plot(Z2d, marker_size=5, internal_marker_size=5)\n",
    "figr = anjl.plot(Z2r, marker_size=5, internal_marker_size=5)\n",
    "figc = anjl.plot(Z2, marker_size=5, internal_marker_size=5)\n",
    "figures = [figc, figr, figd]\n",
    "fig = make_subplots(\n",
    "    rows=1,\n",
    "    cols=len(figures),\n",
    "    subplot_titles=[\"Canonical\", \"Rapid\", \"Dynamic\"],\n",
    "    horizontal_spacing=0.02,\n",
    "    vertical_spacing=0.02,\n",
    ")\n",
    "for i, figure in enumerate(figures):\n",
    "    for trace in range(len(figure[\"data\"])):\n",
    "        fig.append_trace(figure[\"data\"][trace], row=1, col=i + 1)\n",
    "fig.update_layout(showlegend=False, height=450, width=1100)\n",
    "fig"
   ]
  },
  {
   "cell_type": "markdown",
   "id": "c7351738-0ef5-4ff3-a579-201e772b48e9",
   "metadata": {},
   "source": [
    "## Example 3 (small)"
   ]
  },
  {
   "cell_type": "code",
   "execution_count": null,
   "id": "121b2346-4602-4499-8f76-76be9bf8d3c5",
   "metadata": {},
   "outputs": [],
   "source": [
    "D3, ld3 = anjl.data.mosquitoes()\n",
    "loc_shuffle = np.random.choice(D3.shape[0], size=D3.shape[0], replace=False)\n",
    "D3 = D3.take(loc_shuffle, axis=0).take(loc_shuffle, axis=1)\n",
    "ld3 = ld3.iloc[loc_shuffle].reset_index(drop=True)\n",
    "D3.shape"
   ]
  },
  {
   "cell_type": "code",
   "execution_count": null,
   "id": "82b55dc5-38ed-49e3-bebe-ef2d3748f365",
   "metadata": {},
   "outputs": [],
   "source": [
    "Z3d = anjl.dynamic_nj(D3)\n",
    "Z3r = anjl.rapid_nj(D3)\n",
    "Z3 = anjl.canonical_nj(D3)"
   ]
  },
  {
   "cell_type": "code",
   "execution_count": null,
   "id": "4424e7a4-2a94-4b7a-ae06-dead92edbe38",
   "metadata": {},
   "outputs": [],
   "source": [
    "color = \"taxon\"\n",
    "params3 = dict(\n",
    "    line_width=1,\n",
    "    marker_size=4,\n",
    "    count_sort=True,\n",
    "    color=color,\n",
    "    hover_name=\"sample_id\",\n",
    "    leaf_data=ld3,\n",
    "    category_orders={color: np.unique(ld3[color])},\n",
    "    render_mode=\"svg\",\n",
    ")\n",
    "figd = anjl.plot(Z3d, **params3)\n",
    "figr = anjl.plot(Z3r, **params3)\n",
    "figc = anjl.plot(Z3, **params3)\n",
    "figures = [figc, figr, figd]\n",
    "fig = make_subplots(\n",
    "    rows=1,\n",
    "    cols=len(figures),\n",
    "    subplot_titles=[\"Canonical\", \"Rapid\", \"Dynamic\"],\n",
    "    horizontal_spacing=0.02,\n",
    "    vertical_spacing=0.02,\n",
    ")\n",
    "for i, figure in enumerate(figures):\n",
    "    for trace in range(len(figure[\"data\"])):\n",
    "        fig.append_trace(figure[\"data\"][trace], row=1, col=i + 1)\n",
    "fig.update_layout(showlegend=False, height=450, width=1100)\n",
    "fig"
   ]
  },
  {
   "cell_type": "code",
   "execution_count": null,
   "id": "fd955ed4-5bd2-4e36-bad3-895e4d88b811",
   "metadata": {},
   "outputs": [],
   "source": [
    "fig = anjl.plot(Z3d, **params3)\n",
    "fig.update_layout(title=\"Dynamic\")\n",
    "fig"
   ]
  },
  {
   "cell_type": "code",
   "execution_count": null,
   "id": "1f836434-9cb9-4f13-ab7b-b41177b13742",
   "metadata": {},
   "outputs": [],
   "source": [
    "fig = anjl.plot(Z3r, **params3)\n",
    "fig.update_layout(title=\"Rapid\")\n",
    "fig"
   ]
  },
  {
   "cell_type": "code",
   "execution_count": null,
   "id": "0f1879b7-50b4-4e43-a169-762c62f8055a",
   "metadata": {},
   "outputs": [],
   "source": [
    "fig = anjl.plot(Z3, **params3)\n",
    "fig.update_layout(title=\"Canonical\")\n",
    "fig"
   ]
  },
  {
   "cell_type": "markdown",
   "id": "b2ddee73-9340-4ed0-8458-711da137cc69",
   "metadata": {},
   "source": [
    "## Example 4 (medium)"
   ]
  },
  {
   "cell_type": "code",
   "execution_count": null,
   "id": "fd60df37-ad47-4bc6-b077-277943db4862",
   "metadata": {},
   "outputs": [],
   "source": [
    "ld4 = pd.read_csv(\"../benchmark/medium/samples.csv\")\n",
    "dist4 = zarr.load(\"../benchmark/medium/dist.zarr.zip\")\n",
    "D4 = squareform(dist4)\n",
    "D4.shape"
   ]
  },
  {
   "cell_type": "code",
   "execution_count": null,
   "id": "b69c7852-5922-4654-b610-1b97c2aeb5ba",
   "metadata": {},
   "outputs": [],
   "source": [
    "Z4d = anjl.dynamic_nj(D4)\n",
    "Z4r = anjl.rapid_nj(D4)\n",
    "Z4 = anjl.canonical_nj(dist4)"
   ]
  },
  {
   "cell_type": "code",
   "execution_count": null,
   "id": "d91a22b0-cc87-42cc-8cea-19df6d1881bc",
   "metadata": {},
   "outputs": [],
   "source": [
    "color = \"taxon\"\n",
    "params4 = dict(\n",
    "    line_width=0.5,\n",
    "    marker_size=3,\n",
    "    count_sort=True,\n",
    "    color=color,\n",
    "    hover_name=\"sample_id\",\n",
    "    hover_data=[\"country\", \"location\", \"year\", \"month\"],\n",
    "    leaf_data=ld4,\n",
    "    category_orders={color: np.unique(ld4[color])},\n",
    "    render_mode=\"svg\",\n",
    ")\n",
    "figd = anjl.plot(Z4d, **params4)\n",
    "figr = anjl.plot(Z4r, **params4)\n",
    "figc = anjl.plot(Z4, **params4)\n",
    "figures = [figc, figr, figd]\n",
    "fig = make_subplots(\n",
    "    rows=1,\n",
    "    cols=len(figures),\n",
    "    subplot_titles=[\"Canonical\", \"Rapid\", \"Dynamic\"],\n",
    "    horizontal_spacing=0.02,\n",
    "    vertical_spacing=0.02,\n",
    ")\n",
    "for i, figure in enumerate(figures):\n",
    "    for trace in range(len(figure[\"data\"])):\n",
    "        fig.append_trace(figure[\"data\"][trace], row=1, col=i + 1)\n",
    "fig.update_layout(showlegend=False, height=450, width=1100)\n",
    "fig"
   ]
  },
  {
   "cell_type": "markdown",
   "id": "87e1e3df-413b-4a58-a5d5-9af6d71029bb",
   "metadata": {},
   "source": [
    "## Example 5 (large)"
   ]
  },
  {
   "cell_type": "code",
   "execution_count": null,
   "id": "20f7b5c5-6bb2-4c2d-9b44-42e5b08df9df",
   "metadata": {},
   "outputs": [],
   "source": [
    "ld5 = pd.read_csv(\"../benchmark/large/samples.csv\")\n",
    "large = zarr.load(\"../benchmark/large/dist.zarr.zip\")\n",
    "D5 = squareform(large)\n",
    "loc_shuffle = np.random.choice(D5.shape[0], size=D5.shape[0], replace=False)\n",
    "D5 = D5.take(loc_shuffle, axis=0).take(loc_shuffle, axis=1)\n",
    "ld5 = ld5.iloc[loc_shuffle].reset_index(drop=True)\n",
    "\n",
    "Z5d = anjl.dynamic_nj(D5)\n",
    "Z5r = anjl.rapid_nj(D5)\n",
    "\n",
    "D5.shape"
   ]
  },
  {
   "cell_type": "code",
   "execution_count": null,
   "id": "6a5b2ea7-547e-4f9b-a321-25fdcaceec3a",
   "metadata": {},
   "outputs": [],
   "source": [
    "color = \"taxon\"\n",
    "params5 = dict(\n",
    "    line_width=0.5,\n",
    "    marker_size=3,\n",
    "    count_sort=True,\n",
    "    color=color,\n",
    "    hover_name=\"sample_id\",\n",
    "    hover_data=[\"country\", \"location\", \"year\", \"month\"],\n",
    "    leaf_data=ld5,\n",
    "    category_orders={color: np.unique(ld5[color])},\n",
    "    render_mode=\"svg\",\n",
    ")\n",
    "figd = anjl.plot(Z5d, **params5)\n",
    "figr = anjl.plot(Z5r, **params5)\n",
    "figures = [figr, figd]\n",
    "fig = make_subplots(\n",
    "    rows=1,\n",
    "    cols=len(figures),\n",
    "    subplot_titles=[\"Rapid\", \"Dynamic\"],\n",
    "    horizontal_spacing=0.02,\n",
    "    vertical_spacing=0.02,\n",
    ")\n",
    "for i, figure in enumerate(figures):\n",
    "    for trace in range(len(figure[\"data\"])):\n",
    "        fig.append_trace(figure[\"data\"][trace], row=1, col=i + 1)\n",
    "fig.update_layout(showlegend=False, height=500, width=900)\n",
    "fig"
   ]
  },
  {
   "cell_type": "markdown",
   "id": "03ee9510-b7cd-4ec6-b015-f46dc0480351",
   "metadata": {},
   "source": [
    "## Example 6 (XL)"
   ]
  },
  {
   "cell_type": "code",
   "execution_count": null,
   "id": "3b851e85-05fe-49f1-b512-702271536df4",
   "metadata": {},
   "outputs": [],
   "source": [
    "ld6 = pd.read_csv(\"../benchmark/xl/samples.csv\")\n",
    "large = zarr.load(\"../benchmark/xl/dist.zarr.zip\")\n",
    "D6 = squareform(large)\n",
    "loc_shuffle = np.random.choice(D6.shape[0], size=D6.shape[0], replace=False)\n",
    "D6 = D6.take(loc_shuffle, axis=0).take(loc_shuffle, axis=1)\n",
    "ld6 = ld6.iloc[loc_shuffle].reset_index(drop=True)\n",
    "\n",
    "Z6d = anjl.dynamic_nj(D6)\n",
    "Z6r = anjl.rapid_nj(D6)\n",
    "\n",
    "D6.shape"
   ]
  },
  {
   "cell_type": "code",
   "execution_count": null,
   "id": "7c935e4e-dc50-4fef-89de-847dda43d160",
   "metadata": {},
   "outputs": [],
   "source": [
    "color = \"taxon\"\n",
    "params6 = dict(\n",
    "    line_width=0.5,\n",
    "    marker_size=3,\n",
    "    count_sort=True,\n",
    "    color=color,\n",
    "    hover_name=\"sample_id\",\n",
    "    hover_data=[\"country\", \"location\", \"year\", \"month\"],\n",
    "    leaf_data=ld6,\n",
    "    category_orders={color: np.unique(ld6[color])},\n",
    "    render_mode=\"auto\",\n",
    ")\n",
    "figd = anjl.plot(Z6d, **params6)\n",
    "figr = anjl.plot(Z6r, **params6)\n",
    "figures = [figr, figd]\n",
    "fig = make_subplots(\n",
    "    rows=1,\n",
    "    cols=len(figures),\n",
    "    subplot_titles=[\"Rapid\", \"Dynamic\"],\n",
    "    horizontal_spacing=0.02,\n",
    "    vertical_spacing=0.02,\n",
    ")\n",
    "for i, figure in enumerate(figures):\n",
    "    for trace in range(len(figure[\"data\"])):\n",
    "        fig.append_trace(figure[\"data\"][trace], row=1, col=i + 1)\n",
    "fig.update_layout(showlegend=False, height=500, width=900)\n",
    "fig"
   ]
  },
  {
   "cell_type": "code",
   "execution_count": null,
   "id": "46a72ccc-3a7e-454a-ae54-d6153859720f",
   "metadata": {},
   "outputs": [],
   "source": []
  }
 ],
 "metadata": {
  "environment": {
   "kernel": "python3",
   "name": "workbench-notebooks.m124",
   "type": "gcloud",
   "uri": "us-docker.pkg.dev/deeplearning-platform-release/gcr.io/workbench-notebooks:m124"
  },
  "kernelspec": {
   "display_name": "Python 3 (ipykernel)",
   "language": "python",
   "name": "python3"
  },
  "language_info": {
   "codemirror_mode": {
    "name": "ipython",
    "version": 3
   },
   "file_extension": ".py",
   "mimetype": "text/x-python",
   "name": "python",
   "nbconvert_exporter": "python",
   "pygments_lexer": "ipython3",
   "version": "3.10.12"
  },
  "widgets": {
   "application/vnd.jupyter.widget-state+json": {
    "state": {},
    "version_major": 2,
    "version_minor": 0
   }
  }
 },
 "nbformat": 4,
 "nbformat_minor": 5
}
