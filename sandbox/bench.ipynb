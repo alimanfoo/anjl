{
 "cells": [
  {
   "cell_type": "code",
   "execution_count": 1,
   "id": "2f560f77-1fee-434a-8062-590673250473",
   "metadata": {},
   "outputs": [],
   "source": [
    "import zarr\n",
    "from scipy.spatial.distance import squareform\n",
    "import anjl\n",
    "from tqdm.auto import tqdm\n",
    "\n",
    "%load_ext memory_profiler"
   ]
  },
  {
   "cell_type": "code",
   "execution_count": 2,
   "id": "8d26b208-0147-4c53-ba9d-35c422297511",
   "metadata": {},
   "outputs": [],
   "source": [
    "# from anjl._dynamic import dynamic_search_parallel, dynamic_update_parallel\n",
    "# dynamic_search_parallel.parallel_diagnostics(level=4)\n",
    "# dynamic_update_parallel.parallel_diagnostics(level=4)"
   ]
  },
  {
   "cell_type": "markdown",
   "id": "2b2dde93-ab62-4b0a-81c2-385ef3ec1e39",
   "metadata": {},
   "source": [
    "## Small"
   ]
  },
  {
   "cell_type": "code",
   "execution_count": 3,
   "id": "eb436654-d847-4e79-85ad-64f83006994c",
   "metadata": {},
   "outputs": [
    {
     "data": {
      "text/plain": [
       "(181, 181)"
      ]
     },
     "execution_count": 3,
     "metadata": {},
     "output_type": "execute_result"
    }
   ],
   "source": [
    "small_dist = zarr.load(\"../benchmark/small/dist.zarr.zip\")\n",
    "small_D = squareform(small_dist)\n",
    "small_D.shape"
   ]
  },
  {
   "cell_type": "code",
   "execution_count": 4,
   "id": "42ec4643-a6be-4b8d-8e4d-fb4d7c6140b9",
   "metadata": {},
   "outputs": [
    {
     "name": "stdout",
     "output_type": "stream",
     "text": [
      "2.02 ms ± 112 μs per loop (mean ± std. dev. of 1000 runs, 1 loop each)\n"
     ]
    }
   ],
   "source": [
    "%%timeit -r1000 -n1\n",
    "anjl.dynamic_nj(small_dist, parallel=False)"
   ]
  },
  {
   "cell_type": "code",
   "execution_count": 5,
   "id": "cae6865a-9d56-40cc-9652-b5e9f4640308",
   "metadata": {},
   "outputs": [
    {
     "name": "stdout",
     "output_type": "stream",
     "text": [
      "The slowest run took 4.73 times longer than the fastest. This could mean that an intermediate result is being cached.\n",
      "4.53 ms ± 725 μs per loop (mean ± std. dev. of 1000 runs, 1 loop each)\n"
     ]
    }
   ],
   "source": [
    "%%timeit -r1000 -n1\n",
    "anjl.dynamic_nj(small_dist, parallel=True)"
   ]
  },
  {
   "cell_type": "code",
   "execution_count": 6,
   "id": "915b0085-52d4-4126-ac48-59dfb7dc403e",
   "metadata": {},
   "outputs": [
    {
     "name": "stdout",
     "output_type": "stream",
     "text": [
      "4.69 ms ± 208 μs per loop (mean ± std. dev. of 1000 runs, 1 loop each)\n"
     ]
    }
   ],
   "source": [
    "%%timeit -r1000 -n1\n",
    "anjl.rapid_nj(small_dist)"
   ]
  },
  {
   "cell_type": "code",
   "execution_count": 7,
   "id": "76f10e01-4497-43d4-a47f-2a01ec5c011a",
   "metadata": {},
   "outputs": [
    {
     "name": "stdout",
     "output_type": "stream",
     "text": [
      "3.51 ms ± 183 μs per loop (mean ± std. dev. of 1000 runs, 1 loop each)\n"
     ]
    }
   ],
   "source": [
    "%%timeit -r1000 -n1\n",
    "anjl.canonical_nj(small_dist, parallel=False)"
   ]
  },
  {
   "cell_type": "code",
   "execution_count": 8,
   "id": "68884753-f4b9-484c-a82b-1ffce38d0400",
   "metadata": {},
   "outputs": [
    {
     "name": "stdout",
     "output_type": "stream",
     "text": [
      "The slowest run took 5.19 times longer than the fastest. This could mean that an intermediate result is being cached.\n",
      "2.29 ms ± 468 μs per loop (mean ± std. dev. of 1000 runs, 1 loop each)\n"
     ]
    }
   ],
   "source": [
    "%%timeit -r1000 -n1\n",
    "anjl.canonical_nj(small_dist, parallel=True)"
   ]
  },
  {
   "cell_type": "markdown",
   "id": "ee57e2bc-9773-4ea1-93c9-b0bfc13c9e63",
   "metadata": {},
   "source": [
    "## Medium"
   ]
  },
  {
   "cell_type": "code",
   "execution_count": 9,
   "id": "befccb6f-dffa-49b7-97eb-1d5437568001",
   "metadata": {},
   "outputs": [
    {
     "data": {
      "text/plain": [
       "(472, 472)"
      ]
     },
     "execution_count": 9,
     "metadata": {},
     "output_type": "execute_result"
    }
   ],
   "source": [
    "medium_dist = zarr.load(\"../benchmark/medium/dist.zarr.zip\")\n",
    "medium_D = squareform(medium_dist)\n",
    "medium_D.shape"
   ]
  },
  {
   "cell_type": "code",
   "execution_count": 10,
   "id": "ebf1c642-1fa3-4047-a981-ddcd7afdf76c",
   "metadata": {},
   "outputs": [
    {
     "name": "stdout",
     "output_type": "stream",
     "text": [
      "9.12 ms ± 281 μs per loop (mean ± std. dev. of 500 runs, 1 loop each)\n"
     ]
    }
   ],
   "source": [
    "%%timeit -r500 -n1\n",
    "anjl.dynamic_nj(medium_dist, parallel=False)"
   ]
  },
  {
   "cell_type": "code",
   "execution_count": 11,
   "id": "864d85f8-3ad6-4a68-981e-2040474acac1",
   "metadata": {},
   "outputs": [
    {
     "name": "stdout",
     "output_type": "stream",
     "text": [
      "14.3 ms ± 916 μs per loop (mean ± std. dev. of 500 runs, 1 loop each)\n"
     ]
    }
   ],
   "source": [
    "%%timeit -r500 -n1\n",
    "anjl.dynamic_nj(medium_dist, parallel=True)"
   ]
  },
  {
   "cell_type": "code",
   "execution_count": 12,
   "id": "a7155702-0e81-4d54-a6b2-c68642e056f2",
   "metadata": {},
   "outputs": [
    {
     "name": "stdout",
     "output_type": "stream",
     "text": [
      "39.9 ms ± 1.06 ms per loop (mean ± std. dev. of 200 runs, 1 loop each)\n"
     ]
    }
   ],
   "source": [
    "%%timeit -r200 -n1\n",
    "anjl.rapid_nj(medium_dist)"
   ]
  },
  {
   "cell_type": "code",
   "execution_count": 13,
   "id": "316ec457-3799-4843-80df-491956229101",
   "metadata": {},
   "outputs": [
    {
     "name": "stdout",
     "output_type": "stream",
     "text": [
      "48 ms ± 2.75 ms per loop (mean ± std. dev. of 200 runs, 1 loop each)\n"
     ]
    }
   ],
   "source": [
    "%%timeit -r200 -n1\n",
    "anjl.canonical_nj(medium_dist, parallel=False)"
   ]
  },
  {
   "cell_type": "code",
   "execution_count": 14,
   "id": "6ab837d0-37ad-4d57-b063-4150851142c8",
   "metadata": {},
   "outputs": [
    {
     "name": "stdout",
     "output_type": "stream",
     "text": [
      "13.3 ms ± 2.77 ms per loop (mean ± std. dev. of 200 runs, 1 loop each)\n"
     ]
    }
   ],
   "source": [
    "%%timeit -r200 -n1\n",
    "anjl.canonical_nj(medium_dist, parallel=True)"
   ]
  },
  {
   "cell_type": "markdown",
   "id": "e5245947-65cd-4817-b606-d36f6f21279e",
   "metadata": {},
   "source": [
    "## Large"
   ]
  },
  {
   "cell_type": "code",
   "execution_count": 15,
   "id": "31ba8838-150b-42ee-84fd-7da492b8c36c",
   "metadata": {},
   "outputs": [
    {
     "data": {
      "text/plain": [
       "(3081, 3081)"
      ]
     },
     "execution_count": 15,
     "metadata": {},
     "output_type": "execute_result"
    }
   ],
   "source": [
    "large_dist = zarr.load(\"../benchmark/large/dist.zarr.zip\")\n",
    "large_D = squareform(large_dist)\n",
    "large_D.shape"
   ]
  },
  {
   "cell_type": "code",
   "execution_count": 16,
   "id": "00997e17-82ec-4e34-be55-26631a80c738",
   "metadata": {},
   "outputs": [
    {
     "name": "stdout",
     "output_type": "stream",
     "text": [
      "peak memory: 338.93 MiB, increment: 17.98 MiB\n"
     ]
    }
   ],
   "source": [
    "%%memit\n",
    "anjl.dynamic_nj(large_dist);"
   ]
  },
  {
   "cell_type": "code",
   "execution_count": 17,
   "id": "782af7e8-8891-431b-be9e-835b442410c7",
   "metadata": {},
   "outputs": [
    {
     "name": "stdout",
     "output_type": "stream",
     "text": [
      "peak memory: 338.83 MiB, increment: 17.80 MiB\n"
     ]
    }
   ],
   "source": [
    "%%memit\n",
    "anjl.canonical_nj(large_dist);"
   ]
  },
  {
   "cell_type": "code",
   "execution_count": 18,
   "id": "e825c570-c9b0-4405-b0b3-84680eaf5f2a",
   "metadata": {},
   "outputs": [
    {
     "name": "stdout",
     "output_type": "stream",
     "text": [
      "415 ms ± 4.71 ms per loop (mean ± std. dev. of 20 runs, 1 loop each)\n"
     ]
    }
   ],
   "source": [
    "%%timeit -r20 -n1\n",
    "anjl.dynamic_nj(large_dist, parallel=False)"
   ]
  },
  {
   "cell_type": "code",
   "execution_count": 19,
   "id": "2eef0126-79ad-4345-a995-19d4da0b6fc5",
   "metadata": {},
   "outputs": [
    {
     "name": "stdout",
     "output_type": "stream",
     "text": [
      "318 ms ± 5.15 ms per loop (mean ± std. dev. of 20 runs, 1 loop each)\n"
     ]
    }
   ],
   "source": [
    "%%timeit -r20 -n1\n",
    "anjl.dynamic_nj(large_dist, parallel=True)"
   ]
  },
  {
   "cell_type": "code",
   "execution_count": 20,
   "id": "edbc408e-f210-4bd4-8762-e249c66c1dd0",
   "metadata": {},
   "outputs": [
    {
     "name": "stdout",
     "output_type": "stream",
     "text": [
      "3.69 s ± 11.7 ms per loop (mean ± std. dev. of 5 runs, 1 loop each)\n"
     ]
    }
   ],
   "source": [
    "%%timeit -r5 -n1\n",
    "anjl.rapid_nj(large_dist)"
   ]
  },
  {
   "cell_type": "code",
   "execution_count": 21,
   "id": "0bc124d6-dfcb-4513-ae57-471c2a063d62",
   "metadata": {},
   "outputs": [
    {
     "name": "stdout",
     "output_type": "stream",
     "text": [
      "13.3 s ± 24 ms per loop (mean ± std. dev. of 3 runs, 1 loop each)\n"
     ]
    }
   ],
   "source": [
    "%%timeit -r3 -n1\n",
    "anjl.canonical_nj(large_dist, parallel=False)"
   ]
  },
  {
   "cell_type": "code",
   "execution_count": 22,
   "id": "f91c379e-39c6-4356-8ebb-e314d1bbb9f5",
   "metadata": {},
   "outputs": [
    {
     "name": "stdout",
     "output_type": "stream",
     "text": [
      "2.19 s ± 14.4 ms per loop (mean ± std. dev. of 3 runs, 1 loop each)\n"
     ]
    }
   ],
   "source": [
    "%%timeit -r3 -n1\n",
    "anjl.canonical_nj(large_dist, parallel=True)"
   ]
  },
  {
   "cell_type": "markdown",
   "id": "8b5aca9a-4949-4dc1-a35c-171ee5b283de",
   "metadata": {},
   "source": [
    "## XL"
   ]
  },
  {
   "cell_type": "code",
   "execution_count": 23,
   "id": "c219009d-5813-4f98-ad24-ed9b341c438d",
   "metadata": {},
   "outputs": [
    {
     "data": {
      "text/plain": [
       "(5868, 5868)"
      ]
     },
     "execution_count": 23,
     "metadata": {},
     "output_type": "execute_result"
    }
   ],
   "source": [
    "xl_dist = zarr.load(\"../benchmark/xl/dist.zarr.zip\")\n",
    "xl_D = squareform(xl_dist)\n",
    "xl_D.shape"
   ]
  },
  {
   "cell_type": "code",
   "execution_count": 24,
   "id": "6c65d726-92f9-4294-ac41-8d6f7b182572",
   "metadata": {},
   "outputs": [
    {
     "name": "stdout",
     "output_type": "stream",
     "text": [
      "peak memory: 603.45 MiB, increment: 65.62 MiB\n"
     ]
    }
   ],
   "source": [
    "%%memit\n",
    "anjl.dynamic_nj(xl_dist);"
   ]
  },
  {
   "cell_type": "code",
   "execution_count": 25,
   "id": "e2005194-6b68-48a4-94fe-20f5e75a7c53",
   "metadata": {},
   "outputs": [
    {
     "name": "stdout",
     "output_type": "stream",
     "text": [
      "peak memory: 603.45 MiB, increment: 65.62 MiB\n"
     ]
    }
   ],
   "source": [
    "%%memit\n",
    "anjl.canonical_nj(xl_dist);"
   ]
  },
  {
   "cell_type": "code",
   "execution_count": 26,
   "id": "94a7d01c-a7a5-40a1-80a9-f42eb0f27399",
   "metadata": {},
   "outputs": [
    {
     "name": "stdout",
     "output_type": "stream",
     "text": [
      "2.09 s ± 15.8 ms per loop (mean ± std. dev. of 3 runs, 1 loop each)\n"
     ]
    }
   ],
   "source": [
    "%%timeit -r3 -n1\n",
    "anjl.dynamic_nj(xl_dist, parallel=False);"
   ]
  },
  {
   "cell_type": "code",
   "execution_count": 27,
   "id": "b3efd051-1ec5-4035-b5ff-47d659daea28",
   "metadata": {},
   "outputs": [
    {
     "name": "stdout",
     "output_type": "stream",
     "text": [
      "1.42 s ± 5.43 ms per loop (mean ± std. dev. of 3 runs, 1 loop each)\n"
     ]
    }
   ],
   "source": [
    "%%timeit -r3 -n1\n",
    "anjl.dynamic_nj(xl_dist, parallel=True);"
   ]
  },
  {
   "cell_type": "code",
   "execution_count": 28,
   "id": "50f32cfd-9755-40ba-ba55-7eef7242a6cf",
   "metadata": {},
   "outputs": [
    {
     "data": {
      "application/vnd.jupyter.widget-view+json": {
       "model_id": "c59fce57ef854df3afa36ebfa91a3f29",
       "version_major": 2,
       "version_minor": 0
      },
      "text/plain": [
       "  0%|          | 0/5866 [00:00<?, ?it/s]"
      ]
     },
     "metadata": {},
     "output_type": "display_data"
    },
    {
     "name": "stdout",
     "output_type": "stream",
     "text": [
      "CPU times: user 11.1 s, sys: 43.9 ms, total: 11.1 s\n",
      "Wall time: 1.49 s\n"
     ]
    }
   ],
   "source": [
    "%%time\n",
    "anjl.dynamic_nj(xl_dist, progress=tqdm);"
   ]
  },
  {
   "cell_type": "code",
   "execution_count": 29,
   "id": "d03fdca2-2c6e-4389-ad3c-0bb84eb6ce16",
   "metadata": {},
   "outputs": [
    {
     "data": {
      "application/vnd.jupyter.widget-view+json": {
       "model_id": "6716133111c04eabb98417488d6a8d18",
       "version_major": 2,
       "version_minor": 0
      },
      "text/plain": [
       "  0%|          | 0/5867 [00:00<?, ?it/s]"
      ]
     },
     "metadata": {},
     "output_type": "display_data"
    },
    {
     "name": "stdout",
     "output_type": "stream",
     "text": [
      "CPU times: user 22.2 s, sys: 260 ms, total: 22.5 s\n",
      "Wall time: 22.3 s\n"
     ]
    }
   ],
   "source": [
    "%%time\n",
    "anjl.rapid_nj(xl_dist, progress=tqdm);"
   ]
  },
  {
   "cell_type": "code",
   "execution_count": 30,
   "id": "49b6da7b-1ee3-49e1-98ca-2706a5195b01",
   "metadata": {},
   "outputs": [
    {
     "data": {
      "application/vnd.jupyter.widget-view+json": {
       "model_id": "749777ee62ad4777ac600c8b698ffabd",
       "version_major": 2,
       "version_minor": 0
      },
      "text/plain": [
       "  0%|          | 0/5867 [00:00<?, ?it/s]"
      ]
     },
     "metadata": {},
     "output_type": "display_data"
    },
    {
     "name": "stdout",
     "output_type": "stream",
     "text": [
      "CPU times: user 1min 40s, sys: 126 ms, total: 1min 40s\n",
      "Wall time: 1min 40s\n"
     ]
    }
   ],
   "source": [
    "%%time\n",
    "anjl.canonical_nj(xl_dist, progress=tqdm, parallel=False);"
   ]
  },
  {
   "cell_type": "code",
   "execution_count": 31,
   "id": "b5959611-567d-4efc-a05a-1e2a8bed806f",
   "metadata": {},
   "outputs": [
    {
     "data": {
      "application/vnd.jupyter.widget-view+json": {
       "model_id": "19ec3447a9474f718c4d50147ea1229b",
       "version_major": 2,
       "version_minor": 0
      },
      "text/plain": [
       "  0%|          | 0/5867 [00:00<?, ?it/s]"
      ]
     },
     "metadata": {},
     "output_type": "display_data"
    },
    {
     "name": "stdout",
     "output_type": "stream",
     "text": [
      "CPU times: user 2min 46s, sys: 182 ms, total: 2min 46s\n",
      "Wall time: 21 s\n"
     ]
    }
   ],
   "source": [
    "%%time\n",
    "anjl.canonical_nj(xl_dist, progress=tqdm, parallel=True);"
   ]
  },
  {
   "cell_type": "markdown",
   "id": "163b6626-20b0-407e-aa9c-d0dc4694cc22",
   "metadata": {},
   "source": [
    "## XXL"
   ]
  },
  {
   "cell_type": "code",
   "execution_count": 32,
   "id": "ccd20931-8281-49ff-b142-d0fae8d53f63",
   "metadata": {},
   "outputs": [
    {
     "data": {
      "text/plain": [
       "(8825, 8825)"
      ]
     },
     "execution_count": 32,
     "metadata": {},
     "output_type": "execute_result"
    }
   ],
   "source": [
    "xxl_dist = zarr.load(\"../benchmark/xxl/dist.zarr.zip\")\n",
    "xxl_D = squareform(xxl_dist)\n",
    "xxl_D.shape"
   ]
  },
  {
   "cell_type": "code",
   "execution_count": 33,
   "id": "e812009e-2642-4d93-a85b-a63f11828b5c",
   "metadata": {},
   "outputs": [
    {
     "name": "stdout",
     "output_type": "stream",
     "text": [
      "peak memory: 1152.92 MiB, increment: 148.50 MiB\n"
     ]
    }
   ],
   "source": [
    "%%memit\n",
    "anjl.dynamic_nj(xxl_dist);"
   ]
  },
  {
   "cell_type": "code",
   "execution_count": 34,
   "id": "adc1fb87-4e27-45f3-99a5-a57db73a06b1",
   "metadata": {},
   "outputs": [
    {
     "name": "stdout",
     "output_type": "stream",
     "text": [
      "CPU times: user 6.83 s, sys: 19 ms, total: 6.85 s\n",
      "Wall time: 6.85 s\n"
     ]
    }
   ],
   "source": [
    "%%time\n",
    "anjl.dynamic_nj(xxl_dist, parallel=False);"
   ]
  },
  {
   "cell_type": "code",
   "execution_count": 35,
   "id": "9121e296-89cb-4c71-80c9-a7ec7bca5994",
   "metadata": {},
   "outputs": [
    {
     "name": "stdout",
     "output_type": "stream",
     "text": [
      "CPU times: user 32.4 s, sys: 57 ms, total: 32.5 s\n",
      "Wall time: 4.27 s\n"
     ]
    }
   ],
   "source": [
    "%%time\n",
    "anjl.dynamic_nj(xxl_dist, parallel=True);"
   ]
  },
  {
   "cell_type": "code",
   "execution_count": 36,
   "id": "4b302183-5d97-41c0-857f-59086e8b981f",
   "metadata": {},
   "outputs": [
    {
     "data": {
      "application/vnd.jupyter.widget-view+json": {
       "model_id": "bdfb6267b0b343ed88e8a73f05da357b",
       "version_major": 2,
       "version_minor": 0
      },
      "text/plain": [
       "  0%|          | 0/8823 [00:00<?, ?it/s]"
      ]
     },
     "metadata": {},
     "output_type": "display_data"
    },
    {
     "name": "stdout",
     "output_type": "stream",
     "text": [
      "CPU times: user 36.3 s, sys: 93.8 ms, total: 36.4 s\n",
      "Wall time: 4.86 s\n"
     ]
    }
   ],
   "source": [
    "%%time\n",
    "anjl.dynamic_nj(xxl_dist, parallel=True, progress=tqdm);"
   ]
  },
  {
   "cell_type": "code",
   "execution_count": 37,
   "id": "94f6d2f5-e61e-45c8-934f-66289798bce9",
   "metadata": {},
   "outputs": [
    {
     "data": {
      "application/vnd.jupyter.widget-view+json": {
       "model_id": "903b57d48bfc401298dce43294ef7928",
       "version_major": 2,
       "version_minor": 0
      },
      "text/plain": [
       "  0%|          | 0/8824 [00:00<?, ?it/s]"
      ]
     },
     "metadata": {},
     "output_type": "display_data"
    },
    {
     "name": "stdout",
     "output_type": "stream",
     "text": [
      "CPU times: user 1min 18s, sys: 650 ms, total: 1min 19s\n",
      "Wall time: 1min 19s\n"
     ]
    }
   ],
   "source": [
    "%%time\n",
    "anjl.rapid_nj(xxl_dist, progress=tqdm);"
   ]
  },
  {
   "cell_type": "code",
   "execution_count": 38,
   "id": "8c4a9a32-2922-460b-9df1-3baacbb7633f",
   "metadata": {},
   "outputs": [
    {
     "data": {
      "application/vnd.jupyter.widget-view+json": {
       "model_id": "c498c55347ca4bee92d6a9c12c012549",
       "version_major": 2,
       "version_minor": 0
      },
      "text/plain": [
       "  0%|          | 0/8824 [00:00<?, ?it/s]"
      ]
     },
     "metadata": {},
     "output_type": "display_data"
    },
    {
     "name": "stdout",
     "output_type": "stream",
     "text": [
      "CPU times: user 11min 40s, sys: 799 ms, total: 11min 41s\n",
      "Wall time: 1min 29s\n"
     ]
    }
   ],
   "source": [
    "%%time\n",
    "anjl.canonical_nj(xxl_dist, progress=tqdm, parallel=True);"
   ]
  },
  {
   "cell_type": "markdown",
   "id": "8a07505b-92af-44f5-a03b-9579b263e667",
   "metadata": {},
   "source": [
    "## Epilogue"
   ]
  },
  {
   "cell_type": "code",
   "execution_count": 39,
   "id": "d8b58001-517c-452e-9e54-68fd7da9eaad",
   "metadata": {},
   "outputs": [
    {
     "name": "stdout",
     "output_type": "stream",
     "text": [
      "Architecture:             x86_64\n",
      "  CPU op-mode(s):         32-bit, 64-bit\n",
      "  Address sizes:          39 bits physical, 48 bits virtual\n",
      "  Byte Order:             Little Endian\n",
      "CPU(s):                   8\n",
      "  On-line CPU(s) list:    0-7\n",
      "Vendor ID:                GenuineIntel\n",
      "  Model name:             Intel(R) Xeon(R) CPU E3-1505M v5 @ 2.80GHz\n",
      "    CPU family:           6\n",
      "    Model:                94\n",
      "    Thread(s) per core:   2\n",
      "    Core(s) per socket:   4\n",
      "    Socket(s):            1\n",
      "    Stepping:             3\n",
      "    CPU max MHz:          3700.0000\n",
      "    CPU min MHz:          800.0000\n",
      "    BogoMIPS:             5599.85\n",
      "    Flags:                fpu vme de pse tsc msr pae mce cx8 apic sep mtrr pge m\n",
      "                          ca cmov pat pse36 clflush dts acpi mmx fxsr sse sse2 s\n",
      "                          s ht tm pbe syscall nx pdpe1gb rdtscp lm constant_tsc \n",
      "                          art arch_perfmon pebs bts rep_good nopl xtopology nons\n",
      "                          top_tsc cpuid aperfmperf pni pclmulqdq dtes64 monitor \n",
      "                          ds_cpl vmx smx est tm2 ssse3 sdbg fma cx16 xtpr pdcm p\n",
      "                          cid sse4_1 sse4_2 x2apic movbe popcnt tsc_deadline_tim\n",
      "                          er aes xsave avx f16c rdrand lahf_lm abm 3dnowprefetch\n",
      "                           cpuid_fault epb pti ssbd ibrs ibpb stibp tpr_shadow f\n",
      "                          lexpriority ept vpid ept_ad fsgsbase tsc_adjust bmi1 a\n",
      "                          vx2 smep bmi2 erms invpcid mpx rdseed adx smap clflush\n",
      "                          opt intel_pt xsaveopt xsavec xgetbv1 xsaves dtherm ida\n",
      "                           arat pln pts hwp hwp_notify hwp_act_window hwp_epp vn\n",
      "                          mi md_clear flush_l1d arch_capabilities\n",
      "Virtualisation features:  \n",
      "  Virtualisation:         VT-x\n",
      "Caches (sum of all):      \n",
      "  L1d:                    128 KiB (4 instances)\n",
      "  L1i:                    128 KiB (4 instances)\n",
      "  L2:                     1 MiB (4 instances)\n",
      "  L3:                     8 MiB (1 instance)\n",
      "NUMA:                     \n",
      "  NUMA node(s):           1\n",
      "  NUMA node0 CPU(s):      0-7\n",
      "Vulnerabilities:          \n",
      "  Gather data sampling:   Vulnerable: No microcode\n",
      "  Itlb multihit:          KVM: Mitigation: VMX disabled\n",
      "  L1tf:                   Mitigation; PTE Inversion; VMX conditional cache flush\n",
      "                          es, SMT vulnerable\n",
      "  Mds:                    Mitigation; Clear CPU buffers; SMT vulnerable\n",
      "  Meltdown:               Mitigation; PTI\n",
      "  Mmio stale data:        Mitigation; Clear CPU buffers; SMT vulnerable\n",
      "  Reg file data sampling: Not affected\n",
      "  Retbleed:               Mitigation; IBRS\n",
      "  Spec rstack overflow:   Not affected\n",
      "  Spec store bypass:      Mitigation; Speculative Store Bypass disabled via prct\n",
      "                          l\n",
      "  Spectre v1:             Mitigation; usercopy/swapgs barriers and __user pointe\n",
      "                          r sanitization\n",
      "  Spectre v2:             Mitigation; IBRS; IBPB conditional; STIBP conditional;\n",
      "                           RSB filling; PBRSB-eIBRS Not affected; BHI Not affect\n",
      "                          ed\n",
      "  Srbds:                  Mitigation; Microcode\n",
      "  Tsx async abort:        Mitigation; TSX disabled\n"
     ]
    }
   ],
   "source": [
    "!lscpu"
   ]
  }
 ],
 "metadata": {
  "kernelspec": {
   "display_name": "Python 3 (ipykernel)",
   "language": "python",
   "name": "python3"
  },
  "language_info": {
   "codemirror_mode": {
    "name": "ipython",
    "version": 3
   },
   "file_extension": ".py",
   "mimetype": "text/x-python",
   "name": "python",
   "nbconvert_exporter": "python",
   "pygments_lexer": "ipython3",
   "version": "3.10.12"
  },
  "widgets": {
   "application/vnd.jupyter.widget-state+json": {
    "state": {},
    "version_major": 2,
    "version_minor": 0
   }
  }
 },
 "nbformat": 4,
 "nbformat_minor": 5
}
