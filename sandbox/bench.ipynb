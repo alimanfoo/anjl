{
 "cells": [
  {
   "cell_type": "code",
   "execution_count": 1,
   "id": "2f560f77-1fee-434a-8062-590673250473",
   "metadata": {},
   "outputs": [],
   "source": [
    "import zarr\n",
    "from scipy.spatial.distance import squareform\n",
    "import anjl\n",
    "from tqdm.auto import tqdm"
   ]
  },
  {
   "cell_type": "markdown",
   "id": "2b2dde93-ab62-4b0a-81c2-385ef3ec1e39",
   "metadata": {},
   "source": [
    "## Small"
   ]
  },
  {
   "cell_type": "code",
   "execution_count": 2,
   "id": "eb436654-d847-4e79-85ad-64f83006994c",
   "metadata": {},
   "outputs": [
    {
     "data": {
      "text/plain": [
       "(181, 181)"
      ]
     },
     "execution_count": 2,
     "metadata": {},
     "output_type": "execute_result"
    }
   ],
   "source": [
    "small = zarr.load(\"../benchmark/small/dist.zarr.zip\")\n",
    "small_D = squareform(small)\n",
    "small_D.shape"
   ]
  },
  {
   "cell_type": "code",
   "execution_count": 4,
   "id": "42ec4643-a6be-4b8d-8e4d-fb4d7c6140b9",
   "metadata": {},
   "outputs": [
    {
     "name": "stdout",
     "output_type": "stream",
     "text": [
      "1.3 ms ± 313 μs per loop (mean ± std. dev. of 1000 runs, 1 loop each)\n"
     ]
    }
   ],
   "source": [
    "%%timeit -r1000 -n1\n",
    "anjl.heuristic_nj(small_D)"
   ]
  },
  {
   "cell_type": "code",
   "execution_count": 5,
   "id": "915b0085-52d4-4126-ac48-59dfb7dc403e",
   "metadata": {},
   "outputs": [
    {
     "name": "stdout",
     "output_type": "stream",
     "text": [
      "5.62 ms ± 659 μs per loop (mean ± std. dev. of 1000 runs, 1 loop each)\n"
     ]
    }
   ],
   "source": [
    "%%timeit -r1000 -n1\n",
    "anjl.rapid_nj(small_D)"
   ]
  },
  {
   "cell_type": "code",
   "execution_count": 5,
   "id": "76f10e01-4497-43d4-a47f-2a01ec5c011a",
   "metadata": {},
   "outputs": [
    {
     "name": "stdout",
     "output_type": "stream",
     "text": [
      "1.96 ms ± 214 μs per loop (mean ± std. dev. of 1000 runs, 1 loop each)\n"
     ]
    }
   ],
   "source": [
    "%%timeit -r1000 -n1\n",
    "anjl.canonical_nj(small_D)"
   ]
  },
  {
   "cell_type": "markdown",
   "id": "ee57e2bc-9773-4ea1-93c9-b0bfc13c9e63",
   "metadata": {},
   "source": [
    "## Medium"
   ]
  },
  {
   "cell_type": "code",
   "execution_count": 6,
   "id": "befccb6f-dffa-49b7-97eb-1d5437568001",
   "metadata": {},
   "outputs": [
    {
     "data": {
      "text/plain": [
       "(472, 472)"
      ]
     },
     "execution_count": 6,
     "metadata": {},
     "output_type": "execute_result"
    }
   ],
   "source": [
    "medium = zarr.load(\"../benchmark/medium/dist.zarr.zip\")\n",
    "medium_D = squareform(medium)\n",
    "medium_D.shape"
   ]
  },
  {
   "cell_type": "code",
   "execution_count": 7,
   "id": "ebf1c642-1fa3-4047-a981-ddcd7afdf76c",
   "metadata": {},
   "outputs": [
    {
     "name": "stdout",
     "output_type": "stream",
     "text": [
      "6.17 ms ± 976 μs per loop (mean ± std. dev. of 1000 runs, 1 loop each)\n"
     ]
    }
   ],
   "source": [
    "%%timeit -r1000 -n1\n",
    "anjl.heuristic_nj(medium_D)"
   ]
  },
  {
   "cell_type": "code",
   "execution_count": 8,
   "id": "a7155702-0e81-4d54-a6b2-c68642e056f2",
   "metadata": {},
   "outputs": [
    {
     "name": "stdout",
     "output_type": "stream",
     "text": [
      "43.4 ms ± 2.84 ms per loop (mean ± std. dev. of 200 runs, 1 loop each)\n"
     ]
    }
   ],
   "source": [
    "%%timeit -r200 -n1\n",
    "anjl.rapid_nj(medium_D)"
   ]
  },
  {
   "cell_type": "code",
   "execution_count": 9,
   "id": "316ec457-3799-4843-80df-491956229101",
   "metadata": {},
   "outputs": [
    {
     "name": "stdout",
     "output_type": "stream",
     "text": [
      "30.7 ms ± 2.44 ms per loop (mean ± std. dev. of 200 runs, 1 loop each)\n"
     ]
    }
   ],
   "source": [
    "%%timeit -r200 -n1\n",
    "anjl.canonical_nj(medium_D)"
   ]
  },
  {
   "cell_type": "markdown",
   "id": "e5245947-65cd-4817-b606-d36f6f21279e",
   "metadata": {},
   "source": [
    "## Large"
   ]
  },
  {
   "cell_type": "code",
   "execution_count": 10,
   "id": "31ba8838-150b-42ee-84fd-7da492b8c36c",
   "metadata": {},
   "outputs": [
    {
     "data": {
      "text/plain": [
       "(3081, 3081)"
      ]
     },
     "execution_count": 10,
     "metadata": {},
     "output_type": "execute_result"
    }
   ],
   "source": [
    "large = zarr.load(\"../benchmark/large/dist.zarr.zip\")\n",
    "large_D = squareform(large)\n",
    "large_D.shape"
   ]
  },
  {
   "cell_type": "code",
   "execution_count": 11,
   "id": "e825c570-c9b0-4405-b0b3-84680eaf5f2a",
   "metadata": {},
   "outputs": [
    {
     "name": "stdout",
     "output_type": "stream",
     "text": [
      "182 ms ± 9.82 ms per loop (mean ± std. dev. of 20 runs, 1 loop each)\n"
     ]
    }
   ],
   "source": [
    "%%timeit -r20 -n1\n",
    "anjl.heuristic_nj(large_D)"
   ]
  },
  {
   "cell_type": "code",
   "execution_count": 17,
   "id": "edbc408e-f210-4bd4-8762-e249c66c1dd0",
   "metadata": {},
   "outputs": [
    {
     "name": "stdout",
     "output_type": "stream",
     "text": [
      "2.91 s ± 25.1 ms per loop (mean ± std. dev. of 5 runs, 1 loop each)\n"
     ]
    }
   ],
   "source": [
    "%%timeit -r5 -n1\n",
    "anjl.rapid_nj(large_D)"
   ]
  },
  {
   "cell_type": "code",
   "execution_count": 18,
   "id": "0bc124d6-dfcb-4513-ae57-471c2a063d62",
   "metadata": {},
   "outputs": [
    {
     "name": "stdout",
     "output_type": "stream",
     "text": [
      "6.39 s ± 43.4 ms per loop (mean ± std. dev. of 5 runs, 1 loop each)\n"
     ]
    }
   ],
   "source": [
    "%%timeit -r5 -n1\n",
    "anjl.canonical_nj(large_D)"
   ]
  },
  {
   "cell_type": "markdown",
   "id": "8b5aca9a-4949-4dc1-a35c-171ee5b283de",
   "metadata": {},
   "source": [
    "## XL"
   ]
  },
  {
   "cell_type": "code",
   "execution_count": 12,
   "id": "c219009d-5813-4f98-ad24-ed9b341c438d",
   "metadata": {},
   "outputs": [
    {
     "data": {
      "text/plain": [
       "(5868, 5868)"
      ]
     },
     "execution_count": 12,
     "metadata": {},
     "output_type": "execute_result"
    }
   ],
   "source": [
    "xl = zarr.load(\"../benchmark/xl/dist.zarr.zip\")\n",
    "xl_D = squareform(xl)\n",
    "xl_D.shape"
   ]
  },
  {
   "cell_type": "code",
   "execution_count": 13,
   "id": "50f32cfd-9755-40ba-ba55-7eef7242a6cf",
   "metadata": {},
   "outputs": [
    {
     "data": {
      "application/vnd.jupyter.widget-view+json": {
       "model_id": "449f9c1bf5a94444b66186906be1a606",
       "version_major": 2,
       "version_minor": 0
      },
      "text/plain": [
       "  0%|          | 0/5866 [00:00<?, ?it/s]"
      ]
     },
     "metadata": {},
     "output_type": "display_data"
    },
    {
     "name": "stdout",
     "output_type": "stream",
     "text": [
      "CPU times: user 853 ms, sys: 15 ms, total: 868 ms\n",
      "Wall time: 868 ms\n"
     ]
    }
   ],
   "source": [
    "%%time\n",
    "anjl.heuristic_nj(xl_D, progress=tqdm);"
   ]
  },
  {
   "cell_type": "code",
   "execution_count": 21,
   "id": "d03fdca2-2c6e-4389-ad3c-0bb84eb6ce16",
   "metadata": {},
   "outputs": [
    {
     "data": {
      "application/vnd.jupyter.widget-view+json": {
       "model_id": "4ecb1db688424aa59c74b9f176b67c91",
       "version_major": 2,
       "version_minor": 0
      },
      "text/plain": [
       "  0%|          | 0/5867 [00:00<?, ?it/s]"
      ]
     },
     "metadata": {},
     "output_type": "display_data"
    },
    {
     "name": "stdout",
     "output_type": "stream",
     "text": [
      "CPU times: user 19.8 s, sys: 245 ms, total: 20 s\n",
      "Wall time: 19.9 s\n"
     ]
    }
   ],
   "source": [
    "%%time\n",
    "anjl.rapid_nj(xl_D, progress=tqdm);"
   ]
  },
  {
   "cell_type": "code",
   "execution_count": 13,
   "id": "49b6da7b-1ee3-49e1-98ca-2706a5195b01",
   "metadata": {},
   "outputs": [
    {
     "data": {
      "application/vnd.jupyter.widget-view+json": {
       "model_id": "e1a386140c5040d1a990503afcd075fb",
       "version_major": 2,
       "version_minor": 0
      },
      "text/plain": [
       "  0%|          | 0/5867 [00:00<?, ?it/s]"
      ]
     },
     "metadata": {},
     "output_type": "display_data"
    },
    {
     "name": "stdout",
     "output_type": "stream",
     "text": [
      "CPU times: user 49 s, sys: 84 ms, total: 49.1 s\n",
      "Wall time: 48.9 s\n"
     ]
    }
   ],
   "source": [
    "%%time\n",
    "anjl.canonical_nj(xl_D, progress=tqdm);"
   ]
  },
  {
   "cell_type": "markdown",
   "id": "163b6626-20b0-407e-aa9c-d0dc4694cc22",
   "metadata": {},
   "source": [
    "## XXL"
   ]
  },
  {
   "cell_type": "code",
   "execution_count": 14,
   "id": "ccd20931-8281-49ff-b142-d0fae8d53f63",
   "metadata": {},
   "outputs": [
    {
     "data": {
      "text/plain": [
       "(8825, 8825)"
      ]
     },
     "execution_count": 14,
     "metadata": {},
     "output_type": "execute_result"
    }
   ],
   "source": [
    "xxl = zarr.load(\"../benchmark/xxl/dist.zarr.zip\")\n",
    "xxl_D = squareform(xxl)\n",
    "xxl_D.shape"
   ]
  },
  {
   "cell_type": "code",
   "execution_count": 15,
   "id": "4b302183-5d97-41c0-857f-59086e8b981f",
   "metadata": {},
   "outputs": [
    {
     "data": {
      "application/vnd.jupyter.widget-view+json": {
       "model_id": "6318bfb6751542b8ae2ec71eb8b176ef",
       "version_major": 2,
       "version_minor": 0
      },
      "text/plain": [
       "  0%|          | 0/8823 [00:00<?, ?it/s]"
      ]
     },
     "metadata": {},
     "output_type": "display_data"
    },
    {
     "name": "stdout",
     "output_type": "stream",
     "text": [
      "CPU times: user 2.13 s, sys: 42 ms, total: 2.17 s\n",
      "Wall time: 2.16 s\n"
     ]
    }
   ],
   "source": [
    "%%time\n",
    "anjl.heuristic_nj(xxl_D, progress=tqdm);"
   ]
  },
  {
   "cell_type": "code",
   "execution_count": 24,
   "id": "94f6d2f5-e61e-45c8-934f-66289798bce9",
   "metadata": {},
   "outputs": [
    {
     "data": {
      "application/vnd.jupyter.widget-view+json": {
       "model_id": "6b511b2b24874912877dbe41a315eaa8",
       "version_major": 2,
       "version_minor": 0
      },
      "text/plain": [
       "  0%|          | 0/8824 [00:00<?, ?it/s]"
      ]
     },
     "metadata": {},
     "output_type": "display_data"
    },
    {
     "name": "stdout",
     "output_type": "stream",
     "text": [
      "CPU times: user 1min 6s, sys: 552 ms, total: 1min 6s\n",
      "Wall time: 1min 6s\n"
     ]
    }
   ],
   "source": [
    "%%time\n",
    "anjl.rapid_nj(xxl_D, progress=tqdm);"
   ]
  },
  {
   "cell_type": "code",
   "execution_count": null,
   "id": "8949ce8a-7b75-470d-8ddf-501ab4cf462b",
   "metadata": {},
   "outputs": [],
   "source": [
    "%%time\n",
    "anjl.canonical_nj(xxl_D, progress=tqdm);"
   ]
  },
  {
   "cell_type": "code",
   "execution_count": null,
   "id": "9d9707a2-daa4-4ec6-a1eb-18e5a6645edf",
   "metadata": {},
   "outputs": [],
   "source": []
  }
 ],
 "metadata": {
  "kernelspec": {
   "display_name": "Python 3 (ipykernel)",
   "language": "python",
   "name": "python3"
  },
  "language_info": {
   "codemirror_mode": {
    "name": "ipython",
    "version": 3
   },
   "file_extension": ".py",
   "mimetype": "text/x-python",
   "name": "python",
   "nbconvert_exporter": "python",
   "pygments_lexer": "ipython3",
   "version": "3.10.12"
  },
  "widgets": {
   "application/vnd.jupyter.widget-state+json": {
    "state": {},
    "version_major": 2,
    "version_minor": 0
   }
  }
 },
 "nbformat": 4,
 "nbformat_minor": 5
}
