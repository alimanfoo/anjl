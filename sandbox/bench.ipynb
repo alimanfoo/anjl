{
 "cells": [
  {
   "cell_type": "code",
   "execution_count": 1,
   "id": "2f560f77-1fee-434a-8062-590673250473",
   "metadata": {},
   "outputs": [],
   "source": [
    "import zarr\n",
    "from scipy.spatial.distance import squareform\n",
    "import anjl\n",
    "from tqdm.auto import tqdm"
   ]
  },
  {
   "cell_type": "markdown",
   "id": "2b2dde93-ab62-4b0a-81c2-385ef3ec1e39",
   "metadata": {},
   "source": [
    "## Small"
   ]
  },
  {
   "cell_type": "code",
   "execution_count": 2,
   "id": "eb436654-d847-4e79-85ad-64f83006994c",
   "metadata": {},
   "outputs": [
    {
     "data": {
      "text/plain": [
       "(181, 181)"
      ]
     },
     "execution_count": 2,
     "metadata": {},
     "output_type": "execute_result"
    }
   ],
   "source": [
    "small = zarr.load(\"../benchmark/small/dist.zarr.zip\")\n",
    "small_D = squareform(small)\n",
    "small_D.shape"
   ]
  },
  {
   "cell_type": "code",
   "execution_count": 3,
   "id": "915b0085-52d4-4126-ac48-59dfb7dc403e",
   "metadata": {},
   "outputs": [
    {
     "name": "stdout",
     "output_type": "stream",
     "text": [
      "4.12 ms ± 186 μs per loop (mean ± std. dev. of 1000 runs, 1 loop each)\n"
     ]
    }
   ],
   "source": [
    "%%timeit -r1000 -n1\n",
    "anjl.rapid_nj(small_D)"
   ]
  },
  {
   "cell_type": "code",
   "execution_count": 4,
   "id": "76f10e01-4497-43d4-a47f-2a01ec5c011a",
   "metadata": {},
   "outputs": [
    {
     "name": "stdout",
     "output_type": "stream",
     "text": [
      "1.78 ms ± 134 μs per loop (mean ± std. dev. of 1000 runs, 1 loop each)\n"
     ]
    }
   ],
   "source": [
    "%%timeit -r1000 -n1\n",
    "anjl.canonical_nj(small_D)"
   ]
  },
  {
   "cell_type": "markdown",
   "id": "ee57e2bc-9773-4ea1-93c9-b0bfc13c9e63",
   "metadata": {},
   "source": [
    "## Medium"
   ]
  },
  {
   "cell_type": "code",
   "execution_count": 5,
   "id": "befccb6f-dffa-49b7-97eb-1d5437568001",
   "metadata": {},
   "outputs": [
    {
     "data": {
      "text/plain": [
       "(472, 472)"
      ]
     },
     "execution_count": 5,
     "metadata": {},
     "output_type": "execute_result"
    }
   ],
   "source": [
    "medium = zarr.load(\"../benchmark/medium/dist.zarr.zip\")\n",
    "medium_D = squareform(medium)\n",
    "medium_D.shape"
   ]
  },
  {
   "cell_type": "code",
   "execution_count": 6,
   "id": "a7155702-0e81-4d54-a6b2-c68642e056f2",
   "metadata": {},
   "outputs": [
    {
     "name": "stdout",
     "output_type": "stream",
     "text": [
      "34.9 ms ± 1.1 ms per loop (mean ± std. dev. of 200 runs, 1 loop each)\n"
     ]
    }
   ],
   "source": [
    "%%timeit -r200 -n1\n",
    "anjl.rapid_nj(medium_D)"
   ]
  },
  {
   "cell_type": "code",
   "execution_count": 7,
   "id": "316ec457-3799-4843-80df-491956229101",
   "metadata": {},
   "outputs": [
    {
     "name": "stdout",
     "output_type": "stream",
     "text": [
      "23.6 ms ± 1.19 ms per loop (mean ± std. dev. of 200 runs, 1 loop each)\n"
     ]
    }
   ],
   "source": [
    "%%timeit -r200 -n1\n",
    "anjl.canonical_nj(medium_D)"
   ]
  },
  {
   "cell_type": "markdown",
   "id": "e5245947-65cd-4817-b606-d36f6f21279e",
   "metadata": {},
   "source": [
    "## Large"
   ]
  },
  {
   "cell_type": "code",
   "execution_count": 8,
   "id": "31ba8838-150b-42ee-84fd-7da492b8c36c",
   "metadata": {},
   "outputs": [
    {
     "data": {
      "text/plain": [
       "(3081, 3081)"
      ]
     },
     "execution_count": 8,
     "metadata": {},
     "output_type": "execute_result"
    }
   ],
   "source": [
    "large = zarr.load(\"../benchmark/large/dist.zarr.zip\")\n",
    "large_D = squareform(large)\n",
    "large_D.shape"
   ]
  },
  {
   "cell_type": "code",
   "execution_count": 9,
   "id": "e825c570-c9b0-4405-b0b3-84680eaf5f2a",
   "metadata": {},
   "outputs": [
    {
     "name": "stdout",
     "output_type": "stream",
     "text": [
      "3.27 s ± 25.4 ms per loop (mean ± std. dev. of 5 runs, 1 loop each)\n"
     ]
    }
   ],
   "source": [
    "%%timeit -r5 -n1\n",
    "anjl.rapid_nj(large_D)"
   ]
  },
  {
   "cell_type": "code",
   "execution_count": 10,
   "id": "0bc124d6-dfcb-4513-ae57-471c2a063d62",
   "metadata": {},
   "outputs": [
    {
     "name": "stdout",
     "output_type": "stream",
     "text": [
      "6.82 s ± 31.5 ms per loop (mean ± std. dev. of 5 runs, 1 loop each)\n"
     ]
    }
   ],
   "source": [
    "%%timeit -r5 -n1\n",
    "anjl.canonical_nj(large_D)"
   ]
  },
  {
   "cell_type": "markdown",
   "id": "8b5aca9a-4949-4dc1-a35c-171ee5b283de",
   "metadata": {},
   "source": [
    "## XL"
   ]
  },
  {
   "cell_type": "code",
   "execution_count": 11,
   "id": "c219009d-5813-4f98-ad24-ed9b341c438d",
   "metadata": {},
   "outputs": [
    {
     "data": {
      "text/plain": [
       "(5868, 5868)"
      ]
     },
     "execution_count": 11,
     "metadata": {},
     "output_type": "execute_result"
    }
   ],
   "source": [
    "xl = zarr.load(\"../benchmark/xl/dist.zarr.zip\")\n",
    "xl_D = squareform(xl)\n",
    "xl_D.shape"
   ]
  },
  {
   "cell_type": "code",
   "execution_count": 12,
   "id": "50f32cfd-9755-40ba-ba55-7eef7242a6cf",
   "metadata": {},
   "outputs": [
    {
     "data": {
      "application/vnd.jupyter.widget-view+json": {
       "model_id": "2c774a2aa644404c93bb05e0d0565982",
       "version_major": 2,
       "version_minor": 0
      },
      "text/plain": [
       "  0%|          | 0/5867 [00:00<?, ?it/s]"
      ]
     },
     "metadata": {},
     "output_type": "display_data"
    },
    {
     "name": "stdout",
     "output_type": "stream",
     "text": [
      "CPU times: user 21.4 s, sys: 236 ms, total: 21.7 s\n",
      "Wall time: 21.5 s\n"
     ]
    }
   ],
   "source": [
    "%%time\n",
    "anjl.rapid_nj(xl_D, progress=tqdm);"
   ]
  },
  {
   "cell_type": "code",
   "execution_count": 13,
   "id": "49b6da7b-1ee3-49e1-98ca-2706a5195b01",
   "metadata": {},
   "outputs": [
    {
     "data": {
      "application/vnd.jupyter.widget-view+json": {
       "model_id": "7216104e7ea94284a568a598d978928e",
       "version_major": 2,
       "version_minor": 0
      },
      "text/plain": [
       "  0%|          | 0/5867 [00:00<?, ?it/s]"
      ]
     },
     "metadata": {},
     "output_type": "display_data"
    },
    {
     "name": "stdout",
     "output_type": "stream",
     "text": [
      "CPU times: user 1min, sys: 89.8 ms, total: 1min\n",
      "Wall time: 1min\n"
     ]
    }
   ],
   "source": [
    "%%time\n",
    "anjl.canonical_nj(xl_D, progress=tqdm);"
   ]
  },
  {
   "cell_type": "markdown",
   "id": "163b6626-20b0-407e-aa9c-d0dc4694cc22",
   "metadata": {},
   "source": [
    "## XXL"
   ]
  },
  {
   "cell_type": "code",
   "execution_count": 15,
   "id": "ccd20931-8281-49ff-b142-d0fae8d53f63",
   "metadata": {},
   "outputs": [
    {
     "data": {
      "text/plain": [
       "(8825, 8825)"
      ]
     },
     "execution_count": 15,
     "metadata": {},
     "output_type": "execute_result"
    }
   ],
   "source": [
    "xxl = zarr.load(\"../benchmark/xxl/dist.zarr.zip\")\n",
    "xxl_D = squareform(xxl)\n",
    "xxl_D.shape"
   ]
  },
  {
   "cell_type": "code",
   "execution_count": 17,
   "id": "4b302183-5d97-41c0-857f-59086e8b981f",
   "metadata": {},
   "outputs": [
    {
     "data": {
      "application/vnd.jupyter.widget-view+json": {
       "model_id": "caa469c6330d4b6181e856351db074f3",
       "version_major": 2,
       "version_minor": 0
      },
      "text/plain": [
       "  0%|          | 0/8824 [00:00<?, ?it/s]"
      ]
     },
     "metadata": {},
     "output_type": "display_data"
    },
    {
     "name": "stdout",
     "output_type": "stream",
     "text": [
      "CPU times: user 1min 6s, sys: 793 ms, total: 1min 6s\n",
      "Wall time: 1min 6s\n"
     ]
    }
   ],
   "source": [
    "%%time\n",
    "anjl.rapid_nj(xxl_D, progress=tqdm);"
   ]
  },
  {
   "cell_type": "code",
   "execution_count": 16,
   "id": "8949ce8a-7b75-470d-8ddf-501ab4cf462b",
   "metadata": {},
   "outputs": [
    {
     "data": {
      "application/vnd.jupyter.widget-view+json": {
       "model_id": "07ad3d0110b5434681296b93cd147aac",
       "version_major": 2,
       "version_minor": 0
      },
      "text/plain": [
       "  0%|          | 0/8824 [00:00<?, ?it/s]"
      ]
     },
     "metadata": {},
     "output_type": "display_data"
    },
    {
     "name": "stdout",
     "output_type": "stream",
     "text": [
      "CPU times: user 3min 39s, sys: 686 ms, total: 3min 40s\n",
      "Wall time: 3min 39s\n"
     ]
    }
   ],
   "source": [
    "%%time\n",
    "anjl.canonical_nj(xxl_D, progress=tqdm);"
   ]
  },
  {
   "cell_type": "code",
   "execution_count": null,
   "id": "9d9707a2-daa4-4ec6-a1eb-18e5a6645edf",
   "metadata": {},
   "outputs": [],
   "source": []
  }
 ],
 "metadata": {
  "kernelspec": {
   "display_name": "Python 3 (ipykernel)",
   "language": "python",
   "name": "python3"
  },
  "language_info": {
   "codemirror_mode": {
    "name": "ipython",
    "version": 3
   },
   "file_extension": ".py",
   "mimetype": "text/x-python",
   "name": "python",
   "nbconvert_exporter": "python",
   "pygments_lexer": "ipython3",
   "version": "3.10.12"
  },
  "widgets": {
   "application/vnd.jupyter.widget-state+json": {
    "state": {},
    "version_major": 2,
    "version_minor": 0
   }
  }
 },
 "nbformat": 4,
 "nbformat_minor": 5
}
