{
 "cells": [
  {
   "cell_type": "code",
   "execution_count": 1,
   "id": "2f560f77-1fee-434a-8062-590673250473",
   "metadata": {},
   "outputs": [],
   "source": [
    "import zarr\n",
    "from scipy.spatial.distance import squareform\n",
    "import anjl\n",
    "from tqdm.auto import tqdm"
   ]
  },
  {
   "cell_type": "markdown",
   "id": "2b2dde93-ab62-4b0a-81c2-385ef3ec1e39",
   "metadata": {},
   "source": [
    "## Small"
   ]
  },
  {
   "cell_type": "code",
   "execution_count": 2,
   "id": "eb436654-d847-4e79-85ad-64f83006994c",
   "metadata": {},
   "outputs": [
    {
     "data": {
      "text/plain": [
       "(181, 181)"
      ]
     },
     "execution_count": 2,
     "metadata": {},
     "output_type": "execute_result"
    }
   ],
   "source": [
    "small = zarr.load(\"../benchmark/small/dist.zarr.zip\")\n",
    "small_D = squareform(small)\n",
    "small_D.shape"
   ]
  },
  {
   "cell_type": "code",
   "execution_count": 3,
   "id": "c29050ce-6d0a-4337-a1d6-6af2bd652049",
   "metadata": {},
   "outputs": [
    {
     "name": "stdout",
     "output_type": "stream",
     "text": [
      "344783\n"
     ]
    }
   ],
   "source": [
    "# previous\n",
    "anjl.rapid_nj(small_D);"
   ]
  },
  {
   "cell_type": "markdown",
   "id": "88278dce-99ef-4811-9b33-ec08bc52ba4b",
   "metadata": {},
   "source": [
    "344783"
   ]
  },
  {
   "cell_type": "code",
   "execution_count": 3,
   "id": "9b85dfd1-9e71-4c4b-a02a-b144c0cdafae",
   "metadata": {},
   "outputs": [
    {
     "name": "stdout",
     "output_type": "stream",
     "text": [
      "i 163 s 50 node_i 216 node_j 216 d inf\n",
      "nodes_sorted[i] [214 200 209 203 206 182 181 118 124 186 132  82  93 155 121  23  46 122\n",
      " 153 141  11 158  39 108  90  31  85 172   5  92 109  14  94 112 178 138\n",
      "  91  89 114 119  73  48 143  29 180  19 162  75 113  58 216 127  85 185\n",
      " 172  32   5  92 109  14  94 112 178  44 138 103 146 115  87  91  89 114\n",
      "  84   9 119  45  67  99   2  30  73]\n",
      "D_sorted[i] [14.   15.   19.25 20.   24.   25.5  27.25 28.5  28.5  29.75 30.   30.\n",
      " 30.   30.   31.   31.   32.   32.   33.   33.5  34.5  34.5  34.5  35.\n",
      " 35.   35.5  35.5  36.   36.5  36.5  36.5  37.   37.   37.   37.   37.5\n",
      " 39.   39.   39.   39.   39.5  40.   40.5  41.   41.5  42.5  43.   43.\n",
      " 43.5  48.     inf 35.5  35.5  35.75 36.   36.   36.5  36.5  36.5  37.\n",
      " 37.   37.   37.   37.5  37.5  37.5  38.5  38.5  38.5  39.   39.   39.\n",
      " 39.   39.   39.   39.   39.   39.5  39.5  39.5  39.5 ]\n"
     ]
    },
    {
     "ename": "AssertionError",
     "evalue": "",
     "output_type": "error",
     "traceback": [
      "\u001b[0;31m---------------------------------------------------------------------------\u001b[0m",
      "\u001b[0;31mAssertionError\u001b[0m                            Traceback (most recent call last)",
      "Cell \u001b[0;32mIn[3], line 2\u001b[0m\n\u001b[1;32m      1\u001b[0m \u001b[38;5;66;03m# new\u001b[39;00m\n\u001b[0;32m----> 2\u001b[0m \u001b[43manjl\u001b[49m\u001b[38;5;241;43m.\u001b[39;49m\u001b[43mrapid_nj\u001b[49m\u001b[43m(\u001b[49m\u001b[43msmall_D\u001b[49m\u001b[43m)\u001b[49m;\n",
      "File \u001b[0;32m~/github/alimanfoo/anjl/anjl/_rapid.py:111\u001b[0m, in \u001b[0;36mrapid_nj\u001b[0;34m(***failed resolving arguments***)\u001b[0m\n\u001b[1;32m    102\u001b[0m         nodes_sorted, D_sorted \u001b[38;5;241m=\u001b[39m rapid_gc(\n\u001b[1;32m    103\u001b[0m             nodes_sorted\u001b[38;5;241m=\u001b[39mnodes_sorted,\n\u001b[1;32m    104\u001b[0m             D_sorted\u001b[38;5;241m=\u001b[39mD_sorted,\n\u001b[0;32m   (...)\u001b[0m\n\u001b[1;32m    107\u001b[0m             n_remaining\u001b[38;5;241m=\u001b[39mn_remaining,\n\u001b[1;32m    108\u001b[0m         )\n\u001b[1;32m    110\u001b[0m     \u001b[38;5;66;03m# Perform one iteration of the neighbour-joining algorithm.\u001b[39;00m\n\u001b[0;32m--> 111\u001b[0m     u_max, visited \u001b[38;5;241m=\u001b[39m \u001b[43mrapid_iteration\u001b[49m\u001b[43m(\u001b[49m\n\u001b[1;32m    112\u001b[0m \u001b[43m        \u001b[49m\u001b[43miteration\u001b[49m\u001b[38;5;241;43m=\u001b[39;49m\u001b[43miteration\u001b[49m\u001b[43m,\u001b[49m\n\u001b[1;32m    113\u001b[0m \u001b[43m        \u001b[49m\u001b[43mD\u001b[49m\u001b[38;5;241;43m=\u001b[39;49m\u001b[43mD_copy\u001b[49m\u001b[43m,\u001b[49m\n\u001b[1;32m    114\u001b[0m \u001b[43m        \u001b[49m\u001b[43mD_sorted\u001b[49m\u001b[38;5;241;43m=\u001b[39;49m\u001b[43mD_sorted\u001b[49m\u001b[43m,\u001b[49m\n\u001b[1;32m    115\u001b[0m \u001b[43m        \u001b[49m\u001b[43mU\u001b[49m\u001b[38;5;241;43m=\u001b[39;49m\u001b[43mU\u001b[49m\u001b[43m,\u001b[49m\n\u001b[1;32m    116\u001b[0m \u001b[43m        \u001b[49m\u001b[43mnodes_sorted\u001b[49m\u001b[38;5;241;43m=\u001b[39;49m\u001b[43mnodes_sorted\u001b[49m\u001b[43m,\u001b[49m\n\u001b[1;32m    117\u001b[0m \u001b[43m        \u001b[49m\u001b[43mindex_to_id\u001b[49m\u001b[38;5;241;43m=\u001b[39;49m\u001b[43mindex_to_id\u001b[49m\u001b[43m,\u001b[49m\n\u001b[1;32m    118\u001b[0m \u001b[43m        \u001b[49m\u001b[43mid_to_index\u001b[49m\u001b[38;5;241;43m=\u001b[39;49m\u001b[43mid_to_index\u001b[49m\u001b[43m,\u001b[49m\n\u001b[1;32m    119\u001b[0m \u001b[43m        \u001b[49m\u001b[43mclustered\u001b[49m\u001b[38;5;241;43m=\u001b[39;49m\u001b[43mclustered\u001b[49m\u001b[43m,\u001b[49m\n\u001b[1;32m    120\u001b[0m \u001b[43m        \u001b[49m\u001b[43mobsolete\u001b[49m\u001b[38;5;241;43m=\u001b[39;49m\u001b[43mobsolete\u001b[49m\u001b[43m,\u001b[49m\n\u001b[1;32m    121\u001b[0m \u001b[43m        \u001b[49m\u001b[43mZ\u001b[49m\u001b[38;5;241;43m=\u001b[39;49m\u001b[43mZ\u001b[49m\u001b[43m,\u001b[49m\n\u001b[1;32m    122\u001b[0m \u001b[43m        \u001b[49m\u001b[43mn_original\u001b[49m\u001b[38;5;241;43m=\u001b[39;49m\u001b[43mn_original\u001b[49m\u001b[43m,\u001b[49m\n\u001b[1;32m    123\u001b[0m \u001b[43m        \u001b[49m\u001b[43mdisallow_negative_distances\u001b[49m\u001b[38;5;241;43m=\u001b[39;49m\u001b[43mdisallow_negative_distances\u001b[49m\u001b[43m,\u001b[49m\n\u001b[1;32m    124\u001b[0m \u001b[43m        \u001b[49m\u001b[43mu_max\u001b[49m\u001b[38;5;241;43m=\u001b[39;49m\u001b[43mu_max\u001b[49m\u001b[43m,\u001b[49m\n\u001b[1;32m    125\u001b[0m \u001b[43m    \u001b[49m\u001b[43m)\u001b[49m\n\u001b[1;32m    127\u001b[0m     visits \u001b[38;5;241m+\u001b[39m\u001b[38;5;241m=\u001b[39m visited\n\u001b[1;32m    129\u001b[0m \u001b[38;5;28mprint\u001b[39m(visits)\n",
      "File \u001b[0;32m~/github/alimanfoo/anjl/anjl/_rapid.py:278\u001b[0m, in \u001b[0;36mrapid_search\u001b[0;34m()\u001b[0m\n\u001b[1;32m    276\u001b[0m     \u001b[38;5;28mprint\u001b[39m(\u001b[38;5;124m\"\u001b[39m\u001b[38;5;124mnodes_sorted[i]\u001b[39m\u001b[38;5;124m\"\u001b[39m, nodes_sorted[i])\n\u001b[1;32m    277\u001b[0m     \u001b[38;5;28mprint\u001b[39m(\u001b[38;5;124m\"\u001b[39m\u001b[38;5;124mD_sorted[i]\u001b[39m\u001b[38;5;124m\"\u001b[39m, D_sorted[i])\n\u001b[0;32m--> 278\u001b[0m     \u001b[38;5;28;01massert\u001b[39;00m \u001b[38;5;28;01mFalse\u001b[39;00m\n\u001b[1;32m    280\u001b[0m \u001b[38;5;66;03m# Partially calculate q.\u001b[39;00m\n\u001b[1;32m    281\u001b[0m q_partial \u001b[38;5;241m=\u001b[39m coefficient \u001b[38;5;241m*\u001b[39m d \u001b[38;5;241m-\u001b[39m u_i\n",
      "\u001b[0;31mAssertionError\u001b[0m: "
     ]
    }
   ],
   "source": [
    "# new\n",
    "anjl.rapid_nj(small_D);"
   ]
  },
  {
   "cell_type": "code",
   "execution_count": 3,
   "id": "915b0085-52d4-4126-ac48-59dfb7dc403e",
   "metadata": {},
   "outputs": [
    {
     "name": "stdout",
     "output_type": "stream",
     "text": [
      "4.95 ms ± 363 μs per loop (mean ± std. dev. of 1000 runs, 1 loop each)\n"
     ]
    }
   ],
   "source": [
    "%%timeit -r1000 -n1\n",
    "# previous\n",
    "anjl.rapid_nj(small_D)"
   ]
  },
  {
   "cell_type": "code",
   "execution_count": 4,
   "id": "76f10e01-4497-43d4-a47f-2a01ec5c011a",
   "metadata": {},
   "outputs": [
    {
     "name": "stdout",
     "output_type": "stream",
     "text": [
      "1.79 ms ± 165 μs per loop (mean ± std. dev. of 1000 runs, 1 loop each)\n"
     ]
    }
   ],
   "source": [
    "%%timeit -r1000 -n1\n",
    "anjl.canonical_nj(small_D)"
   ]
  },
  {
   "cell_type": "markdown",
   "id": "ee57e2bc-9773-4ea1-93c9-b0bfc13c9e63",
   "metadata": {},
   "source": [
    "## Medium"
   ]
  },
  {
   "cell_type": "code",
   "execution_count": 4,
   "id": "befccb6f-dffa-49b7-97eb-1d5437568001",
   "metadata": {},
   "outputs": [
    {
     "data": {
      "text/plain": [
       "(472, 472)"
      ]
     },
     "execution_count": 4,
     "metadata": {},
     "output_type": "execute_result"
    }
   ],
   "source": [
    "medium = zarr.load(\"../benchmark/medium/dist.zarr.zip\")\n",
    "medium_D = squareform(medium)\n",
    "medium_D.shape"
   ]
  },
  {
   "cell_type": "code",
   "execution_count": 6,
   "id": "1f6c311c-3eb1-4a7e-86a0-1b612a7e229d",
   "metadata": {},
   "outputs": [
    {
     "name": "stdout",
     "output_type": "stream",
     "text": [
      "3750287\n"
     ]
    }
   ],
   "source": [
    "# previous\n",
    "anjl.rapid_nj(medium_D);"
   ]
  },
  {
   "cell_type": "markdown",
   "id": "83c2b2bf-ed9a-4809-a412-a2ffe89552de",
   "metadata": {},
   "source": [
    "3750287"
   ]
  },
  {
   "cell_type": "code",
   "execution_count": 5,
   "id": "e72af592-1050-4b79-ae2f-d55f4e0f5992",
   "metadata": {},
   "outputs": [
    {
     "name": "stdout",
     "output_type": "stream",
     "text": [
      "3811373\n"
     ]
    }
   ],
   "source": [
    "# new\n",
    "anjl.rapid_nj(medium_D);"
   ]
  },
  {
   "cell_type": "code",
   "execution_count": 6,
   "id": "a7155702-0e81-4d54-a6b2-c68642e056f2",
   "metadata": {},
   "outputs": [
    {
     "name": "stdout",
     "output_type": "stream",
     "text": [
      "41.2 ms ± 1.18 ms per loop (mean ± std. dev. of 200 runs, 1 loop each)\n"
     ]
    }
   ],
   "source": [
    "%%timeit -r200 -n1\n",
    "anjl.rapid_nj(medium_D)"
   ]
  },
  {
   "cell_type": "code",
   "execution_count": 7,
   "id": "316ec457-3799-4843-80df-491956229101",
   "metadata": {},
   "outputs": [
    {
     "name": "stdout",
     "output_type": "stream",
     "text": [
      "23.9 ms ± 2.61 ms per loop (mean ± std. dev. of 200 runs, 1 loop each)\n"
     ]
    }
   ],
   "source": [
    "%%timeit -r200 -n1\n",
    "anjl.canonical_nj(medium_D)"
   ]
  },
  {
   "cell_type": "markdown",
   "id": "e5245947-65cd-4817-b606-d36f6f21279e",
   "metadata": {},
   "source": [
    "## Large"
   ]
  },
  {
   "cell_type": "code",
   "execution_count": 6,
   "id": "31ba8838-150b-42ee-84fd-7da492b8c36c",
   "metadata": {},
   "outputs": [
    {
     "data": {
      "text/plain": [
       "(3081, 3081)"
      ]
     },
     "execution_count": 6,
     "metadata": {},
     "output_type": "execute_result"
    }
   ],
   "source": [
    "large = zarr.load(\"../benchmark/large/dist.zarr.zip\")\n",
    "large_D = squareform(large)\n",
    "large_D.shape"
   ]
  },
  {
   "cell_type": "code",
   "execution_count": 9,
   "id": "fe4a86fd-3879-4b76-a46b-81a55ee2a702",
   "metadata": {},
   "outputs": [
    {
     "name": "stdout",
     "output_type": "stream",
     "text": [
      "681823586\n"
     ]
    }
   ],
   "source": [
    "# previous\n",
    "anjl.rapid_nj(large_D);"
   ]
  },
  {
   "cell_type": "markdown",
   "id": "24618c54-6dba-49f4-a544-9a40ec02ad29",
   "metadata": {},
   "source": [
    "681823586"
   ]
  },
  {
   "cell_type": "code",
   "execution_count": 7,
   "id": "f9d663d5-23e9-4f04-b5dd-42f22b114978",
   "metadata": {},
   "outputs": [
    {
     "name": "stdout",
     "output_type": "stream",
     "text": [
      "680098968\n"
     ]
    }
   ],
   "source": [
    "# new\n",
    "anjl.rapid_nj(large_D);"
   ]
  },
  {
   "cell_type": "code",
   "execution_count": 9,
   "id": "e825c570-c9b0-4405-b0b3-84680eaf5f2a",
   "metadata": {},
   "outputs": [
    {
     "name": "stdout",
     "output_type": "stream",
     "text": [
      "3.32 s ± 24.7 ms per loop (mean ± std. dev. of 5 runs, 1 loop each)\n"
     ]
    }
   ],
   "source": [
    "%%timeit -r5 -n1\n",
    "anjl.rapid_nj(large_D)"
   ]
  },
  {
   "cell_type": "code",
   "execution_count": 10,
   "id": "0bc124d6-dfcb-4513-ae57-471c2a063d62",
   "metadata": {},
   "outputs": [
    {
     "name": "stdout",
     "output_type": "stream",
     "text": [
      "7.03 s ± 217 ms per loop (mean ± std. dev. of 5 runs, 1 loop each)\n"
     ]
    }
   ],
   "source": [
    "%%timeit -r5 -n1\n",
    "anjl.canonical_nj(large_D)"
   ]
  },
  {
   "cell_type": "markdown",
   "id": "8b5aca9a-4949-4dc1-a35c-171ee5b283de",
   "metadata": {},
   "source": [
    "## XL"
   ]
  },
  {
   "cell_type": "code",
   "execution_count": 8,
   "id": "c219009d-5813-4f98-ad24-ed9b341c438d",
   "metadata": {},
   "outputs": [
    {
     "data": {
      "text/plain": [
       "(5868, 5868)"
      ]
     },
     "execution_count": 8,
     "metadata": {},
     "output_type": "execute_result"
    }
   ],
   "source": [
    "xl = zarr.load(\"../benchmark/xl/dist.zarr.zip\")\n",
    "xl_D = squareform(xl)\n",
    "xl_D.shape"
   ]
  },
  {
   "cell_type": "code",
   "execution_count": 6,
   "id": "7357f4d7-f62c-4235-b4dd-3e4c4bffa751",
   "metadata": {},
   "outputs": [
    {
     "data": {
      "text/plain": [
       "1.3463663092017482"
      ]
     },
     "execution_count": 6,
     "metadata": {},
     "output_type": "execute_result"
    }
   ],
   "source": [
    "100 * (4164662664 - 4108591049) / 4164662664"
   ]
  },
  {
   "cell_type": "code",
   "execution_count": 9,
   "id": "50f32cfd-9755-40ba-ba55-7eef7242a6cf",
   "metadata": {},
   "outputs": [
    {
     "data": {
      "application/vnd.jupyter.widget-view+json": {
       "model_id": "ef85438bf7e04281a2f9967403a0a045",
       "version_major": 2,
       "version_minor": 0
      },
      "text/plain": [
       "  0%|          | 0/5867 [00:00<?, ?it/s]"
      ]
     },
     "metadata": {},
     "output_type": "display_data"
    },
    {
     "name": "stdout",
     "output_type": "stream",
     "text": [
      "4108591049\n",
      "CPU times: user 29 s, sys: 290 ms, total: 29.3 s\n",
      "Wall time: 29.1 s\n"
     ]
    }
   ],
   "source": [
    "%%time\n",
    "# new\n",
    "anjl.rapid_nj(xl_D, progress=tqdm);"
   ]
  },
  {
   "cell_type": "code",
   "execution_count": 3,
   "id": "6df4caae-92b6-464e-9de4-acdf04df4351",
   "metadata": {},
   "outputs": [
    {
     "data": {
      "application/vnd.jupyter.widget-view+json": {
       "model_id": "076ba52d16684bdeb6259ea84375ea4c",
       "version_major": 2,
       "version_minor": 0
      },
      "text/plain": [
       "  0%|          | 0/5867 [00:00<?, ?it/s]"
      ]
     },
     "metadata": {},
     "output_type": "display_data"
    },
    {
     "name": "stdout",
     "output_type": "stream",
     "text": [
      "4164662664\n",
      "CPU times: user 23.6 s, sys: 249 ms, total: 23.8 s\n",
      "Wall time: 23.7 s\n"
     ]
    }
   ],
   "source": [
    "%%time\n",
    "# previous\n",
    "anjl.rapid_nj(xl_D, progress=tqdm);"
   ]
  },
  {
   "cell_type": "markdown",
   "id": "4f812be7-d8d6-4cf1-b28a-fddc6f6a1d6d",
   "metadata": {},
   "source": [
    "4164662664"
   ]
  },
  {
   "cell_type": "code",
   "execution_count": 13,
   "id": "49b6da7b-1ee3-49e1-98ca-2706a5195b01",
   "metadata": {},
   "outputs": [
    {
     "data": {
      "application/vnd.jupyter.widget-view+json": {
       "model_id": "7216104e7ea94284a568a598d978928e",
       "version_major": 2,
       "version_minor": 0
      },
      "text/plain": [
       "  0%|          | 0/5867 [00:00<?, ?it/s]"
      ]
     },
     "metadata": {},
     "output_type": "display_data"
    },
    {
     "name": "stdout",
     "output_type": "stream",
     "text": [
      "CPU times: user 1min, sys: 89.8 ms, total: 1min\n",
      "Wall time: 1min\n"
     ]
    }
   ],
   "source": [
    "%%time\n",
    "anjl.canonical_nj(xl_D, progress=tqdm);"
   ]
  },
  {
   "cell_type": "markdown",
   "id": "163b6626-20b0-407e-aa9c-d0dc4694cc22",
   "metadata": {},
   "source": [
    "## XXL"
   ]
  },
  {
   "cell_type": "code",
   "execution_count": 13,
   "id": "ccd20931-8281-49ff-b142-d0fae8d53f63",
   "metadata": {},
   "outputs": [
    {
     "data": {
      "text/plain": [
       "(8825, 8825)"
      ]
     },
     "execution_count": 13,
     "metadata": {},
     "output_type": "execute_result"
    }
   ],
   "source": [
    "xxl = zarr.load(\"../benchmark/xxl/dist.zarr.zip\")\n",
    "xxl_D = squareform(xxl)\n",
    "xxl_D.shape"
   ]
  },
  {
   "cell_type": "code",
   "execution_count": 14,
   "id": "4b302183-5d97-41c0-857f-59086e8b981f",
   "metadata": {},
   "outputs": [
    {
     "data": {
      "application/vnd.jupyter.widget-view+json": {
       "model_id": "b52982b11b584038a57100637b7af418",
       "version_major": 2,
       "version_minor": 0
      },
      "text/plain": [
       "  0%|          | 0/8824 [00:00<?, ?it/s]"
      ]
     },
     "metadata": {},
     "output_type": "display_data"
    },
    {
     "name": "stdout",
     "output_type": "stream",
     "text": [
      "CPU times: user 1min 8s, sys: 518 ms, total: 1min 8s\n",
      "Wall time: 1min 8s\n"
     ]
    }
   ],
   "source": [
    "%%time\n",
    "anjl.rapid_nj(xxl_D, progress=tqdm);"
   ]
  },
  {
   "cell_type": "code",
   "execution_count": 16,
   "id": "8949ce8a-7b75-470d-8ddf-501ab4cf462b",
   "metadata": {},
   "outputs": [
    {
     "data": {
      "application/vnd.jupyter.widget-view+json": {
       "model_id": "07ad3d0110b5434681296b93cd147aac",
       "version_major": 2,
       "version_minor": 0
      },
      "text/plain": [
       "  0%|          | 0/8824 [00:00<?, ?it/s]"
      ]
     },
     "metadata": {},
     "output_type": "display_data"
    },
    {
     "name": "stdout",
     "output_type": "stream",
     "text": [
      "CPU times: user 3min 39s, sys: 686 ms, total: 3min 40s\n",
      "Wall time: 3min 39s\n"
     ]
    }
   ],
   "source": [
    "%%time\n",
    "anjl.canonical_nj(xxl_D, progress=tqdm);"
   ]
  },
  {
   "cell_type": "code",
   "execution_count": null,
   "id": "9d9707a2-daa4-4ec6-a1eb-18e5a6645edf",
   "metadata": {},
   "outputs": [],
   "source": []
  }
 ],
 "metadata": {
  "kernelspec": {
   "display_name": "Python 3 (ipykernel)",
   "language": "python",
   "name": "python3"
  },
  "language_info": {
   "codemirror_mode": {
    "name": "ipython",
    "version": 3
   },
   "file_extension": ".py",
   "mimetype": "text/x-python",
   "name": "python",
   "nbconvert_exporter": "python",
   "pygments_lexer": "ipython3",
   "version": "3.10.12"
  },
  "widgets": {
   "application/vnd.jupyter.widget-state+json": {
    "state": {},
    "version_major": 2,
    "version_minor": 0
   }
  }
 },
 "nbformat": 4,
 "nbformat_minor": 5
}
