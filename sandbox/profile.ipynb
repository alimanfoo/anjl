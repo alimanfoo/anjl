{
 "cells": [
  {
   "cell_type": "code",
   "execution_count": null,
   "id": "ae893ef8-3f7f-474e-a176-5012121e1f25",
   "metadata": {},
   "outputs": [],
   "source": [
    "%load_ext profila"
   ]
  },
  {
   "cell_type": "code",
   "execution_count": null,
   "id": "e6600780-d0bd-42db-8db8-a13dfe078214",
   "metadata": {},
   "outputs": [],
   "source": [
    "# %load_ext snakeviz"
   ]
  },
  {
   "cell_type": "code",
   "execution_count": null,
   "id": "dcaff1fc-e130-4661-b6d2-61320969b73d",
   "metadata": {},
   "outputs": [],
   "source": [
    "import zarr\n",
    "from scipy.spatial.distance import squareform\n",
    "import anjl"
   ]
  },
  {
   "cell_type": "markdown",
   "id": "645a20f2-2202-4a66-9390-38cda0ae5265",
   "metadata": {},
   "source": [
    "## Medium"
   ]
  },
  {
   "cell_type": "code",
   "execution_count": null,
   "id": "ff76e278-6a3a-4e46-99e0-45efd12a20ab",
   "metadata": {},
   "outputs": [],
   "source": [
    "medium_dist = zarr.load(\"../benchmark/medium/dist.zarr.zip\")\n",
    "medium_D = squareform(medium_dist)"
   ]
  },
  {
   "cell_type": "code",
   "execution_count": null,
   "id": "1fc2fd6a-e2cd-49ff-8a89-c1d771b910dd",
   "metadata": {},
   "outputs": [],
   "source": [
    "%%profila\n",
    "anjl.canonical_nj(medium_dist)"
   ]
  },
  {
   "cell_type": "markdown",
   "id": "e5245947-65cd-4817-b606-d36f6f21279e",
   "metadata": {},
   "source": [
    "## Large"
   ]
  },
  {
   "cell_type": "code",
   "execution_count": null,
   "id": "8b6a001e-6e46-4c56-8c37-33ef5693d6e5",
   "metadata": {},
   "outputs": [],
   "source": [
    "large_dist = zarr.load(\"../benchmark/large/dist.zarr.zip\")\n",
    "large_D = squareform(large_dist)"
   ]
  },
  {
   "cell_type": "code",
   "execution_count": null,
   "id": "a3c13257-4c9c-4310-a45b-79058918bea4",
   "metadata": {},
   "outputs": [],
   "source": [
    "%%time\n",
    "large_Z = anjl.canonical_nj(large_dist)"
   ]
  },
  {
   "cell_type": "code",
   "execution_count": null,
   "id": "0889365c-223e-439e-896b-b1e6fd3707bd",
   "metadata": {},
   "outputs": [],
   "source": [
    "%%time\n",
    "large_Z = anjl.rapid_nj(large_D, gc=100)"
   ]
  },
  {
   "cell_type": "code",
   "execution_count": null,
   "id": "e5c44b72-6d4a-496c-8b98-3a0ac39ae722",
   "metadata": {},
   "outputs": [],
   "source": [
    "# %%snakeviz\n",
    "# anjl.canonical_nj(large_D_shuffled)\n",
    "# anjl.rapid_nj(large_D_shuffled, gc=100)"
   ]
  },
  {
   "cell_type": "code",
   "execution_count": null,
   "id": "74987835-ee0a-403b-86a8-db2859f88cfe",
   "metadata": {},
   "outputs": [],
   "source": [
    "# %%snakeviz\n",
    "# anjl.rapid_nj(large_D_shuffled, gc=100)"
   ]
  },
  {
   "cell_type": "code",
   "execution_count": null,
   "id": "619a9949-e825-48c3-9de6-7e62d2b026ec",
   "metadata": {},
   "outputs": [],
   "source": [
    "%%profila\n",
    "anjl.rapid_nj(large_D[:1000, :1000], gc=100)"
   ]
  },
  {
   "cell_type": "code",
   "execution_count": null,
   "id": "0df09dd4-e47b-45ab-b368-0dbc303ead9a",
   "metadata": {},
   "outputs": [],
   "source": [
    "%%profila\n",
    "anjl.canonical_nj(large_D[:1000, :1000])"
   ]
  },
  {
   "cell_type": "code",
   "execution_count": null,
   "id": "d6bb80f7-ee56-466a-88b4-f781dcc48657",
   "metadata": {},
   "outputs": [],
   "source": []
  }
 ],
 "metadata": {
  "kernelspec": {
   "display_name": "Python 3 (ipykernel)",
   "language": "python",
   "name": "python3"
  },
  "language_info": {
   "codemirror_mode": {
    "name": "ipython",
    "version": 3
   },
   "file_extension": ".py",
   "mimetype": "text/x-python",
   "name": "python",
   "nbconvert_exporter": "python",
   "pygments_lexer": "ipython3",
   "version": "3.10.12"
  },
  "widgets": {
   "application/vnd.jupyter.widget-state+json": {
    "state": {},
    "version_major": 2,
    "version_minor": 0
   }
  }
 },
 "nbformat": 4,
 "nbformat_minor": 5
}
